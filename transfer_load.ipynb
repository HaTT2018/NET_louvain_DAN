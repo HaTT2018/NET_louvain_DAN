{
 "cells": [
  {
   "cell_type": "markdown",
   "metadata": {},
   "source": [
    "# to do：\n",
    "- 回顾之前写的划分MFD的notebook，添加定量分析的函数（CHindex（在写好的部分论文里），NSk，TV）。\n",
    "- 选出数据，喂到这个notebook里\n",
    "- adaptation loss前面的lambda用两个类（v_class的均值）之间的KL散度\n",
    "- boundary adjustment的时候考虑双向，尽量提供错位的数据，即两个方向可能属于不同类（仅用于画图）\n",
    "\n",
    "- 寻找reinforcement learning用于CAV的算法"
   ]
  },
  {
   "cell_type": "code",
   "execution_count": 1,
   "metadata": {},
   "outputs": [],
   "source": [
    "import time\n",
    "import math\n",
    "import numpy as np\n",
    "import pandas as pd\n",
    "import ipdb"
   ]
  },
  {
   "cell_type": "code",
   "execution_count": 2,
   "metadata": {},
   "outputs": [
    {
     "name": "stderr",
     "output_type": "stream",
     "text": [
      "Using TensorFlow backend.\n",
      "C:\\ProgramData\\Anaconda3\\lib\\site-packages\\tensorflow\\python\\framework\\dtypes.py:516: FutureWarning: Passing (type, 1) or '1type' as a synonym of type is deprecated; in a future version of numpy, it will be understood as (type, (1,)) / '(1,)type'.\n",
      "  _np_qint8 = np.dtype([(\"qint8\", np.int8, 1)])\n",
      "C:\\ProgramData\\Anaconda3\\lib\\site-packages\\tensorflow\\python\\framework\\dtypes.py:517: FutureWarning: Passing (type, 1) or '1type' as a synonym of type is deprecated; in a future version of numpy, it will be understood as (type, (1,)) / '(1,)type'.\n",
      "  _np_quint8 = np.dtype([(\"quint8\", np.uint8, 1)])\n",
      "C:\\ProgramData\\Anaconda3\\lib\\site-packages\\tensorflow\\python\\framework\\dtypes.py:518: FutureWarning: Passing (type, 1) or '1type' as a synonym of type is deprecated; in a future version of numpy, it will be understood as (type, (1,)) / '(1,)type'.\n",
      "  _np_qint16 = np.dtype([(\"qint16\", np.int16, 1)])\n",
      "C:\\ProgramData\\Anaconda3\\lib\\site-packages\\tensorflow\\python\\framework\\dtypes.py:519: FutureWarning: Passing (type, 1) or '1type' as a synonym of type is deprecated; in a future version of numpy, it will be understood as (type, (1,)) / '(1,)type'.\n",
      "  _np_quint16 = np.dtype([(\"quint16\", np.uint16, 1)])\n",
      "C:\\ProgramData\\Anaconda3\\lib\\site-packages\\tensorflow\\python\\framework\\dtypes.py:520: FutureWarning: Passing (type, 1) or '1type' as a synonym of type is deprecated; in a future version of numpy, it will be understood as (type, (1,)) / '(1,)type'.\n",
      "  _np_qint32 = np.dtype([(\"qint32\", np.int32, 1)])\n",
      "C:\\ProgramData\\Anaconda3\\lib\\site-packages\\tensorflow\\python\\framework\\dtypes.py:525: FutureWarning: Passing (type, 1) or '1type' as a synonym of type is deprecated; in a future version of numpy, it will be understood as (type, (1,)) / '(1,)type'.\n",
      "  np_resource = np.dtype([(\"resource\", np.ubyte, 1)])\n",
      "C:\\ProgramData\\Anaconda3\\lib\\site-packages\\tensorboard\\compat\\tensorflow_stub\\dtypes.py:541: FutureWarning: Passing (type, 1) or '1type' as a synonym of type is deprecated; in a future version of numpy, it will be understood as (type, (1,)) / '(1,)type'.\n",
      "  _np_qint8 = np.dtype([(\"qint8\", np.int8, 1)])\n",
      "C:\\ProgramData\\Anaconda3\\lib\\site-packages\\tensorboard\\compat\\tensorflow_stub\\dtypes.py:542: FutureWarning: Passing (type, 1) or '1type' as a synonym of type is deprecated; in a future version of numpy, it will be understood as (type, (1,)) / '(1,)type'.\n",
      "  _np_quint8 = np.dtype([(\"quint8\", np.uint8, 1)])\n",
      "C:\\ProgramData\\Anaconda3\\lib\\site-packages\\tensorboard\\compat\\tensorflow_stub\\dtypes.py:543: FutureWarning: Passing (type, 1) or '1type' as a synonym of type is deprecated; in a future version of numpy, it will be understood as (type, (1,)) / '(1,)type'.\n",
      "  _np_qint16 = np.dtype([(\"qint16\", np.int16, 1)])\n",
      "C:\\ProgramData\\Anaconda3\\lib\\site-packages\\tensorboard\\compat\\tensorflow_stub\\dtypes.py:544: FutureWarning: Passing (type, 1) or '1type' as a synonym of type is deprecated; in a future version of numpy, it will be understood as (type, (1,)) / '(1,)type'.\n",
      "  _np_quint16 = np.dtype([(\"quint16\", np.uint16, 1)])\n",
      "C:\\ProgramData\\Anaconda3\\lib\\site-packages\\tensorboard\\compat\\tensorflow_stub\\dtypes.py:545: FutureWarning: Passing (type, 1) or '1type' as a synonym of type is deprecated; in a future version of numpy, it will be understood as (type, (1,)) / '(1,)type'.\n",
      "  _np_qint32 = np.dtype([(\"qint32\", np.int32, 1)])\n",
      "C:\\ProgramData\\Anaconda3\\lib\\site-packages\\tensorboard\\compat\\tensorflow_stub\\dtypes.py:550: FutureWarning: Passing (type, 1) or '1type' as a synonym of type is deprecated; in a future version of numpy, it will be understood as (type, (1,)) / '(1,)type'.\n",
      "  np_resource = np.dtype([(\"resource\", np.ubyte, 1)])\n"
     ]
    }
   ],
   "source": [
    "from keras.models import load_model,Model\n",
    "from keras.engine.topology import Layer\n",
    "from keras import backend as K\n",
    "import tensorflow as tf\n",
    "import keras "
   ]
  },
  {
   "cell_type": "code",
   "execution_count": 3,
   "metadata": {},
   "outputs": [],
   "source": [
    "# 定义融合层，将深度学习算法与历史均值算法融合\n",
    "class Merge_Layer(Layer):\n",
    "    def __init__(self, **kwargs):\n",
    "        super(Merge_Layer, self).__init__(**kwargs)\n",
    "\n",
    "    def build(self, input_shape):\n",
    "        self.para1 = self.add_weight(shape=(input_shape[0][1], input_shape[0][2]),\n",
    "                                     initializer='uniform', trainable=True,\n",
    "                                     name='para1')\n",
    "        self.para2 = self.add_weight(shape=(input_shape[1][1], input_shape[1][2]),\n",
    "                                     initializer='uniform', trainable=True,\n",
    "                                     name='para2')\n",
    "        super(Merge_Layer, self).build(input_shape)\n",
    "\n",
    "    def call(self, inputs):\n",
    "        mat1 = inputs[0]\n",
    "        mat2 = inputs[1]\n",
    "        output = mat1 * self.para1 + mat2 * self.para2\n",
    "        # output = mat1 * 0.1 + mat2 * 0.9\n",
    "        return output\n",
    "\n",
    "    def compute_output_shape(self, input_shape):\n",
    "        return input_shape[0]"
   ]
  },
  {
   "cell_type": "code",
   "execution_count": 4,
   "metadata": {},
   "outputs": [],
   "source": [
    "#定义精度评价指标。为防止0值附近相对误差过大而导致的异常，定义mask层。\n",
    "def mape_loss_func(preds, labels):\n",
    "    mask = labels > 5\n",
    "    return np.mean(np.fabs(labels[mask]-preds[mask])/labels[mask])\n",
    "\n",
    "def smape_loss_func(preds, labels):\n",
    "    mask= labels > 5\n",
    "    return np.mean(2*np.fabs(labels[mask]-preds[mask])/(np.fabs(labels[mask])+np.fabs(preds[mask])))\n",
    "\n",
    "def mae_loss_func(preds, labels):\n",
    "    mask= labels > 5\n",
    "    return np.fabs((labels[mask]-preds[mask])).mean()\n",
    "\n",
    "def eliminate_nan(b):\n",
    "    a = np.array(b)\n",
    "    c = a[~np.isnan(a)]\n",
    "    return c"
   ]
  },
  {
   "cell_type": "markdown",
   "metadata": {},
   "source": [
    "## 把速度矩阵分类"
   ]
  },
  {
   "cell_type": "code",
   "execution_count": 5,
   "metadata": {},
   "outputs": [
    {
     "name": "stdout",
     "output_type": "stream",
     "text": [
      "There are 5 class(es)\n"
     ]
    }
   ],
   "source": [
    "randseed = 25\n",
    "res = 11\n",
    "\n",
    "v = pd.read_csv('./data/v_20_aggragated.csv')\n",
    "v = v.rename(columns={'Unnamed: 0': 'id'})\n",
    "det_with_class = pd.read_csv('./res/%i_res%i_id_402_withclass.csv'%(randseed, res), index_col=0)\n",
    "\n",
    "v['class_i'] = ''\n",
    "for i in range(len(v)):\n",
    "    v.loc[i, 'class_i'] = det_with_class[det_with_class['id']==v.loc[i, 'id']].iloc[0, 5]  # 5 stands for 'class_i'\n",
    "\n",
    "num_class = det_with_class['class_i'].drop_duplicates().size\n",
    "\n",
    "v_class = []\n",
    "for i in range(num_class):\n",
    "    v_class.append(v[v['class_i']==i])\n",
    "\n",
    "print('There are %i class(es)'%num_class)"
   ]
  },
  {
   "cell_type": "markdown",
   "metadata": {},
   "source": [
    "## 制作 nearest_road_id.csv 和speed.csv"
   ]
  },
  {
   "cell_type": "code",
   "execution_count": 6,
   "metadata": {},
   "outputs": [],
   "source": [
    "dist_mat = pd.read_csv('./data/dist_mat.csv', index_col=0)\n",
    "id_info = pd.read_csv('./data/id2000.csv', index_col=0)\n",
    "dist_mat.index = id_info['id2']\n",
    "dist_mat.columns = id_info['id2']\n",
    "for i in range(len(dist_mat)):\n",
    "    for j in range(len(dist_mat)):\n",
    "        if i==j:\n",
    "            dist_mat.iloc[i, j] = 0\n",
    "\n",
    "near_id = pd.DataFrame(np.argsort(np.array(dist_mat)), index = id_info['id2'], columns = id_info['id2'])"
   ]
  },
  {
   "cell_type": "markdown",
   "metadata": {},
   "source": [
    "## 以上做好了near_road矩阵，接下来做flow/speed矩阵"
   ]
  },
  {
   "cell_type": "code",
   "execution_count": 7,
   "metadata": {},
   "outputs": [],
   "source": [
    "def get_node(det, seg):\n",
    "    # det is one single detector id\n",
    "    # node is one single node id\n",
    "    \n",
    "    # seg = pd.read_csv('./data/segement.csv', header=None)\n",
    "    try:\n",
    "        node_info = seg[seg[6]==det]\n",
    "        node = node_info.iloc[0, 0]\n",
    "    except:\n",
    "        node_info = seg[seg[7]==det]\n",
    "        node = node_info.iloc[0, 0]\n",
    "        \n",
    "    return node"
   ]
  },
  {
   "cell_type": "code",
   "execution_count": 8,
   "metadata": {},
   "outputs": [],
   "source": [
    "def get_class_with_node(seg, v_class):\n",
    "    det_list_class = np.array([])\n",
    "    try:\n",
    "        v_class.insert(1, 'id2', '')  # id2 mean node id\n",
    "    except:\n",
    "        v_class['id2'] = ''\n",
    "        \n",
    "    for i in range(len(v_class)):\n",
    "        det_list_class = np.append(det_list_class, v_class.iloc[i, 0])\n",
    "        v_class.iloc[i, 1] = get_node(v_class.iloc[i, 0], seg)\n",
    "    \n",
    "    return det_list_class, v_class"
   ]
  },
  {
   "cell_type": "code",
   "execution_count": 9,
   "metadata": {},
   "outputs": [],
   "source": [
    "def rds_mat(old_dist_mat, det_ids):\n",
    "    # get a matrix that contains n raods that have specified node id s\n",
    "    node_ids = np.array([])\n",
    "    for i in det_ids:\n",
    "        node_ids = np.append(node_ids, get_node(i, seg))\n",
    "        \n",
    "    new_dist_mat = old_dist_mat.loc[node_ids, node_ids]\n",
    "    old_dist_mat = np.array(old_dist_mat)\n",
    "    new_near_id_mat = np.argsort(new_dist_mat)\n",
    "    return new_near_id_mat"
   ]
  },
  {
   "cell_type": "code",
   "execution_count": 10,
   "metadata": {},
   "outputs": [
    {
     "name": "stderr",
     "output_type": "stream",
     "text": [
      "C:\\ProgramData\\Anaconda3\\lib\\site-packages\\pandas\\core\\indexing.py:543: SettingWithCopyWarning: \n",
      "A value is trying to be set on a copy of a slice from a DataFrame.\n",
      "Try using .loc[row_indexer,col_indexer] = value instead\n",
      "\n",
      "See the caveats in the documentation: http://pandas.pydata.org/pandas-docs/stable/indexing.html#indexing-view-versus-copy\n",
      "  self.obj[item] = s\n"
     ]
    }
   ],
   "source": [
    "seg = pd.read_csv('./data/segement.csv', header=None)\n",
    "num_dets = 30\n",
    "\n",
    "det_list_class = []\n",
    "for i in range(num_class):\n",
    "    det_list_class_temp, v_class_temp = get_class_with_node(seg, v_class[i])\n",
    "    det_list_class.append(det_list_class_temp)\n",
    "    v_class_temp = v_class_temp[v_class_temp['id'].isin(det_list_class_temp[:num_dets])]\n",
    "    v_class[i] = v_class_temp"
   ]
  },
  {
   "cell_type": "code",
   "execution_count": 11,
   "metadata": {
    "scrolled": true
   },
   "outputs": [],
   "source": [
    "near_road_set = []\n",
    "for i in range(num_class):\n",
    "    near_road_set.append(rds_mat(dist_mat, det_list_class[i][:num_dets]))"
   ]
  },
  {
   "cell_type": "code",
   "execution_count": 12,
   "metadata": {},
   "outputs": [
    {
     "data": {
      "text/plain": [
       "5"
      ]
     },
     "execution_count": 12,
     "metadata": {},
     "output_type": "execute_result"
    }
   ],
   "source": [
    "len(near_road_set)"
   ]
  },
  {
   "cell_type": "markdown",
   "metadata": {},
   "source": [
    "## evaluation of 2 datasets"
   ]
  },
  {
   "cell_type": "code",
   "execution_count": 13,
   "metadata": {
    "scrolled": true
   },
   "outputs": [
    {
     "data": {
      "text/plain": [
       "14.457836806763762"
      ]
     },
     "execution_count": 13,
     "metadata": {},
     "output_type": "execute_result"
    }
   ],
   "source": [
    "v_class[0].iloc[:, 2:-1].T.mean().T.std()"
   ]
  },
  {
   "cell_type": "code",
   "execution_count": 14,
   "metadata": {},
   "outputs": [],
   "source": [
    "def get_NSk(set1, set2):\n",
    "    # designated for v_class1 and 2\n",
    "    set1_v_mean = set1.iloc[:, 2:-1].T.mean().T\n",
    "    set2_v_mean = set2.iloc[:, 2:-1].T.mean().T\n",
    "    \n",
    "    var1 = set1_v_mean.std()**2\n",
    "    var2 = set2_v_mean.std()**2\n",
    "    \n",
    "    u1 = set1_v_mean.mean()\n",
    "    u2 = set2_v_mean.mean()\n",
    "    \n",
    "    return 2*var1 / (var1 + var2 + (u1 - u2)**2)"
   ]
  },
  {
   "cell_type": "code",
   "execution_count": 15,
   "metadata": {},
   "outputs": [
    {
     "name": "stdout",
     "output_type": "stream",
     "text": [
      "0.8821299457102653\n"
     ]
    }
   ],
   "source": [
    "NSk_set = np.array([])\n",
    "for i in range(num_class):\n",
    "    for j in range(num_class):\n",
    "        if i!=j:\n",
    "            NSk = get_NSk(v_class[i], v_class[j])\n",
    "            NSk_set = np.append(NSk_set, NSk)\n",
    "\n",
    "print(NSk_set.mean())"
   ]
  },
  {
   "cell_type": "markdown",
   "metadata": {},
   "source": [
    "# 源代码如下"
   ]
  },
  {
   "cell_type": "code",
   "execution_count": 16,
   "metadata": {},
   "outputs": [
    {
     "name": "stdout",
     "output_type": "stream",
     "text": [
      "(3795, 5, 12, 30)\n",
      "(3795, 30, 3)\n",
      "(3795, 30, 3)\n",
      "input done 0.0448785\n"
     ]
    }
   ],
   "source": [
    "# near_road = np.array(pd.read_csv('./data/network/2small_network_nearest_road_id.csv',header = 0))\n",
    "# flow = np.array(pd.read_csv('./data/network/2small_network_speed.csv', header= 0)) #注意header=0 or None\n",
    "near_road = np.array(near_road_set[0])\n",
    "flow = np.array(v_class[0].iloc[:, 2:-1])\n",
    "\n",
    "# 利用滑动窗口的方式，重构数据为(n，最近路段数，输入时间窗，总路段数)的形式\n",
    "\n",
    "time3 = time.time()\n",
    "\n",
    "k = 5 # 参数k为需考虑的最近路段数\n",
    "t_p = 24 # 参数t_p为总时间序列长度（天）\n",
    "t_input = 12 #参数t_input为输入时间窗(5min颗粒度)\n",
    "t_pre = 3 #参数t_pre为预测时间窗(5min颗粒度)\n",
    "num_links = 30 #参数num_links为总路段数\n",
    "\n",
    "\n",
    "image = []\n",
    "for i in range(np.shape(near_road)[0]):\n",
    "    road_id = []\n",
    "    for j in range(k):\n",
    "        road_id.append(near_road[i][j])\n",
    "    image.append(flow[road_id, :])\n",
    "image1 = np.reshape(image, [-1, k, len(flow[0,:])])\n",
    "image2 = np.transpose(image1,(1,2,0))\n",
    "image3 = []\n",
    "label = []\n",
    "day = []\n",
    "\n",
    "for i in range(1,t_p):\n",
    "    for j in range(180-t_input-t_pre):\n",
    "        image3.append(image2[:, i*180+j:i*180+j+t_input, :][:])\n",
    "        label.append(flow[:, i*180+j+t_input:i*180+j+t_input+t_pre][:])\n",
    "        day.append(flow[:, (i-1)*180+j+t_input:(i-1)*180+j+t_input+t_pre][:])\n",
    "        \n",
    "# ipdb.set_trace()\n",
    "\n",
    "image3 = np.asarray(image3)\n",
    "label = np.asarray(label)\n",
    "day =  np.asarray(day)\n",
    "\n",
    "print(np.shape(image3))\n",
    "print(np.shape(label))\n",
    "print(np.shape(day))\n",
    "\n",
    "#划分前90%数据为训练集，最后10%数据为测试集\n",
    "image_train_source = image3[:np.shape(image3)[0]*1//10]\n",
    "image_test_source = image3[np.shape(image3)[0]*1//10:]\n",
    "label_train_source = label[:np.shape(label)[0]*1//10]\n",
    "label_test_source = label[np.shape(label)[0]*1//10:]\n",
    "\n",
    "day_train_source = day[:np.shape(day)[0]*1//10]\n",
    "day_test_source = day[np.shape(day)[0]*1//10:]\n",
    "\n",
    "\n",
    "time4 = time.time()\n",
    "print('input done %g' % (time4-time3))"
   ]
  },
  {
   "cell_type": "code",
   "execution_count": 17,
   "metadata": {},
   "outputs": [
    {
     "name": "stdout",
     "output_type": "stream",
     "text": [
      "(3795, 5, 12, 30)\n",
      "(3795, 30, 3)\n",
      "(3795, 30, 3)\n",
      "input done 0.0389385\n"
     ]
    }
   ],
   "source": [
    "# near_road = np.array(pd.read_csv('./data/transfer_learning_traffic_data/small_network_nearest_road_id.csv',header = 0))\n",
    "# flow = np.array(pd.read_csv('./data/transfer_learning_traffic_data/small_network_speed.csv', header= 0)) #注意header=0 or None\n",
    "near_road = np.array(near_road_set[1])\n",
    "flow = np.array(v_class[1].iloc[:, 2:-1])\n",
    "\n",
    "# 利用滑动窗口的方式，重构数据为(n，最近路段数，输入时间窗，总路段数)的形式\n",
    "\n",
    "time3 = time.time()\n",
    "\n",
    "k = 5 # 参数k为需考虑的最近路段数\n",
    "t_p = 24 # 参数t_p为总时间序列长度（天）\n",
    "t_input = 12 #参数t_input为输入时间窗(5min颗粒度)\n",
    "t_pre = 3 #参数t_pre为预测时间窗(5min颗粒度)\n",
    "num_links = 30 #参数num_links为总路段数\n",
    "\n",
    "\n",
    "image = []\n",
    "for i in range(np.shape(near_road)[0]):\n",
    "    road_id = []\n",
    "    for j in range(k):\n",
    "        road_id.append(near_road[i][j])\n",
    "    image.append(flow[road_id, :])\n",
    "image1 = np.reshape(image, [-1, k, len(flow[0,:])])\n",
    "image2 = np.transpose(image1,(1,2,0))\n",
    "image3 = []\n",
    "label = []\n",
    "day = []\n",
    "\n",
    "for i in range(1,t_p):\n",
    "    for j in range(180-t_input-t_pre):\n",
    "        image3.append(image2[:, i*180+j:i*180+j+t_input, :][:])\n",
    "        label.append(flow[:, i*180+j+t_input:i*180+j+t_input+t_pre][:])\n",
    "        day.append(flow[:, (i-1)*180+j+t_input:(i-1)*180+j+t_input+t_pre][:])\n",
    "\n",
    "image3 = np.asarray(image3)\n",
    "label = np.asarray(label)\n",
    "day =  np.asarray(day)\n",
    "\n",
    "print(np.shape(image3))\n",
    "print(np.shape(label))\n",
    "print(np.shape(day))\n",
    "\n",
    "#划分前80%数据为训练集，最后20%数据为测试集\n",
    "image_train_target = image3[:np.shape(image3)[0]*1//10]\n",
    "image_test_target = image3[np.shape(image3)[0]*1//10:]\n",
    "label_train_target = label[:np.shape(label)[0]*1//10]\n",
    "label_test_target = label[np.shape(label)[0]*1//10:]\n",
    "\n",
    "day_train_target = day[:np.shape(day)[0]*1//10]\n",
    "day_test_target = day[np.shape(day)[0]*1//10:]\n",
    "\n",
    "\n",
    "time4 = time.time()\n",
    "print('input done %g' % (time4-time3))"
   ]
  },
  {
   "cell_type": "code",
   "execution_count": 18,
   "metadata": {
    "tags": [
     "outputPrepend"
    ]
   },
   "outputs": [
    {
     "name": "stdout",
     "output_type": "stream",
     "text": [
      "WARNING:tensorflow:From C:\\ProgramData\\Anaconda3\\lib\\site-packages\\keras\\backend\\tensorflow_backend.py:517: The name tf.placeholder is deprecated. Please use tf.compat.v1.placeholder instead.\n",
      "\n",
      "WARNING:tensorflow:From C:\\ProgramData\\Anaconda3\\lib\\site-packages\\keras\\backend\\tensorflow_backend.py:74: The name tf.get_default_graph is deprecated. Please use tf.compat.v1.get_default_graph instead.\n",
      "\n",
      "WARNING:tensorflow:From C:\\ProgramData\\Anaconda3\\lib\\site-packages\\keras\\backend\\tensorflow_backend.py:174: The name tf.get_default_session is deprecated. Please use tf.compat.v1.get_default_session instead.\n",
      "\n",
      "WARNING:tensorflow:From C:\\ProgramData\\Anaconda3\\lib\\site-packages\\keras\\backend\\tensorflow_backend.py:181: The name tf.ConfigProto is deprecated. Please use tf.compat.v1.ConfigProto instead.\n",
      "\n",
      "WARNING:tensorflow:From C:\\ProgramData\\Anaconda3\\lib\\site-packages\\keras\\backend\\tensorflow_backend.py:186: The name tf.Session is deprecated. Please use tf.compat.v1.Session instead.\n",
      "\n",
      "WARNING:tensorflow:From C:\\ProgramData\\Anaconda3\\lib\\site-packages\\keras\\backend\\tensorflow_backend.py:1834: The name tf.nn.fused_batch_norm is deprecated. Please use tf.compat.v1.nn.fused_batch_norm instead.\n",
      "\n",
      "WARNING:tensorflow:From C:\\ProgramData\\Anaconda3\\lib\\site-packages\\keras\\backend\\tensorflow_backend.py:3980: The name tf.nn.avg_pool is deprecated. Please use tf.nn.avg_pool2d instead.\n",
      "\n",
      "WARNING:tensorflow:From C:\\ProgramData\\Anaconda3\\lib\\site-packages\\keras\\backend\\tensorflow_backend.py:3445: calling dropout (from tensorflow.python.ops.nn_ops) with keep_prob is deprecated and will be removed in a future version.\n",
      "Instructions for updating:\n",
      "Please use `rate` instead of `keep_prob`. Rate should be set to `rate = 1 - keep_prob`.\n",
      "__________________________________________________________________________________________________\n",
      "Layer (type)                    Output Shape         Param #     Connected to                     \n",
      "==================================================================================================\n",
      "input_data (InputLayer)         (None, 5, 12, 30)    0                                            \n",
      "__________________________________________________________________________________________________\n",
      "batch_normalization_1 (BatchNor (None, 5, 12, 30)    120         input_data[0][0]                 \n",
      "__________________________________________________________________________________________________\n",
      "conv2d_1 (Conv2D)               (None, 5, 12, 30)    8130        batch_normalization_1[0][0]      \n",
      "__________________________________________________________________________________________________\n",
      "average_pooling2d_1 (AveragePoo (None, 5, 12, 30)    0           conv2d_1[0][0]                   \n",
      "__________________________________________________________________________________________________\n",
      "batch_normalization_2 (BatchNor (None, 5, 12, 30)    120         average_pooling2d_1[0][0]        \n",
      "__________________________________________________________________________________________________\n",
      "conv2d_2 (Conv2D)               (None, 5, 12, 30)    8130        batch_normalization_2[0][0]      \n",
      "__________________________________________________________________________________________________\n",
      "average_pooling2d_2 (AveragePoo (None, 5, 12, 30)    0           conv2d_2[0][0]                   \n",
      "__________________________________________________________________________________________________\n",
      "flatten_1 (Flatten)             (None, 1800)         0           average_pooling2d_2[0][0]        \n",
      "__________________________________________________________________________________________________\n",
      "batch_normalization_3 (BatchNor (None, 1800)         7200        flatten_1[0][0]                  \n",
      "__________________________________________________________________________________________________\n",
      "dropout_1 (Dropout)             (None, 1800)         0           batch_normalization_3[0][0]      \n",
      "__________________________________________________________________________________________________\n",
      "dense_1 (Dense)                 (None, 90)           162090      dropout_1[0][0]                  \n",
      "__________________________________________________________________________________________________\n",
      "reshape_1 (Reshape)             (None, 30, 3)        0           dense_1[0][0]                    \n",
      "__________________________________________________________________________________________________\n",
      "input_HA (InputLayer)           (None, 30, 3)        0                                            \n",
      "__________________________________________________________________________________________________\n",
      "merge__layer_1 (Merge_Layer)    (None, 30, 3)        180         reshape_1[0][0]                  \n",
      "                                                                 input_HA[0][0]                   \n",
      "==================================================================================================\n",
      "Total params: 185,970\n",
      "Trainable params: 182,250\n",
      "Non-trainable params: 3,720\n",
      "__________________________________________________________________________________________________\n"
     ]
    }
   ],
   "source": [
    "#模型构建\n",
    "input_data = keras.Input(shape=(k,t_input,num_links), name='input_data')\n",
    "input_HA = keras.Input(shape=(num_links, t_pre), name='input_HA')\n",
    "\n",
    "x = keras.layers.BatchNormalization(input_shape =(k,t_input,num_links))(input_data)\n",
    "\n",
    "x = keras.layers.Conv2D(\n",
    "                           filters = num_links,\n",
    "                           kernel_size = 3,\n",
    "                           strides = 1,\n",
    "                           padding=\"SAME\",\n",
    "                           activation='relu')(x)\n",
    "\n",
    "x = keras.layers.AveragePooling2D(pool_size = (2,2),\n",
    "                                strides = 1,\n",
    "                                padding = \"SAME\",\n",
    "                                )(x)\n",
    "\n",
    "x = keras.layers.BatchNormalization()(x)\n",
    "\n",
    "x = keras.layers.Conv2D(\n",
    "                       filters = num_links,\n",
    "                       kernel_size = 3,\n",
    "                       strides = 1,\n",
    "                       padding=\"SAME\",\n",
    "                       activation='relu')(x)\n",
    "\n",
    "x = keras.layers.AveragePooling2D(pool_size = (2,2),\n",
    "                                strides = 1,\n",
    "                                padding = \"SAME\",\n",
    "                                )(x)\n",
    "x = keras.layers.Flatten()(x)\n",
    "x = keras.layers.BatchNormalization()(x)\n",
    "x = keras.layers.Dropout(0.5)(x)\n",
    "x = keras.layers.Dense(num_links*t_pre, activation='relu')(x)\n",
    "\n",
    "output = keras.layers.Reshape((num_links,t_pre))(x)\n",
    "\n",
    "output_final = Merge_Layer()([output, input_HA])\n",
    "\n",
    "# construct model\n",
    "finish_model = keras.models.Model([input_data,input_HA], [output_final])\n",
    "\n",
    "finish_model.summary()\n"
   ]
  },
  {
   "cell_type": "code",
   "execution_count": 19,
   "metadata": {},
   "outputs": [],
   "source": [
    "#参数加载\n",
    "finish_model.load_weights('./model/source.h5')\n"
   ]
  },
  {
   "cell_type": "code",
   "execution_count": 20,
   "metadata": {},
   "outputs": [],
   "source": [
    "#模型预测\n",
    "model_pre = finish_model.predict([image_test_target,day_test_target])\n"
   ]
  },
  {
   "cell_type": "code",
   "execution_count": 21,
   "metadata": {},
   "outputs": [],
   "source": [
    "#预测结果存储\n",
    "# model_pre = np.reshape(model_pre,[103, 6])\n",
    "# model_pre1 = pd.DataFrame(model_pre)\n",
    "# model_pre1.to_csv('预测值.csv', index = False)"
   ]
  },
  {
   "cell_type": "code",
   "execution_count": 22,
   "metadata": {},
   "outputs": [
    {
     "name": "stdout",
     "output_type": "stream",
     "text": [
      "mape = 0.751959630859888\n",
      "smape = 1.247357430231617\n",
      "mae = 45.78225340967511\n"
     ]
    }
   ],
   "source": [
    "#transfer without FT 预测精度计算\n",
    "\n",
    "mape_mean = mape_loss_func(model_pre, label_test_source)\n",
    "smape_mean = smape_loss_func(model_pre, label_test_source)\n",
    "mae_mean = mae_loss_func(model_pre, label_test_source)\n",
    "\n",
    "print('mape = ' + str(mape_mean) + '\\n' + 'smape = ' + str(smape_mean) + '\\n' + 'mae = ' + str(mae_mean))"
   ]
  },
  {
   "cell_type": "code",
   "execution_count": 23,
   "metadata": {},
   "outputs": [],
   "source": [
    "\n",
    "middle = Model(inputs=[input_data, input_HA],outputs=finish_model.get_layer('dense_1').output)"
   ]
  },
  {
   "cell_type": "code",
   "execution_count": 24,
   "metadata": {},
   "outputs": [],
   "source": [
    "middle_result_source = middle.predict([image_train_source, day_train_source])\n",
    "middle_result_target = middle.predict([image_train_target, day_train_target])"
   ]
  },
  {
   "cell_type": "code",
   "execution_count": 25,
   "metadata": {},
   "outputs": [],
   "source": [
    "from sklearn import metrics\n",
    "def mmd (x, y):\n",
    "    return metrics.mean_squared_error(x,y)"
   ]
  },
  {
   "cell_type": "code",
   "execution_count": 26,
   "metadata": {},
   "outputs": [
    {
     "data": {
      "text/plain": [
       "78.17668"
      ]
     },
     "execution_count": 26,
     "metadata": {},
     "output_type": "execute_result"
    }
   ],
   "source": [
    "mmd (middle_result_source, middle_result_target)"
   ]
  },
  {
   "cell_type": "code",
   "execution_count": 27,
   "metadata": {},
   "outputs": [],
   "source": [
    "def kl_divergence(set1, set2):\n",
    "    set1_v_mean = np.array(set1.iloc[:, 2:-1].T.mean().T)\n",
    "    set2_v_mean = np.array(set2.iloc[:, 2:-1].T.mean().T)\n",
    "    return np.sum(np.where(set1_v_mean != 0, set1_v_mean * np.log(set1_v_mean / set2_v_mean), 0))"
   ]
  },
  {
   "cell_type": "code",
   "execution_count": 31,
   "metadata": {},
   "outputs": [],
   "source": [
    "lamb = kl_divergence(v_class[0], v_class[1])\n",
    "\n",
    "loss1 = K.mean(K.square(output_final - label_train_target), axis=-1) \n",
    "loss2 = lamb * mmd (middle_result_source, middle_result_target)\n",
    "overall_loss = loss1 + loss2"
   ]
  },
  {
   "cell_type": "code",
   "execution_count": 32,
   "metadata": {},
   "outputs": [],
   "source": [
    "def new_loss(output_final, label_train_target):\n",
    "    middle = Model(inputs=[input_data, input_HA],outputs=finish_model.get_layer('dense_1').output)\n",
    "    middle_result_source = middle.predict([image_train_source, day_train_source])\n",
    "    middle_result_target = middle.predict([image_train_target, day_train_target])\n",
    "\n",
    "    loss1 = K.mean(K.square(output_final - label_train_target), axis=-1) \n",
    "    loss2 = 0.001 * mmd (middle_result_source, middle_result_target)\n",
    "    overall_loss = loss1 + loss2\n",
    "    return overall_loss\n"
   ]
  },
  {
   "cell_type": "code",
   "execution_count": 33,
   "metadata": {},
   "outputs": [],
   "source": [
    "finish_model.compile(optimizer='adam',loss=new_loss)"
   ]
  },
  {
   "cell_type": "code",
   "execution_count": 34,
   "metadata": {
    "tags": [
     "outputPrepend"
    ]
   },
   "outputs": [
    {
     "name": "stdout",
     "output_type": "stream",
     "text": [
      "Train on 379 samples, validate on 3416 samples\n",
      "Epoch 1/100\n",
      "379/379 [==============================] - 1s 2ms/step - loss: 1633.5361 - val_loss: 1279.1607\n",
      "Epoch 2/100\n",
      "379/379 [==============================] - 0s 300us/step - loss: 1551.3878 - val_loss: 1138.1124\n",
      "Epoch 3/100\n",
      "379/379 [==============================] - 0s 279us/step - loss: 1506.5245 - val_loss: 1054.5573\n",
      "Epoch 4/100\n",
      "379/379 [==============================] - 0s 266us/step - loss: 1450.6387 - val_loss: 986.7626\n",
      "Epoch 5/100\n",
      "379/379 [==============================] - 0s 284us/step - loss: 1418.1678 - val_loss: 931.9186\n",
      "Epoch 6/100\n",
      "379/379 [==============================] - 0s 268us/step - loss: 1365.5974 - val_loss: 884.8685\n",
      "Epoch 7/100\n",
      "379/379 [==============================] - 0s 268us/step - loss: 1328.6021 - val_loss: 843.9001\n",
      "Epoch 8/100\n",
      "379/379 [==============================] - 0s 255us/step - loss: 1289.6819 - val_loss: 807.9130\n",
      "Epoch 9/100\n",
      "379/379 [==============================] - 0s 250us/step - loss: 1252.3510 - val_loss: 777.1549\n",
      "Epoch 10/100\n",
      "379/379 [==============================] - 0s 248us/step - loss: 1218.6785 - val_loss: 751.4870\n",
      "Epoch 11/100\n",
      "379/379 [==============================] - 0s 247us/step - loss: 1205.0269 - val_loss: 731.0530\n",
      "Epoch 12/100\n",
      "379/379 [==============================] - 0s 282us/step - loss: 1173.3048 - val_loss: 711.9240\n",
      "Epoch 13/100\n",
      "379/379 [==============================] - 0s 250us/step - loss: 1141.1671 - val_loss: 690.8530\n",
      "Epoch 14/100\n",
      "379/379 [==============================] - 0s 247us/step - loss: 1119.8904 - val_loss: 665.2535\n",
      "Epoch 15/100\n",
      "379/379 [==============================] - 0s 271us/step - loss: 1093.6285 - val_loss: 637.9095\n",
      "Epoch 16/100\n",
      "379/379 [==============================] - 0s 250us/step - loss: 1066.7612 - val_loss: 610.2812\n",
      "Epoch 17/100\n",
      "379/379 [==============================] - 0s 247us/step - loss: 1041.9968 - val_loss: 582.2713\n",
      "Epoch 18/100\n",
      "379/379 [==============================] - 0s 258us/step - loss: 1017.5781 - val_loss: 553.5176\n",
      "Epoch 19/100\n",
      "379/379 [==============================] - 0s 260us/step - loss: 988.2982 - val_loss: 525.1120\n",
      "Epoch 20/100\n",
      "379/379 [==============================] - 0s 245us/step - loss: 969.5229 - val_loss: 497.0340\n",
      "Epoch 21/100\n",
      "379/379 [==============================] - 0s 255us/step - loss: 941.7919 - val_loss: 468.1079\n",
      "Epoch 22/100\n",
      "379/379 [==============================] - 0s 363us/step - loss: 912.1048 - val_loss: 440.7556\n",
      "Epoch 23/100\n",
      "379/379 [==============================] - 0s 370us/step - loss: 896.2873 - val_loss: 414.9448\n",
      "Epoch 24/100\n",
      "379/379 [==============================] - 0s 274us/step - loss: 872.5738 - val_loss: 392.0899\n",
      "Epoch 25/100\n",
      "379/379 [==============================] - 0s 247us/step - loss: 855.8370 - val_loss: 370.0734\n",
      "Epoch 26/100\n",
      "379/379 [==============================] - 0s 271us/step - loss: 828.9629 - val_loss: 349.7936\n",
      "Epoch 27/100\n",
      "379/379 [==============================] - 0s 245us/step - loss: 809.7914 - val_loss: 329.9388\n",
      "Epoch 28/100\n",
      "379/379 [==============================] - 0s 245us/step - loss: 788.5522 - val_loss: 313.7899\n",
      "Epoch 29/100\n",
      "379/379 [==============================] - 0s 247us/step - loss: 769.2482 - val_loss: 300.5409\n",
      "Epoch 30/100\n",
      "379/379 [==============================] - 0s 371us/step - loss: 751.3898 - val_loss: 288.6292\n",
      "Epoch 31/100\n",
      "379/379 [==============================] - 0s 324us/step - loss: 732.7020 - val_loss: 277.4160\n",
      "Epoch 32/100\n",
      "379/379 [==============================] - 0s 255us/step - loss: 717.7606 - val_loss: 266.5694\n",
      "Epoch 33/100\n",
      "379/379 [==============================] - 0s 261us/step - loss: 694.3984 - val_loss: 256.0634\n",
      "Epoch 34/100\n",
      "379/379 [==============================] - 0s 247us/step - loss: 678.3359 - val_loss: 245.5350\n",
      "Epoch 35/100\n",
      "379/379 [==============================] - 0s 247us/step - loss: 663.2899 - val_loss: 236.4420\n",
      "Epoch 36/100\n",
      "379/379 [==============================] - 0s 306us/step - loss: 645.2382 - val_loss: 229.1753\n",
      "Epoch 37/100\n",
      "379/379 [==============================] - 0s 287us/step - loss: 630.7671 - val_loss: 224.2406\n",
      "Epoch 38/100\n",
      "379/379 [==============================] - 0s 247us/step - loss: 618.4482 - val_loss: 221.4615\n",
      "Epoch 39/100\n",
      "379/379 [==============================] - 0s 272us/step - loss: 595.1970 - val_loss: 219.8557\n",
      "Epoch 40/100\n",
      "379/379 [==============================] - 0s 247us/step - loss: 588.0247 - val_loss: 217.3814\n",
      "Epoch 41/100\n",
      "379/379 [==============================] - 0s 284us/step - loss: 574.2829 - val_loss: 214.2849\n",
      "Epoch 42/100\n",
      "379/379 [==============================] - 0s 255us/step - loss: 559.1004 - val_loss: 210.7575\n",
      "Epoch 43/100\n",
      "379/379 [==============================] - 0s 255us/step - loss: 545.1297 - val_loss: 207.9592\n",
      "Epoch 44/100\n",
      "379/379 [==============================] - 0s 242us/step - loss: 530.2725 - val_loss: 206.4835\n",
      "Epoch 45/100\n",
      "379/379 [==============================] - 0s 292us/step - loss: 516.1806 - val_loss: 205.9143\n",
      "Epoch 46/100\n",
      "379/379 [==============================] - 0s 246us/step - loss: 507.6480 - val_loss: 206.7325\n",
      "Epoch 47/100\n",
      "379/379 [==============================] - 0s 271us/step - loss: 495.5805 - val_loss: 209.2674\n",
      "Epoch 48/100\n",
      "379/379 [==============================] - 0s 287us/step - loss: 486.6876 - val_loss: 214.0409\n",
      "Epoch 49/100\n",
      "379/379 [==============================] - 0s 279us/step - loss: 475.0901 - val_loss: 221.2211\n",
      "Epoch 50/100\n",
      "379/379 [==============================] - 0s 261us/step - loss: 462.1809 - val_loss: 229.5494\n",
      "Epoch 51/100\n",
      "379/379 [==============================] - 0s 289us/step - loss: 457.9546 - val_loss: 237.9698\n",
      "Epoch 52/100\n",
      "379/379 [==============================] - 0s 287us/step - loss: 446.0853 - val_loss: 247.0493\n",
      "Epoch 53/100\n",
      "379/379 [==============================] - 0s 266us/step - loss: 434.8611 - val_loss: 256.3394\n",
      "Epoch 54/100\n",
      "379/379 [==============================] - 0s 261us/step - loss: 427.5725 - val_loss: 266.1487\n",
      "Epoch 55/100\n",
      "379/379 [==============================] - 0s 247us/step - loss: 417.0126 - val_loss: 277.1910\n",
      "Epoch 56/100\n",
      "379/379 [==============================] - 0s 261us/step - loss: 408.6817 - val_loss: 288.5906\n",
      "Epoch 57/100\n",
      "379/379 [==============================] - 0s 260us/step - loss: 400.5411 - val_loss: 300.7872\n",
      "Epoch 58/100\n",
      "379/379 [==============================] - 0s 242us/step - loss: 394.9449 - val_loss: 312.2955\n",
      "Epoch 59/100\n",
      "379/379 [==============================] - 0s 237us/step - loss: 386.8722 - val_loss: 322.6424\n",
      "Epoch 60/100\n",
      "379/379 [==============================] - 0s 237us/step - loss: 380.1495 - val_loss: 330.8345\n",
      "Epoch 61/100\n",
      "379/379 [==============================] - 0s 242us/step - loss: 374.0403 - val_loss: 335.5669\n",
      "Epoch 62/100\n",
      "379/379 [==============================] - 0s 234us/step - loss: 366.3505 - val_loss: 338.4430\n",
      "Epoch 63/100\n",
      "379/379 [==============================] - 0s 250us/step - loss: 361.9645 - val_loss: 342.1288\n",
      "Epoch 64/100\n",
      "379/379 [==============================] - 0s 249us/step - loss: 355.1595 - val_loss: 345.6657\n",
      "Epoch 65/100\n",
      "379/379 [==============================] - 0s 258us/step - loss: 350.4784 - val_loss: 348.6430\n",
      "Epoch 66/100\n",
      "379/379 [==============================] - 0s 237us/step - loss: 345.0008 - val_loss: 349.8041\n",
      "Epoch 67/100\n",
      "379/379 [==============================] - 0s 237us/step - loss: 340.1809 - val_loss: 350.8664\n",
      "Epoch 68/100\n",
      "379/379 [==============================] - 0s 245us/step - loss: 335.8053 - val_loss: 351.8148\n",
      "Epoch 69/100\n",
      "379/379 [==============================] - 0s 289us/step - loss: 327.6886 - val_loss: 354.5901\n",
      "Epoch 70/100\n",
      "379/379 [==============================] - 0s 239us/step - loss: 321.9877 - val_loss: 356.2447\n",
      "Epoch 71/100\n",
      "379/379 [==============================] - 0s 245us/step - loss: 314.2790 - val_loss: 358.6847\n",
      "Epoch 72/100\n",
      "379/379 [==============================] - 0s 250us/step - loss: 288.0071 - val_loss: 372.8362\n",
      "Epoch 73/100\n",
      "379/379 [==============================] - 0s 237us/step - loss: 255.0599 - val_loss: 386.0283\n",
      "Epoch 74/100\n",
      "379/379 [==============================] - 0s 239us/step - loss: 247.3875 - val_loss: 400.1533\n",
      "Epoch 75/100\n",
      "379/379 [==============================] - 0s 237us/step - loss: 246.7859 - val_loss: 414.9380\n",
      "Epoch 76/100\n",
      "379/379 [==============================] - 0s 239us/step - loss: 246.1756 - val_loss: 431.9697\n"
     ]
    },
    {
     "name": "stdout",
     "output_type": "stream",
     "text": [
      "Epoch 77/100\n",
      "379/379 [==============================] - 0s 234us/step - loss: 237.0832 - val_loss: 450.9126\n",
      "Epoch 78/100\n",
      "379/379 [==============================] - 0s 255us/step - loss: 233.9960 - val_loss: 468.7547\n",
      "Epoch 79/100\n",
      "379/379 [==============================] - 0s 274us/step - loss: 230.5301 - val_loss: 486.0477\n",
      "Epoch 80/100\n",
      "379/379 [==============================] - 0s 263us/step - loss: 223.6768 - val_loss: 500.9643\n",
      "Epoch 81/100\n",
      "379/379 [==============================] - 0s 263us/step - loss: 220.0660 - val_loss: 516.0547\n",
      "Epoch 82/100\n",
      "379/379 [==============================] - 0s 253us/step - loss: 214.7855 - val_loss: 532.0344\n",
      "Epoch 83/100\n",
      "379/379 [==============================] - 0s 237us/step - loss: 212.0638 - val_loss: 546.4825\n",
      "Epoch 84/100\n",
      "379/379 [==============================] - 0s 237us/step - loss: 208.9684 - val_loss: 557.7830\n",
      "Epoch 85/100\n",
      "379/379 [==============================] - 0s 258us/step - loss: 203.9709 - val_loss: 563.2621\n",
      "Epoch 86/100\n",
      "379/379 [==============================] - 0s 247us/step - loss: 201.0346 - val_loss: 566.7328\n",
      "Epoch 87/100\n",
      "379/379 [==============================] - 0s 237us/step - loss: 199.0317 - val_loss: 565.3450\n",
      "Epoch 88/100\n",
      "379/379 [==============================] - 0s 245us/step - loss: 196.1154 - val_loss: 563.2860\n",
      "Epoch 89/100\n",
      "379/379 [==============================] - 0s 242us/step - loss: 194.3600 - val_loss: 562.8332\n",
      "Epoch 90/100\n",
      "379/379 [==============================] - 0s 242us/step - loss: 191.5639 - val_loss: 561.0636\n",
      "Epoch 91/100\n",
      "379/379 [==============================] - 0s 234us/step - loss: 188.8920 - val_loss: 561.0586\n",
      "Epoch 92/100\n",
      "379/379 [==============================] - 0s 250us/step - loss: 187.4214 - val_loss: 561.2587\n",
      "Epoch 93/100\n",
      "379/379 [==============================] - 0s 244us/step - loss: 185.7566 - val_loss: 561.5282\n",
      "Epoch 94/100\n",
      "379/379 [==============================] - 0s 239us/step - loss: 184.8539 - val_loss: 561.5327\n",
      "Epoch 95/100\n",
      "379/379 [==============================] - 0s 247us/step - loss: 182.4524 - val_loss: 560.8696\n",
      "Epoch 96/100\n",
      "379/379 [==============================] - 0s 261us/step - loss: 182.1230 - val_loss: 559.7232\n",
      "Epoch 97/100\n",
      "379/379 [==============================] - 0s 250us/step - loss: 179.7944 - val_loss: 557.9251\n",
      "Epoch 98/100\n",
      "379/379 [==============================] - 0s 247us/step - loss: 178.2944 - val_loss: 553.2122\n",
      "Epoch 99/100\n",
      "379/379 [==============================] - 0s 237us/step - loss: 176.1301 - val_loss: 549.7142\n",
      "Epoch 100/100\n",
      "379/379 [==============================] - 0s 242us/step - loss: 176.5287 - val_loss: 543.6120\n"
     ]
    },
    {
     "data": {
      "text/plain": [
       "<keras.callbacks.History at 0x2356fef35c0>"
      ]
     },
     "execution_count": 34,
     "metadata": {},
     "output_type": "execute_result"
    }
   ],
   "source": [
    "finish_model.fit([image_train_target, day_train_target], label_train_target, epochs=100, batch_size=462,\n",
    "validation_data=([image_test_target,day_test_target], label_test_target))"
   ]
  },
  {
   "cell_type": "code",
   "execution_count": 35,
   "metadata": {},
   "outputs": [],
   "source": [
    "model_pre = finish_model.predict([image_test_target,day_test_target])"
   ]
  },
  {
   "cell_type": "code",
   "execution_count": 36,
   "metadata": {},
   "outputs": [
    {
     "name": "stdout",
     "output_type": "stream",
     "text": [
      "mape = 0.35466658522097544\n",
      "smape = 0.29008135748529035\n",
      "mae = 21.474864287289655\n"
     ]
    }
   ],
   "source": [
    "#transfer with DAN 预测精度计算\n",
    "\n",
    "mape_mean = mape_loss_func(model_pre, label_test_target)\n",
    "smape_mean = smape_loss_func(model_pre, label_test_target)\n",
    "mae_mean = mae_loss_func(model_pre, label_test_target)\n",
    "\n",
    "print('mape = ' + str(mape_mean) + '\\n' + 'smape = ' + str(smape_mean) + '\\n' + 'mae = ' + str(mae_mean))"
   ]
  },
  {
   "cell_type": "code",
   "execution_count": 37,
   "metadata": {
    "scrolled": true
   },
   "outputs": [
    {
     "data": {
      "text/plain": [
       "13    0.270985\n",
       "0     0.272361\n",
       "26    0.273218\n",
       "4     0.286104\n",
       "12    0.293046\n",
       "18    0.304671\n",
       "8     0.312254\n",
       "6     0.314125\n",
       "25    0.326581\n",
       "2     0.333041\n",
       "15    0.336560\n",
       "11    0.347034\n",
       "27    0.349973\n",
       "19    0.351532\n",
       "21    0.354379\n",
       "14    0.359076\n",
       "23    0.367494\n",
       "3     0.374800\n",
       "10    0.374840\n",
       "5     0.377220\n",
       "20    0.382432\n",
       "17    0.387609\n",
       "9     0.391376\n",
       "29    0.397920\n",
       "28    0.400957\n",
       "22    0.401505\n",
       "1     0.410742\n",
       "7     0.416475\n",
       "24    0.430500\n",
       "16    0.441189\n",
       "dtype: float64"
      ]
     },
     "execution_count": 37,
     "metadata": {},
     "output_type": "execute_result"
    }
   ],
   "source": [
    "mape_list = []\n",
    "for i in range(num_links):\n",
    "    a1 = mape_loss_func(model_pre[:,i,:], label_test_target[:,i,:])\n",
    "    mape_list.append(a1)\n",
    "\n",
    "mape_pd = pd.Series(mape_list)\n",
    "mape_pd.sort_values()"
   ]
  },
  {
   "cell_type": "code",
   "execution_count": null,
   "metadata": {},
   "outputs": [],
   "source": []
  },
  {
   "cell_type": "code",
   "execution_count": null,
   "metadata": {},
   "outputs": [],
   "source": []
  }
 ],
 "metadata": {
  "interpreter": {
   "hash": "6b092d8890fbfc1935d95d43d0881a7b3742c06492f450993a24f5c2e6237594"
  },
  "kernelspec": {
   "display_name": "Python 3",
   "language": "python",
   "name": "python3"
  },
  "language_info": {
   "codemirror_mode": {
    "name": "ipython",
    "version": 3
   },
   "file_extension": ".py",
   "mimetype": "text/x-python",
   "name": "python",
   "nbconvert_exporter": "python",
   "pygments_lexer": "ipython3",
   "version": "3.7.0"
  }
 },
 "nbformat": 4,
 "nbformat_minor": 4
}
