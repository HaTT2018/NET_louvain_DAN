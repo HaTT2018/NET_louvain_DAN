{
 "cells": [
  {
   "cell_type": "code",
   "execution_count": 38,
   "metadata": {},
   "outputs": [],
   "source": [
    "import time\n",
    "import math\n",
    "import tensorflow as tf\n",
    "import keras \n",
    "import numpy as np\n",
    "import pandas as pd\n",
    "from keras.models import load_model,Model\n",
    "from keras.engine.topology import Layer"
   ]
  },
  {
   "cell_type": "code",
   "execution_count": 2,
   "metadata": {},
   "outputs": [],
   "source": [
    "# 定义融合层，将深度学习算法与历史均值算法融合\n",
    "class Merge_Layer(Layer):\n",
    "    def __init__(self, **kwargs):\n",
    "        super(Merge_Layer, self).__init__(**kwargs)\n",
    "\n",
    "    def build(self, input_shape):\n",
    "        self.para1 = self.add_weight(shape=(input_shape[0][1], input_shape[0][2]),\n",
    "                                     initializer='uniform', trainable=True,\n",
    "                                     name='para1')\n",
    "        self.para2 = self.add_weight(shape=(input_shape[1][1], input_shape[1][2]),\n",
    "                                     initializer='uniform', trainable=True,\n",
    "                                     name='para2')\n",
    "        super(Merge_Layer, self).build(input_shape)\n",
    "\n",
    "    def call(self, inputs):\n",
    "        mat1 = inputs[0]\n",
    "        mat2 = inputs[1]\n",
    "        output = mat1 * self.para1 + mat2 * self.para2\n",
    "        # output = mat1 * 0.1 + mat2 * 0.9\n",
    "        return output\n",
    "\n",
    "    def compute_output_shape(self, input_shape):\n",
    "        return input_shape[0]"
   ]
  },
  {
   "cell_type": "code",
   "execution_count": 3,
   "metadata": {},
   "outputs": [],
   "source": [
    "#定义精度评价指标。为防止0值附近相对误差过大而导致的异常，定义mask层。\n",
    "def mape_loss_func(preds, labels):\n",
    "    mask = labels > 5\n",
    "    return np.mean(np.fabs(labels[mask]-preds[mask])/labels[mask])\n",
    "\n",
    "def smape_loss_func(preds, labels):\n",
    "    mask= labels > 5\n",
    "    return np.mean(2*np.fabs(labels[mask]-preds[mask])/(np.fabs(labels[mask])+np.fabs(preds[mask])))\n",
    "\n",
    "def mae_loss_func(preds, labels):\n",
    "    mask= labels > 5\n",
    "    return np.fabs((labels[mask]-preds[mask])).mean()\n",
    "\n",
    "def eliminate_nan(b):\n",
    "    a = np.array(b)\n",
    "    c = a[~np.isnan(a)]\n",
    "    return c"
   ]
  },
  {
   "cell_type": "code",
   "execution_count": 39,
   "metadata": {},
   "outputs": [
    {
     "output_type": "stream",
     "name": "stdout",
     "text": [
      "(4620, 5, 12, 30)\n(4620, 30, 3)\n(4620, 30, 3)\ninput done 0.0299215\n"
     ]
    }
   ],
   "source": [
    "near_road = np.array(pd.read_csv('2small_network_nearest_road_id.csv',header = None))\n",
    "flow = np.array(pd.read_csv(r\"2small_network_speed.csv\", header= None)) #注意header=0 or None\n",
    "\n",
    "# 利用滑动窗口的方式，重构数据为(n，最近路段数，输入时间窗，总路段数)的形式\n",
    "\n",
    "time3 = time.time()\n",
    "\n",
    "k = 5 # 参数k为需考虑的最近路段数\n",
    "t_p = 29 # 参数t_p为总时间序列长度（天）\n",
    "t_input = 12 #参数t_input为输入时间窗(5min颗粒度)\n",
    "t_pre = 3 #参数t_pre为预测时间窗(5min颗粒度)\n",
    "num_links = 30 #参数num_links为总路段数\n",
    "\n",
    "\n",
    "image = []\n",
    "for i in range(np.shape(near_road)[0]):\n",
    "    road_id = []\n",
    "    for j in range(k):\n",
    "        road_id.append(near_road[i][j])\n",
    "    image.append(flow[road_id, :])\n",
    "image1 = np.reshape(image, [-1, k, len(flow[0,:])])\n",
    "image2 = np.transpose(image1,(1,2,0))\n",
    "image3 = []\n",
    "label = []\n",
    "day = []\n",
    "\n",
    "for i in range(1,t_p):\n",
    "    for j in range(180-t_input-t_pre):\n",
    "        image3.append(image2[:, i*180+j:i*180+j+t_input, :][:])\n",
    "        label.append(flow[:, i*180+j+t_input:i*180+j+t_input+t_pre][:])\n",
    "        day.append(flow[:, (i-1)*180+j+t_input:(i-1)*180+j+t_input+t_pre][:])\n",
    "\n",
    "image3 = np.asarray(image3)\n",
    "label = np.asarray(label)\n",
    "day =  np.asarray(day)\n",
    "\n",
    "print(np.shape(image3))\n",
    "print(np.shape(label))\n",
    "print(np.shape(day))\n",
    "\n",
    "#划分前80%数据为训练集，最后20%数据为测试集\n",
    "image_train_source = image3[:np.shape(image3)[0]*1//10]\n",
    "image_test_source = image3[np.shape(image3)[0]*1//10:]\n",
    "label_train_source = label[:np.shape(label)[0]*1//10]\n",
    "label_test_source = label[np.shape(label)[0]*1//10:]\n",
    "\n",
    "day_train_source = day[:np.shape(day)[0]*1//10]\n",
    "day_test_source = day[np.shape(day)[0]*1//10:]\n",
    "\n",
    "\n",
    "time4 = time.time()\n",
    "print('input done %g' % (time4-time3))"
   ]
  },
  {
   "cell_type": "code",
   "execution_count": 40,
   "metadata": {},
   "outputs": [
    {
     "output_type": "stream",
     "name": "stdout",
     "text": [
      "(4620, 5, 12, 30)\n(4620, 30, 3)\n(4620, 30, 3)\ninput done 0.0289218\n"
     ]
    }
   ],
   "source": [
    "near_road = np.array(pd.read_csv('small_network_nearest_road_id.csv',header = None))\n",
    "flow = np.array(pd.read_csv(r\"small_network_speed.csv\", header= None)) #注意header=0 or None\n",
    "# 利用滑动窗口的方式，重构数据为(n，最近路段数，输入时间窗，总路段数)的形式\n",
    "\n",
    "time3 = time.time()\n",
    "\n",
    "k = 5 # 参数k为需考虑的最近路段数\n",
    "t_p = 29 # 参数t_p为总时间序列长度（天）\n",
    "t_input = 12 #参数t_input为输入时间窗(5min颗粒度)\n",
    "t_pre = 3 #参数t_pre为预测时间窗(5min颗粒度)\n",
    "num_links = 30 #参数num_links为总路段数\n",
    "\n",
    "\n",
    "image = []\n",
    "for i in range(np.shape(near_road)[0]):\n",
    "    road_id = []\n",
    "    for j in range(k):\n",
    "        road_id.append(near_road[i][j])\n",
    "    image.append(flow[road_id, :])\n",
    "image1 = np.reshape(image, [-1, k, len(flow[0,:])])\n",
    "image2 = np.transpose(image1,(1,2,0))\n",
    "image3 = []\n",
    "label = []\n",
    "day = []\n",
    "\n",
    "for i in range(1,t_p):\n",
    "    for j in range(180-t_input-t_pre):\n",
    "        image3.append(image2[:, i*180+j:i*180+j+t_input, :][:])\n",
    "        label.append(flow[:, i*180+j+t_input:i*180+j+t_input+t_pre][:])\n",
    "        day.append(flow[:, (i-1)*180+j+t_input:(i-1)*180+j+t_input+t_pre][:])\n",
    "\n",
    "image3 = np.asarray(image3)\n",
    "label = np.asarray(label)\n",
    "day =  np.asarray(day)\n",
    "\n",
    "print(np.shape(image3))\n",
    "print(np.shape(label))\n",
    "print(np.shape(day))\n",
    "\n",
    "#划分前80%数据为训练集，最后20%数据为测试集\n",
    "image_train_target = image3[:np.shape(image3)[0]*1//10]\n",
    "image_test_target = image3[np.shape(image3)[0]*1//10:]\n",
    "label_train_target = label[:np.shape(label)[0]*1//10]\n",
    "label_test_target = label[np.shape(label)[0]*1//10:]\n",
    "\n",
    "day_train_target = day[:np.shape(day)[0]*1//10]\n",
    "day_test_target = day[np.shape(day)[0]*1//10:]\n",
    "\n",
    "\n",
    "time4 = time.time()\n",
    "print('input done %g' % (time4-time3))"
   ]
  },
  {
   "cell_type": "code",
   "execution_count": 7,
   "metadata": {
    "tags": [
     "outputPrepend"
    ]
   },
   "outputs": [
    {
     "output_type": "stream",
     "name": "stdout",
     "text": [
      "n\\Python37\\lib\\site-packages\\keras\\backend\\tensorflow_backend.py:74: The name tf.get_default_graph is deprecated. Please use tf.compat.v1.get_default_graph instead.\n",
      "\n",
      "WARNING:tensorflow:From C:\\Users\\ad4\\AppData\\Local\\Programs\\Python\\Python37\\lib\\site-packages\\keras\\backend\\tensorflow_backend.py:174: The name tf.get_default_session is deprecated. Please use tf.compat.v1.get_default_session instead.\n",
      "\n",
      "WARNING:tensorflow:From C:\\Users\\ad4\\AppData\\Local\\Programs\\Python\\Python37\\lib\\site-packages\\keras\\backend\\tensorflow_backend.py:181: The name tf.ConfigProto is deprecated. Please use tf.compat.v1.ConfigProto instead.\n",
      "\n",
      "WARNING:tensorflow:From C:\\Users\\ad4\\AppData\\Local\\Programs\\Python\\Python37\\lib\\site-packages\\keras\\backend\\tensorflow_backend.py:186: The name tf.Session is deprecated. Please use tf.compat.v1.Session instead.\n",
      "\n",
      "WARNING:tensorflow:From C:\\Users\\ad4\\AppData\\Local\\Programs\\Python\\Python37\\lib\\site-packages\\keras\\backend\\tensorflow_backend.py:1834: The name tf.nn.fused_batch_norm is deprecated. Please use tf.compat.v1.nn.fused_batch_norm instead.\n",
      "\n",
      "WARNING:tensorflow:From C:\\Users\\ad4\\AppData\\Local\\Programs\\Python\\Python37\\lib\\site-packages\\keras\\backend\\tensorflow_backend.py:3980: The name tf.nn.avg_pool is deprecated. Please use tf.nn.avg_pool2d instead.\n",
      "\n",
      "WARNING:tensorflow:From C:\\Users\\ad4\\AppData\\Local\\Programs\\Python\\Python37\\lib\\site-packages\\keras\\backend\\tensorflow_backend.py:3445: calling dropout (from tensorflow.python.ops.nn_ops) with keep_prob is deprecated and will be removed in a future version.\n",
      "Instructions for updating:\n",
      "Please use `rate` instead of `keep_prob`. Rate should be set to `rate = 1 - keep_prob`.\n",
      "__________________________________________________________________________________________________\n",
      "Layer (type)                    Output Shape         Param #     Connected to                     \n",
      "==================================================================================================\n",
      "input_data (InputLayer)         (None, 5, 12, 30)    0                                            \n",
      "__________________________________________________________________________________________________\n",
      "batch_normalization_1 (BatchNor (None, 5, 12, 30)    120         input_data[0][0]                 \n",
      "__________________________________________________________________________________________________\n",
      "conv2d_1 (Conv2D)               (None, 5, 12, 30)    8130        batch_normalization_1[0][0]      \n",
      "__________________________________________________________________________________________________\n",
      "average_pooling2d_1 (AveragePoo (None, 5, 12, 30)    0           conv2d_1[0][0]                   \n",
      "__________________________________________________________________________________________________\n",
      "batch_normalization_2 (BatchNor (None, 5, 12, 30)    120         average_pooling2d_1[0][0]        \n",
      "__________________________________________________________________________________________________\n",
      "conv2d_2 (Conv2D)               (None, 5, 12, 30)    8130        batch_normalization_2[0][0]      \n",
      "__________________________________________________________________________________________________\n",
      "average_pooling2d_2 (AveragePoo (None, 5, 12, 30)    0           conv2d_2[0][0]                   \n",
      "__________________________________________________________________________________________________\n",
      "flatten_1 (Flatten)             (None, 1800)         0           average_pooling2d_2[0][0]        \n",
      "__________________________________________________________________________________________________\n",
      "batch_normalization_3 (BatchNor (None, 1800)         7200        flatten_1[0][0]                  \n",
      "__________________________________________________________________________________________________\n",
      "dropout_1 (Dropout)             (None, 1800)         0           batch_normalization_3[0][0]      \n",
      "__________________________________________________________________________________________________\n",
      "dense_1 (Dense)                 (None, 90)           162090      dropout_1[0][0]                  \n",
      "__________________________________________________________________________________________________\n",
      "reshape_1 (Reshape)             (None, 30, 3)        0           dense_1[0][0]                    \n",
      "__________________________________________________________________________________________________\n",
      "input_HA (InputLayer)           (None, 30, 3)        0                                            \n",
      "__________________________________________________________________________________________________\n",
      "merge__layer_1 (Merge_Layer)    (None, 30, 3)        180         reshape_1[0][0]                  \n",
      "                                                                 input_HA[0][0]                   \n",
      "==================================================================================================\n",
      "Total params: 185,970\n",
      "Trainable params: 182,250\n",
      "Non-trainable params: 3,720\n",
      "__________________________________________________________________________________________________\n"
     ]
    }
   ],
   "source": [
    "#模型构建\n",
    "input_data = keras.Input(shape=(k,t_input,num_links), name='input_data')\n",
    "input_HA = keras.Input(shape=(num_links, t_pre), name='input_HA')\n",
    "\n",
    "x = keras.layers.BatchNormalization(input_shape =(k,t_input,num_links))(input_data)\n",
    "\n",
    "x = keras.layers.Conv2D(\n",
    "                           filters = 30,\n",
    "                           kernel_size = 3,\n",
    "                           strides = 1,\n",
    "                           padding=\"SAME\",\n",
    "                           activation='relu')(x)\n",
    "\n",
    "x = keras.layers.AveragePooling2D(pool_size = (2,2),\n",
    "                                strides = 1,\n",
    "                                padding = \"SAME\",\n",
    "                                )(x)\n",
    "\n",
    "x = keras.layers.BatchNormalization()(x)\n",
    "\n",
    "x = keras.layers.Conv2D(\n",
    "                       filters = 30,\n",
    "                       kernel_size = 3,\n",
    "                       strides = 1,\n",
    "                       padding=\"SAME\",\n",
    "                       activation='relu')(x)\n",
    "\n",
    "x = keras.layers.AveragePooling2D(pool_size = (2,2),\n",
    "                                strides = 1,\n",
    "                                padding = \"SAME\",\n",
    "                                )(x)\n",
    "x = keras.layers.Flatten()(x)\n",
    "x = keras.layers.BatchNormalization()(x)\n",
    "x = keras.layers.Dropout(0.5)(x)\n",
    "x = keras.layers.Dense(num_links*t_pre, activation='relu')(x)\n",
    "\n",
    "output = keras.layers.Reshape((num_links,t_pre))(x)\n",
    "\n",
    "output_final = Merge_Layer()([output, input_HA])\n",
    "\n",
    "# construct model\n",
    "finish_model = keras.models.Model([input_data,input_HA], [output_final])\n",
    "\n",
    "finish_model.summary()\n"
   ]
  },
  {
   "cell_type": "code",
   "execution_count": 8,
   "metadata": {},
   "outputs": [],
   "source": [
    "#参数加载\n",
    "finish_model.load_weights('source.h5')\n"
   ]
  },
  {
   "cell_type": "code",
   "execution_count": 18,
   "metadata": {},
   "outputs": [],
   "source": [
    "#模型预测\n",
    "model_pre = finish_model.predict([image_test,day_test])\n"
   ]
  },
  {
   "cell_type": "code",
   "execution_count": 19,
   "metadata": {},
   "outputs": [],
   "source": [
    "#预测结果存储\n",
    "# model_pre = np.reshape(model_pre,[103, 6])\n",
    "# model_pre1 = pd.DataFrame(model_pre)\n",
    "# model_pre1.to_csv('预测值.csv', index = False)"
   ]
  },
  {
   "cell_type": "code",
   "execution_count": 20,
   "metadata": {},
   "outputs": [
    {
     "output_type": "stream",
     "name": "stdout",
     "text": [
      "mape = 0.7964474115108172\nsmape = 1.343935013674002\nmae = 21.05578354714718\n"
     ]
    }
   ],
   "source": [
    "#transfer without FT 预测精度计算\n",
    "\n",
    "mape_mean = mape_loss_func(model_pre, label_test)\n",
    "smape_mean = smape_loss_func(model_pre, label_test)\n",
    "mae_mean = mae_loss_func(model_pre, label_test)\n",
    "\n",
    "print('mape = ' + str(mape_mean) + '\\n' + 'smape = ' + str(smape_mean) + '\\n' + 'mae = ' + str(mae_mean))"
   ]
  },
  {
   "cell_type": "code",
   "execution_count": 29,
   "metadata": {},
   "outputs": [],
   "source": [
    "\n",
    "middle = Model(inputs=[input_data, input_HA],outputs=finish_model.get_layer('dense_1').output)"
   ]
  },
  {
   "cell_type": "code",
   "execution_count": 41,
   "metadata": {},
   "outputs": [],
   "source": [
    "middle_result_source = middle.predict([image_train_source, day_train_source])\n",
    "middle_result_target = middle.predict([image_train_target, day_train_target])"
   ]
  },
  {
   "cell_type": "code",
   "execution_count": 46,
   "metadata": {},
   "outputs": [],
   "source": [
    "from sklearn import metrics\n",
    "def mmd (x, y):\n",
    "    return metrics.mean_squared_error(x,y)"
   ]
  },
  {
   "cell_type": "code",
   "execution_count": 47,
   "metadata": {},
   "outputs": [
    {
     "output_type": "execute_result",
     "data": {
      "text/plain": [
       "9859.165"
      ]
     },
     "metadata": {},
     "execution_count": 47
    }
   ],
   "source": [
    "mmd (middle_result_source, middle_result_target)"
   ]
  },
  {
   "cell_type": "code",
   "execution_count": null,
   "metadata": {},
   "outputs": [],
   "source": []
  },
  {
   "cell_type": "code",
   "execution_count": 50,
   "metadata": {},
   "outputs": [],
   "source": [
    "from keras import backend as K"
   ]
  },
  {
   "cell_type": "code",
   "execution_count": 51,
   "metadata": {},
   "outputs": [],
   "source": [
    "loss1 = K.mean(K.square(output_final - label_train_target), axis=-1) \n",
    "loss2 = 0.001 * mmd (middle_result_source, middle_result_target)\n",
    "overall_loss = loss1 + loss2"
   ]
  },
  {
   "cell_type": "code",
   "execution_count": 53,
   "metadata": {},
   "outputs": [],
   "source": [
    "def new_loss(output_final, label_train_target):\n",
    "    middle = Model(inputs=[input_data, input_HA],outputs=finish_model.get_layer('dense_1').output)\n",
    "    middle_result_source = middle.predict([image_train_source, day_train_source])\n",
    "    middle_result_target = middle.predict([image_train_target, day_train_target])\n",
    "\n",
    "    loss1 = K.mean(K.square(output_final - label_train_target), axis=-1) \n",
    "    loss2 = 0.001 * mmd (middle_result_source, middle_result_target)\n",
    "    overall_loss = loss1 + loss2\n",
    "    return overall_loss\n"
   ]
  },
  {
   "cell_type": "code",
   "execution_count": 54,
   "metadata": {},
   "outputs": [],
   "source": [
    "finish_model.compile(optimizer='adam',loss=new_loss)"
   ]
  },
  {
   "cell_type": "code",
   "execution_count": 64,
   "metadata": {
    "tags": [
     "outputPrepend"
    ]
   },
   "outputs": [
    {
     "output_type": "stream",
     "name": "stdout",
     "text": [
      "al_loss: 48.3029\n",
      "Epoch 54/100\n",
      "462/462 [==============================] - 0s 138us/step - loss: 30.2374 - val_loss: 48.3742\n",
      "Epoch 55/100\n",
      "462/462 [==============================] - 0s 142us/step - loss: 30.2183 - val_loss: 48.4435\n",
      "Epoch 56/100\n",
      "462/462 [==============================] - 0s 143us/step - loss: 30.2798 - val_loss: 48.5070\n",
      "Epoch 57/100\n",
      "462/462 [==============================] - 0s 143us/step - loss: 29.9690 - val_loss: 48.5410\n",
      "Epoch 58/100\n",
      "462/462 [==============================] - 0s 142us/step - loss: 29.9869 - val_loss: 48.5616\n",
      "Epoch 59/100\n",
      "462/462 [==============================] - 0s 143us/step - loss: 30.0396 - val_loss: 48.5686\n",
      "Epoch 60/100\n",
      "462/462 [==============================] - 0s 142us/step - loss: 30.0838 - val_loss: 48.5433\n",
      "Epoch 61/100\n",
      "462/462 [==============================] - 0s 144us/step - loss: 29.9392 - val_loss: 48.5133\n",
      "Epoch 62/100\n",
      "462/462 [==============================] - 0s 144us/step - loss: 29.8501 - val_loss: 48.4758\n",
      "Epoch 63/100\n",
      "462/462 [==============================] - 0s 142us/step - loss: 29.9483 - val_loss: 48.4528\n",
      "Epoch 64/100\n",
      "462/462 [==============================] - 0s 143us/step - loss: 29.8814 - val_loss: 48.4441\n",
      "Epoch 65/100\n",
      "462/462 [==============================] - 0s 143us/step - loss: 29.8353 - val_loss: 48.4365\n",
      "Epoch 66/100\n",
      "462/462 [==============================] - 0s 144us/step - loss: 29.7491 - val_loss: 48.4220\n",
      "Epoch 67/100\n",
      "462/462 [==============================] - 0s 142us/step - loss: 29.7036 - val_loss: 48.4378\n",
      "Epoch 68/100\n",
      "462/462 [==============================] - 0s 140us/step - loss: 29.6504 - val_loss: 48.4384\n",
      "Epoch 69/100\n",
      "462/462 [==============================] - 0s 142us/step - loss: 29.5056 - val_loss: 48.4370\n",
      "Epoch 70/100\n",
      "462/462 [==============================] - 0s 140us/step - loss: 29.6338 - val_loss: 48.4525\n",
      "Epoch 71/100\n",
      "462/462 [==============================] - 0s 138us/step - loss: 29.5161 - val_loss: 48.4691\n",
      "Epoch 72/100\n",
      "462/462 [==============================] - 0s 140us/step - loss: 29.3429 - val_loss: 48.4903\n",
      "Epoch 73/100\n",
      "462/462 [==============================] - 0s 140us/step - loss: 29.3754 - val_loss: 48.5204\n",
      "Epoch 74/100\n",
      "462/462 [==============================] - 0s 140us/step - loss: 29.4570 - val_loss: 48.5995\n",
      "Epoch 75/100\n",
      "462/462 [==============================] - 0s 142us/step - loss: 29.2648 - val_loss: 48.6547\n",
      "Epoch 76/100\n",
      "462/462 [==============================] - 0s 144us/step - loss: 29.3054 - val_loss: 48.7032\n",
      "Epoch 77/100\n",
      "462/462 [==============================] - 0s 139us/step - loss: 29.2960 - val_loss: 48.7670\n",
      "Epoch 78/100\n",
      "462/462 [==============================] - 0s 140us/step - loss: 29.2688 - val_loss: 48.8328\n",
      "Epoch 79/100\n",
      "462/462 [==============================] - 0s 139us/step - loss: 29.2397 - val_loss: 48.8467\n",
      "Epoch 80/100\n",
      "462/462 [==============================] - 0s 145us/step - loss: 29.2015 - val_loss: 48.8412\n",
      "Epoch 81/100\n",
      "462/462 [==============================] - 0s 143us/step - loss: 28.9723 - val_loss: 48.8213\n",
      "Epoch 82/100\n",
      "462/462 [==============================] - 0s 140us/step - loss: 29.1446 - val_loss: 48.7806\n",
      "Epoch 83/100\n",
      "462/462 [==============================] - 0s 142us/step - loss: 29.0596 - val_loss: 48.7752\n",
      "Epoch 84/100\n",
      "462/462 [==============================] - 0s 140us/step - loss: 29.0528 - val_loss: 48.8181\n",
      "Epoch 85/100\n",
      "462/462 [==============================] - 0s 138us/step - loss: 28.8612 - val_loss: 48.8675\n",
      "Epoch 86/100\n",
      "462/462 [==============================] - 0s 144us/step - loss: 29.0229 - val_loss: 48.9005\n",
      "Epoch 87/100\n",
      "462/462 [==============================] - 0s 141us/step - loss: 28.9353 - val_loss: 48.8941\n",
      "Epoch 88/100\n",
      "462/462 [==============================] - 0s 142us/step - loss: 28.7953 - val_loss: 48.9237\n",
      "Epoch 89/100\n",
      "462/462 [==============================] - 0s 140us/step - loss: 28.7921 - val_loss: 48.9393\n",
      "Epoch 90/100\n",
      "462/462 [==============================] - 0s 138us/step - loss: 28.9614 - val_loss: 48.9760\n",
      "Epoch 91/100\n",
      "462/462 [==============================] - 0s 140us/step - loss: 28.6770 - val_loss: 49.0136\n",
      "Epoch 92/100\n",
      "462/462 [==============================] - 0s 142us/step - loss: 28.5531 - val_loss: 49.0346\n",
      "Epoch 93/100\n",
      "462/462 [==============================] - 0s 142us/step - loss: 28.6969 - val_loss: 49.0472\n",
      "Epoch 94/100\n",
      "462/462 [==============================] - 0s 141us/step - loss: 28.7562 - val_loss: 49.0587\n",
      "Epoch 95/100\n",
      "462/462 [==============================] - 0s 140us/step - loss: 28.6423 - val_loss: 49.0565\n",
      "Epoch 96/100\n",
      "462/462 [==============================] - 0s 140us/step - loss: 28.5235 - val_loss: 49.0936\n",
      "Epoch 97/100\n",
      "462/462 [==============================] - 0s 140us/step - loss: 28.4566 - val_loss: 49.1356\n",
      "Epoch 98/100\n",
      "462/462 [==============================] - 0s 143us/step - loss: 28.6090 - val_loss: 49.1707\n",
      "Epoch 99/100\n",
      "462/462 [==============================] - 0s 140us/step - loss: 28.4866 - val_loss: 49.1900\n",
      "Epoch 100/100\n",
      "462/462 [==============================] - 0s 141us/step - loss: 28.6037 - val_loss: 49.2185\n"
     ]
    },
    {
     "output_type": "execute_result",
     "data": {
      "text/plain": [
       "<keras.callbacks.History at 0x21ffb8d7188>"
      ]
     },
     "metadata": {},
     "execution_count": 64
    }
   ],
   "source": [
    "finish_model.fit([image_train_target, day_train_target], label_train_target, epochs=100, batch_size=462,\n",
    "validation_data=([image_test_target,day_test_target], label_test_target))"
   ]
  },
  {
   "cell_type": "code",
   "execution_count": 65,
   "metadata": {},
   "outputs": [],
   "source": [
    "model_pre = finish_model.predict([image_test_target,day_test_target])"
   ]
  },
  {
   "cell_type": "code",
   "execution_count": 66,
   "metadata": {},
   "outputs": [
    {
     "output_type": "stream",
     "name": "stdout",
     "text": [
      "mape = 0.21396551677012662\nsmape = 0.18441804844797388\nmae = 4.60459914071357\n"
     ]
    }
   ],
   "source": [
    "#transfer with DAN 预测精度计算\n",
    "\n",
    "mape_mean = mape_loss_func(model_pre, label_test)\n",
    "smape_mean = smape_loss_func(model_pre, label_test)\n",
    "mae_mean = mae_loss_func(model_pre, label_test)\n",
    "\n",
    "print('mape = ' + str(mape_mean) + '\\n' + 'smape = ' + str(smape_mean) + '\\n' + 'mae = ' + str(mae_mean))"
   ]
  },
  {
   "cell_type": "code",
   "execution_count": 67,
   "metadata": {},
   "outputs": [
    {
     "output_type": "execute_result",
     "data": {
      "text/plain": [
       "25    0.079514\n",
       "0     0.092317\n",
       "1     0.096132\n",
       "7     0.102632\n",
       "8     0.118572\n",
       "17    0.119644\n",
       "6     0.131133\n",
       "20    0.131280\n",
       "15    0.134143\n",
       "3     0.136437\n",
       "14    0.139297\n",
       "12    0.156464\n",
       "5     0.159403\n",
       "2     0.174019\n",
       "21    0.183724\n",
       "10    0.184623\n",
       "19    0.193801\n",
       "28    0.210484\n",
       "11    0.224735\n",
       "9     0.225280\n",
       "18    0.261624\n",
       "13    0.303682\n",
       "27    0.319340\n",
       "24    0.334712\n",
       "29    0.335376\n",
       "23    0.350989\n",
       "26    0.359598\n",
       "4     0.365386\n",
       "16    0.379909\n",
       "22    0.415017\n",
       "dtype: float64"
      ]
     },
     "metadata": {},
     "execution_count": 67
    }
   ],
   "source": [
    "mape_list = []\n",
    "for i in range(num_links):\n",
    "    a1 = mape_loss_func(model_pre[:,i,:], label_test[:,i,:])\n",
    "    mape_list.append(a1)\n",
    "\n",
    "mape_pd = pd.Series(mape_list)\n",
    "mape_pd.sort_values()"
   ]
  },
  {
   "cell_type": "code",
   "execution_count": null,
   "metadata": {},
   "outputs": [],
   "source": []
  }
 ],
 "metadata": {
  "kernelspec": {
   "name": "python3",
   "display_name": "Python 3.7.9 64-bit"
  },
  "language_info": {
   "codemirror_mode": {
    "name": "ipython",
    "version": 3
   },
   "file_extension": ".py",
   "mimetype": "text/x-python",
   "name": "python",
   "nbconvert_exporter": "python",
   "pygments_lexer": "ipython3",
   "version": "3.7.9"
  },
  "interpreter": {
   "hash": "6b092d8890fbfc1935d95d43d0881a7b3742c06492f450993a24f5c2e6237594"
  }
 },
 "nbformat": 4,
 "nbformat_minor": 4
}