{
 "cells": [
  {
   "cell_type": "code",
   "execution_count": 1,
   "id": "68607ba3",
   "metadata": {},
   "outputs": [],
   "source": [
    "from numpy.lib.index_tricks import ndenumerate\n",
    "import pandas as pd\n",
    "import numpy as np\n",
    "import os"
   ]
  },
  {
   "cell_type": "code",
   "execution_count": 5,
   "id": "6a80152d",
   "metadata": {},
   "outputs": [],
   "source": [
    "model = 'stdnn'"
   ]
  },
  {
   "cell_type": "code",
   "execution_count": 6,
   "id": "21757e11",
   "metadata": {},
   "outputs": [],
   "source": [
    "mape_set = []\n",
    "smape_set = []\n",
    "nrmse_set = []\n",
    "mae_set = []\n",
    "\n",
    "folder_num = len(next(iter(os.walk('./'+model+'/')))[1])\n",
    "\n",
    "for i in range(folder_num):\n",
    "    path = './'+model+'/run'+str(i+1)+'/'\n",
    "    res = pd.read_csv(path+'res.csv', index_col=0)\n",
    "    mape_set.append(res.loc['value', 'mape'])\n",
    "    smape_set.append(res.loc['value', 'smape'])\n",
    "    nrmse_set.append(res.loc['value', 'nrmse'])\n",
    "    mae_set.append(res.loc['value', 'mae'])\n",
    "\n",
    "\n",
    "mape_set = np.array(mape_set)\n",
    "smape_set = np.array(smape_set)\n",
    "nrmse_set = np.array(nrmse_set)\n",
    "mae_set = np.array(mae_set)\n",
    "\n",
    "res_model = pd.DataFrame([[mape_set.mean(), smape_set.mean(), nrmse_set.mean(), mae_set.mean()],\\\n",
    "                               [mape_set.std(),  smape_set.std(),  nrmse_set.std(),  mae_set.std()]],\\\n",
    "                            columns=['mape', 'smape', 'nrmse', 'mae'], index=['mean', 'std'])\n",
    "res_model.to_csv('./'+model+'/res_'+model+'.csv')"
   ]
  },
  {
   "cell_type": "code",
   "execution_count": null,
   "id": "516c656e",
   "metadata": {},
   "outputs": [],
   "source": []
  }
 ],
 "metadata": {
  "kernelspec": {
   "display_name": "Python 3",
   "language": "python",
   "name": "python3"
  },
  "language_info": {
   "codemirror_mode": {
    "name": "ipython",
    "version": 3
   },
   "file_extension": ".py",
   "mimetype": "text/x-python",
   "name": "python",
   "nbconvert_exporter": "python",
   "pygments_lexer": "ipython3",
   "version": "3.8.8"
  }
 },
 "nbformat": 4,
 "nbformat_minor": 5
}
