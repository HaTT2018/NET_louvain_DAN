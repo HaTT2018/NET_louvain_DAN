{
 "cells": [
  {
   "cell_type": "code",
   "execution_count": 14,
   "metadata": {},
   "outputs": [],
   "source": [
    "import time\n",
    "import math\n",
    "import tensorflow as tf\n",
    "import keras \n",
    "import numpy as np\n",
    "import pandas as pd\n",
    "from keras.models import load_model,Model\n",
    "from keras.engine.topology import Layer"
   ]
  },
  {
   "cell_type": "code",
   "execution_count": 15,
   "metadata": {},
   "outputs": [],
   "source": [
    "# 定义融合层，将深度学习算法与历史均值算法融合\n",
    "class Merge_Layer(Layer):\n",
    "    def __init__(self, **kwargs):\n",
    "        super(Merge_Layer, self).__init__(**kwargs)\n",
    "\n",
    "    def build(self, input_shape):\n",
    "        self.para1 = self.add_weight(shape=(input_shape[0][1], input_shape[0][2]),\n",
    "                                     initializer='uniform', trainable=True,\n",
    "                                     name='para1')\n",
    "        self.para2 = self.add_weight(shape=(input_shape[1][1], input_shape[1][2]),\n",
    "                                     initializer='uniform', trainable=True,\n",
    "                                     name='para2')\n",
    "        super(Merge_Layer, self).build(input_shape)\n",
    "\n",
    "    def call(self, inputs):\n",
    "        mat1 = inputs[0]\n",
    "        mat2 = inputs[1]\n",
    "        output = mat1 * self.para1 + mat2 * self.para2\n",
    "        # output = mat1 * 0.1 + mat2 * 0.9\n",
    "        return output\n",
    "\n",
    "    def compute_output_shape(self, input_shape):\n",
    "        return input_shape[0]"
   ]
  },
  {
   "cell_type": "code",
   "execution_count": 16,
   "metadata": {},
   "outputs": [],
   "source": [
    "#定义精度评价指标。为防止0值附近相对误差过大而导致的异常，定义mask层。\n",
    "def mape_loss_func(preds, labels):\n",
    "    mask = labels > 5\n",
    "    return np.mean(np.fabs(labels[mask]-preds[mask])/labels[mask])\n",
    "\n",
    "def smape_loss_func(preds, labels):\n",
    "    mask= labels > 5\n",
    "    return np.mean(2*np.fabs(labels[mask]-preds[mask])/(np.fabs(labels[mask])+np.fabs(preds[mask])))\n",
    "\n",
    "def mae_loss_func(preds, labels):\n",
    "    mask= labels > 5\n",
    "    return np.fabs((labels[mask]-preds[mask])).mean()\n",
    "\n",
    "def eliminate_nan(b):\n",
    "    a = np.array(b)\n",
    "    c = a[~np.isnan(a)]\n",
    "    return c"
   ]
  },
  {
   "cell_type": "code",
   "execution_count": 17,
   "metadata": {},
   "outputs": [
    {
     "output_type": "stream",
     "name": "stdout",
     "text": [
      "(4620, 5, 12, 30)\n(4620, 30, 3)\n(4620, 30, 3)\ninput done 0.0319412\n"
     ]
    }
   ],
   "source": [
    "near_road = np.array(pd.read_csv('2small_network_nearest_road_id.csv',header = None))\n",
    "flow = np.array(pd.read_csv(r\"2small_network_speed.csv\", header= None)) #注意header=0 or None\n",
    "\n",
    "# 利用滑动窗口的方式，重构数据为(n，最近路段数，输入时间窗，总路段数)的形式\n",
    "\n",
    "time3 = time.time()\n",
    "\n",
    "k = 5 # 参数k为需考虑的最近路段数\n",
    "t_p = 29 # 参数t_p为总时间序列长度（天）\n",
    "t_input = 12 #参数t_input为输入时间窗(5min颗粒度)\n",
    "t_pre = 3 #参数t_pre为预测时间窗(5min颗粒度)\n",
    "num_links = 30 #参数num_links为总路段数\n",
    "\n",
    "\n",
    "image = []\n",
    "for i in range(np.shape(near_road)[0]):\n",
    "    road_id = []\n",
    "    for j in range(k):\n",
    "        road_id.append(near_road[i][j])\n",
    "    image.append(flow[road_id, :])\n",
    "image1 = np.reshape(image, [-1, k, len(flow[0,:])])\n",
    "image2 = np.transpose(image1,(1,2,0))\n",
    "image3 = []\n",
    "label = []\n",
    "day = []\n",
    "\n",
    "for i in range(1,t_p):\n",
    "    for j in range(180-t_input-t_pre):\n",
    "        image3.append(image2[:, i*180+j:i*180+j+t_input, :][:])\n",
    "        label.append(flow[:, i*180+j+t_input:i*180+j+t_input+t_pre][:])\n",
    "        day.append(flow[:, (i-1)*180+j+t_input:(i-1)*180+j+t_input+t_pre][:])\n",
    "\n",
    "image3 = np.asarray(image3)\n",
    "label = np.asarray(label)\n",
    "day =  np.asarray(day)\n",
    "\n",
    "print(np.shape(image3))\n",
    "print(np.shape(label))\n",
    "print(np.shape(day))\n",
    "\n",
    "#划分前80%数据为训练集，最后20%数据为测试集\n",
    "image_train_source = image3[:np.shape(image3)[0]*1//10]\n",
    "image_test_source = image3[np.shape(image3)[0]*1//10:]\n",
    "label_train_source = label[:np.shape(label)[0]*1//10]\n",
    "label_test_source = label[np.shape(label)[0]*1//10:]\n",
    "\n",
    "day_train_source = day[:np.shape(day)[0]*1//10]\n",
    "day_test_source = day[np.shape(day)[0]*1//10:]\n",
    "\n",
    "\n",
    "time4 = time.time()\n",
    "print('input done %g' % (time4-time3))"
   ]
  },
  {
   "cell_type": "code",
   "execution_count": 18,
   "metadata": {},
   "outputs": [
    {
     "output_type": "stream",
     "name": "stdout",
     "text": [
      "(4620, 5, 12, 30)\n(4620, 30, 3)\n(4620, 30, 3)\ninput done 0.0329137\n"
     ]
    }
   ],
   "source": [
    "near_road = np.array(pd.read_csv('small_network_nearest_road_id.csv',header = None))\n",
    "flow = np.array(pd.read_csv(r\"small_network_speed.csv\", header= None)) #注意header=0 or None\n",
    "# 利用滑动窗口的方式，重构数据为(n，最近路段数，输入时间窗，总路段数)的形式\n",
    "\n",
    "time3 = time.time()\n",
    "\n",
    "k = 5 # 参数k为需考虑的最近路段数\n",
    "t_p = 29 # 参数t_p为总时间序列长度（天）\n",
    "t_input = 12 #参数t_input为输入时间窗(5min颗粒度)\n",
    "t_pre = 3 #参数t_pre为预测时间窗(5min颗粒度)\n",
    "num_links = 30 #参数num_links为总路段数\n",
    "\n",
    "\n",
    "image = []\n",
    "for i in range(np.shape(near_road)[0]):\n",
    "    road_id = []\n",
    "    for j in range(k):\n",
    "        road_id.append(near_road[i][j])\n",
    "    image.append(flow[road_id, :])\n",
    "image1 = np.reshape(image, [-1, k, len(flow[0,:])])\n",
    "image2 = np.transpose(image1,(1,2,0))\n",
    "image3 = []\n",
    "label = []\n",
    "day = []\n",
    "\n",
    "for i in range(1,t_p):\n",
    "    for j in range(180-t_input-t_pre):\n",
    "        image3.append(image2[:, i*180+j:i*180+j+t_input, :][:])\n",
    "        label.append(flow[:, i*180+j+t_input:i*180+j+t_input+t_pre][:])\n",
    "        day.append(flow[:, (i-1)*180+j+t_input:(i-1)*180+j+t_input+t_pre][:])\n",
    "\n",
    "image3 = np.asarray(image3)\n",
    "label = np.asarray(label)\n",
    "day =  np.asarray(day)\n",
    "\n",
    "print(np.shape(image3))\n",
    "print(np.shape(label))\n",
    "print(np.shape(day))\n",
    "\n",
    "#划分前80%数据为训练集，最后20%数据为测试集\n",
    "image_train_target = image3[:np.shape(image3)[0]*1//10]\n",
    "image_test_target = image3[np.shape(image3)[0]*1//10:]\n",
    "label_train_target = label[:np.shape(label)[0]*1//10]\n",
    "label_test_target = label[np.shape(label)[0]*1//10:]\n",
    "\n",
    "day_train_target = day[:np.shape(day)[0]*1//10]\n",
    "day_test_target = day[np.shape(day)[0]*1//10:]\n",
    "\n",
    "\n",
    "time4 = time.time()\n",
    "print('input done %g' % (time4-time3))"
   ]
  },
  {
   "cell_type": "code",
   "execution_count": 19,
   "metadata": {
    "tags": []
   },
   "outputs": [
    {
     "output_type": "stream",
     "name": "stdout",
     "text": [
      "__________________________________________________________________________________________________\nLayer (type)                    Output Shape         Param #     Connected to                     \n==================================================================================================\ninput_data (InputLayer)         (None, 5, 12, 30)    0                                            \n__________________________________________________________________________________________________\nbatch_normalization_4 (BatchNor (None, 5, 12, 30)    120         input_data[0][0]                 \n__________________________________________________________________________________________________\nconv2d_3 (Conv2D)               (None, 5, 12, 30)    8130        batch_normalization_4[0][0]      \n__________________________________________________________________________________________________\naverage_pooling2d_3 (AveragePoo (None, 5, 12, 30)    0           conv2d_3[0][0]                   \n__________________________________________________________________________________________________\nbatch_normalization_5 (BatchNor (None, 5, 12, 30)    120         average_pooling2d_3[0][0]        \n__________________________________________________________________________________________________\nconv2d_4 (Conv2D)               (None, 5, 12, 30)    8130        batch_normalization_5[0][0]      \n__________________________________________________________________________________________________\naverage_pooling2d_4 (AveragePoo (None, 5, 12, 30)    0           conv2d_4[0][0]                   \n__________________________________________________________________________________________________\nflatten_2 (Flatten)             (None, 1800)         0           average_pooling2d_4[0][0]        \n__________________________________________________________________________________________________\nbatch_normalization_6 (BatchNor (None, 1800)         7200        flatten_2[0][0]                  \n__________________________________________________________________________________________________\ndropout_2 (Dropout)             (None, 1800)         0           batch_normalization_6[0][0]      \n__________________________________________________________________________________________________\ndense_2 (Dense)                 (None, 90)           162090      dropout_2[0][0]                  \n__________________________________________________________________________________________________\nreshape_2 (Reshape)             (None, 30, 3)        0           dense_2[0][0]                    \n__________________________________________________________________________________________________\ninput_HA (InputLayer)           (None, 30, 3)        0                                            \n__________________________________________________________________________________________________\nmerge__layer_2 (Merge_Layer)    (None, 30, 3)        180         reshape_2[0][0]                  \n                                                                 input_HA[0][0]                   \n==================================================================================================\nTotal params: 185,970\nTrainable params: 182,250\nNon-trainable params: 3,720\n__________________________________________________________________________________________________\n"
     ]
    }
   ],
   "source": [
    "#模型构建\n",
    "input_data = keras.Input(shape=(k,t_input,num_links), name='input_data')\n",
    "input_HA = keras.Input(shape=(num_links, t_pre), name='input_HA')\n",
    "\n",
    "x = keras.layers.BatchNormalization(input_shape =(k,t_input,num_links))(input_data)\n",
    "\n",
    "x = keras.layers.Conv2D(\n",
    "                           filters = 30,\n",
    "                           kernel_size = 3,\n",
    "                           strides = 1,\n",
    "                           padding=\"SAME\",\n",
    "                           activation='relu')(x)\n",
    "\n",
    "x = keras.layers.AveragePooling2D(pool_size = (2,2),\n",
    "                                strides = 1,\n",
    "                                padding = \"SAME\",\n",
    "                                )(x)\n",
    "\n",
    "x = keras.layers.BatchNormalization()(x)\n",
    "\n",
    "x = keras.layers.Conv2D(\n",
    "                       filters = 30,\n",
    "                       kernel_size = 3,\n",
    "                       strides = 1,\n",
    "                       padding=\"SAME\",\n",
    "                       activation='relu')(x)\n",
    "\n",
    "x = keras.layers.AveragePooling2D(pool_size = (2,2),\n",
    "                                strides = 1,\n",
    "                                padding = \"SAME\",\n",
    "                                )(x)\n",
    "x = keras.layers.Flatten()(x)\n",
    "x = keras.layers.BatchNormalization()(x)\n",
    "x = keras.layers.Dropout(0.5)(x)\n",
    "x = keras.layers.Dense(num_links*t_pre, activation='relu')(x)\n",
    "\n",
    "output = keras.layers.Reshape((num_links,t_pre))(x)\n",
    "\n",
    "output_final = Merge_Layer()([output, input_HA])\n",
    "\n",
    "# construct model\n",
    "finish_model = keras.models.Model([input_data,input_HA], [output_final])\n",
    "\n",
    "finish_model.summary()\n"
   ]
  },
  {
   "cell_type": "code",
   "execution_count": 20,
   "metadata": {},
   "outputs": [],
   "source": [
    "#参数加载\n",
    "finish_model.load_weights('source.h5')\n"
   ]
  },
  {
   "cell_type": "code",
   "execution_count": 21,
   "metadata": {},
   "outputs": [],
   "source": [
    "#模型预测\n",
    "model_pre = finish_model.predict([image_test_target,day_test_target])\n"
   ]
  },
  {
   "cell_type": "code",
   "execution_count": 22,
   "metadata": {},
   "outputs": [],
   "source": [
    "#预测结果存储\n",
    "# model_pre = np.reshape(model_pre,[103, 6])\n",
    "# model_pre1 = pd.DataFrame(model_pre)\n",
    "# model_pre1.to_csv('预测值.csv', index = False)"
   ]
  },
  {
   "cell_type": "code",
   "execution_count": 23,
   "metadata": {},
   "outputs": [
    {
     "output_type": "stream",
     "name": "stdout",
     "text": [
      "mape = 0.7780085205753506\nsmape = 1.3029564437137449\nmae = 20.7999441352137\n"
     ]
    }
   ],
   "source": [
    "#transfer without FT 预测精度计算\n",
    "\n",
    "mape_mean = mape_loss_func(model_pre, label_test_target)\n",
    "smape_mean = smape_loss_func(model_pre, label_test_target)\n",
    "mae_mean = mae_loss_func(model_pre, label_test_target)\n",
    "\n",
    "print('mape = ' + str(mape_mean) + '\\n' + 'smape = ' + str(smape_mean) + '\\n' + 'mae = ' + str(mae_mean))"
   ]
  },
  {
   "cell_type": "code",
   "execution_count": 24,
   "metadata": {},
   "outputs": [
    {
     "output_type": "error",
     "ename": "ValueError",
     "evalue": "No such layer: dense_1",
     "traceback": [
      "\u001b[1;31m---------------------------------------------------------------------------\u001b[0m",
      "\u001b[1;31mValueError\u001b[0m                                Traceback (most recent call last)",
      "\u001b[1;32m<ipython-input-24-35bafe84a320>\u001b[0m in \u001b[0;36m<module>\u001b[1;34m\u001b[0m\n\u001b[1;32m----> 1\u001b[1;33m \u001b[0mmiddle\u001b[0m \u001b[1;33m=\u001b[0m \u001b[0mModel\u001b[0m\u001b[1;33m(\u001b[0m\u001b[0minputs\u001b[0m\u001b[1;33m=\u001b[0m\u001b[1;33m[\u001b[0m\u001b[0minput_data\u001b[0m\u001b[1;33m,\u001b[0m \u001b[0minput_HA\u001b[0m\u001b[1;33m]\u001b[0m\u001b[1;33m,\u001b[0m\u001b[0moutputs\u001b[0m\u001b[1;33m=\u001b[0m\u001b[0mfinish_model\u001b[0m\u001b[1;33m.\u001b[0m\u001b[0mget_layer\u001b[0m\u001b[1;33m(\u001b[0m\u001b[1;34m'dense_1'\u001b[0m\u001b[1;33m)\u001b[0m\u001b[1;33m.\u001b[0m\u001b[0moutput\u001b[0m\u001b[1;33m)\u001b[0m\u001b[1;33m\u001b[0m\u001b[1;33m\u001b[0m\u001b[0m\n\u001b[0m",
      "\u001b[1;32m~\\AppData\\Local\\Programs\\Python\\Python37\\lib\\site-packages\\keras\\engine\\network.py\u001b[0m in \u001b[0;36mget_layer\u001b[1;34m(self, name, index)\u001b[0m\n\u001b[0;32m    356\u001b[0m                 \u001b[1;32mreturn\u001b[0m \u001b[0mlayer\u001b[0m\u001b[1;33m\u001b[0m\u001b[1;33m\u001b[0m\u001b[0m\n\u001b[0;32m    357\u001b[0m \u001b[1;33m\u001b[0m\u001b[0m\n\u001b[1;32m--> 358\u001b[1;33m         \u001b[1;32mraise\u001b[0m \u001b[0mValueError\u001b[0m\u001b[1;33m(\u001b[0m\u001b[1;34m'No such layer: '\u001b[0m \u001b[1;33m+\u001b[0m \u001b[0mname\u001b[0m\u001b[1;33m)\u001b[0m\u001b[1;33m\u001b[0m\u001b[1;33m\u001b[0m\u001b[0m\n\u001b[0m\u001b[0;32m    359\u001b[0m \u001b[1;33m\u001b[0m\u001b[0m\n\u001b[0;32m    360\u001b[0m     \u001b[1;33m@\u001b[0m\u001b[0mproperty\u001b[0m\u001b[1;33m\u001b[0m\u001b[1;33m\u001b[0m\u001b[0m\n",
      "\u001b[1;31mValueError\u001b[0m: No such layer: dense_1"
     ]
    }
   ],
   "source": [
    "\n",
    "middle = Model(inputs=[input_data, input_HA],outputs=finish_model.get_layer('dense_1').output)"
   ]
  },
  {
   "cell_type": "code",
   "execution_count": 12,
   "metadata": {},
   "outputs": [],
   "source": [
    "middle_result_source = middle.predict([image_train_source, day_train_source])\n",
    "middle_result_target = middle.predict([image_train_target, day_train_target])"
   ]
  },
  {
   "cell_type": "code",
   "execution_count": 13,
   "metadata": {},
   "outputs": [
    {
     "output_type": "error",
     "ename": "OSError",
     "evalue": "[WinError 127] 找不到指定的程序。 Error loading \"C:\\Users\\ad4\\AppData\\Local\\Programs\\Python\\Python37\\lib\\site-packages\\torch\\lib\\caffe2_detectron_ops_gpu.dll\" or one of its dependencies.",
     "traceback": [
      "\u001b[1;31m---------------------------------------------------------------------------\u001b[0m",
      "\u001b[1;31mOSError\u001b[0m                                   Traceback (most recent call last)",
      "\u001b[1;32m<ipython-input-13-4f1d32a1efae>\u001b[0m in \u001b[0;36m<module>\u001b[1;34m\u001b[0m\n\u001b[1;32m----> 1\u001b[1;33m \u001b[1;32mimport\u001b[0m \u001b[0mtorch\u001b[0m\u001b[1;33m\u001b[0m\u001b[1;33m\u001b[0m\u001b[0m\n\u001b[0m\u001b[0;32m      2\u001b[0m \u001b[1;33m\u001b[0m\u001b[0m\n\u001b[0;32m      3\u001b[0m \u001b[1;32mdef\u001b[0m \u001b[0mCORAL\u001b[0m\u001b[1;33m(\u001b[0m\u001b[0msource\u001b[0m\u001b[1;33m,\u001b[0m \u001b[0mtarget\u001b[0m\u001b[1;33m,\u001b[0m \u001b[1;33m**\u001b[0m\u001b[0mkwargs\u001b[0m\u001b[1;33m)\u001b[0m\u001b[1;33m:\u001b[0m\u001b[1;33m\u001b[0m\u001b[1;33m\u001b[0m\u001b[0m\n\u001b[0;32m      4\u001b[0m     \u001b[0md\u001b[0m \u001b[1;33m=\u001b[0m \u001b[0msource\u001b[0m\u001b[1;33m.\u001b[0m\u001b[0mdata\u001b[0m\u001b[1;33m.\u001b[0m\u001b[0mshape\u001b[0m\u001b[1;33m[\u001b[0m\u001b[1;36m1\u001b[0m\u001b[1;33m]\u001b[0m\u001b[1;33m\u001b[0m\u001b[1;33m\u001b[0m\u001b[0m\n\u001b[0;32m      5\u001b[0m     \u001b[0mns\u001b[0m\u001b[1;33m,\u001b[0m \u001b[0mnt\u001b[0m \u001b[1;33m=\u001b[0m \u001b[0msource\u001b[0m\u001b[1;33m.\u001b[0m\u001b[0mdata\u001b[0m\u001b[1;33m.\u001b[0m\u001b[0mshape\u001b[0m\u001b[1;33m[\u001b[0m\u001b[1;36m0\u001b[0m\u001b[1;33m]\u001b[0m\u001b[1;33m,\u001b[0m \u001b[0mtarget\u001b[0m\u001b[1;33m.\u001b[0m\u001b[0mdata\u001b[0m\u001b[1;33m.\u001b[0m\u001b[0mshape\u001b[0m\u001b[1;33m[\u001b[0m\u001b[1;36m0\u001b[0m\u001b[1;33m]\u001b[0m\u001b[1;33m\u001b[0m\u001b[1;33m\u001b[0m\u001b[0m\n",
      "\u001b[1;32m~\\AppData\\Local\\Programs\\Python\\Python37\\lib\\site-packages\\torch\\__init__.py\u001b[0m in \u001b[0;36m<module>\u001b[1;34m\u001b[0m\n\u001b[0;32m    122\u001b[0m                 \u001b[0merr\u001b[0m \u001b[1;33m=\u001b[0m \u001b[0mctypes\u001b[0m\u001b[1;33m.\u001b[0m\u001b[0mWinError\u001b[0m\u001b[1;33m(\u001b[0m\u001b[0mlast_error\u001b[0m\u001b[1;33m)\u001b[0m\u001b[1;33m\u001b[0m\u001b[1;33m\u001b[0m\u001b[0m\n\u001b[0;32m    123\u001b[0m                 \u001b[0merr\u001b[0m\u001b[1;33m.\u001b[0m\u001b[0mstrerror\u001b[0m \u001b[1;33m+=\u001b[0m \u001b[1;34mf' Error loading \"{dll}\" or one of its dependencies.'\u001b[0m\u001b[1;33m\u001b[0m\u001b[1;33m\u001b[0m\u001b[0m\n\u001b[1;32m--> 124\u001b[1;33m                 \u001b[1;32mraise\u001b[0m \u001b[0merr\u001b[0m\u001b[1;33m\u001b[0m\u001b[1;33m\u001b[0m\u001b[0m\n\u001b[0m\u001b[0;32m    125\u001b[0m             \u001b[1;32melif\u001b[0m \u001b[0mres\u001b[0m \u001b[1;32mis\u001b[0m \u001b[1;32mnot\u001b[0m \u001b[1;32mNone\u001b[0m\u001b[1;33m:\u001b[0m\u001b[1;33m\u001b[0m\u001b[1;33m\u001b[0m\u001b[0m\n\u001b[0;32m    126\u001b[0m                 \u001b[0mis_loaded\u001b[0m \u001b[1;33m=\u001b[0m \u001b[1;32mTrue\u001b[0m\u001b[1;33m\u001b[0m\u001b[1;33m\u001b[0m\u001b[0m\n",
      "\u001b[1;31mOSError\u001b[0m: [WinError 127] 找不到指定的程序。 Error loading \"C:\\Users\\ad4\\AppData\\Local\\Programs\\Python\\Python37\\lib\\site-packages\\torch\\lib\\caffe2_detectron_ops_gpu.dll\" or one of its dependencies."
     ]
    }
   ],
   "source": [
    "  \n",
    "import torch\n",
    "\n",
    "def CORAL(source, target, **kwargs):\n",
    "    d = source.data.shape[1]\n",
    "    ns, nt = source.data.shape[0], target.data.shape[0]\n",
    "    # source covariance\n",
    "    xm = torch.mean(source, 0, keepdim=True) - source\n",
    "    xc = xm.t() @ xm / (ns - 1)\n",
    "\n",
    "    # target covariance\n",
    "    xmt = torch.mean(target, 0, keepdim=True) - target\n",
    "    xct = xmt.t() @ xmt / (nt - 1)\n",
    "\n",
    "    # frobenius norm between source and target\n",
    "    loss = torch.mul((xc - xct), (xc - xct))\n",
    "    loss = torch.sum(loss) / (4*d*d)\n",
    "    return loss.numpy()"
   ]
  },
  {
   "cell_type": "code",
   "execution_count": null,
   "metadata": {},
   "outputs": [],
   "source": []
  },
  {
   "cell_type": "code",
   "execution_count": 69,
   "metadata": {},
   "outputs": [
    {
     "output_type": "execute_result",
     "data": {
      "text/plain": [
       "array(1477.2236, dtype=float32)"
      ]
     },
     "metadata": {},
     "execution_count": 69
    }
   ],
   "source": [
    "CORAL (torch.from_numpy(middle_result_source), torch.from_numpy(middle_result_target))"
   ]
  },
  {
   "cell_type": "code",
   "execution_count": null,
   "metadata": {},
   "outputs": [],
   "source": []
  },
  {
   "cell_type": "code",
   "execution_count": 70,
   "metadata": {},
   "outputs": [],
   "source": [
    "from keras import backend as K"
   ]
  },
  {
   "cell_type": "code",
   "execution_count": 71,
   "metadata": {},
   "outputs": [],
   "source": [
    "loss1 = K.mean(K.square(output_final - label_train_target), axis=-1) \n",
    "loss2 = 0.001 * CORAL (torch.from_numpy(middle_result_source), torch.from_numpy(middle_result_target))\n",
    "overall_loss = loss1 + loss2"
   ]
  },
  {
   "cell_type": "code",
   "execution_count": 96,
   "metadata": {},
   "outputs": [],
   "source": [
    "def new_loss(output_final, label_train_target):\n",
    "    middle = Model(inputs=[input_data, input_HA],outputs=finish_model.get_layer('dense_1').output)\n",
    "    middle_result_source = middle.predict([image_train_source, day_train_source])\n",
    "    middle_result_target = middle.predict([image_train_target, day_train_target])\n",
    "\n",
    "    loss1 = K.mean(K.square(output_final - label_train_target), axis=-1) \n",
    "    loss2 = 0.05 * CORAL (torch.from_numpy(middle_result_source), torch.from_numpy(middle_result_target))\n",
    "    overall_loss = loss1 + loss2\n",
    "    return overall_loss\n"
   ]
  },
  {
   "cell_type": "code",
   "execution_count": 97,
   "metadata": {},
   "outputs": [],
   "source": [
    "finish_model.compile(optimizer='adam',loss=new_loss)"
   ]
  },
  {
   "cell_type": "code",
   "execution_count": 98,
   "metadata": {
    "tags": [
     "outputPrepend"
    ]
   },
   "outputs": [
    {
     "output_type": "stream",
     "name": "stdout",
     "text": [
      "2435\n",
      "Epoch 156/200\n",
      "462/462 [==============================] - 0s 148us/step - loss: 1295.4833 - val_loss: 1347.4073\n",
      "Epoch 157/200\n",
      "462/462 [==============================] - 0s 147us/step - loss: 1295.4275 - val_loss: 1347.4386\n",
      "Epoch 158/200\n",
      "462/462 [==============================] - 0s 147us/step - loss: 1295.7643 - val_loss: 1347.3872\n",
      "Epoch 159/200\n",
      "462/462 [==============================] - 0s 145us/step - loss: 1295.6195 - val_loss: 1347.3070\n",
      "Epoch 160/200\n",
      "462/462 [==============================] - 0s 147us/step - loss: 1295.7053 - val_loss: 1347.2572\n",
      "Epoch 161/200\n",
      "462/462 [==============================] - 0s 145us/step - loss: 1295.3710 - val_loss: 1347.3141\n",
      "Epoch 162/200\n",
      "462/462 [==============================] - 0s 144us/step - loss: 1295.5293 - val_loss: 1347.6322\n",
      "Epoch 163/200\n",
      "462/462 [==============================] - 0s 146us/step - loss: 1295.7679 - val_loss: 1348.1369\n",
      "Epoch 164/200\n",
      "462/462 [==============================] - 0s 146us/step - loss: 1295.5667 - val_loss: 1348.4113\n",
      "Epoch 165/200\n",
      "462/462 [==============================] - 0s 147us/step - loss: 1295.4078 - val_loss: 1348.5869\n",
      "Epoch 166/200\n",
      "462/462 [==============================] - 0s 145us/step - loss: 1295.6061 - val_loss: 1348.5077\n",
      "Epoch 167/200\n",
      "462/462 [==============================] - 0s 150us/step - loss: 1295.4845 - val_loss: 1348.4339\n",
      "Epoch 168/200\n",
      "462/462 [==============================] - 0s 147us/step - loss: 1295.6416 - val_loss: 1348.3930\n",
      "Epoch 169/200\n",
      "462/462 [==============================] - 0s 149us/step - loss: 1295.6375 - val_loss: 1348.2920\n",
      "Epoch 170/200\n",
      "462/462 [==============================] - 0s 147us/step - loss: 1295.5896 - val_loss: 1348.1413\n",
      "Epoch 171/200\n",
      "462/462 [==============================] - 0s 147us/step - loss: 1295.4490 - val_loss: 1347.9741\n",
      "Epoch 172/200\n",
      "462/462 [==============================] - 0s 147us/step - loss: 1295.5389 - val_loss: 1348.0104\n",
      "Epoch 173/200\n",
      "462/462 [==============================] - 0s 145us/step - loss: 1295.2458 - val_loss: 1348.2480\n",
      "Epoch 174/200\n",
      "462/462 [==============================] - 0s 145us/step - loss: 1295.5833 - val_loss: 1348.5825\n",
      "Epoch 175/200\n",
      "462/462 [==============================] - 0s 146us/step - loss: 1295.7341 - val_loss: 1348.6594\n",
      "Epoch 176/200\n",
      "462/462 [==============================] - 0s 145us/step - loss: 1295.5377 - val_loss: 1348.6203\n",
      "Epoch 177/200\n",
      "462/462 [==============================] - 0s 144us/step - loss: 1295.5510 - val_loss: 1348.3195\n",
      "Epoch 178/200\n",
      "462/462 [==============================] - 0s 149us/step - loss: 1295.3575 - val_loss: 1347.8652\n",
      "Epoch 179/200\n",
      "462/462 [==============================] - 0s 150us/step - loss: 1295.3712 - val_loss: 1347.4993\n",
      "Epoch 180/200\n",
      "462/462 [==============================] - 0s 147us/step - loss: 1295.4603 - val_loss: 1347.3144\n",
      "Epoch 181/200\n",
      "462/462 [==============================] - 0s 146us/step - loss: 1295.3485 - val_loss: 1347.3675\n",
      "Epoch 182/200\n",
      "462/462 [==============================] - 0s 144us/step - loss: 1295.5027 - val_loss: 1347.4384\n",
      "Epoch 183/200\n",
      "462/462 [==============================] - 0s 151us/step - loss: 1295.6040 - val_loss: 1347.5564\n",
      "Epoch 184/200\n",
      "462/462 [==============================] - 0s 146us/step - loss: 1295.5040 - val_loss: 1347.7990\n",
      "Epoch 185/200\n",
      "462/462 [==============================] - 0s 147us/step - loss: 1295.3773 - val_loss: 1348.1813\n",
      "Epoch 186/200\n",
      "462/462 [==============================] - 0s 149us/step - loss: 1295.7816 - val_loss: 1348.6391\n",
      "Epoch 187/200\n",
      "462/462 [==============================] - 0s 150us/step - loss: 1295.6560 - val_loss: 1348.7539\n",
      "Epoch 188/200\n",
      "462/462 [==============================] - 0s 148us/step - loss: 1295.4451 - val_loss: 1348.8038\n",
      "Epoch 189/200\n",
      "462/462 [==============================] - 0s 148us/step - loss: 1295.4489 - val_loss: 1348.8014\n",
      "Epoch 190/200\n",
      "462/462 [==============================] - 0s 148us/step - loss: 1295.4520 - val_loss: 1348.4973\n",
      "Epoch 191/200\n",
      "462/462 [==============================] - 0s 149us/step - loss: 1295.7042 - val_loss: 1348.3601\n",
      "Epoch 192/200\n",
      "462/462 [==============================] - 0s 149us/step - loss: 1295.4342 - val_loss: 1348.4416\n",
      "Epoch 193/200\n",
      "462/462 [==============================] - 0s 151us/step - loss: 1295.6764 - val_loss: 1348.3649\n",
      "Epoch 194/200\n",
      "462/462 [==============================] - 0s 146us/step - loss: 1295.4763 - val_loss: 1348.3282\n",
      "Epoch 195/200\n",
      "462/462 [==============================] - 0s 147us/step - loss: 1295.3920 - val_loss: 1348.2591\n",
      "Epoch 196/200\n",
      "462/462 [==============================] - 0s 149us/step - loss: 1295.3685 - val_loss: 1348.0393\n",
      "Epoch 197/200\n",
      "462/462 [==============================] - 0s 149us/step - loss: 1295.4972 - val_loss: 1347.7961\n",
      "Epoch 198/200\n",
      "462/462 [==============================] - 0s 147us/step - loss: 1295.5049 - val_loss: 1347.6652\n",
      "Epoch 199/200\n",
      "462/462 [==============================] - 0s 145us/step - loss: 1295.4312 - val_loss: 1347.7386\n",
      "Epoch 200/200\n",
      "462/462 [==============================] - 0s 149us/step - loss: 1295.3885 - val_loss: 1347.8689\n"
     ]
    },
    {
     "output_type": "execute_result",
     "data": {
      "text/plain": [
       "<keras.callbacks.History at 0x1dae52f5148>"
      ]
     },
     "metadata": {},
     "execution_count": 98
    }
   ],
   "source": [
    "finish_model.fit([image_train_target, day_train_target], label_train_target, epochs=200, batch_size=462,\n",
    "validation_data=([image_test_target,day_test_target], label_test_target))"
   ]
  },
  {
   "cell_type": "code",
   "execution_count": 99,
   "metadata": {},
   "outputs": [],
   "source": [
    "model_pre = finish_model.predict([image_test_target,day_test_target])"
   ]
  },
  {
   "cell_type": "code",
   "execution_count": 100,
   "metadata": {},
   "outputs": [
    {
     "output_type": "stream",
     "name": "stdout",
     "text": [
      "mape = 0.25578248666602604\nsmape = 0.23014463067407498\nmae = 5.700419339360104\n"
     ]
    }
   ],
   "source": [
    "#transfer with DAN 预测精度计算\n",
    "\n",
    "mape_mean = mape_loss_func(model_pre, label_test_target)\n",
    "smape_mean = smape_loss_func(model_pre, label_test_target)\n",
    "mae_mean = mae_loss_func(model_pre, label_test_target)\n",
    "\n",
    "print('mape = ' + str(mape_mean) + '\\n' + 'smape = ' + str(smape_mean) + '\\n' + 'mae = ' + str(mae_mean))"
   ]
  },
  {
   "cell_type": "code",
   "execution_count": 44,
   "metadata": {},
   "outputs": [
    {
     "output_type": "execute_result",
     "data": {
      "text/plain": [
       "25    0.080393\n",
       "0     0.091972\n",
       "1     0.097362\n",
       "7     0.101746\n",
       "8     0.119456\n",
       "17    0.121159\n",
       "20    0.131436\n",
       "6     0.131801\n",
       "15    0.135690\n",
       "3     0.138269\n",
       "14    0.139419\n",
       "12    0.156367\n",
       "5     0.157407\n",
       "2     0.172393\n",
       "10    0.185532\n",
       "21    0.186390\n",
       "19    0.194352\n",
       "28    0.214766\n",
       "9     0.225588\n",
       "11    0.230525\n",
       "18    0.264293\n",
       "13    0.304826\n",
       "27    0.320274\n",
       "29    0.334921\n",
       "24    0.336816\n",
       "23    0.353137\n",
       "26    0.361229\n",
       "4     0.367652\n",
       "16    0.381255\n",
       "22    0.415636\n",
       "dtype: float64"
      ]
     },
     "metadata": {},
     "execution_count": 44
    }
   ],
   "source": [
    "mape_list = []\n",
    "for i in range(num_links):\n",
    "    a1 = mape_loss_func(model_pre[:,i,:], label_test_target[:,i,:])\n",
    "    mape_list.append(a1)\n",
    "\n",
    "mape_pd = pd.Series(mape_list)\n",
    "mape_pd.sort_values()"
   ]
  },
  {
   "cell_type": "code",
   "execution_count": null,
   "metadata": {},
   "outputs": [],
   "source": []
  }
 ],
 "metadata": {
  "kernelspec": {
   "name": "python3",
   "display_name": "Python 3.7.9 64-bit"
  },
  "language_info": {
   "codemirror_mode": {
    "name": "ipython",
    "version": 3
   },
   "file_extension": ".py",
   "mimetype": "text/x-python",
   "name": "python",
   "nbconvert_exporter": "python",
   "pygments_lexer": "ipython3",
   "version": "3.7.9"
  },
  "interpreter": {
   "hash": "6b092d8890fbfc1935d95d43d0881a7b3742c06492f450993a24f5c2e6237594"
  }
 },
 "nbformat": 4,
 "nbformat_minor": 4
}