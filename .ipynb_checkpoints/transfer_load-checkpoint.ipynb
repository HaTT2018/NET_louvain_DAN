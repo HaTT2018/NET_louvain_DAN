{
 "cells": [
  {
   "cell_type": "markdown",
   "metadata": {},
   "source": [
    "# to do：\n",
    "- 回顾之前写的划分MDF的notebook，添加定量分析的函数。\n",
    "- 选出数据，喂到这个notebook里\n",
    "- 寻找reinforcement learning用于CAV的算法"
   ]
  },
  {
   "cell_type": "code",
   "execution_count": 1,
   "metadata": {},
   "outputs": [
    {
     "name": "stderr",
     "output_type": "stream",
     "text": [
      "C:\\ProgramData\\Anaconda3\\lib\\site-packages\\tensorflow\\python\\framework\\dtypes.py:516: FutureWarning: Passing (type, 1) or '1type' as a synonym of type is deprecated; in a future version of numpy, it will be understood as (type, (1,)) / '(1,)type'.\n",
      "  _np_qint8 = np.dtype([(\"qint8\", np.int8, 1)])\n",
      "C:\\ProgramData\\Anaconda3\\lib\\site-packages\\tensorflow\\python\\framework\\dtypes.py:517: FutureWarning: Passing (type, 1) or '1type' as a synonym of type is deprecated; in a future version of numpy, it will be understood as (type, (1,)) / '(1,)type'.\n",
      "  _np_quint8 = np.dtype([(\"quint8\", np.uint8, 1)])\n",
      "C:\\ProgramData\\Anaconda3\\lib\\site-packages\\tensorflow\\python\\framework\\dtypes.py:518: FutureWarning: Passing (type, 1) or '1type' as a synonym of type is deprecated; in a future version of numpy, it will be understood as (type, (1,)) / '(1,)type'.\n",
      "  _np_qint16 = np.dtype([(\"qint16\", np.int16, 1)])\n",
      "C:\\ProgramData\\Anaconda3\\lib\\site-packages\\tensorflow\\python\\framework\\dtypes.py:519: FutureWarning: Passing (type, 1) or '1type' as a synonym of type is deprecated; in a future version of numpy, it will be understood as (type, (1,)) / '(1,)type'.\n",
      "  _np_quint16 = np.dtype([(\"quint16\", np.uint16, 1)])\n",
      "C:\\ProgramData\\Anaconda3\\lib\\site-packages\\tensorflow\\python\\framework\\dtypes.py:520: FutureWarning: Passing (type, 1) or '1type' as a synonym of type is deprecated; in a future version of numpy, it will be understood as (type, (1,)) / '(1,)type'.\n",
      "  _np_qint32 = np.dtype([(\"qint32\", np.int32, 1)])\n",
      "C:\\ProgramData\\Anaconda3\\lib\\site-packages\\tensorflow\\python\\framework\\dtypes.py:525: FutureWarning: Passing (type, 1) or '1type' as a synonym of type is deprecated; in a future version of numpy, it will be understood as (type, (1,)) / '(1,)type'.\n",
      "  np_resource = np.dtype([(\"resource\", np.ubyte, 1)])\n",
      "C:\\ProgramData\\Anaconda3\\lib\\site-packages\\tensorboard\\compat\\tensorflow_stub\\dtypes.py:541: FutureWarning: Passing (type, 1) or '1type' as a synonym of type is deprecated; in a future version of numpy, it will be understood as (type, (1,)) / '(1,)type'.\n",
      "  _np_qint8 = np.dtype([(\"qint8\", np.int8, 1)])\n",
      "C:\\ProgramData\\Anaconda3\\lib\\site-packages\\tensorboard\\compat\\tensorflow_stub\\dtypes.py:542: FutureWarning: Passing (type, 1) or '1type' as a synonym of type is deprecated; in a future version of numpy, it will be understood as (type, (1,)) / '(1,)type'.\n",
      "  _np_quint8 = np.dtype([(\"quint8\", np.uint8, 1)])\n",
      "C:\\ProgramData\\Anaconda3\\lib\\site-packages\\tensorboard\\compat\\tensorflow_stub\\dtypes.py:543: FutureWarning: Passing (type, 1) or '1type' as a synonym of type is deprecated; in a future version of numpy, it will be understood as (type, (1,)) / '(1,)type'.\n",
      "  _np_qint16 = np.dtype([(\"qint16\", np.int16, 1)])\n",
      "C:\\ProgramData\\Anaconda3\\lib\\site-packages\\tensorboard\\compat\\tensorflow_stub\\dtypes.py:544: FutureWarning: Passing (type, 1) or '1type' as a synonym of type is deprecated; in a future version of numpy, it will be understood as (type, (1,)) / '(1,)type'.\n",
      "  _np_quint16 = np.dtype([(\"quint16\", np.uint16, 1)])\n",
      "C:\\ProgramData\\Anaconda3\\lib\\site-packages\\tensorboard\\compat\\tensorflow_stub\\dtypes.py:545: FutureWarning: Passing (type, 1) or '1type' as a synonym of type is deprecated; in a future version of numpy, it will be understood as (type, (1,)) / '(1,)type'.\n",
      "  _np_qint32 = np.dtype([(\"qint32\", np.int32, 1)])\n",
      "C:\\ProgramData\\Anaconda3\\lib\\site-packages\\tensorboard\\compat\\tensorflow_stub\\dtypes.py:550: FutureWarning: Passing (type, 1) or '1type' as a synonym of type is deprecated; in a future version of numpy, it will be understood as (type, (1,)) / '(1,)type'.\n",
      "  np_resource = np.dtype([(\"resource\", np.ubyte, 1)])\n",
      "Using TensorFlow backend.\n"
     ]
    }
   ],
   "source": [
    "import time\n",
    "import math\n",
    "import tensorflow as tf\n",
    "import keras \n",
    "import numpy as np\n",
    "import pandas as pd\n",
    "from keras.models import load_model,Model\n",
    "from keras.engine.topology import Layer"
   ]
  },
  {
   "cell_type": "code",
   "execution_count": 2,
   "metadata": {},
   "outputs": [],
   "source": [
    "# 定义融合层，将深度学习算法与历史均值算法融合\n",
    "class Merge_Layer(Layer):\n",
    "    def __init__(self, **kwargs):\n",
    "        super(Merge_Layer, self).__init__(**kwargs)\n",
    "\n",
    "    def build(self, input_shape):\n",
    "        self.para1 = self.add_weight(shape=(input_shape[0][1], input_shape[0][2]),\n",
    "                                     initializer='uniform', trainable=True,\n",
    "                                     name='para1')\n",
    "        self.para2 = self.add_weight(shape=(input_shape[1][1], input_shape[1][2]),\n",
    "                                     initializer='uniform', trainable=True,\n",
    "                                     name='para2')\n",
    "        super(Merge_Layer, self).build(input_shape)\n",
    "\n",
    "    def call(self, inputs):\n",
    "        mat1 = inputs[0]\n",
    "        mat2 = inputs[1]\n",
    "        output = mat1 * self.para1 + mat2 * self.para2\n",
    "        # output = mat1 * 0.1 + mat2 * 0.9\n",
    "        return output\n",
    "\n",
    "    def compute_output_shape(self, input_shape):\n",
    "        return input_shape[0]"
   ]
  },
  {
   "cell_type": "code",
   "execution_count": 3,
   "metadata": {},
   "outputs": [],
   "source": [
    "#定义精度评价指标。为防止0值附近相对误差过大而导致的异常，定义mask层。\n",
    "def mape_loss_func(preds, labels):\n",
    "    mask = labels > 5\n",
    "    return np.mean(np.fabs(labels[mask]-preds[mask])/labels[mask])\n",
    "\n",
    "def smape_loss_func(preds, labels):\n",
    "    mask= labels > 5\n",
    "    return np.mean(2*np.fabs(labels[mask]-preds[mask])/(np.fabs(labels[mask])+np.fabs(preds[mask])))\n",
    "\n",
    "def mae_loss_func(preds, labels):\n",
    "    mask= labels > 5\n",
    "    return np.fabs((labels[mask]-preds[mask])).mean()\n",
    "\n",
    "def eliminate_nan(b):\n",
    "    a = np.array(b)\n",
    "    c = a[~np.isnan(a)]\n",
    "    return c"
   ]
  },
  {
   "cell_type": "code",
   "execution_count": 8,
   "metadata": {},
   "outputs": [
    {
     "name": "stdout",
     "output_type": "stream",
     "text": [
      "(4620, 5, 12, 30)\n",
      "(4620, 30, 3)\n",
      "(4620, 30, 3)\n",
      "input done 0.0458782\n"
     ]
    }
   ],
   "source": [
    "near_road = np.array(pd.read_csv('./data/network/2small_network_nearest_road_id.csv',header = 0))\n",
    "flow = np.array(pd.read_csv('./data/network/2small_network_speed.csv', header= 0)) #注意header=0 or None\n",
    "\n",
    "# 利用滑动窗口的方式，重构数据为(n，最近路段数，输入时间窗，总路段数)的形式\n",
    "\n",
    "time3 = time.time()\n",
    "\n",
    "k = 5 # 参数k为需考虑的最近路段数\n",
    "t_p = 29 # 参数t_p为总时间序列长度（天）\n",
    "t_input = 12 #参数t_input为输入时间窗(5min颗粒度)\n",
    "t_pre = 3 #参数t_pre为预测时间窗(5min颗粒度)\n",
    "num_links = 30 #参数num_links为总路段数\n",
    "\n",
    "\n",
    "image = []\n",
    "for i in range(np.shape(near_road)[0]):\n",
    "    road_id = []\n",
    "    for j in range(k):\n",
    "        road_id.append(near_road[i][j])\n",
    "    image.append(flow[road_id, :])\n",
    "image1 = np.reshape(image, [-1, k, len(flow[0,:])])\n",
    "image2 = np.transpose(image1,(1,2,0))\n",
    "image3 = []\n",
    "label = []\n",
    "day = []\n",
    "\n",
    "for i in range(1,t_p):\n",
    "    for j in range(180-t_input-t_pre):\n",
    "        image3.append(image2[:, i*180+j:i*180+j+t_input, :][:])\n",
    "        label.append(flow[:, i*180+j+t_input:i*180+j+t_input+t_pre][:])\n",
    "        day.append(flow[:, (i-1)*180+j+t_input:(i-1)*180+j+t_input+t_pre][:])\n",
    "        \n",
    "\n",
    "image3 = np.asarray(image3)\n",
    "label = np.asarray(label)\n",
    "day =  np.asarray(day)\n",
    "\n",
    "print(np.shape(image3))\n",
    "print(np.shape(label))\n",
    "print(np.shape(day))\n",
    "\n",
    "#划分前80%数据为训练集，最后10%数据为测试集\n",
    "image_train_source = image3[:np.shape(image3)[0]*1//10]\n",
    "image_test_source = image3[np.shape(image3)[0]*1//10:]\n",
    "label_train_source = label[:np.shape(label)[0]*1//10]\n",
    "label_test_source = label[np.shape(label)[0]*1//10:]\n",
    "\n",
    "day_train_source = day[:np.shape(day)[0]*1//10]\n",
    "day_test_source = day[np.shape(day)[0]*1//10:]\n",
    "\n",
    "\n",
    "time4 = time.time()\n",
    "print('input done %g' % (time4-time3))"
   ]
  },
  {
   "cell_type": "code",
   "execution_count": 9,
   "metadata": {},
   "outputs": [
    {
     "name": "stdout",
     "output_type": "stream",
     "text": [
      "(4620, 5, 12, 30)\n",
      "(4620, 30, 3)\n",
      "(4620, 30, 3)\n",
      "input done 0.0524616\n"
     ]
    }
   ],
   "source": [
    "near_road = np.array(pd.read_csv('./data/transfer_learning_traffic_data/small_network_nearest_road_id.csv',header = 0))\n",
    "flow = np.array(pd.read_csv('./data/transfer_learning_traffic_data/small_network_speed.csv', header= 0)) #注意header=0 or None\n",
    "# 利用滑动窗口的方式，重构数据为(n，最近路段数，输入时间窗，总路段数)的形式\n",
    "\n",
    "time3 = time.time()\n",
    "\n",
    "k = 5 # 参数k为需考虑的最近路段数\n",
    "t_p = 29 # 参数t_p为总时间序列长度（天）\n",
    "t_input = 12 #参数t_input为输入时间窗(5min颗粒度)\n",
    "t_pre = 3 #参数t_pre为预测时间窗(5min颗粒度)\n",
    "num_links = 30 #参数num_links为总路段数\n",
    "\n",
    "\n",
    "image = []\n",
    "for i in range(np.shape(near_road)[0]):\n",
    "    road_id = []\n",
    "    for j in range(k):\n",
    "        road_id.append(near_road[i][j])\n",
    "    image.append(flow[road_id, :])\n",
    "image1 = np.reshape(image, [-1, k, len(flow[0,:])])\n",
    "image2 = np.transpose(image1,(1,2,0))\n",
    "image3 = []\n",
    "label = []\n",
    "day = []\n",
    "\n",
    "for i in range(1,t_p):\n",
    "    for j in range(180-t_input-t_pre):\n",
    "        image3.append(image2[:, i*180+j:i*180+j+t_input, :][:])\n",
    "        label.append(flow[:, i*180+j+t_input:i*180+j+t_input+t_pre][:])\n",
    "        day.append(flow[:, (i-1)*180+j+t_input:(i-1)*180+j+t_input+t_pre][:])\n",
    "\n",
    "image3 = np.asarray(image3)\n",
    "label = np.asarray(label)\n",
    "day =  np.asarray(day)\n",
    "\n",
    "print(np.shape(image3))\n",
    "print(np.shape(label))\n",
    "print(np.shape(day))\n",
    "\n",
    "#划分前80%数据为训练集，最后20%数据为测试集\n",
    "image_train_target = image3[:np.shape(image3)[0]*1//10]\n",
    "image_test_target = image3[np.shape(image3)[0]*1//10:]\n",
    "label_train_target = label[:np.shape(label)[0]*1//10]\n",
    "label_test_target = label[np.shape(label)[0]*1//10:]\n",
    "\n",
    "day_train_target = day[:np.shape(day)[0]*1//10]\n",
    "day_test_target = day[np.shape(day)[0]*1//10:]\n",
    "\n",
    "\n",
    "time4 = time.time()\n",
    "print('input done %g' % (time4-time3))"
   ]
  },
  {
   "cell_type": "code",
   "execution_count": 10,
   "metadata": {
    "tags": [
     "outputPrepend"
    ]
   },
   "outputs": [
    {
     "name": "stdout",
     "output_type": "stream",
     "text": [
      "__________________________________________________________________________________________________\n",
      "Layer (type)                    Output Shape         Param #     Connected to                     \n",
      "==================================================================================================\n",
      "input_data (InputLayer)         (None, 5, 12, 30)    0                                            \n",
      "__________________________________________________________________________________________________\n",
      "batch_normalization_4 (BatchNor (None, 5, 12, 30)    120         input_data[0][0]                 \n",
      "__________________________________________________________________________________________________\n",
      "conv2d_3 (Conv2D)               (None, 5, 12, 30)    8130        batch_normalization_4[0][0]      \n",
      "__________________________________________________________________________________________________\n",
      "average_pooling2d_3 (AveragePoo (None, 5, 12, 30)    0           conv2d_3[0][0]                   \n",
      "__________________________________________________________________________________________________\n",
      "batch_normalization_5 (BatchNor (None, 5, 12, 30)    120         average_pooling2d_3[0][0]        \n",
      "__________________________________________________________________________________________________\n",
      "conv2d_4 (Conv2D)               (None, 5, 12, 30)    8130        batch_normalization_5[0][0]      \n",
      "__________________________________________________________________________________________________\n",
      "average_pooling2d_4 (AveragePoo (None, 5, 12, 30)    0           conv2d_4[0][0]                   \n",
      "__________________________________________________________________________________________________\n",
      "flatten_2 (Flatten)             (None, 1800)         0           average_pooling2d_4[0][0]        \n",
      "__________________________________________________________________________________________________\n",
      "batch_normalization_6 (BatchNor (None, 1800)         7200        flatten_2[0][0]                  \n",
      "__________________________________________________________________________________________________\n",
      "dropout_2 (Dropout)             (None, 1800)         0           batch_normalization_6[0][0]      \n",
      "__________________________________________________________________________________________________\n",
      "dense_2 (Dense)                 (None, 90)           162090      dropout_2[0][0]                  \n",
      "__________________________________________________________________________________________________\n",
      "reshape_2 (Reshape)             (None, 30, 3)        0           dense_2[0][0]                    \n",
      "__________________________________________________________________________________________________\n",
      "input_HA (InputLayer)           (None, 30, 3)        0                                            \n",
      "__________________________________________________________________________________________________\n",
      "merge__layer_2 (Merge_Layer)    (None, 30, 3)        180         reshape_2[0][0]                  \n",
      "                                                                 input_HA[0][0]                   \n",
      "==================================================================================================\n",
      "Total params: 185,970\n",
      "Trainable params: 182,250\n",
      "Non-trainable params: 3,720\n",
      "__________________________________________________________________________________________________\n"
     ]
    }
   ],
   "source": [
    "#模型构建\n",
    "input_data = keras.Input(shape=(k,t_input,num_links), name='input_data')\n",
    "input_HA = keras.Input(shape=(num_links, t_pre), name='input_HA')\n",
    "\n",
    "x = keras.layers.BatchNormalization(input_shape =(k,t_input,num_links))(input_data)\n",
    "\n",
    "x = keras.layers.Conv2D(\n",
    "                           filters = num_links,\n",
    "                           kernel_size = 3,\n",
    "                           strides = 1,\n",
    "                           padding=\"SAME\",\n",
    "                           activation='relu')(x)\n",
    "\n",
    "x = keras.layers.AveragePooling2D(pool_size = (2,2),\n",
    "                                strides = 1,\n",
    "                                padding = \"SAME\",\n",
    "                                )(x)\n",
    "\n",
    "x = keras.layers.BatchNormalization()(x)\n",
    "\n",
    "x = keras.layers.Conv2D(\n",
    "                       filters = num_links,\n",
    "                       kernel_size = 3,\n",
    "                       strides = 1,\n",
    "                       padding=\"SAME\",\n",
    "                       activation='relu')(x)\n",
    "\n",
    "x = keras.layers.AveragePooling2D(pool_size = (2,2),\n",
    "                                strides = 1,\n",
    "                                padding = \"SAME\",\n",
    "                                )(x)\n",
    "x = keras.layers.Flatten()(x)\n",
    "x = keras.layers.BatchNormalization()(x)\n",
    "x = keras.layers.Dropout(0.5)(x)\n",
    "x = keras.layers.Dense(num_links*t_pre, activation='relu')(x)\n",
    "\n",
    "output = keras.layers.Reshape((num_links,t_pre))(x)\n",
    "\n",
    "output_final = Merge_Layer()([output, input_HA])\n",
    "\n",
    "# construct model\n",
    "finish_model = keras.models.Model([input_data,input_HA], [output_final])\n",
    "\n",
    "finish_model.summary()\n"
   ]
  },
  {
   "cell_type": "code",
   "execution_count": 11,
   "metadata": {},
   "outputs": [],
   "source": [
    "#参数加载\n",
    "finish_model.load_weights('./model/source.h5')\n"
   ]
  },
  {
   "cell_type": "code",
   "execution_count": 31,
   "metadata": {},
   "outputs": [],
   "source": [
    "#模型预测\n",
    "model_pre = finish_model.predict([image_test_target,day_test_target])\n"
   ]
  },
  {
   "cell_type": "code",
   "execution_count": 32,
   "metadata": {},
   "outputs": [],
   "source": [
    "#预测结果存储\n",
    "# model_pre = np.reshape(model_pre,[103, 6])\n",
    "# model_pre1 = pd.DataFrame(model_pre)\n",
    "# model_pre1.to_csv('预测值.csv', index = False)"
   ]
  },
  {
   "cell_type": "code",
   "execution_count": 33,
   "metadata": {},
   "outputs": [
    {
     "name": "stdout",
     "output_type": "stream",
     "text": [
      "mape = 0.410740088181874\n",
      "smape = 0.31877275140460637\n",
      "mae = 7.512052742950628\n"
     ]
    }
   ],
   "source": [
    "#transfer without FT 预测精度计算\n",
    "\n",
    "mape_mean = mape_loss_func(model_pre, label_test_source)\n",
    "smape_mean = smape_loss_func(model_pre, label_test_source)\n",
    "mae_mean = mae_loss_func(model_pre, label_test_source)\n",
    "\n",
    "print('mape = ' + str(mape_mean) + '\\n' + 'smape = ' + str(smape_mean) + '\\n' + 'mae = ' + str(mae_mean))"
   ]
  },
  {
   "cell_type": "code",
   "execution_count": 34,
   "metadata": {},
   "outputs": [],
   "source": [
    "\n",
    "middle = Model(inputs=[input_data, input_HA],outputs=finish_model.get_layer('dense_2').output)"
   ]
  },
  {
   "cell_type": "code",
   "execution_count": 35,
   "metadata": {},
   "outputs": [],
   "source": [
    "middle_result_source = middle.predict([image_train_source, day_train_source])\n",
    "middle_result_target = middle.predict([image_train_target, day_train_target])"
   ]
  },
  {
   "cell_type": "code",
   "execution_count": 36,
   "metadata": {},
   "outputs": [],
   "source": [
    "from sklearn import metrics\n",
    "def mmd (x, y):\n",
    "    return metrics.mean_squared_error(x,y)"
   ]
  },
  {
   "cell_type": "code",
   "execution_count": 37,
   "metadata": {},
   "outputs": [
    {
     "data": {
      "text/plain": [
       "1848.1279"
      ]
     },
     "execution_count": 37,
     "metadata": {},
     "output_type": "execute_result"
    }
   ],
   "source": [
    "mmd (middle_result_source, middle_result_target)"
   ]
  },
  {
   "cell_type": "code",
   "execution_count": null,
   "metadata": {},
   "outputs": [],
   "source": []
  },
  {
   "cell_type": "code",
   "execution_count": 38,
   "metadata": {},
   "outputs": [],
   "source": [
    "from keras import backend as K"
   ]
  },
  {
   "cell_type": "code",
   "execution_count": 39,
   "metadata": {},
   "outputs": [],
   "source": [
    "loss1 = K.mean(K.square(output_final - label_train_target), axis=-1) \n",
    "loss2 = 0.001 * mmd (middle_result_source, middle_result_target)\n",
    "overall_loss = loss1 + loss2"
   ]
  },
  {
   "cell_type": "code",
   "execution_count": 40,
   "metadata": {},
   "outputs": [],
   "source": [
    "def new_loss(output_final, label_train_target):\n",
    "    middle = Model(inputs=[input_data, input_HA],outputs=finish_model.get_layer('dense_2').output)\n",
    "    middle_result_source = middle.predict([image_train_source, day_train_source])\n",
    "    middle_result_target = middle.predict([image_train_target, day_train_target])\n",
    "\n",
    "    loss1 = K.mean(K.square(output_final - label_train_target), axis=-1) \n",
    "    loss2 = 0.001 * mmd (middle_result_source, middle_result_target)\n",
    "    overall_loss = loss1 + loss2\n",
    "    return overall_loss\n"
   ]
  },
  {
   "cell_type": "code",
   "execution_count": 41,
   "metadata": {},
   "outputs": [],
   "source": [
    "finish_model.compile(optimizer='adam',loss=new_loss)"
   ]
  },
  {
   "cell_type": "code",
   "execution_count": 42,
   "metadata": {
    "tags": [
     "outputPrepend"
    ]
   },
   "outputs": [
    {
     "name": "stdout",
     "output_type": "stream",
     "text": [
      "Train on 462 samples, validate on 4158 samples\n",
      "Epoch 1/100\n",
      "462/462 [==============================] - 1s 2ms/step - loss: 40.2202 - val_loss: 45.2030\n",
      "Epoch 2/100\n",
      "462/462 [==============================] - 0s 248us/step - loss: 40.7406 - val_loss: 43.0695\n",
      "Epoch 3/100\n",
      "462/462 [==============================] - 0s 248us/step - loss: 39.8947 - val_loss: 42.2472\n",
      "Epoch 4/100\n",
      "462/462 [==============================] - 0s 238us/step - loss: 40.1046 - val_loss: 41.8395\n",
      "Epoch 5/100\n",
      "462/462 [==============================] - 0s 244us/step - loss: 40.1671 - val_loss: 41.6362\n",
      "Epoch 6/100\n",
      "462/462 [==============================] - 0s 231us/step - loss: 39.8075 - val_loss: 41.6065\n",
      "Epoch 7/100\n",
      "462/462 [==============================] - 0s 237us/step - loss: 39.5556 - val_loss: 41.7633\n",
      "Epoch 8/100\n",
      "462/462 [==============================] - 0s 240us/step - loss: 39.4774 - val_loss: 42.0697\n",
      "Epoch 9/100\n",
      "462/462 [==============================] - 0s 240us/step - loss: 39.2657 - val_loss: 42.2636\n",
      "Epoch 10/100\n",
      "462/462 [==============================] - 0s 235us/step - loss: 39.4082 - val_loss: 42.2083\n",
      "Epoch 11/100\n",
      "462/462 [==============================] - 0s 233us/step - loss: 39.2864 - val_loss: 42.0296\n",
      "Epoch 12/100\n",
      "462/462 [==============================] - 0s 261us/step - loss: 39.1997 - val_loss: 41.8411\n",
      "Epoch 13/100\n",
      "462/462 [==============================] - 0s 242us/step - loss: 39.0153 - val_loss: 41.6659\n",
      "Epoch 14/100\n",
      "462/462 [==============================] - 0s 237us/step - loss: 38.9155 - val_loss: 41.5927\n",
      "Epoch 15/100\n",
      "462/462 [==============================] - 0s 244us/step - loss: 38.8355 - val_loss: 41.4817\n",
      "Epoch 16/100\n",
      "462/462 [==============================] - 0s 253us/step - loss: 38.7269 - val_loss: 41.4157\n",
      "Epoch 17/100\n",
      "462/462 [==============================] - 0s 242us/step - loss: 38.5811 - val_loss: 41.4365\n",
      "Epoch 18/100\n",
      "462/462 [==============================] - 0s 244us/step - loss: 38.6001 - val_loss: 41.4854\n",
      "Epoch 19/100\n",
      "462/462 [==============================] - 0s 235us/step - loss: 38.4213 - val_loss: 41.4759\n",
      "Epoch 20/100\n",
      "462/462 [==============================] - 0s 237us/step - loss: 38.1908 - val_loss: 41.3981\n",
      "Epoch 21/100\n",
      "462/462 [==============================] - 0s 233us/step - loss: 38.3489 - val_loss: 41.2880\n",
      "Epoch 22/100\n",
      "462/462 [==============================] - 0s 240us/step - loss: 38.1143 - val_loss: 41.1380\n",
      "Epoch 23/100\n",
      "462/462 [==============================] - 0s 250us/step - loss: 38.2015 - val_loss: 41.0625\n",
      "Epoch 24/100\n",
      "462/462 [==============================] - 0s 231us/step - loss: 37.9692 - val_loss: 41.0220\n",
      "Epoch 25/100\n",
      "462/462 [==============================] - 0s 237us/step - loss: 37.8147 - val_loss: 40.9727\n",
      "Epoch 26/100\n",
      "462/462 [==============================] - 0s 274us/step - loss: 36.9421 - val_loss: 40.9389\n",
      "Epoch 27/100\n",
      "462/462 [==============================] - 0s 261us/step - loss: 37.3407 - val_loss: 40.9032\n",
      "Epoch 28/100\n",
      "462/462 [==============================] - 0s 248us/step - loss: 36.1304 - val_loss: 40.8197\n",
      "Epoch 29/100\n",
      "462/462 [==============================] - 0s 244us/step - loss: 33.9276 - val_loss: 40.7853\n",
      "Epoch 30/100\n",
      "462/462 [==============================] - 0s 227us/step - loss: 32.0217 - val_loss: 40.7908\n",
      "Epoch 31/100\n",
      "462/462 [==============================] - 0s 244us/step - loss: 29.9339 - val_loss: 40.8012\n",
      "Epoch 32/100\n",
      "462/462 [==============================] - 0s 233us/step - loss: 29.3445 - val_loss: 40.8885\n",
      "Epoch 33/100\n",
      "462/462 [==============================] - 0s 237us/step - loss: 29.4542 - val_loss: 41.0615\n",
      "Epoch 34/100\n",
      "462/462 [==============================] - 0s 231us/step - loss: 29.4785 - val_loss: 41.2835\n",
      "Epoch 35/100\n",
      "462/462 [==============================] - 0s 235us/step - loss: 29.2056 - val_loss: 41.4959\n",
      "Epoch 36/100\n",
      "462/462 [==============================] - 0s 242us/step - loss: 29.3967 - val_loss: 41.5821\n",
      "Epoch 37/100\n",
      "462/462 [==============================] - 0s 243us/step - loss: 29.2328 - val_loss: 41.6172\n",
      "Epoch 38/100\n",
      "462/462 [==============================] - 0s 231us/step - loss: 28.9345 - val_loss: 41.6446\n",
      "Epoch 39/100\n",
      "462/462 [==============================] - 0s 235us/step - loss: 28.9058 - val_loss: 41.5596\n",
      "Epoch 40/100\n",
      "462/462 [==============================] - 0s 238us/step - loss: 28.8220 - val_loss: 41.4230\n",
      "Epoch 41/100\n",
      "462/462 [==============================] - 0s 259us/step - loss: 28.7686 - val_loss: 41.2747\n",
      "Epoch 42/100\n",
      "462/462 [==============================] - 0s 278us/step - loss: 28.8025 - val_loss: 41.0768\n",
      "Epoch 43/100\n",
      "462/462 [==============================] - 0s 274us/step - loss: 28.6959 - val_loss: 40.8454\n",
      "Epoch 44/100\n",
      "462/462 [==============================] - 0s 272us/step - loss: 28.4469 - val_loss: 40.6749\n",
      "Epoch 45/100\n",
      "462/462 [==============================] - 0s 227us/step - loss: 28.4845 - val_loss: 40.5573\n",
      "Epoch 46/100\n",
      "462/462 [==============================] - 0s 237us/step - loss: 28.4053 - val_loss: 40.4945\n",
      "Epoch 47/100\n",
      "462/462 [==============================] - 0s 257us/step - loss: 28.2010 - val_loss: 40.4272\n",
      "Epoch 48/100\n",
      "462/462 [==============================] - 0s 291us/step - loss: 28.2239 - val_loss: 40.4056\n",
      "Epoch 49/100\n",
      "462/462 [==============================] - 0s 272us/step - loss: 28.1246 - val_loss: 40.4520\n",
      "Epoch 50/100\n",
      "462/462 [==============================] - 0s 242us/step - loss: 28.1056 - val_loss: 40.4457\n",
      "Epoch 51/100\n",
      "462/462 [==============================] - 0s 235us/step - loss: 27.8279 - val_loss: 40.4361\n",
      "Epoch 52/100\n",
      "462/462 [==============================] - 0s 240us/step - loss: 27.8684 - val_loss: 40.3882\n",
      "Epoch 53/100\n",
      "462/462 [==============================] - 0s 235us/step - loss: 27.7304 - val_loss: 40.3126\n",
      "Epoch 54/100\n",
      "462/462 [==============================] - 0s 231us/step - loss: 27.6195 - val_loss: 40.1983\n",
      "Epoch 55/100\n",
      "462/462 [==============================] - 0s 235us/step - loss: 27.5813 - val_loss: 40.1023\n",
      "Epoch 56/100\n",
      "462/462 [==============================] - 0s 244us/step - loss: 27.6839 - val_loss: 40.0054\n",
      "Epoch 57/100\n",
      "462/462 [==============================] - 0s 240us/step - loss: 27.4713 - val_loss: 39.9431\n",
      "Epoch 58/100\n",
      "462/462 [==============================] - 0s 231us/step - loss: 27.3616 - val_loss: 39.9350\n",
      "Epoch 59/100\n",
      "462/462 [==============================] - 0s 227us/step - loss: 27.1972 - val_loss: 39.9721\n",
      "Epoch 60/100\n",
      "462/462 [==============================] - 0s 233us/step - loss: 27.1710 - val_loss: 40.0324\n",
      "Epoch 61/100\n",
      "462/462 [==============================] - 0s 240us/step - loss: 27.1056 - val_loss: 40.1295\n",
      "Epoch 62/100\n",
      "462/462 [==============================] - 0s 240us/step - loss: 27.1911 - val_loss: 40.2752\n",
      "Epoch 63/100\n",
      "462/462 [==============================] - 0s 229us/step - loss: 27.1354 - val_loss: 40.4558\n",
      "Epoch 64/100\n",
      "462/462 [==============================] - 0s 235us/step - loss: 26.9301 - val_loss: 40.6389\n",
      "Epoch 65/100\n",
      "462/462 [==============================] - 0s 239us/step - loss: 26.8986 - val_loss: 40.8263\n",
      "Epoch 66/100\n",
      "462/462 [==============================] - 0s 240us/step - loss: 26.7691 - val_loss: 40.9002\n",
      "Epoch 67/100\n",
      "462/462 [==============================] - 0s 235us/step - loss: 26.7326 - val_loss: 40.9127\n",
      "Epoch 68/100\n",
      "462/462 [==============================] - 0s 233us/step - loss: 26.7610 - val_loss: 40.7779\n",
      "Epoch 69/100\n",
      "462/462 [==============================] - 0s 237us/step - loss: 26.6089 - val_loss: 40.6420\n",
      "Epoch 70/100\n",
      "462/462 [==============================] - 0s 229us/step - loss: 26.5940 - val_loss: 40.4641\n",
      "Epoch 71/100\n",
      "462/462 [==============================] - 0s 244us/step - loss: 26.3981 - val_loss: 40.3101\n",
      "Epoch 72/100\n",
      "462/462 [==============================] - 0s 287us/step - loss: 26.3914 - val_loss: 40.2183\n",
      "Epoch 73/100\n",
      "462/462 [==============================] - 0s 272us/step - loss: 26.2845 - val_loss: 40.1709\n",
      "Epoch 74/100\n",
      "462/462 [==============================] - 0s 248us/step - loss: 26.2827 - val_loss: 40.1710\n",
      "Epoch 75/100\n",
      "462/462 [==============================] - 0s 216us/step - loss: 26.1244 - val_loss: 40.2402\n",
      "Epoch 76/100\n",
      "462/462 [==============================] - 0s 229us/step - loss: 26.2476 - val_loss: 40.3022\n",
      "Epoch 77/100\n",
      "462/462 [==============================] - 0s 232us/step - loss: 26.1189 - val_loss: 40.3787\n"
     ]
    },
    {
     "name": "stdout",
     "output_type": "stream",
     "text": [
      "Epoch 78/100\n",
      "462/462 [==============================] - 0s 227us/step - loss: 26.2033 - val_loss: 40.4117\n",
      "Epoch 79/100\n",
      "462/462 [==============================] - 0s 233us/step - loss: 25.9682 - val_loss: 40.4637\n",
      "Epoch 80/100\n",
      "462/462 [==============================] - 0s 237us/step - loss: 25.9601 - val_loss: 40.4940\n",
      "Epoch 81/100\n",
      "462/462 [==============================] - 0s 247us/step - loss: 25.8471 - val_loss: 40.5304\n",
      "Epoch 82/100\n",
      "462/462 [==============================] - 0s 231us/step - loss: 25.6674 - val_loss: 40.6440\n",
      "Epoch 83/100\n",
      "462/462 [==============================] - 0s 231us/step - loss: 25.6055 - val_loss: 40.7078\n",
      "Epoch 84/100\n",
      "462/462 [==============================] - 0s 237us/step - loss: 25.6789 - val_loss: 40.8083\n",
      "Epoch 85/100\n",
      "462/462 [==============================] - 0s 229us/step - loss: 25.5219 - val_loss: 40.9045\n",
      "Epoch 86/100\n",
      "462/462 [==============================] - 0s 224us/step - loss: 25.5746 - val_loss: 40.8996\n",
      "Epoch 87/100\n",
      "462/462 [==============================] - 0s 229us/step - loss: 25.3834 - val_loss: 40.9514\n",
      "Epoch 88/100\n",
      "462/462 [==============================] - 0s 231us/step - loss: 25.2393 - val_loss: 40.9886\n",
      "Epoch 89/100\n",
      "462/462 [==============================] - 0s 242us/step - loss: 25.4110 - val_loss: 41.0434\n",
      "Epoch 90/100\n",
      "462/462 [==============================] - 0s 240us/step - loss: 25.1529 - val_loss: 41.0386\n",
      "Epoch 91/100\n",
      "462/462 [==============================] - 0s 237us/step - loss: 25.1952 - val_loss: 41.0879\n",
      "Epoch 92/100\n",
      "462/462 [==============================] - 0s 235us/step - loss: 25.0327 - val_loss: 41.1345\n",
      "Epoch 93/100\n",
      "462/462 [==============================] - 0s 227us/step - loss: 25.0102 - val_loss: 41.1891\n",
      "Epoch 94/100\n",
      "462/462 [==============================] - 0s 253us/step - loss: 24.9298 - val_loss: 41.2067\n",
      "Epoch 95/100\n",
      "462/462 [==============================] - 0s 289us/step - loss: 24.7746 - val_loss: 41.1416\n",
      "Epoch 96/100\n",
      "462/462 [==============================] - 0s 270us/step - loss: 25.1112 - val_loss: 40.9978\n",
      "Epoch 97/100\n",
      "462/462 [==============================] - 0s 265us/step - loss: 24.6093 - val_loss: 40.8558\n",
      "Epoch 98/100\n",
      "462/462 [==============================] - 0s 248us/step - loss: 24.5997 - val_loss: 40.7133\n",
      "Epoch 99/100\n",
      "462/462 [==============================] - 0s 237us/step - loss: 24.6131 - val_loss: 40.5833\n",
      "Epoch 100/100\n",
      "462/462 [==============================] - 0s 235us/step - loss: 24.5337 - val_loss: 40.4942\n"
     ]
    },
    {
     "data": {
      "text/plain": [
       "<keras.callbacks.History at 0x277f9470278>"
      ]
     },
     "execution_count": 42,
     "metadata": {},
     "output_type": "execute_result"
    }
   ],
   "source": [
    "finish_model.fit([image_train_target, day_train_target], label_train_target, epochs=100, batch_size=462,\n",
    "validation_data=([image_test_target,day_test_target], label_test_target))"
   ]
  },
  {
   "cell_type": "code",
   "execution_count": 43,
   "metadata": {},
   "outputs": [],
   "source": [
    "model_pre = finish_model.predict([image_test_target,day_test_target])"
   ]
  },
  {
   "cell_type": "code",
   "execution_count": 44,
   "metadata": {},
   "outputs": [
    {
     "name": "stdout",
     "output_type": "stream",
     "text": [
      "mape = 0.21938529190138537\n",
      "smape = 0.18145137157824318\n",
      "mae = 4.557769227320512\n"
     ]
    }
   ],
   "source": [
    "#transfer with DAN 预测精度计算\n",
    "\n",
    "mape_mean = mape_loss_func(model_pre, label_test_target)\n",
    "smape_mean = smape_loss_func(model_pre, label_test_target)\n",
    "mae_mean = mae_loss_func(model_pre, label_test_target)\n",
    "\n",
    "print('mape = ' + str(mape_mean) + '\\n' + 'smape = ' + str(smape_mean) + '\\n' + 'mae = ' + str(mae_mean))"
   ]
  },
  {
   "cell_type": "code",
   "execution_count": 46,
   "metadata": {},
   "outputs": [
    {
     "data": {
      "text/plain": [
       "25    0.084843\n",
       "0     0.094769\n",
       "7     0.099638\n",
       "1     0.103315\n",
       "8     0.119802\n",
       "17    0.121618\n",
       "20    0.132502\n",
       "6     0.137082\n",
       "3     0.145460\n",
       "14    0.146810\n",
       "15    0.147304\n",
       "5     0.153893\n",
       "12    0.161637\n",
       "2     0.175947\n",
       "21    0.184446\n",
       "10    0.194028\n",
       "19    0.206151\n",
       "28    0.223165\n",
       "11    0.234875\n",
       "9     0.238887\n",
       "18    0.261291\n",
       "13    0.311152\n",
       "27    0.317819\n",
       "24    0.337854\n",
       "29    0.341141\n",
       "23    0.360701\n",
       "26    0.364405\n",
       "4     0.370063\n",
       "16    0.386819\n",
       "22    0.424432\n",
       "dtype: float64"
      ]
     },
     "execution_count": 46,
     "metadata": {},
     "output_type": "execute_result"
    }
   ],
   "source": [
    "mape_list = []\n",
    "for i in range(num_links):\n",
    "    a1 = mape_loss_func(model_pre[:,i,:], label_test_target[:,i,:])\n",
    "    mape_list.append(a1)\n",
    "\n",
    "mape_pd = pd.Series(mape_list)\n",
    "mape_pd.sort_values()"
   ]
  },
  {
   "cell_type": "code",
   "execution_count": null,
   "metadata": {},
   "outputs": [],
   "source": []
  }
 ],
 "metadata": {
  "interpreter": {
   "hash": "6b092d8890fbfc1935d95d43d0881a7b3742c06492f450993a24f5c2e6237594"
  },
  "kernelspec": {
   "display_name": "Python 3",
   "language": "python",
   "name": "python3"
  },
  "language_info": {
   "codemirror_mode": {
    "name": "ipython",
    "version": 3
   },
   "file_extension": ".py",
   "mimetype": "text/x-python",
   "name": "python",
   "nbconvert_exporter": "python",
   "pygments_lexer": "ipython3",
   "version": "3.7.6"
  }
 },
 "nbformat": 4,
 "nbformat_minor": 4
}
