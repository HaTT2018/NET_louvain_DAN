{
 "cells": [
  {
   "cell_type": "markdown",
   "metadata": {},
   "source": [
    "# to do：\n",
    "- 回顾之前写的划分MFD的notebook，添加定量分析的函数（CHindex（在写好的部分论文里），NSk，TV）。\n",
    "- 选出数据，喂到这个notebook里\n",
    "- adaptation loss前面的lambda用两个类（v_class的均值）之间的KL散度\n",
    "- boundary adjustment的时候考虑双向，尽量提供错位的数据，即两个方向可能属于不同类（仅用于画图）\n",
    "\n",
    "- 寻找reinforcement learning用于CAV的算法"
   ]
  },
  {
   "cell_type": "code",
   "execution_count": 42,
   "metadata": {},
   "outputs": [],
   "source": [
    "import time\n",
    "import math\n",
    "import tensorflow as tf\n",
    "import keras \n",
    "import numpy as np\n",
    "import pandas as pd\n",
    "import ipdb"
   ]
  },
  {
   "cell_type": "code",
   "execution_count": null,
   "metadata": {},
   "outputs": [],
   "source": [
    "from keras.models import load_model,Model\n",
    "from keras.engine.topology import Layer\n",
    "from keras import backend as K"
   ]
  },
  {
   "cell_type": "code",
   "execution_count": 2,
   "metadata": {},
   "outputs": [],
   "source": [
    "# 定义融合层，将深度学习算法与历史均值算法融合\n",
    "class Merge_Layer(Layer):\n",
    "    def __init__(self, **kwargs):\n",
    "        super(Merge_Layer, self).__init__(**kwargs)\n",
    "\n",
    "    def build(self, input_shape):\n",
    "        self.para1 = self.add_weight(shape=(input_shape[0][1], input_shape[0][2]),\n",
    "                                     initializer='uniform', trainable=True,\n",
    "                                     name='para1')\n",
    "        self.para2 = self.add_weight(shape=(input_shape[1][1], input_shape[1][2]),\n",
    "                                     initializer='uniform', trainable=True,\n",
    "                                     name='para2')\n",
    "        super(Merge_Layer, self).build(input_shape)\n",
    "\n",
    "    def call(self, inputs):\n",
    "        mat1 = inputs[0]\n",
    "        mat2 = inputs[1]\n",
    "        output = mat1 * self.para1 + mat2 * self.para2\n",
    "        # output = mat1 * 0.1 + mat2 * 0.9\n",
    "        return output\n",
    "\n",
    "    def compute_output_shape(self, input_shape):\n",
    "        return input_shape[0]"
   ]
  },
  {
   "cell_type": "code",
   "execution_count": 43,
   "metadata": {},
   "outputs": [],
   "source": [
    "#定义精度评价指标。为防止0值附近相对误差过大而导致的异常，定义mask层。\n",
    "def mape_loss_func(preds, labels):\n",
    "    mask = labels > 5\n",
    "    return np.mean(np.fabs(labels[mask]-preds[mask])/labels[mask])\n",
    "\n",
    "def smape_loss_func(preds, labels):\n",
    "    mask= labels > 5\n",
    "    return np.mean(2*np.fabs(labels[mask]-preds[mask])/(np.fabs(labels[mask])+np.fabs(preds[mask])))\n",
    "\n",
    "def mae_loss_func(preds, labels):\n",
    "    mask= labels > 5\n",
    "    return np.fabs((labels[mask]-preds[mask])).mean()\n",
    "\n",
    "def eliminate_nan(b):\n",
    "    a = np.array(b)\n",
    "    c = a[~np.isnan(a)]\n",
    "    return c"
   ]
  },
  {
   "cell_type": "markdown",
   "metadata": {},
   "source": [
    "## 把速度矩阵分类"
   ]
  },
  {
   "cell_type": "code",
   "execution_count": 55,
   "metadata": {},
   "outputs": [
    {
     "name": "stdout",
     "output_type": "stream",
     "text": [
      "There are 8 class(es)\n"
     ]
    }
   ],
   "source": [
    "randseed = 3\n",
    "\n",
    "v = pd.read_csv('./data/v_20_aggragated.csv')\n",
    "v = v.rename(columns={'Unnamed: 0': 'id'})\n",
    "det_with_class = pd.read_csv('./res/%i_id_402_withclass.csv'%randseed, index_col=0)\n",
    "\n",
    "v['class_i'] = ''\n",
    "for i in range(len(v)):\n",
    "    v.loc[i, 'class_i'] = det_with_class[det_with_class['id']==v.loc[i, 'id']].iloc[0, 5]  # 5 stands for 'class_i'\n",
    "\n",
    "num_class = det_with_class['class_i'].drop_duplicates().size\n",
    "\n",
    "v_class = []\n",
    "for i in range(num_class):\n",
    "    v_class.append(v[v['class_i']==i])\n",
    "\n",
    "print('There are %i class(es)'%num_class)"
   ]
  },
  {
   "cell_type": "markdown",
   "metadata": {},
   "source": [
    "## 制作 nearest_road_id.csv 和speed.csv"
   ]
  },
  {
   "cell_type": "code",
   "execution_count": 56,
   "metadata": {},
   "outputs": [],
   "source": [
    "dist_mat = pd.read_csv('./data/dist_mat.csv', index_col=0)\n",
    "id_info = pd.read_csv('./data/id2000.csv', index_col=0)\n",
    "dist_mat.index = id_info['id2']\n",
    "dist_mat.columns = id_info['id2']\n",
    "for i in range(len(dist_mat)):\n",
    "    for j in range(len(dist_mat)):\n",
    "        if i==j:\n",
    "            dist_mat.iloc[i, j] = 0\n",
    "\n",
    "near_id = pd.DataFrame(np.argsort(np.array(dist_mat)), index = id_info['id2'], columns = id_info['id2'])"
   ]
  },
  {
   "cell_type": "markdown",
   "metadata": {},
   "source": [
    "## 以上做好了near_road矩阵，接下来做flow/speed矩阵"
   ]
  },
  {
   "cell_type": "code",
   "execution_count": 57,
   "metadata": {},
   "outputs": [],
   "source": [
    "def get_node(det, seg):\n",
    "    # det is one single detector id\n",
    "    # node is one single node id\n",
    "    \n",
    "    # seg = pd.read_csv('./data/segement.csv', header=None)\n",
    "    try:\n",
    "        node_info = seg[seg[6]==det]\n",
    "        node = node_info.iloc[0, 0]\n",
    "    except:\n",
    "        node_info = seg[seg[7]==det]\n",
    "        node = node_info.iloc[0, 0]\n",
    "        \n",
    "    return node"
   ]
  },
  {
   "cell_type": "code",
   "execution_count": 58,
   "metadata": {},
   "outputs": [],
   "source": [
    "def get_class_with_node(seg, v_class):\n",
    "    det_list_class = np.array([])\n",
    "    try:\n",
    "        v_class.insert(1, 'id2', '')  # id2 mean node id\n",
    "    except:\n",
    "        v_class['id2'] = ''\n",
    "        \n",
    "    for i in range(len(v_class)):\n",
    "        det_list_class = np.append(det_list_class, v_class.iloc[i, 0])\n",
    "        v_class.iloc[i, 1] = get_node(v_class.iloc[i, 0], seg)\n",
    "    \n",
    "    return det_list_class, v_class"
   ]
  },
  {
   "cell_type": "code",
   "execution_count": 59,
   "metadata": {},
   "outputs": [],
   "source": [
    "def rds_mat(old_dist_mat, det_ids):\n",
    "    # get a matrix that contains n raods that have specified node id s\n",
    "    node_ids = np.array([])\n",
    "    for i in det_ids:\n",
    "        node_ids = np.append(node_ids, get_node(i, seg))\n",
    "        \n",
    "    new_dist_mat = old_dist_mat.loc[node_ids, node_ids]\n",
    "    old_dist_mat = np.array(old_dist_mat)\n",
    "    new_near_id_mat = np.argsort(new_dist_mat)\n",
    "    return new_near_id_mat"
   ]
  },
  {
   "cell_type": "code",
   "execution_count": 60,
   "metadata": {},
   "outputs": [],
   "source": [
    "seg = pd.read_csv('./data/segement.csv', header=None)\n",
    "num_dets = 30\n",
    "\n",
    "det_list_class = []\n",
    "for i in range(num_class):\n",
    "    det_list_class_temp, v_class_temp = get_class_with_node(seg, v_class[i])\n",
    "    det_list_class.append(det_list_class_temp)\n",
    "    v_class_temp = v_class_temp[v_class_temp['id'].isin(det_list_class_temp[:num_dets])]\n",
    "    v_class[i] = v_class_temp"
   ]
  },
  {
   "cell_type": "code",
   "execution_count": 61,
   "metadata": {
    "scrolled": true
   },
   "outputs": [],
   "source": [
    "near_road = []\n",
    "for i in range(num_class):\n",
    "    near_road.append(rds_mat(dist_mat, det_list_class[i][:num_dets]))"
   ]
  },
  {
   "cell_type": "markdown",
   "metadata": {},
   "source": [
    "## evaluation of 2 datasets"
   ]
  },
  {
   "cell_type": "code",
   "execution_count": 62,
   "metadata": {
    "scrolled": true
   },
   "outputs": [
    {
     "data": {
      "text/plain": [
       "13.606684450518879"
      ]
     },
     "execution_count": 62,
     "metadata": {},
     "output_type": "execute_result"
    }
   ],
   "source": [
    "v_class[0].iloc[:, 2:-1].T.mean().T.std()"
   ]
  },
  {
   "cell_type": "code",
   "execution_count": 63,
   "metadata": {},
   "outputs": [],
   "source": [
    "def get_NSk(set1, set2):\n",
    "    # designated for v_class1 and 2\n",
    "    set1_v_mean = set1.iloc[:, 2:-1].T.mean().T\n",
    "    set2_v_mean = set2.iloc[:, 2:-1].T.mean().T\n",
    "    \n",
    "    var1 = set1_v_mean.std()**2\n",
    "    var2 = set2_v_mean.std()**2\n",
    "    \n",
    "    u1 = set1_v_mean.mean()\n",
    "    u2 = set2_v_mean.mean()\n",
    "    \n",
    "    return 2*var1 / (var1 + var2 + (u1 - u2)**2)"
   ]
  },
  {
   "cell_type": "code",
   "execution_count": 64,
   "metadata": {},
   "outputs": [
    {
     "data": {
      "text/plain": [
       "0.8972017877887051"
      ]
     },
     "execution_count": 64,
     "metadata": {},
     "output_type": "execute_result"
    }
   ],
   "source": [
    "get_NSk(v_class[0], v_class[1])"
   ]
  },
  {
   "cell_type": "code",
   "execution_count": 65,
   "metadata": {},
   "outputs": [
    {
     "name": "stdout",
     "output_type": "stream",
     "text": [
      "0.9261353004471786\n"
     ]
    }
   ],
   "source": [
    "NSk_set = np.array([])\n",
    "for i in range(num_class):\n",
    "    for j in range(num_class):\n",
    "        if i!=j:\n",
    "            NSk = get_NSk(v_class[i], v_class[j])\n",
    "            NSk_set = np.append(NSk_set, NSk)\n",
    "\n",
    "print(NSk_set.mean())"
   ]
  },
  {
   "cell_type": "markdown",
   "metadata": {},
   "source": [
    "# 源代码如下"
   ]
  },
  {
   "cell_type": "code",
   "execution_count": 16,
   "metadata": {},
   "outputs": [
    {
     "name": "stdout",
     "output_type": "stream",
     "text": [
      "(3795, 5, 12, 30)\n",
      "(3795, 30, 3)\n",
      "(3795, 30, 3)\n",
      "input done 0.0368743\n"
     ]
    }
   ],
   "source": [
    "# near_road = np.array(pd.read_csv('./data/network/2small_network_nearest_road_id.csv',header = 0))\n",
    "# flow = np.array(pd.read_csv('./data/network/2small_network_speed.csv', header= 0)) #注意header=0 or None\n",
    "near_road = np.array(near_road1)\n",
    "flow = np.array(v_class1.iloc[:, 2:-1])\n",
    "\n",
    "# 利用滑动窗口的方式，重构数据为(n，最近路段数，输入时间窗，总路段数)的形式\n",
    "\n",
    "time3 = time.time()\n",
    "\n",
    "k = 5 # 参数k为需考虑的最近路段数\n",
    "t_p = 24 # 参数t_p为总时间序列长度（天）\n",
    "t_input = 12 #参数t_input为输入时间窗(5min颗粒度)\n",
    "t_pre = 3 #参数t_pre为预测时间窗(5min颗粒度)\n",
    "num_links = 30 #参数num_links为总路段数\n",
    "\n",
    "\n",
    "image = []\n",
    "for i in range(np.shape(near_road)[0]):\n",
    "    road_id = []\n",
    "    for j in range(k):\n",
    "        road_id.append(near_road[i][j])\n",
    "    image.append(flow[road_id, :])\n",
    "image1 = np.reshape(image, [-1, k, len(flow[0,:])])\n",
    "image2 = np.transpose(image1,(1,2,0))\n",
    "image3 = []\n",
    "label = []\n",
    "day = []\n",
    "\n",
    "for i in range(1,t_p):\n",
    "    for j in range(180-t_input-t_pre):\n",
    "        image3.append(image2[:, i*180+j:i*180+j+t_input, :][:])\n",
    "        label.append(flow[:, i*180+j+t_input:i*180+j+t_input+t_pre][:])\n",
    "        day.append(flow[:, (i-1)*180+j+t_input:(i-1)*180+j+t_input+t_pre][:])\n",
    "        \n",
    "# ipdb.set_trace()\n",
    "\n",
    "image3 = np.asarray(image3)\n",
    "label = np.asarray(label)\n",
    "day =  np.asarray(day)\n",
    "\n",
    "print(np.shape(image3))\n",
    "print(np.shape(label))\n",
    "print(np.shape(day))\n",
    "\n",
    "#划分前90%数据为训练集，最后10%数据为测试集\n",
    "image_train_source = image3[:np.shape(image3)[0]*1//10]\n",
    "image_test_source = image3[np.shape(image3)[0]*1//10:]\n",
    "label_train_source = label[:np.shape(label)[0]*1//10]\n",
    "label_test_source = label[np.shape(label)[0]*1//10:]\n",
    "\n",
    "day_train_source = day[:np.shape(day)[0]*1//10]\n",
    "day_test_source = day[np.shape(day)[0]*1//10:]\n",
    "\n",
    "\n",
    "time4 = time.time()\n",
    "print('input done %g' % (time4-time3))"
   ]
  },
  {
   "cell_type": "code",
   "execution_count": 17,
   "metadata": {},
   "outputs": [
    {
     "name": "stdout",
     "output_type": "stream",
     "text": [
      "(3795, 5, 12, 30)\n",
      "(3795, 30, 3)\n",
      "(3795, 30, 3)\n",
      "input done 0.0420151\n"
     ]
    }
   ],
   "source": [
    "# near_road = np.array(pd.read_csv('./data/transfer_learning_traffic_data/small_network_nearest_road_id.csv',header = 0))\n",
    "# flow = np.array(pd.read_csv('./data/transfer_learning_traffic_data/small_network_speed.csv', header= 0)) #注意header=0 or None\n",
    "near_road = np.array(near_road2)\n",
    "flow = np.array(v_class2.iloc[:, 2:-1])\n",
    "\n",
    "# 利用滑动窗口的方式，重构数据为(n，最近路段数，输入时间窗，总路段数)的形式\n",
    "\n",
    "time3 = time.time()\n",
    "\n",
    "k = 5 # 参数k为需考虑的最近路段数\n",
    "t_p = 24 # 参数t_p为总时间序列长度（天）\n",
    "t_input = 12 #参数t_input为输入时间窗(5min颗粒度)\n",
    "t_pre = 3 #参数t_pre为预测时间窗(5min颗粒度)\n",
    "num_links = 30 #参数num_links为总路段数\n",
    "\n",
    "\n",
    "image = []\n",
    "for i in range(np.shape(near_road)[0]):\n",
    "    road_id = []\n",
    "    for j in range(k):\n",
    "        road_id.append(near_road[i][j])\n",
    "    image.append(flow[road_id, :])\n",
    "image1 = np.reshape(image, [-1, k, len(flow[0,:])])\n",
    "image2 = np.transpose(image1,(1,2,0))\n",
    "image3 = []\n",
    "label = []\n",
    "day = []\n",
    "\n",
    "for i in range(1,t_p):\n",
    "    for j in range(180-t_input-t_pre):\n",
    "        image3.append(image2[:, i*180+j:i*180+j+t_input, :][:])\n",
    "        label.append(flow[:, i*180+j+t_input:i*180+j+t_input+t_pre][:])\n",
    "        day.append(flow[:, (i-1)*180+j+t_input:(i-1)*180+j+t_input+t_pre][:])\n",
    "\n",
    "image3 = np.asarray(image3)\n",
    "label = np.asarray(label)\n",
    "day =  np.asarray(day)\n",
    "\n",
    "print(np.shape(image3))\n",
    "print(np.shape(label))\n",
    "print(np.shape(day))\n",
    "\n",
    "#划分前80%数据为训练集，最后20%数据为测试集\n",
    "image_train_target = image3[:np.shape(image3)[0]*1//10]\n",
    "image_test_target = image3[np.shape(image3)[0]*1//10:]\n",
    "label_train_target = label[:np.shape(label)[0]*1//10]\n",
    "label_test_target = label[np.shape(label)[0]*1//10:]\n",
    "\n",
    "day_train_target = day[:np.shape(day)[0]*1//10]\n",
    "day_test_target = day[np.shape(day)[0]*1//10:]\n",
    "\n",
    "\n",
    "time4 = time.time()\n",
    "print('input done %g' % (time4-time3))"
   ]
  },
  {
   "cell_type": "code",
   "execution_count": 18,
   "metadata": {
    "tags": [
     "outputPrepend"
    ]
   },
   "outputs": [
    {
     "name": "stdout",
     "output_type": "stream",
     "text": [
      "WARNING:tensorflow:From C:\\ProgramData\\Anaconda3\\lib\\site-packages\\keras\\backend\\tensorflow_backend.py:517: The name tf.placeholder is deprecated. Please use tf.compat.v1.placeholder instead.\n",
      "\n",
      "WARNING:tensorflow:From C:\\ProgramData\\Anaconda3\\lib\\site-packages\\keras\\backend\\tensorflow_backend.py:74: The name tf.get_default_graph is deprecated. Please use tf.compat.v1.get_default_graph instead.\n",
      "\n",
      "WARNING:tensorflow:From C:\\ProgramData\\Anaconda3\\lib\\site-packages\\keras\\backend\\tensorflow_backend.py:174: The name tf.get_default_session is deprecated. Please use tf.compat.v1.get_default_session instead.\n",
      "\n",
      "WARNING:tensorflow:From C:\\ProgramData\\Anaconda3\\lib\\site-packages\\keras\\backend\\tensorflow_backend.py:181: The name tf.ConfigProto is deprecated. Please use tf.compat.v1.ConfigProto instead.\n",
      "\n",
      "WARNING:tensorflow:From C:\\ProgramData\\Anaconda3\\lib\\site-packages\\keras\\backend\\tensorflow_backend.py:186: The name tf.Session is deprecated. Please use tf.compat.v1.Session instead.\n",
      "\n",
      "WARNING:tensorflow:From C:\\ProgramData\\Anaconda3\\lib\\site-packages\\keras\\backend\\tensorflow_backend.py:1834: The name tf.nn.fused_batch_norm is deprecated. Please use tf.compat.v1.nn.fused_batch_norm instead.\n",
      "\n",
      "WARNING:tensorflow:From C:\\ProgramData\\Anaconda3\\lib\\site-packages\\keras\\backend\\tensorflow_backend.py:3980: The name tf.nn.avg_pool is deprecated. Please use tf.nn.avg_pool2d instead.\n",
      "\n",
      "WARNING:tensorflow:From C:\\ProgramData\\Anaconda3\\lib\\site-packages\\keras\\backend\\tensorflow_backend.py:3445: calling dropout (from tensorflow.python.ops.nn_ops) with keep_prob is deprecated and will be removed in a future version.\n",
      "Instructions for updating:\n",
      "Please use `rate` instead of `keep_prob`. Rate should be set to `rate = 1 - keep_prob`.\n",
      "__________________________________________________________________________________________________\n",
      "Layer (type)                    Output Shape         Param #     Connected to                     \n",
      "==================================================================================================\n",
      "input_data (InputLayer)         (None, 5, 12, 30)    0                                            \n",
      "__________________________________________________________________________________________________\n",
      "batch_normalization_1 (BatchNor (None, 5, 12, 30)    120         input_data[0][0]                 \n",
      "__________________________________________________________________________________________________\n",
      "conv2d_1 (Conv2D)               (None, 5, 12, 30)    8130        batch_normalization_1[0][0]      \n",
      "__________________________________________________________________________________________________\n",
      "average_pooling2d_1 (AveragePoo (None, 5, 12, 30)    0           conv2d_1[0][0]                   \n",
      "__________________________________________________________________________________________________\n",
      "batch_normalization_2 (BatchNor (None, 5, 12, 30)    120         average_pooling2d_1[0][0]        \n",
      "__________________________________________________________________________________________________\n",
      "conv2d_2 (Conv2D)               (None, 5, 12, 30)    8130        batch_normalization_2[0][0]      \n",
      "__________________________________________________________________________________________________\n",
      "average_pooling2d_2 (AveragePoo (None, 5, 12, 30)    0           conv2d_2[0][0]                   \n",
      "__________________________________________________________________________________________________\n",
      "flatten_1 (Flatten)             (None, 1800)         0           average_pooling2d_2[0][0]        \n",
      "__________________________________________________________________________________________________\n",
      "batch_normalization_3 (BatchNor (None, 1800)         7200        flatten_1[0][0]                  \n",
      "__________________________________________________________________________________________________\n",
      "dropout_1 (Dropout)             (None, 1800)         0           batch_normalization_3[0][0]      \n",
      "__________________________________________________________________________________________________\n",
      "dense_1 (Dense)                 (None, 90)           162090      dropout_1[0][0]                  \n",
      "__________________________________________________________________________________________________\n",
      "reshape_1 (Reshape)             (None, 30, 3)        0           dense_1[0][0]                    \n",
      "__________________________________________________________________________________________________\n",
      "input_HA (InputLayer)           (None, 30, 3)        0                                            \n",
      "__________________________________________________________________________________________________\n",
      "merge__layer_1 (Merge_Layer)    (None, 30, 3)        180         reshape_1[0][0]                  \n",
      "                                                                 input_HA[0][0]                   \n",
      "==================================================================================================\n",
      "Total params: 185,970\n",
      "Trainable params: 182,250\n",
      "Non-trainable params: 3,720\n",
      "__________________________________________________________________________________________________\n"
     ]
    }
   ],
   "source": [
    "#模型构建\n",
    "input_data = keras.Input(shape=(k,t_input,num_links), name='input_data')\n",
    "input_HA = keras.Input(shape=(num_links, t_pre), name='input_HA')\n",
    "\n",
    "x = keras.layers.BatchNormalization(input_shape =(k,t_input,num_links))(input_data)\n",
    "\n",
    "x = keras.layers.Conv2D(\n",
    "                           filters = num_links,\n",
    "                           kernel_size = 3,\n",
    "                           strides = 1,\n",
    "                           padding=\"SAME\",\n",
    "                           activation='relu')(x)\n",
    "\n",
    "x = keras.layers.AveragePooling2D(pool_size = (2,2),\n",
    "                                strides = 1,\n",
    "                                padding = \"SAME\",\n",
    "                                )(x)\n",
    "\n",
    "x = keras.layers.BatchNormalization()(x)\n",
    "\n",
    "x = keras.layers.Conv2D(\n",
    "                       filters = num_links,\n",
    "                       kernel_size = 3,\n",
    "                       strides = 1,\n",
    "                       padding=\"SAME\",\n",
    "                       activation='relu')(x)\n",
    "\n",
    "x = keras.layers.AveragePooling2D(pool_size = (2,2),\n",
    "                                strides = 1,\n",
    "                                padding = \"SAME\",\n",
    "                                )(x)\n",
    "x = keras.layers.Flatten()(x)\n",
    "x = keras.layers.BatchNormalization()(x)\n",
    "x = keras.layers.Dropout(0.5)(x)\n",
    "x = keras.layers.Dense(num_links*t_pre, activation='relu')(x)\n",
    "\n",
    "output = keras.layers.Reshape((num_links,t_pre))(x)\n",
    "\n",
    "output_final = Merge_Layer()([output, input_HA])\n",
    "\n",
    "# construct model\n",
    "finish_model = keras.models.Model([input_data,input_HA], [output_final])\n",
    "\n",
    "finish_model.summary()\n"
   ]
  },
  {
   "cell_type": "code",
   "execution_count": 19,
   "metadata": {},
   "outputs": [],
   "source": [
    "#参数加载\n",
    "finish_model.load_weights('./model/source.h5')\n"
   ]
  },
  {
   "cell_type": "code",
   "execution_count": 24,
   "metadata": {},
   "outputs": [],
   "source": [
    "#模型预测\n",
    "model_pre = finish_model.predict([image_test_target,day_test_target])\n"
   ]
  },
  {
   "cell_type": "code",
   "execution_count": 25,
   "metadata": {},
   "outputs": [],
   "source": [
    "#预测结果存储\n",
    "# model_pre = np.reshape(model_pre,[103, 6])\n",
    "# model_pre1 = pd.DataFrame(model_pre)\n",
    "# model_pre1.to_csv('预测值.csv', index = False)"
   ]
  },
  {
   "cell_type": "code",
   "execution_count": 26,
   "metadata": {},
   "outputs": [
    {
     "name": "stdout",
     "output_type": "stream",
     "text": [
      "mape = 0.7802823984459177\n",
      "smape = 1.3187246744990813\n",
      "mae = 48.69012338609012\n"
     ]
    }
   ],
   "source": [
    "#transfer without FT 预测精度计算\n",
    "\n",
    "mape_mean = mape_loss_func(model_pre, label_test_source)\n",
    "smape_mean = smape_loss_func(model_pre, label_test_source)\n",
    "mae_mean = mae_loss_func(model_pre, label_test_source)\n",
    "\n",
    "print('mape = ' + str(mape_mean) + '\\n' + 'smape = ' + str(smape_mean) + '\\n' + 'mae = ' + str(mae_mean))"
   ]
  },
  {
   "cell_type": "code",
   "execution_count": 27,
   "metadata": {},
   "outputs": [],
   "source": [
    "\n",
    "middle = Model(inputs=[input_data, input_HA],outputs=finish_model.get_layer('dense_1').output)"
   ]
  },
  {
   "cell_type": "code",
   "execution_count": 28,
   "metadata": {},
   "outputs": [],
   "source": [
    "middle_result_source = middle.predict([image_train_source, day_train_source])\n",
    "middle_result_target = middle.predict([image_train_target, day_train_target])"
   ]
  },
  {
   "cell_type": "code",
   "execution_count": 29,
   "metadata": {},
   "outputs": [],
   "source": [
    "from sklearn import metrics\n",
    "def mmd (x, y):\n",
    "    return metrics.mean_squared_error(x,y)"
   ]
  },
  {
   "cell_type": "code",
   "execution_count": 30,
   "metadata": {},
   "outputs": [
    {
     "data": {
      "text/plain": [
       "65.25655"
      ]
     },
     "execution_count": 30,
     "metadata": {},
     "output_type": "execute_result"
    }
   ],
   "source": [
    "mmd (middle_result_source, middle_result_target)"
   ]
  },
  {
   "cell_type": "code",
   "execution_count": 31,
   "metadata": {},
   "outputs": [],
   "source": [
    "def kl_divergence(set1, set2):\n",
    "    set1_v_mean = np.array(set1.iloc[:, 2:-1].T.mean().T)\n",
    "    set2_v_mean = np.array(set2.iloc[:, 2:-1].T.mean().T)\n",
    "    return np.sum(np.where(set1_v_mean != 0, set1_v_mean * np.log(set1_v_mean / set2_v_mean), 0))"
   ]
  },
  {
   "cell_type": "code",
   "execution_count": 32,
   "metadata": {},
   "outputs": [],
   "source": [
    "lamb = kl_divergence(v_class1, v_class2)\n",
    "\n",
    "loss1 = K.mean(K.square(output_final - label_train_target), axis=-1) \n",
    "loss2 = lamb * mmd (middle_result_source, middle_result_target)\n",
    "overall_loss = loss1 + loss2"
   ]
  },
  {
   "cell_type": "code",
   "execution_count": 33,
   "metadata": {},
   "outputs": [],
   "source": [
    "def new_loss(output_final, label_train_target):\n",
    "    middle = Model(inputs=[input_data, input_HA],outputs=finish_model.get_layer('dense_1').output)\n",
    "    middle_result_source = middle.predict([image_train_source, day_train_source])\n",
    "    middle_result_target = middle.predict([image_train_target, day_train_target])\n",
    "\n",
    "    loss1 = K.mean(K.square(output_final - label_train_target), axis=-1) \n",
    "    loss2 = 0.001 * mmd (middle_result_source, middle_result_target)\n",
    "    overall_loss = loss1 + loss2\n",
    "    return overall_loss\n"
   ]
  },
  {
   "cell_type": "code",
   "execution_count": 34,
   "metadata": {},
   "outputs": [
    {
     "name": "stdout",
     "output_type": "stream",
     "text": [
      "WARNING:tensorflow:From C:\\ProgramData\\Anaconda3\\lib\\site-packages\\keras\\optimizers.py:790: The name tf.train.Optimizer is deprecated. Please use tf.compat.v1.train.Optimizer instead.\n",
      "\n"
     ]
    }
   ],
   "source": [
    "finish_model.compile(optimizer='adam',loss=new_loss)"
   ]
  },
  {
   "cell_type": "code",
   "execution_count": 35,
   "metadata": {
    "tags": [
     "outputPrepend"
    ]
   },
   "outputs": [
    {
     "name": "stdout",
     "output_type": "stream",
     "text": [
      "Train on 379 samples, validate on 3416 samples\n",
      "Epoch 1/100\n",
      "379/379 [==============================] - 1s 2ms/step - loss: 1343.0009 - val_loss: 1351.6359\n",
      "Epoch 2/100\n",
      "379/379 [==============================] - 0s 258us/step - loss: 1274.7327 - val_loss: 1347.7678\n",
      "Epoch 3/100\n",
      "379/379 [==============================] - 0s 287us/step - loss: 1224.3678 - val_loss: 1333.5440\n",
      "Epoch 4/100\n",
      "379/379 [==============================] - 0s 260us/step - loss: 1172.6211 - val_loss: 1310.1892\n",
      "Epoch 5/100\n",
      "379/379 [==============================] - 0s 250us/step - loss: 1133.0148 - val_loss: 1283.4592\n",
      "Epoch 6/100\n",
      "379/379 [==============================] - 0s 245us/step - loss: 1095.9395 - val_loss: 1254.8227\n",
      "Epoch 7/100\n",
      "379/379 [==============================] - 0s 268us/step - loss: 1058.7548 - val_loss: 1229.4635\n",
      "Epoch 8/100\n",
      "379/379 [==============================] - 0s 242us/step - loss: 1022.5051 - val_loss: 1210.1482\n",
      "Epoch 9/100\n",
      "379/379 [==============================] - 0s 266us/step - loss: 986.4715 - val_loss: 1195.5195\n",
      "Epoch 10/100\n",
      "379/379 [==============================] - 0s 255us/step - loss: 952.6548 - val_loss: 1182.1704\n",
      "Epoch 11/100\n",
      "379/379 [==============================] - 0s 255us/step - loss: 924.0991 - val_loss: 1168.3569\n",
      "Epoch 12/100\n",
      "379/379 [==============================] - 0s 242us/step - loss: 892.5922 - val_loss: 1152.8264\n",
      "Epoch 13/100\n",
      "379/379 [==============================] - 0s 253us/step - loss: 868.0430 - val_loss: 1135.2772\n",
      "Epoch 14/100\n",
      "379/379 [==============================] - 0s 303us/step - loss: 842.8677 - val_loss: 1114.7042\n",
      "Epoch 15/100\n",
      "379/379 [==============================] - 0s 275us/step - loss: 815.0494 - val_loss: 1090.2953\n",
      "Epoch 16/100\n",
      "379/379 [==============================] - 0s 263us/step - loss: 794.2049 - val_loss: 1061.5008\n",
      "Epoch 17/100\n",
      "379/379 [==============================] - 0s 271us/step - loss: 776.7591 - val_loss: 1028.2744\n",
      "Epoch 18/100\n",
      "379/379 [==============================] - 0s 263us/step - loss: 753.8053 - val_loss: 991.1992\n",
      "Epoch 19/100\n",
      "379/379 [==============================] - 0s 278us/step - loss: 731.1299 - val_loss: 951.7551\n",
      "Epoch 20/100\n",
      "379/379 [==============================] - 0s 263us/step - loss: 712.6502 - val_loss: 911.8957\n",
      "Epoch 21/100\n",
      "379/379 [==============================] - 0s 247us/step - loss: 696.0141 - val_loss: 872.6606\n",
      "Epoch 22/100\n",
      "379/379 [==============================] - 0s 258us/step - loss: 677.2177 - val_loss: 835.4869\n",
      "Epoch 23/100\n",
      "379/379 [==============================] - 0s 266us/step - loss: 658.9758 - val_loss: 800.1028\n",
      "Epoch 24/100\n",
      "379/379 [==============================] - 0s 250us/step - loss: 645.0587 - val_loss: 765.8196\n",
      "Epoch 25/100\n",
      "379/379 [==============================] - 0s 245us/step - loss: 628.3527 - val_loss: 732.6139\n",
      "Epoch 26/100\n",
      "379/379 [==============================] - 0s 250us/step - loss: 611.8958 - val_loss: 700.2051\n",
      "Epoch 27/100\n",
      "379/379 [==============================] - 0s 247us/step - loss: 600.0143 - val_loss: 668.6147\n",
      "Epoch 28/100\n",
      "379/379 [==============================] - 0s 239us/step - loss: 586.6085 - val_loss: 638.9934\n",
      "Epoch 29/100\n",
      "379/379 [==============================] - 0s 245us/step - loss: 572.4388 - val_loss: 611.6084\n",
      "Epoch 30/100\n",
      "379/379 [==============================] - 0s 276us/step - loss: 559.5559 - val_loss: 585.9319\n",
      "Epoch 31/100\n",
      "379/379 [==============================] - 0s 247us/step - loss: 550.4533 - val_loss: 562.1079\n",
      "Epoch 32/100\n",
      "379/379 [==============================] - 0s 245us/step - loss: 538.3075 - val_loss: 540.0396\n",
      "Epoch 33/100\n",
      "379/379 [==============================] - 0s 243us/step - loss: 525.1703 - val_loss: 520.2333\n",
      "Epoch 34/100\n",
      "379/379 [==============================] - 0s 245us/step - loss: 512.8718 - val_loss: 502.0456\n",
      "Epoch 35/100\n",
      "379/379 [==============================] - 0s 253us/step - loss: 501.3592 - val_loss: 484.9164\n",
      "Epoch 36/100\n",
      "379/379 [==============================] - 0s 261us/step - loss: 493.1166 - val_loss: 469.5005\n",
      "Epoch 37/100\n",
      "379/379 [==============================] - 0s 253us/step - loss: 483.3105 - val_loss: 454.9652\n",
      "Epoch 38/100\n",
      "379/379 [==============================] - 0s 253us/step - loss: 475.3262 - val_loss: 441.0269\n",
      "Epoch 39/100\n",
      "379/379 [==============================] - 0s 263us/step - loss: 464.0208 - val_loss: 427.1745\n",
      "Epoch 40/100\n",
      "379/379 [==============================] - 0s 242us/step - loss: 457.0781 - val_loss: 413.6739\n",
      "Epoch 41/100\n",
      "379/379 [==============================] - 0s 274us/step - loss: 450.0668 - val_loss: 400.5897\n",
      "Epoch 42/100\n",
      "379/379 [==============================] - 0s 246us/step - loss: 442.1178 - val_loss: 388.0738\n",
      "Epoch 43/100\n",
      "379/379 [==============================] - 0s 253us/step - loss: 433.3559 - val_loss: 375.9947\n",
      "Epoch 44/100\n",
      "379/379 [==============================] - 0s 247us/step - loss: 428.1952 - val_loss: 365.0112\n",
      "Epoch 45/100\n",
      "379/379 [==============================] - 0s 258us/step - loss: 419.1924 - val_loss: 354.8437\n",
      "Epoch 46/100\n",
      "379/379 [==============================] - 0s 250us/step - loss: 411.5719 - val_loss: 344.9646\n",
      "Epoch 47/100\n",
      "379/379 [==============================] - 0s 263us/step - loss: 404.9152 - val_loss: 336.4134\n",
      "Epoch 48/100\n",
      "379/379 [==============================] - 0s 263us/step - loss: 399.3326 - val_loss: 328.3762\n",
      "Epoch 49/100\n",
      "379/379 [==============================] - 0s 250us/step - loss: 393.2472 - val_loss: 320.4762\n",
      "Epoch 50/100\n",
      "379/379 [==============================] - 0s 253us/step - loss: 387.6503 - val_loss: 312.9404\n",
      "Epoch 51/100\n",
      "379/379 [==============================] - 0s 255us/step - loss: 381.0139 - val_loss: 306.3166\n",
      "Epoch 52/100\n",
      "379/379 [==============================] - 0s 242us/step - loss: 376.3276 - val_loss: 300.7001\n",
      "Epoch 53/100\n",
      "379/379 [==============================] - 0s 237us/step - loss: 371.3437 - val_loss: 294.9623\n",
      "Epoch 54/100\n",
      "379/379 [==============================] - 0s 266us/step - loss: 365.2923 - val_loss: 290.1951\n",
      "Epoch 55/100\n",
      "379/379 [==============================] - 0s 258us/step - loss: 359.9560 - val_loss: 285.8391\n",
      "Epoch 56/100\n",
      "379/379 [==============================] - 0s 276us/step - loss: 355.4817 - val_loss: 281.5190\n",
      "Epoch 57/100\n",
      "379/379 [==============================] - 0s 253us/step - loss: 349.8604 - val_loss: 277.6895\n",
      "Epoch 58/100\n",
      "379/379 [==============================] - 0s 242us/step - loss: 347.6966 - val_loss: 274.1913\n",
      "Epoch 59/100\n",
      "379/379 [==============================] - 0s 234us/step - loss: 341.8599 - val_loss: 270.4357\n",
      "Epoch 60/100\n",
      "379/379 [==============================] - 0s 242us/step - loss: 338.5265 - val_loss: 266.4698\n",
      "Epoch 61/100\n",
      "379/379 [==============================] - 0s 233us/step - loss: 332.6510 - val_loss: 262.1476\n",
      "Epoch 62/100\n",
      "379/379 [==============================] - 0s 261us/step - loss: 329.5024 - val_loss: 258.1351\n",
      "Epoch 63/100\n",
      "379/379 [==============================] - 0s 255us/step - loss: 325.2551 - val_loss: 253.8836\n",
      "Epoch 64/100\n",
      "379/379 [==============================] - 0s 258us/step - loss: 321.6411 - val_loss: 249.3791\n",
      "Epoch 65/100\n",
      "379/379 [==============================] - 0s 245us/step - loss: 317.7425 - val_loss: 244.2812\n",
      "Epoch 66/100\n",
      "379/379 [==============================] - 0s 258us/step - loss: 312.8048 - val_loss: 238.6599\n",
      "Epoch 67/100\n",
      "379/379 [==============================] - 0s 239us/step - loss: 310.0661 - val_loss: 231.7219\n",
      "Epoch 68/100\n",
      "379/379 [==============================] - 0s 245us/step - loss: 304.8020 - val_loss: 222.7489\n",
      "Epoch 69/100\n",
      "379/379 [==============================] - 0s 255us/step - loss: 299.3556 - val_loss: 213.2593\n",
      "Epoch 70/100\n",
      "379/379 [==============================] - 0s 253us/step - loss: 293.4179 - val_loss: 202.5365\n",
      "Epoch 71/100\n",
      "379/379 [==============================] - 0s 240us/step - loss: 287.6220 - val_loss: 192.9320\n",
      "Epoch 72/100\n",
      "379/379 [==============================] - 0s 250us/step - loss: 285.7955 - val_loss: 186.5451\n",
      "Epoch 73/100\n",
      "379/379 [==============================] - 0s 245us/step - loss: 279.2534 - val_loss: 183.4706\n",
      "Epoch 74/100\n",
      "379/379 [==============================] - 0s 276us/step - loss: 276.6815 - val_loss: 183.4446\n",
      "Epoch 75/100\n",
      "379/379 [==============================] - 0s 249us/step - loss: 272.4973 - val_loss: 185.3812\n",
      "Epoch 76/100\n",
      "379/379 [==============================] - 0s 242us/step - loss: 268.8555 - val_loss: 189.6489\n"
     ]
    },
    {
     "name": "stdout",
     "output_type": "stream",
     "text": [
      "Epoch 77/100\n",
      "379/379 [==============================] - 0s 242us/step - loss: 263.9236 - val_loss: 195.7713\n",
      "Epoch 78/100\n",
      "379/379 [==============================] - 0s 255us/step - loss: 260.5092 - val_loss: 202.6742\n",
      "Epoch 79/100\n",
      "379/379 [==============================] - 0s 245us/step - loss: 256.7712 - val_loss: 208.5512\n",
      "Epoch 80/100\n",
      "379/379 [==============================] - 0s 245us/step - loss: 254.0020 - val_loss: 212.1134\n",
      "Epoch 81/100\n",
      "379/379 [==============================] - 0s 245us/step - loss: 251.8787 - val_loss: 213.5305\n",
      "Epoch 82/100\n",
      "379/379 [==============================] - 0s 237us/step - loss: 248.5002 - val_loss: 212.5414\n",
      "Epoch 83/100\n",
      "379/379 [==============================] - 0s 258us/step - loss: 243.4228 - val_loss: 210.0705\n",
      "Epoch 84/100\n",
      "379/379 [==============================] - 0s 245us/step - loss: 242.0824 - val_loss: 205.9733\n",
      "Epoch 85/100\n",
      "379/379 [==============================] - 0s 253us/step - loss: 240.6344 - val_loss: 201.0364\n",
      "Epoch 86/100\n",
      "379/379 [==============================] - 0s 234us/step - loss: 236.5296 - val_loss: 194.9954\n",
      "Epoch 87/100\n",
      "379/379 [==============================] - 0s 253us/step - loss: 233.7648 - val_loss: 188.8412\n",
      "Epoch 88/100\n",
      "379/379 [==============================] - 0s 240us/step - loss: 232.3472 - val_loss: 183.5588\n",
      "Epoch 89/100\n",
      "379/379 [==============================] - 0s 247us/step - loss: 230.6227 - val_loss: 179.1070\n",
      "Epoch 90/100\n",
      "379/379 [==============================] - 0s 256us/step - loss: 228.1918 - val_loss: 175.1841\n",
      "Epoch 91/100\n",
      "379/379 [==============================] - 0s 247us/step - loss: 226.3756 - val_loss: 170.0882\n",
      "Epoch 92/100\n",
      "379/379 [==============================] - 0s 242us/step - loss: 223.0240 - val_loss: 163.2317\n",
      "Epoch 93/100\n",
      "379/379 [==============================] - 0s 247us/step - loss: 216.5271 - val_loss: 152.3397\n",
      "Epoch 94/100\n",
      "379/379 [==============================] - 0s 237us/step - loss: 205.4395 - val_loss: 141.5173\n",
      "Epoch 95/100\n",
      "379/379 [==============================] - 0s 241us/step - loss: 182.5145 - val_loss: 133.3163\n",
      "Epoch 96/100\n",
      "379/379 [==============================] - 0s 253us/step - loss: 171.6934 - val_loss: 128.0392\n",
      "Epoch 97/100\n",
      "379/379 [==============================] - 0s 268us/step - loss: 169.2755 - val_loss: 125.2522\n",
      "Epoch 98/100\n",
      "379/379 [==============================] - 0s 234us/step - loss: 166.6753 - val_loss: 124.8481\n",
      "Epoch 99/100\n",
      "379/379 [==============================] - 0s 239us/step - loss: 163.0719 - val_loss: 125.4441\n",
      "Epoch 100/100\n",
      "379/379 [==============================] - 0s 242us/step - loss: 160.1486 - val_loss: 126.3038\n"
     ]
    },
    {
     "data": {
      "text/plain": [
       "<keras.callbacks.History at 0x20472a28588>"
      ]
     },
     "execution_count": 35,
     "metadata": {},
     "output_type": "execute_result"
    }
   ],
   "source": [
    "finish_model.fit([image_train_target, day_train_target], label_train_target, epochs=100, batch_size=462,\n",
    "validation_data=([image_test_target,day_test_target], label_test_target))"
   ]
  },
  {
   "cell_type": "code",
   "execution_count": 36,
   "metadata": {},
   "outputs": [],
   "source": [
    "model_pre = finish_model.predict([image_test_target,day_test_target])"
   ]
  },
  {
   "cell_type": "code",
   "execution_count": 37,
   "metadata": {},
   "outputs": [
    {
     "name": "stdout",
     "output_type": "stream",
     "text": [
      "mape = 0.2113231710602907\n",
      "smape = 0.1623835174380695\n",
      "mae = 8.379577988135262\n"
     ]
    }
   ],
   "source": [
    "#transfer with DAN 预测精度计算\n",
    "\n",
    "mape_mean = mape_loss_func(model_pre, label_test_target)\n",
    "smape_mean = smape_loss_func(model_pre, label_test_target)\n",
    "mae_mean = mae_loss_func(model_pre, label_test_target)\n",
    "\n",
    "print('mape = ' + str(mape_mean) + '\\n' + 'smape = ' + str(smape_mean) + '\\n' + 'mae = ' + str(mae_mean))"
   ]
  },
  {
   "cell_type": "code",
   "execution_count": 38,
   "metadata": {
    "scrolled": true
   },
   "outputs": [
    {
     "data": {
      "text/plain": [
       "23    0.059805\n",
       "12    0.067795\n",
       "16    0.075069\n",
       "6     0.089917\n",
       "25    0.094435\n",
       "29    0.105310\n",
       "4     0.106422\n",
       "8     0.113243\n",
       "13    0.114430\n",
       "15    0.125810\n",
       "19    0.131992\n",
       "9     0.132237\n",
       "27    0.132476\n",
       "28    0.146909\n",
       "1     0.159441\n",
       "22    0.163477\n",
       "10    0.173699\n",
       "11    0.188523\n",
       "14    0.202844\n",
       "18    0.208890\n",
       "7     0.208979\n",
       "3     0.237249\n",
       "24    0.287715\n",
       "21    0.291012\n",
       "20    0.322721\n",
       "2     0.338975\n",
       "0     0.385404\n",
       "26    0.439839\n",
       "17    0.582887\n",
       "5     0.652423\n",
       "dtype: float64"
      ]
     },
     "execution_count": 38,
     "metadata": {},
     "output_type": "execute_result"
    }
   ],
   "source": [
    "mape_list = []\n",
    "for i in range(num_links):\n",
    "    a1 = mape_loss_func(model_pre[:,i,:], label_test_target[:,i,:])\n",
    "    mape_list.append(a1)\n",
    "\n",
    "mape_pd = pd.Series(mape_list)\n",
    "mape_pd.sort_values()"
   ]
  },
  {
   "cell_type": "code",
   "execution_count": null,
   "metadata": {},
   "outputs": [],
   "source": []
  },
  {
   "cell_type": "code",
   "execution_count": null,
   "metadata": {},
   "outputs": [],
   "source": []
  }
 ],
 "metadata": {
  "interpreter": {
   "hash": "6b092d8890fbfc1935d95d43d0881a7b3742c06492f450993a24f5c2e6237594"
  },
  "kernelspec": {
   "display_name": "dan_traff",
   "language": "python",
   "name": "dan_traff"
  },
  "language_info": {
   "codemirror_mode": {
    "name": "ipython",
    "version": 3
   },
   "file_extension": ".py",
   "mimetype": "text/x-python",
   "name": "python",
   "nbconvert_exporter": "python",
   "pygments_lexer": "ipython3",
   "version": "3.6.13"
  }
 },
 "nbformat": 4,
 "nbformat_minor": 4
}
