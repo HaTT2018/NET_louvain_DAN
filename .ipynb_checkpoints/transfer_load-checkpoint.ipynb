{
 "cells": [
  {
   "cell_type": "markdown",
   "metadata": {},
   "source": [
    "# to do：\n",
    "- 回顾之前写的划分MFD的notebook，添加定量分析的函数（CHindex（在写好的部分论文里），NSk，TV）。\n",
    "- 选出数据，喂到这个notebook里\n",
    "- adaptation loss前面的lambda用两个类之间的KL散度\n",
    "- boundary adjustment的时候考虑双向，尽量提供错位的数据，即两个方向可能属于不同类\n",
    "\n",
    "- 寻找reinforcement learning用于CAV的算法"
   ]
  },
  {
   "cell_type": "code",
   "execution_count": 1,
   "metadata": {},
   "outputs": [
    {
     "name": "stderr",
     "output_type": "stream",
     "text": [
      "C:\\ProgramData\\Anaconda3\\lib\\site-packages\\tensorflow\\python\\framework\\dtypes.py:516: FutureWarning: Passing (type, 1) or '1type' as a synonym of type is deprecated; in a future version of numpy, it will be understood as (type, (1,)) / '(1,)type'.\n",
      "  _np_qint8 = np.dtype([(\"qint8\", np.int8, 1)])\n",
      "C:\\ProgramData\\Anaconda3\\lib\\site-packages\\tensorflow\\python\\framework\\dtypes.py:517: FutureWarning: Passing (type, 1) or '1type' as a synonym of type is deprecated; in a future version of numpy, it will be understood as (type, (1,)) / '(1,)type'.\n",
      "  _np_quint8 = np.dtype([(\"quint8\", np.uint8, 1)])\n",
      "C:\\ProgramData\\Anaconda3\\lib\\site-packages\\tensorflow\\python\\framework\\dtypes.py:518: FutureWarning: Passing (type, 1) or '1type' as a synonym of type is deprecated; in a future version of numpy, it will be understood as (type, (1,)) / '(1,)type'.\n",
      "  _np_qint16 = np.dtype([(\"qint16\", np.int16, 1)])\n",
      "C:\\ProgramData\\Anaconda3\\lib\\site-packages\\tensorflow\\python\\framework\\dtypes.py:519: FutureWarning: Passing (type, 1) or '1type' as a synonym of type is deprecated; in a future version of numpy, it will be understood as (type, (1,)) / '(1,)type'.\n",
      "  _np_quint16 = np.dtype([(\"quint16\", np.uint16, 1)])\n",
      "C:\\ProgramData\\Anaconda3\\lib\\site-packages\\tensorflow\\python\\framework\\dtypes.py:520: FutureWarning: Passing (type, 1) or '1type' as a synonym of type is deprecated; in a future version of numpy, it will be understood as (type, (1,)) / '(1,)type'.\n",
      "  _np_qint32 = np.dtype([(\"qint32\", np.int32, 1)])\n",
      "C:\\ProgramData\\Anaconda3\\lib\\site-packages\\tensorflow\\python\\framework\\dtypes.py:525: FutureWarning: Passing (type, 1) or '1type' as a synonym of type is deprecated; in a future version of numpy, it will be understood as (type, (1,)) / '(1,)type'.\n",
      "  np_resource = np.dtype([(\"resource\", np.ubyte, 1)])\n",
      "C:\\ProgramData\\Anaconda3\\lib\\site-packages\\tensorboard\\compat\\tensorflow_stub\\dtypes.py:541: FutureWarning: Passing (type, 1) or '1type' as a synonym of type is deprecated; in a future version of numpy, it will be understood as (type, (1,)) / '(1,)type'.\n",
      "  _np_qint8 = np.dtype([(\"qint8\", np.int8, 1)])\n",
      "C:\\ProgramData\\Anaconda3\\lib\\site-packages\\tensorboard\\compat\\tensorflow_stub\\dtypes.py:542: FutureWarning: Passing (type, 1) or '1type' as a synonym of type is deprecated; in a future version of numpy, it will be understood as (type, (1,)) / '(1,)type'.\n",
      "  _np_quint8 = np.dtype([(\"quint8\", np.uint8, 1)])\n",
      "C:\\ProgramData\\Anaconda3\\lib\\site-packages\\tensorboard\\compat\\tensorflow_stub\\dtypes.py:543: FutureWarning: Passing (type, 1) or '1type' as a synonym of type is deprecated; in a future version of numpy, it will be understood as (type, (1,)) / '(1,)type'.\n",
      "  _np_qint16 = np.dtype([(\"qint16\", np.int16, 1)])\n",
      "C:\\ProgramData\\Anaconda3\\lib\\site-packages\\tensorboard\\compat\\tensorflow_stub\\dtypes.py:544: FutureWarning: Passing (type, 1) or '1type' as a synonym of type is deprecated; in a future version of numpy, it will be understood as (type, (1,)) / '(1,)type'.\n",
      "  _np_quint16 = np.dtype([(\"quint16\", np.uint16, 1)])\n",
      "C:\\ProgramData\\Anaconda3\\lib\\site-packages\\tensorboard\\compat\\tensorflow_stub\\dtypes.py:545: FutureWarning: Passing (type, 1) or '1type' as a synonym of type is deprecated; in a future version of numpy, it will be understood as (type, (1,)) / '(1,)type'.\n",
      "  _np_qint32 = np.dtype([(\"qint32\", np.int32, 1)])\n",
      "C:\\ProgramData\\Anaconda3\\lib\\site-packages\\tensorboard\\compat\\tensorflow_stub\\dtypes.py:550: FutureWarning: Passing (type, 1) or '1type' as a synonym of type is deprecated; in a future version of numpy, it will be understood as (type, (1,)) / '(1,)type'.\n",
      "  np_resource = np.dtype([(\"resource\", np.ubyte, 1)])\n",
      "Using TensorFlow backend.\n"
     ]
    }
   ],
   "source": [
    "import time\n",
    "import math\n",
    "import tensorflow as tf\n",
    "import keras \n",
    "import numpy as np\n",
    "import pandas as pd\n",
    "import ipdb\n",
    "from keras.models import load_model,Model\n",
    "from keras.engine.topology import Layer"
   ]
  },
  {
   "cell_type": "code",
   "execution_count": 2,
   "metadata": {},
   "outputs": [],
   "source": [
    "# 定义融合层，将深度学习算法与历史均值算法融合\n",
    "class Merge_Layer(Layer):\n",
    "    def __init__(self, **kwargs):\n",
    "        super(Merge_Layer, self).__init__(**kwargs)\n",
    "\n",
    "    def build(self, input_shape):\n",
    "        self.para1 = self.add_weight(shape=(input_shape[0][1], input_shape[0][2]),\n",
    "                                     initializer='uniform', trainable=True,\n",
    "                                     name='para1')\n",
    "        self.para2 = self.add_weight(shape=(input_shape[1][1], input_shape[1][2]),\n",
    "                                     initializer='uniform', trainable=True,\n",
    "                                     name='para2')\n",
    "        super(Merge_Layer, self).build(input_shape)\n",
    "\n",
    "    def call(self, inputs):\n",
    "        mat1 = inputs[0]\n",
    "        mat2 = inputs[1]\n",
    "        output = mat1 * self.para1 + mat2 * self.para2\n",
    "        # output = mat1 * 0.1 + mat2 * 0.9\n",
    "        return output\n",
    "\n",
    "    def compute_output_shape(self, input_shape):\n",
    "        return input_shape[0]"
   ]
  },
  {
   "cell_type": "code",
   "execution_count": 3,
   "metadata": {},
   "outputs": [],
   "source": [
    "#定义精度评价指标。为防止0值附近相对误差过大而导致的异常，定义mask层。\n",
    "def mape_loss_func(preds, labels):\n",
    "    mask = labels > 5\n",
    "    return np.mean(np.fabs(labels[mask]-preds[mask])/labels[mask])\n",
    "\n",
    "def smape_loss_func(preds, labels):\n",
    "    mask= labels > 5\n",
    "    return np.mean(2*np.fabs(labels[mask]-preds[mask])/(np.fabs(labels[mask])+np.fabs(preds[mask])))\n",
    "\n",
    "def mae_loss_func(preds, labels):\n",
    "    mask= labels > 5\n",
    "    return np.fabs((labels[mask]-preds[mask])).mean()\n",
    "\n",
    "def eliminate_nan(b):\n",
    "    a = np.array(b)\n",
    "    c = a[~np.isnan(a)]\n",
    "    return c"
   ]
  },
  {
   "cell_type": "markdown",
   "metadata": {},
   "source": [
    "## 把速度矩阵分类"
   ]
  },
  {
   "cell_type": "code",
   "execution_count": 4,
   "metadata": {},
   "outputs": [],
   "source": [
    "randseed = 3\n",
    "class1 = 0\n",
    "class2 = 1\n",
    "v = pd.read_csv('./data/v_20_aggragated.csv')\n",
    "v = v.rename(columns={'Unnamed: 0': 'id'})\n",
    "det_with_class = pd.read_csv('./res/%i_id_402_withclass.csv'%randseed, index_col=0)\n",
    "\n",
    "v['class_i'] = ''\n",
    "for i in range(len(v)):\n",
    "    v.loc[i, 'class_i'] = det_with_class[det_with_class['id']==v.loc[i, 'id']].iloc[0, 5]  # 5 stands for 'class_i'\n",
    "\n",
    "v_class1 = v[v['class_i']==class1]\n",
    "v_class2 = v[v['class_i']==class2]"
   ]
  },
  {
   "cell_type": "markdown",
   "metadata": {},
   "source": [
    "## 制作 nearest_road_id.csv 和speed.csv"
   ]
  },
  {
   "cell_type": "code",
   "execution_count": 5,
   "metadata": {},
   "outputs": [],
   "source": [
    "dist_mat = pd.read_csv('./data/dist_mat.csv', index_col=0)\n",
    "id_info = pd.read_csv('./data/id2000.csv', index_col=0)\n",
    "dist_mat.index = id_info['id2']\n",
    "dist_mat.columns = id_info['id2']\n",
    "for i in range(len(dist_mat)):\n",
    "    for j in range(len(dist_mat)):\n",
    "        if i==j:\n",
    "            dist_mat.iloc[i, j] = 0\n",
    "\n",
    "near_id = pd.DataFrame(np.argsort(np.array(dist_mat)), index = id_info['id2'], columns = id_info['id2'])"
   ]
  },
  {
   "cell_type": "markdown",
   "metadata": {},
   "source": [
    "## 以上做好了near_road矩阵，接下来做flow/speed矩阵"
   ]
  },
  {
   "cell_type": "code",
   "execution_count": 6,
   "metadata": {},
   "outputs": [],
   "source": [
    "def get_node(det, seg):\n",
    "    # det is one single detector id\n",
    "    # node is one single node id\n",
    "    \n",
    "    # seg = pd.read_csv('./data/segement.csv', header=None)\n",
    "    try:\n",
    "        node_info = seg[seg[6]==det]\n",
    "        node = node_info.iloc[0, 0]\n",
    "    except:\n",
    "        node_info = seg[seg[7]==det]\n",
    "        node = node_info.iloc[0, 0]\n",
    "        \n",
    "    return node"
   ]
  },
  {
   "cell_type": "code",
   "execution_count": 7,
   "metadata": {},
   "outputs": [],
   "source": [
    "def get_class_with_node(seg, v_class):\n",
    "    det_list_class = np.array([])\n",
    "    try:\n",
    "        v_class.insert(1, 'id2', '')  # id2 mean node id\n",
    "    except:\n",
    "        v_class['id2'] = ''\n",
    "        \n",
    "    for i in range(len(v_class)):\n",
    "        det_list_class = np.append(det_list_class, v_class.iloc[i, 0])\n",
    "        v_class.iloc[i, 1] = get_node(v_class.iloc[i, 0], seg)\n",
    "    \n",
    "    return det_list_class, v_class"
   ]
  },
  {
   "cell_type": "code",
   "execution_count": 8,
   "metadata": {},
   "outputs": [],
   "source": [
    "def rds_mat(old_dist_mat, det_ids):\n",
    "    # get a matrix that contains n raods that have specified node id s\n",
    "    node_ids = np.array([])\n",
    "    for i in det_ids:\n",
    "        node_ids = np.append(node_ids, get_node(i, seg))\n",
    "        \n",
    "    new_dist_mat = old_dist_mat.loc[node_ids, node_ids]\n",
    "    old_dist_mat = np.array(old_dist_mat)\n",
    "    new_near_id_mat = np.argsort(new_dist_mat)\n",
    "    return new_near_id_mat"
   ]
  },
  {
   "cell_type": "code",
   "execution_count": 9,
   "metadata": {},
   "outputs": [
    {
     "name": "stderr",
     "output_type": "stream",
     "text": [
      "C:\\ProgramData\\Anaconda3\\lib\\site-packages\\pandas\\core\\indexing.py:543: SettingWithCopyWarning: \n",
      "A value is trying to be set on a copy of a slice from a DataFrame.\n",
      "Try using .loc[row_indexer,col_indexer] = value instead\n",
      "\n",
      "See the caveats in the documentation: http://pandas.pydata.org/pandas-docs/stable/indexing.html#indexing-view-versus-copy\n",
      "  self.obj[item] = s\n"
     ]
    }
   ],
   "source": [
    "seg = pd.read_csv('./data/segement.csv', header=None)\n",
    "\n",
    "det_list_class1, v_class1 = get_class_with_node(seg, v_class1)\n",
    "det_list_class2, v_class2 = get_class_with_node(seg, v_class2)"
   ]
  },
  {
   "cell_type": "code",
   "execution_count": 10,
   "metadata": {
    "scrolled": true
   },
   "outputs": [],
   "source": [
    "num_dets = 30\n",
    "\n",
    "near_road1 = rds_mat(dist_mat, det_list_class1[:num_dets])\n",
    "near_road2 = rds_mat(dist_mat, det_list_class2[:num_dets])"
   ]
  },
  {
   "cell_type": "code",
   "execution_count": 11,
   "metadata": {},
   "outputs": [],
   "source": [
    "v_class1 = v_class1[v_class1['id'].isin(det_list_class1[:num_dets])]\n",
    "v_class2 = v_class2[v_class2['id'].isin(det_list_class2[:num_dets])]"
   ]
  },
  {
   "cell_type": "markdown",
   "metadata": {},
   "source": [
    "# 源代码如下"
   ]
  },
  {
   "cell_type": "code",
   "execution_count": 14,
   "metadata": {},
   "outputs": [
    {
     "name": "stdout",
     "output_type": "stream",
     "text": [
      "(30, 30)\n",
      "(30, 5222)\n"
     ]
    }
   ],
   "source": [
    "print(near_road.shape)\n",
    "print(flow.shape)"
   ]
  },
  {
   "cell_type": "code",
   "execution_count": 14,
   "metadata": {},
   "outputs": [
    {
     "name": "stdout",
     "output_type": "stream",
     "text": [
      "(30, 30)\n",
      "(30, 4464)\n"
     ]
    }
   ],
   "source": [
    "print(near_road.shape)\n",
    "print(flow.shape)"
   ]
  },
  {
   "cell_type": "code",
   "execution_count": 12,
   "metadata": {},
   "outputs": [
    {
     "name": "stdout",
     "output_type": "stream",
     "text": [
      "(3795, 5, 12, 30)\n",
      "(3795, 30, 3)\n",
      "(3795, 30, 3)\n",
      "input done 0.0339088\n"
     ]
    }
   ],
   "source": [
    "# near_road = np.array(pd.read_csv('./data/network/2small_network_nearest_road_id.csv',header = 0))\n",
    "# flow = np.array(pd.read_csv('./data/network/2small_network_speed.csv', header= 0)) #注意header=0 or None\n",
    "near_road = np.array(near_road1)\n",
    "flow = np.array(v_class1.iloc[:, 2:-1])\n",
    "\n",
    "# 利用滑动窗口的方式，重构数据为(n，最近路段数，输入时间窗，总路段数)的形式\n",
    "\n",
    "time3 = time.time()\n",
    "\n",
    "k = 5 # 参数k为需考虑的最近路段数\n",
    "t_p = 24 # 参数t_p为总时间序列长度（天）\n",
    "t_input = 12 #参数t_input为输入时间窗(5min颗粒度)\n",
    "t_pre = 3 #参数t_pre为预测时间窗(5min颗粒度)\n",
    "num_links = 30 #参数num_links为总路段数\n",
    "\n",
    "\n",
    "image = []\n",
    "for i in range(np.shape(near_road)[0]):\n",
    "    road_id = []\n",
    "    for j in range(k):\n",
    "        road_id.append(near_road[i][j])\n",
    "    image.append(flow[road_id, :])\n",
    "image1 = np.reshape(image, [-1, k, len(flow[0,:])])\n",
    "image2 = np.transpose(image1,(1,2,0))\n",
    "image3 = []\n",
    "label = []\n",
    "day = []\n",
    "\n",
    "for i in range(1,t_p):\n",
    "    for j in range(180-t_input-t_pre):\n",
    "        image3.append(image2[:, i*180+j:i*180+j+t_input, :][:])\n",
    "        label.append(flow[:, i*180+j+t_input:i*180+j+t_input+t_pre][:])\n",
    "        day.append(flow[:, (i-1)*180+j+t_input:(i-1)*180+j+t_input+t_pre][:])\n",
    "        \n",
    "# ipdb.set_trace()\n",
    "\n",
    "image3 = np.asarray(image3)\n",
    "label = np.asarray(label)\n",
    "day =  np.asarray(day)\n",
    "\n",
    "print(np.shape(image3))\n",
    "print(np.shape(label))\n",
    "print(np.shape(day))\n",
    "\n",
    "#划分前90%数据为训练集，最后10%数据为测试集\n",
    "image_train_source = image3[:np.shape(image3)[0]*1//10]\n",
    "image_test_source = image3[np.shape(image3)[0]*1//10:]\n",
    "label_train_source = label[:np.shape(label)[0]*1//10]\n",
    "label_test_source = label[np.shape(label)[0]*1//10:]\n",
    "\n",
    "day_train_source = day[:np.shape(day)[0]*1//10]\n",
    "day_test_source = day[np.shape(day)[0]*1//10:]\n",
    "\n",
    "\n",
    "time4 = time.time()\n",
    "print('input done %g' % (time4-time3))"
   ]
  },
  {
   "cell_type": "code",
   "execution_count": 13,
   "metadata": {},
   "outputs": [
    {
     "name": "stdout",
     "output_type": "stream",
     "text": [
      "(3795, 5, 12, 30)\n",
      "(3795, 30, 3)\n",
      "(3795, 30, 3)\n",
      "input done 0.0368655\n"
     ]
    }
   ],
   "source": [
    "# near_road = np.array(pd.read_csv('./data/transfer_learning_traffic_data/small_network_nearest_road_id.csv',header = 0))\n",
    "# flow = np.array(pd.read_csv('./data/transfer_learning_traffic_data/small_network_speed.csv', header= 0)) #注意header=0 or None\n",
    "near_road = np.array(near_road2)\n",
    "flow = np.array(v_class2.iloc[:, 2:-1])\n",
    "\n",
    "# 利用滑动窗口的方式，重构数据为(n，最近路段数，输入时间窗，总路段数)的形式\n",
    "\n",
    "time3 = time.time()\n",
    "\n",
    "k = 5 # 参数k为需考虑的最近路段数\n",
    "t_p = 24 # 参数t_p为总时间序列长度（天）\n",
    "t_input = 12 #参数t_input为输入时间窗(5min颗粒度)\n",
    "t_pre = 3 #参数t_pre为预测时间窗(5min颗粒度)\n",
    "num_links = 30 #参数num_links为总路段数\n",
    "\n",
    "\n",
    "image = []\n",
    "for i in range(np.shape(near_road)[0]):\n",
    "    road_id = []\n",
    "    for j in range(k):\n",
    "        road_id.append(near_road[i][j])\n",
    "    image.append(flow[road_id, :])\n",
    "image1 = np.reshape(image, [-1, k, len(flow[0,:])])\n",
    "image2 = np.transpose(image1,(1,2,0))\n",
    "image3 = []\n",
    "label = []\n",
    "day = []\n",
    "\n",
    "for i in range(1,t_p):\n",
    "    for j in range(180-t_input-t_pre):\n",
    "        image3.append(image2[:, i*180+j:i*180+j+t_input, :][:])\n",
    "        label.append(flow[:, i*180+j+t_input:i*180+j+t_input+t_pre][:])\n",
    "        day.append(flow[:, (i-1)*180+j+t_input:(i-1)*180+j+t_input+t_pre][:])\n",
    "\n",
    "image3 = np.asarray(image3)\n",
    "label = np.asarray(label)\n",
    "day =  np.asarray(day)\n",
    "\n",
    "print(np.shape(image3))\n",
    "print(np.shape(label))\n",
    "print(np.shape(day))\n",
    "\n",
    "#划分前80%数据为训练集，最后20%数据为测试集\n",
    "image_train_target = image3[:np.shape(image3)[0]*1//10]\n",
    "image_test_target = image3[np.shape(image3)[0]*1//10:]\n",
    "label_train_target = label[:np.shape(label)[0]*1//10]\n",
    "label_test_target = label[np.shape(label)[0]*1//10:]\n",
    "\n",
    "day_train_target = day[:np.shape(day)[0]*1//10]\n",
    "day_test_target = day[np.shape(day)[0]*1//10:]\n",
    "\n",
    "\n",
    "time4 = time.time()\n",
    "print('input done %g' % (time4-time3))"
   ]
  },
  {
   "cell_type": "code",
   "execution_count": 14,
   "metadata": {
    "tags": [
     "outputPrepend"
    ]
   },
   "outputs": [
    {
     "name": "stdout",
     "output_type": "stream",
     "text": [
      "WARNING:tensorflow:From C:\\ProgramData\\Anaconda3\\lib\\site-packages\\keras\\backend\\tensorflow_backend.py:517: The name tf.placeholder is deprecated. Please use tf.compat.v1.placeholder instead.\n",
      "\n",
      "WARNING:tensorflow:From C:\\ProgramData\\Anaconda3\\lib\\site-packages\\keras\\backend\\tensorflow_backend.py:74: The name tf.get_default_graph is deprecated. Please use tf.compat.v1.get_default_graph instead.\n",
      "\n",
      "WARNING:tensorflow:From C:\\ProgramData\\Anaconda3\\lib\\site-packages\\keras\\backend\\tensorflow_backend.py:174: The name tf.get_default_session is deprecated. Please use tf.compat.v1.get_default_session instead.\n",
      "\n",
      "WARNING:tensorflow:From C:\\ProgramData\\Anaconda3\\lib\\site-packages\\keras\\backend\\tensorflow_backend.py:181: The name tf.ConfigProto is deprecated. Please use tf.compat.v1.ConfigProto instead.\n",
      "\n",
      "WARNING:tensorflow:From C:\\ProgramData\\Anaconda3\\lib\\site-packages\\keras\\backend\\tensorflow_backend.py:186: The name tf.Session is deprecated. Please use tf.compat.v1.Session instead.\n",
      "\n",
      "WARNING:tensorflow:From C:\\ProgramData\\Anaconda3\\lib\\site-packages\\keras\\backend\\tensorflow_backend.py:1834: The name tf.nn.fused_batch_norm is deprecated. Please use tf.compat.v1.nn.fused_batch_norm instead.\n",
      "\n",
      "WARNING:tensorflow:From C:\\ProgramData\\Anaconda3\\lib\\site-packages\\keras\\backend\\tensorflow_backend.py:3980: The name tf.nn.avg_pool is deprecated. Please use tf.nn.avg_pool2d instead.\n",
      "\n",
      "WARNING:tensorflow:From C:\\ProgramData\\Anaconda3\\lib\\site-packages\\keras\\backend\\tensorflow_backend.py:3445: calling dropout (from tensorflow.python.ops.nn_ops) with keep_prob is deprecated and will be removed in a future version.\n",
      "Instructions for updating:\n",
      "Please use `rate` instead of `keep_prob`. Rate should be set to `rate = 1 - keep_prob`.\n",
      "__________________________________________________________________________________________________\n",
      "Layer (type)                    Output Shape         Param #     Connected to                     \n",
      "==================================================================================================\n",
      "input_data (InputLayer)         (None, 5, 12, 30)    0                                            \n",
      "__________________________________________________________________________________________________\n",
      "batch_normalization_1 (BatchNor (None, 5, 12, 30)    120         input_data[0][0]                 \n",
      "__________________________________________________________________________________________________\n",
      "conv2d_1 (Conv2D)               (None, 5, 12, 30)    8130        batch_normalization_1[0][0]      \n",
      "__________________________________________________________________________________________________\n",
      "average_pooling2d_1 (AveragePoo (None, 5, 12, 30)    0           conv2d_1[0][0]                   \n",
      "__________________________________________________________________________________________________\n",
      "batch_normalization_2 (BatchNor (None, 5, 12, 30)    120         average_pooling2d_1[0][0]        \n",
      "__________________________________________________________________________________________________\n",
      "conv2d_2 (Conv2D)               (None, 5, 12, 30)    8130        batch_normalization_2[0][0]      \n",
      "__________________________________________________________________________________________________\n",
      "average_pooling2d_2 (AveragePoo (None, 5, 12, 30)    0           conv2d_2[0][0]                   \n",
      "__________________________________________________________________________________________________\n",
      "flatten_1 (Flatten)             (None, 1800)         0           average_pooling2d_2[0][0]        \n",
      "__________________________________________________________________________________________________\n",
      "batch_normalization_3 (BatchNor (None, 1800)         7200        flatten_1[0][0]                  \n",
      "__________________________________________________________________________________________________\n",
      "dropout_1 (Dropout)             (None, 1800)         0           batch_normalization_3[0][0]      \n",
      "__________________________________________________________________________________________________\n",
      "dense_1 (Dense)                 (None, 90)           162090      dropout_1[0][0]                  \n",
      "__________________________________________________________________________________________________\n",
      "reshape_1 (Reshape)             (None, 30, 3)        0           dense_1[0][0]                    \n",
      "__________________________________________________________________________________________________\n",
      "input_HA (InputLayer)           (None, 30, 3)        0                                            \n",
      "__________________________________________________________________________________________________\n",
      "merge__layer_1 (Merge_Layer)    (None, 30, 3)        180         reshape_1[0][0]                  \n",
      "                                                                 input_HA[0][0]                   \n",
      "==================================================================================================\n",
      "Total params: 185,970\n",
      "Trainable params: 182,250\n",
      "Non-trainable params: 3,720\n",
      "__________________________________________________________________________________________________\n"
     ]
    }
   ],
   "source": [
    "#模型构建\n",
    "input_data = keras.Input(shape=(k,t_input,num_links), name='input_data')\n",
    "input_HA = keras.Input(shape=(num_links, t_pre), name='input_HA')\n",
    "\n",
    "x = keras.layers.BatchNormalization(input_shape =(k,t_input,num_links))(input_data)\n",
    "\n",
    "x = keras.layers.Conv2D(\n",
    "                           filters = num_links,\n",
    "                           kernel_size = 3,\n",
    "                           strides = 1,\n",
    "                           padding=\"SAME\",\n",
    "                           activation='relu')(x)\n",
    "\n",
    "x = keras.layers.AveragePooling2D(pool_size = (2,2),\n",
    "                                strides = 1,\n",
    "                                padding = \"SAME\",\n",
    "                                )(x)\n",
    "\n",
    "x = keras.layers.BatchNormalization()(x)\n",
    "\n",
    "x = keras.layers.Conv2D(\n",
    "                       filters = num_links,\n",
    "                       kernel_size = 3,\n",
    "                       strides = 1,\n",
    "                       padding=\"SAME\",\n",
    "                       activation='relu')(x)\n",
    "\n",
    "x = keras.layers.AveragePooling2D(pool_size = (2,2),\n",
    "                                strides = 1,\n",
    "                                padding = \"SAME\",\n",
    "                                )(x)\n",
    "x = keras.layers.Flatten()(x)\n",
    "x = keras.layers.BatchNormalization()(x)\n",
    "x = keras.layers.Dropout(0.5)(x)\n",
    "x = keras.layers.Dense(num_links*t_pre, activation='relu')(x)\n",
    "\n",
    "output = keras.layers.Reshape((num_links,t_pre))(x)\n",
    "\n",
    "output_final = Merge_Layer()([output, input_HA])\n",
    "\n",
    "# construct model\n",
    "finish_model = keras.models.Model([input_data,input_HA], [output_final])\n",
    "\n",
    "finish_model.summary()\n"
   ]
  },
  {
   "cell_type": "code",
   "execution_count": 15,
   "metadata": {},
   "outputs": [],
   "source": [
    "#参数加载\n",
    "finish_model.load_weights('./model/source.h5')\n"
   ]
  },
  {
   "cell_type": "code",
   "execution_count": 16,
   "metadata": {},
   "outputs": [],
   "source": [
    "#模型预测\n",
    "model_pre = finish_model.predict([image_test_target,day_test_target])\n"
   ]
  },
  {
   "cell_type": "code",
   "execution_count": 17,
   "metadata": {},
   "outputs": [],
   "source": [
    "#预测结果存储\n",
    "# model_pre = np.reshape(model_pre,[103, 6])\n",
    "# model_pre1 = pd.DataFrame(model_pre)\n",
    "# model_pre1.to_csv('预测值.csv', index = False)"
   ]
  },
  {
   "cell_type": "code",
   "execution_count": 18,
   "metadata": {},
   "outputs": [
    {
     "name": "stdout",
     "output_type": "stream",
     "text": [
      "mape = 0.7802823984459177\n",
      "smape = 1.3187246744990813\n",
      "mae = 48.69012338609012\n"
     ]
    }
   ],
   "source": [
    "#transfer without FT 预测精度计算\n",
    "\n",
    "mape_mean = mape_loss_func(model_pre, label_test_source)\n",
    "smape_mean = smape_loss_func(model_pre, label_test_source)\n",
    "mae_mean = mae_loss_func(model_pre, label_test_source)\n",
    "\n",
    "print('mape = ' + str(mape_mean) + '\\n' + 'smape = ' + str(smape_mean) + '\\n' + 'mae = ' + str(mae_mean))"
   ]
  },
  {
   "cell_type": "code",
   "execution_count": 20,
   "metadata": {},
   "outputs": [],
   "source": [
    "\n",
    "middle = Model(inputs=[input_data, input_HA],outputs=finish_model.get_layer('dense_1').output)"
   ]
  },
  {
   "cell_type": "code",
   "execution_count": 21,
   "metadata": {},
   "outputs": [],
   "source": [
    "middle_result_source = middle.predict([image_train_source, day_train_source])\n",
    "middle_result_target = middle.predict([image_train_target, day_train_target])"
   ]
  },
  {
   "cell_type": "code",
   "execution_count": 22,
   "metadata": {},
   "outputs": [],
   "source": [
    "from sklearn import metrics\n",
    "def mmd (x, y):\n",
    "    return metrics.mean_squared_error(x,y)"
   ]
  },
  {
   "cell_type": "code",
   "execution_count": 23,
   "metadata": {},
   "outputs": [
    {
     "data": {
      "text/plain": [
       "65.25655"
      ]
     },
     "execution_count": 23,
     "metadata": {},
     "output_type": "execute_result"
    }
   ],
   "source": [
    "mmd (middle_result_source, middle_result_target)"
   ]
  },
  {
   "cell_type": "code",
   "execution_count": null,
   "metadata": {},
   "outputs": [],
   "source": []
  },
  {
   "cell_type": "code",
   "execution_count": 24,
   "metadata": {},
   "outputs": [],
   "source": [
    "from keras import backend as K"
   ]
  },
  {
   "cell_type": "code",
   "execution_count": 25,
   "metadata": {},
   "outputs": [],
   "source": [
    "loss1 = K.mean(K.square(output_final - label_train_target), axis=-1) \n",
    "loss2 = 0.001 * mmd (middle_result_source, middle_result_target)\n",
    "overall_loss = loss1 + loss2"
   ]
  },
  {
   "cell_type": "code",
   "execution_count": 26,
   "metadata": {},
   "outputs": [],
   "source": [
    "def new_loss(output_final, label_train_target):\n",
    "    middle = Model(inputs=[input_data, input_HA],outputs=finish_model.get_layer('dense_1').output)\n",
    "    middle_result_source = middle.predict([image_train_source, day_train_source])\n",
    "    middle_result_target = middle.predict([image_train_target, day_train_target])\n",
    "\n",
    "    loss1 = K.mean(K.square(output_final - label_train_target), axis=-1) \n",
    "    loss2 = 0.001 * mmd (middle_result_source, middle_result_target)\n",
    "    overall_loss = loss1 + loss2\n",
    "    return overall_loss\n"
   ]
  },
  {
   "cell_type": "code",
   "execution_count": 27,
   "metadata": {},
   "outputs": [
    {
     "name": "stdout",
     "output_type": "stream",
     "text": [
      "WARNING:tensorflow:From C:\\ProgramData\\Anaconda3\\lib\\site-packages\\keras\\optimizers.py:790: The name tf.train.Optimizer is deprecated. Please use tf.compat.v1.train.Optimizer instead.\n",
      "\n"
     ]
    }
   ],
   "source": [
    "finish_model.compile(optimizer='adam',loss=new_loss)"
   ]
  },
  {
   "cell_type": "code",
   "execution_count": 28,
   "metadata": {
    "tags": [
     "outputPrepend"
    ]
   },
   "outputs": [
    {
     "name": "stdout",
     "output_type": "stream",
     "text": [
      "Train on 379 samples, validate on 3416 samples\n",
      "Epoch 1/100\n",
      "379/379 [==============================] - 1s 2ms/step - loss: 1341.7020 - val_loss: 1352.0992\n",
      "Epoch 2/100\n",
      "379/379 [==============================] - 0s 268us/step - loss: 1276.1478 - val_loss: 1344.6776\n",
      "Epoch 3/100\n",
      "379/379 [==============================] - 0s 263us/step - loss: 1221.7085 - val_loss: 1322.2865\n",
      "Epoch 4/100\n",
      "379/379 [==============================] - 0s 242us/step - loss: 1174.1533 - val_loss: 1298.5369\n",
      "Epoch 5/100\n",
      "379/379 [==============================] - 0s 261us/step - loss: 1132.3394 - val_loss: 1272.3666\n",
      "Epoch 6/100\n",
      "379/379 [==============================] - 0s 245us/step - loss: 1090.9009 - val_loss: 1243.1229\n",
      "Epoch 7/100\n",
      "379/379 [==============================] - 0s 248us/step - loss: 1056.8561 - val_loss: 1218.6409\n",
      "Epoch 8/100\n",
      "379/379 [==============================] - 0s 250us/step - loss: 1026.5739 - val_loss: 1197.7103\n",
      "Epoch 9/100\n",
      "379/379 [==============================] - 0s 250us/step - loss: 988.4602 - val_loss: 1182.3341\n",
      "Epoch 10/100\n",
      "379/379 [==============================] - 0s 255us/step - loss: 960.9379 - val_loss: 1170.2423\n",
      "Epoch 11/100\n",
      "379/379 [==============================] - 0s 248us/step - loss: 927.0621 - val_loss: 1158.8323\n",
      "Epoch 12/100\n",
      "379/379 [==============================] - 0s 245us/step - loss: 898.0887 - val_loss: 1145.5534\n",
      "Epoch 13/100\n",
      "379/379 [==============================] - 0s 247us/step - loss: 875.0832 - val_loss: 1129.8831\n",
      "Epoch 14/100\n",
      "379/379 [==============================] - 0s 271us/step - loss: 839.4474 - val_loss: 1112.7237\n",
      "Epoch 15/100\n",
      "379/379 [==============================] - 0s 242us/step - loss: 820.3749 - val_loss: 1093.1412\n",
      "Epoch 16/100\n",
      "379/379 [==============================] - 0s 250us/step - loss: 796.3699 - val_loss: 1068.6958\n",
      "Epoch 17/100\n",
      "379/379 [==============================] - 0s 247us/step - loss: 775.9505 - val_loss: 1039.2579\n",
      "Epoch 18/100\n",
      "379/379 [==============================] - 0s 271us/step - loss: 752.9748 - val_loss: 1004.3915\n",
      "Epoch 19/100\n",
      "379/379 [==============================] - 0s 242us/step - loss: 734.5118 - val_loss: 965.9698\n",
      "Epoch 20/100\n",
      "379/379 [==============================] - 0s 250us/step - loss: 715.2209 - val_loss: 926.1799\n",
      "Epoch 21/100\n",
      "379/379 [==============================] - 0s 258us/step - loss: 704.4717 - val_loss: 886.3169\n",
      "Epoch 22/100\n",
      "379/379 [==============================] - 0s 271us/step - loss: 679.6529 - val_loss: 848.4268\n",
      "Epoch 23/100\n",
      "379/379 [==============================] - 0s 261us/step - loss: 664.8516 - val_loss: 811.9026\n",
      "Epoch 24/100\n",
      "379/379 [==============================] - 0s 247us/step - loss: 646.7390 - val_loss: 776.5233\n",
      "Epoch 25/100\n",
      "379/379 [==============================] - 0s 247us/step - loss: 630.9368 - val_loss: 743.1156\n",
      "Epoch 26/100\n",
      "379/379 [==============================] - 0s 258us/step - loss: 615.1415 - val_loss: 710.7526\n",
      "Epoch 27/100\n",
      "379/379 [==============================] - 0s 253us/step - loss: 601.7823 - val_loss: 679.3286\n",
      "Epoch 28/100\n",
      "379/379 [==============================] - 0s 247us/step - loss: 587.7336 - val_loss: 649.3088\n",
      "Epoch 29/100\n",
      "379/379 [==============================] - 0s 300us/step - loss: 572.3958 - val_loss: 621.2725\n",
      "Epoch 30/100\n",
      "379/379 [==============================] - 0s 272us/step - loss: 563.6396 - val_loss: 595.1658\n",
      "Epoch 31/100\n",
      "379/379 [==============================] - 0s 258us/step - loss: 550.6282 - val_loss: 571.0013\n",
      "Epoch 32/100\n",
      "379/379 [==============================] - 0s 279us/step - loss: 539.2592 - val_loss: 548.4116\n",
      "Epoch 33/100\n",
      "379/379 [==============================] - 0s 268us/step - loss: 525.5127 - val_loss: 527.3475\n",
      "Epoch 34/100\n",
      "379/379 [==============================] - 0s 263us/step - loss: 516.9009 - val_loss: 508.6913\n",
      "Epoch 35/100\n",
      "379/379 [==============================] - 0s 298us/step - loss: 506.9757 - val_loss: 490.9865\n",
      "Epoch 36/100\n",
      "379/379 [==============================] - 0s 274us/step - loss: 495.8920 - val_loss: 474.4891\n",
      "Epoch 37/100\n",
      "379/379 [==============================] - 0s 255us/step - loss: 485.8631 - val_loss: 459.3727\n",
      "Epoch 38/100\n",
      "379/379 [==============================] - 0s 253us/step - loss: 476.3089 - val_loss: 445.5401\n",
      "Epoch 39/100\n",
      "379/379 [==============================] - 0s 247us/step - loss: 466.0980 - val_loss: 431.6352\n",
      "Epoch 40/100\n",
      "379/379 [==============================] - 0s 247us/step - loss: 459.1412 - val_loss: 417.9128\n",
      "Epoch 41/100\n",
      "379/379 [==============================] - 0s 274us/step - loss: 451.5218 - val_loss: 404.7690\n",
      "Epoch 42/100\n",
      "379/379 [==============================] - 0s 284us/step - loss: 441.7269 - val_loss: 392.2703\n",
      "Epoch 43/100\n",
      "379/379 [==============================] - 0s 258us/step - loss: 436.2062 - val_loss: 380.3266\n",
      "Epoch 44/100\n",
      "379/379 [==============================] - 0s 274us/step - loss: 427.4791 - val_loss: 368.5105\n",
      "Epoch 45/100\n",
      "379/379 [==============================] - 0s 289us/step - loss: 420.1266 - val_loss: 357.7757\n",
      "Epoch 46/100\n",
      "379/379 [==============================] - 0s 258us/step - loss: 414.5408 - val_loss: 347.5358\n",
      "Epoch 47/100\n",
      "379/379 [==============================] - 0s 268us/step - loss: 408.2135 - val_loss: 338.6833\n",
      "Epoch 48/100\n",
      "379/379 [==============================] - 0s 257us/step - loss: 399.6790 - val_loss: 331.0074\n",
      "Epoch 49/100\n",
      "379/379 [==============================] - 0s 242us/step - loss: 395.9005 - val_loss: 324.6530\n",
      "Epoch 50/100\n",
      "379/379 [==============================] - 0s 279us/step - loss: 388.6640 - val_loss: 318.7106\n",
      "Epoch 51/100\n",
      "379/379 [==============================] - 0s 268us/step - loss: 382.8769 - val_loss: 313.9720\n",
      "Epoch 52/100\n",
      "379/379 [==============================] - 0s 255us/step - loss: 377.4542 - val_loss: 309.0803\n",
      "Epoch 53/100\n",
      "379/379 [==============================] - 0s 258us/step - loss: 372.0362 - val_loss: 304.3900\n",
      "Epoch 54/100\n",
      "379/379 [==============================] - 0s 253us/step - loss: 364.7058 - val_loss: 299.7496\n",
      "Epoch 55/100\n",
      "379/379 [==============================] - 0s 275us/step - loss: 361.5871 - val_loss: 295.5352\n",
      "Epoch 56/100\n",
      "379/379 [==============================] - 0s 253us/step - loss: 356.9860 - val_loss: 291.1577\n",
      "Epoch 57/100\n",
      "379/379 [==============================] - 0s 239us/step - loss: 351.4805 - val_loss: 286.5302\n",
      "Epoch 58/100\n",
      "379/379 [==============================] - 0s 268us/step - loss: 348.8986 - val_loss: 281.8413\n",
      "Epoch 59/100\n",
      "379/379 [==============================] - 0s 239us/step - loss: 345.2855 - val_loss: 277.4603\n",
      "Epoch 60/100\n",
      "379/379 [==============================] - 0s 255us/step - loss: 339.3087 - val_loss: 272.9662\n",
      "Epoch 61/100\n",
      "379/379 [==============================] - 0s 258us/step - loss: 335.8746 - val_loss: 268.5167\n",
      "Epoch 62/100\n",
      "379/379 [==============================] - 0s 251us/step - loss: 331.2379 - val_loss: 264.2463\n",
      "Epoch 63/100\n",
      "379/379 [==============================] - 0s 239us/step - loss: 326.6768 - val_loss: 260.7434\n",
      "Epoch 64/100\n",
      "379/379 [==============================] - 0s 237us/step - loss: 323.3288 - val_loss: 256.6723\n",
      "Epoch 65/100\n",
      "379/379 [==============================] - 0s 239us/step - loss: 319.2289 - val_loss: 252.6598\n",
      "Epoch 66/100\n",
      "379/379 [==============================] - 0s 239us/step - loss: 316.4172 - val_loss: 247.7745\n",
      "Epoch 67/100\n",
      "379/379 [==============================] - 0s 255us/step - loss: 310.3978 - val_loss: 242.6053\n",
      "Epoch 68/100\n",
      "379/379 [==============================] - 0s 242us/step - loss: 307.4536 - val_loss: 235.1809\n",
      "Epoch 69/100\n",
      "379/379 [==============================] - 0s 240us/step - loss: 302.4431 - val_loss: 225.1429\n",
      "Epoch 70/100\n",
      "379/379 [==============================] - 0s 255us/step - loss: 297.2404 - val_loss: 213.7597\n",
      "Epoch 71/100\n",
      "379/379 [==============================] - 0s 247us/step - loss: 290.6518 - val_loss: 202.7249\n",
      "Epoch 72/100\n",
      "379/379 [==============================] - 0s 268us/step - loss: 284.3740 - val_loss: 193.1375\n",
      "Epoch 73/100\n",
      "379/379 [==============================] - 0s 263us/step - loss: 281.9769 - val_loss: 186.4755\n",
      "Epoch 74/100\n",
      "379/379 [==============================] - 0s 281us/step - loss: 279.1115 - val_loss: 183.3196\n",
      "Epoch 75/100\n",
      "379/379 [==============================] - 0s 297us/step - loss: 273.4087 - val_loss: 182.9403\n",
      "Epoch 76/100\n",
      "379/379 [==============================] - 0s 288us/step - loss: 268.5028 - val_loss: 184.0636\n"
     ]
    },
    {
     "name": "stdout",
     "output_type": "stream",
     "text": [
      "Epoch 77/100\n",
      "379/379 [==============================] - 0s 279us/step - loss: 264.9536 - val_loss: 186.6098\n",
      "Epoch 78/100\n",
      "379/379 [==============================] - 0s 247us/step - loss: 261.9172 - val_loss: 191.1432\n",
      "Epoch 79/100\n",
      "379/379 [==============================] - 0s 247us/step - loss: 257.1476 - val_loss: 196.9426\n",
      "Epoch 80/100\n",
      "379/379 [==============================] - 0s 247us/step - loss: 253.2394 - val_loss: 202.0345\n",
      "Epoch 81/100\n",
      "379/379 [==============================] - 0s 242us/step - loss: 251.0898 - val_loss: 205.3727\n",
      "Epoch 82/100\n",
      "379/379 [==============================] - 0s 250us/step - loss: 247.9902 - val_loss: 207.1146\n",
      "Epoch 83/100\n",
      "379/379 [==============================] - 0s 234us/step - loss: 246.5869 - val_loss: 207.6514\n",
      "Epoch 84/100\n",
      "379/379 [==============================] - 0s 247us/step - loss: 243.0501 - val_loss: 206.0619\n",
      "Epoch 85/100\n",
      "379/379 [==============================] - 0s 253us/step - loss: 240.5117 - val_loss: 203.1828\n",
      "Epoch 86/100\n",
      "379/379 [==============================] - 0s 242us/step - loss: 237.3343 - val_loss: 198.4424\n",
      "Epoch 87/100\n",
      "379/379 [==============================] - 0s 250us/step - loss: 233.7124 - val_loss: 192.5218\n",
      "Epoch 88/100\n",
      "379/379 [==============================] - 0s 245us/step - loss: 231.7606 - val_loss: 186.3224\n",
      "Epoch 89/100\n",
      "379/379 [==============================] - 0s 253us/step - loss: 230.4283 - val_loss: 180.0588\n",
      "Epoch 90/100\n",
      "379/379 [==============================] - 0s 244us/step - loss: 227.1655 - val_loss: 174.0239\n",
      "Epoch 91/100\n",
      "379/379 [==============================] - 0s 247us/step - loss: 225.5486 - val_loss: 168.3655\n",
      "Epoch 92/100\n",
      "379/379 [==============================] - 0s 250us/step - loss: 220.5094 - val_loss: 160.5785\n",
      "Epoch 93/100\n",
      "379/379 [==============================] - 0s 266us/step - loss: 214.7174 - val_loss: 150.1894\n",
      "Epoch 94/100\n",
      "379/379 [==============================] - 0s 242us/step - loss: 205.6196 - val_loss: 139.2016\n",
      "Epoch 95/100\n",
      "379/379 [==============================] - 0s 242us/step - loss: 182.9337 - val_loss: 130.0142\n",
      "Epoch 96/100\n",
      "379/379 [==============================] - 0s 239us/step - loss: 172.4989 - val_loss: 123.3650\n",
      "Epoch 97/100\n",
      "379/379 [==============================] - 0s 237us/step - loss: 171.9201 - val_loss: 120.0904\n",
      "Epoch 98/100\n",
      "379/379 [==============================] - 0s 245us/step - loss: 167.3117 - val_loss: 119.4230\n",
      "Epoch 99/100\n",
      "379/379 [==============================] - 0s 245us/step - loss: 164.0580 - val_loss: 119.9293\n",
      "Epoch 100/100\n",
      "379/379 [==============================] - 0s 242us/step - loss: 159.8087 - val_loss: 120.7758\n"
     ]
    },
    {
     "data": {
      "text/plain": [
       "<keras.callbacks.History at 0x1e5736f9668>"
      ]
     },
     "execution_count": 28,
     "metadata": {},
     "output_type": "execute_result"
    }
   ],
   "source": [
    "finish_model.fit([image_train_target, day_train_target], label_train_target, epochs=100, batch_size=462,\n",
    "validation_data=([image_test_target,day_test_target], label_test_target))"
   ]
  },
  {
   "cell_type": "code",
   "execution_count": 29,
   "metadata": {},
   "outputs": [],
   "source": [
    "model_pre = finish_model.predict([image_test_target,day_test_target])"
   ]
  },
  {
   "cell_type": "code",
   "execution_count": 30,
   "metadata": {},
   "outputs": [
    {
     "name": "stdout",
     "output_type": "stream",
     "text": [
      "mape = 0.20616780639896592\n",
      "smape = 0.15862540708755657\n",
      "mae = 8.10429626682493\n"
     ]
    }
   ],
   "source": [
    "#transfer with DAN 预测精度计算\n",
    "\n",
    "mape_mean = mape_loss_func(model_pre, label_test_target)\n",
    "smape_mean = smape_loss_func(model_pre, label_test_target)\n",
    "mae_mean = mae_loss_func(model_pre, label_test_target)\n",
    "\n",
    "print('mape = ' + str(mape_mean) + '\\n' + 'smape = ' + str(smape_mean) + '\\n' + 'mae = ' + str(mae_mean))"
   ]
  },
  {
   "cell_type": "code",
   "execution_count": 31,
   "metadata": {
    "scrolled": true
   },
   "outputs": [
    {
     "data": {
      "text/plain": [
       "23    0.058607\n",
       "12    0.061040\n",
       "16    0.067711\n",
       "6     0.086727\n",
       "25    0.086836\n",
       "29    0.099014\n",
       "13    0.105923\n",
       "4     0.106769\n",
       "8     0.108234\n",
       "15    0.116234\n",
       "19    0.116340\n",
       "27    0.127481\n",
       "9     0.130025\n",
       "28    0.143937\n",
       "22    0.158643\n",
       "1     0.159629\n",
       "10    0.172203\n",
       "11    0.177028\n",
       "18    0.199516\n",
       "14    0.199549\n",
       "7     0.204625\n",
       "3     0.231475\n",
       "24    0.283368\n",
       "21    0.287563\n",
       "20    0.326691\n",
       "2     0.335909\n",
       "0     0.377245\n",
       "26    0.440740\n",
       "17    0.571519\n",
       "5     0.644691\n",
       "dtype: float64"
      ]
     },
     "execution_count": 31,
     "metadata": {},
     "output_type": "execute_result"
    }
   ],
   "source": [
    "mape_list = []\n",
    "for i in range(num_links):\n",
    "    a1 = mape_loss_func(model_pre[:,i,:], label_test_target[:,i,:])\n",
    "    mape_list.append(a1)\n",
    "\n",
    "mape_pd = pd.Series(mape_list)\n",
    "mape_pd.sort_values()"
   ]
  },
  {
   "cell_type": "code",
   "execution_count": null,
   "metadata": {},
   "outputs": [],
   "source": []
  }
 ],
 "metadata": {
  "interpreter": {
   "hash": "6b092d8890fbfc1935d95d43d0881a7b3742c06492f450993a24f5c2e6237594"
  },
  "kernelspec": {
   "display_name": "Python 3",
   "language": "python",
   "name": "python3"
  },
  "language_info": {
   "codemirror_mode": {
    "name": "ipython",
    "version": 3
   },
   "file_extension": ".py",
   "mimetype": "text/x-python",
   "name": "python",
   "nbconvert_exporter": "python",
   "pygments_lexer": "ipython3",
   "version": "3.7.0"
  }
 },
 "nbformat": 4,
 "nbformat_minor": 4
}
