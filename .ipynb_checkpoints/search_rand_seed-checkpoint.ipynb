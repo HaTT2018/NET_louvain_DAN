{
 "cells": [
  {
   "cell_type": "code",
   "execution_count": 2,
   "metadata": {},
   "outputs": [],
   "source": [
    "import numpy as np\n",
    "import pandas as pd\n",
    "import networkx as nx\n",
    "import matplotlib.pyplot as plt\n",
    "import itertools\n",
    "import matplotlib.cm as cm\n",
    "import networkx.algorithms.community as nxcom\n",
    "from community import community_louvain\n",
    "import ipdb"
   ]
  },
  {
   "cell_type": "code",
   "execution_count": 3,
   "metadata": {},
   "outputs": [],
   "source": [
    "def get_corr(data):\n",
    "    data = np.array(q)\n",
    "    data_mean = np.mean(data, axis=0)\n",
    "    data_std = np.std(data, axis=0)\n",
    "    data = (data-data_mean) / data_std\n",
    "    data_c = np.corrcoef(data)\n",
    "    return data_c"
   ]
  },
  {
   "cell_type": "code",
   "execution_count": 4,
   "metadata": {},
   "outputs": [
    {
     "data": {
      "text/html": [
       "<div>\n",
       "<style scoped>\n",
       "    .dataframe tbody tr th:only-of-type {\n",
       "        vertical-align: middle;\n",
       "    }\n",
       "\n",
       "    .dataframe tbody tr th {\n",
       "        vertical-align: top;\n",
       "    }\n",
       "\n",
       "    .dataframe thead th {\n",
       "        text-align: right;\n",
       "    }\n",
       "</style>\n",
       "<table border=\"1\" class=\"dataframe\">\n",
       "  <thead>\n",
       "    <tr style=\"text-align: right;\">\n",
       "      <th></th>\n",
       "      <th>id2</th>\n",
       "      <th>lat</th>\n",
       "      <th>long</th>\n",
       "      <th>id</th>\n",
       "      <th>num_road</th>\n",
       "      <th>class</th>\n",
       "    </tr>\n",
       "  </thead>\n",
       "  <tbody>\n",
       "    <tr>\n",
       "      <th>0</th>\n",
       "      <td>2001</td>\n",
       "      <td>116.42769</td>\n",
       "      <td>39.94485</td>\n",
       "      <td>HI7000d</td>\n",
       "      <td>4</td>\n",
       "      <td>0</td>\n",
       "    </tr>\n",
       "    <tr>\n",
       "      <th>1</th>\n",
       "      <td>2002</td>\n",
       "      <td>116.42764</td>\n",
       "      <td>39.94330</td>\n",
       "      <td>HI7001a</td>\n",
       "      <td>3</td>\n",
       "      <td>0</td>\n",
       "    </tr>\n",
       "    <tr>\n",
       "      <th>2</th>\n",
       "      <td>2003</td>\n",
       "      <td>116.42782</td>\n",
       "      <td>39.93705</td>\n",
       "      <td>HI7002a</td>\n",
       "      <td>2</td>\n",
       "      <td>0</td>\n",
       "    </tr>\n",
       "    <tr>\n",
       "      <th>3</th>\n",
       "      <td>2005</td>\n",
       "      <td>116.42832</td>\n",
       "      <td>39.92993</td>\n",
       "      <td>HI7039a</td>\n",
       "      <td>3</td>\n",
       "      <td>0</td>\n",
       "    </tr>\n",
       "    <tr>\n",
       "      <th>4</th>\n",
       "      <td>2006</td>\n",
       "      <td>116.42785</td>\n",
       "      <td>39.92513</td>\n",
       "      <td>HI7003a</td>\n",
       "      <td>3</td>\n",
       "      <td>0</td>\n",
       "    </tr>\n",
       "    <tr>\n",
       "      <th>...</th>\n",
       "      <td>...</td>\n",
       "      <td>...</td>\n",
       "      <td>...</td>\n",
       "      <td>...</td>\n",
       "      <td>...</td>\n",
       "      <td>...</td>\n",
       "    </tr>\n",
       "    <tr>\n",
       "      <th>202</th>\n",
       "      <td>61004</td>\n",
       "      <td>116.29400</td>\n",
       "      <td>39.97990</td>\n",
       "      <td>HI9037g</td>\n",
       "      <td>3</td>\n",
       "      <td>3</td>\n",
       "    </tr>\n",
       "    <tr>\n",
       "      <th>203</th>\n",
       "      <td>61005</td>\n",
       "      <td>116.29300</td>\n",
       "      <td>39.98990</td>\n",
       "      <td>HI9097c</td>\n",
       "      <td>3</td>\n",
       "      <td>3</td>\n",
       "    </tr>\n",
       "    <tr>\n",
       "      <th>204</th>\n",
       "      <td>61006</td>\n",
       "      <td>116.29000</td>\n",
       "      <td>39.99350</td>\n",
       "      <td>HI9098c</td>\n",
       "      <td>3</td>\n",
       "      <td>3</td>\n",
       "    </tr>\n",
       "    <tr>\n",
       "      <th>205</th>\n",
       "      <td>61007</td>\n",
       "      <td>116.28600</td>\n",
       "      <td>39.99870</td>\n",
       "      <td>HI9099c</td>\n",
       "      <td>3</td>\n",
       "      <td>3</td>\n",
       "    </tr>\n",
       "    <tr>\n",
       "      <th>206</th>\n",
       "      <td>61009</td>\n",
       "      <td>116.28200</td>\n",
       "      <td>40.00820</td>\n",
       "      <td>HI9101c</td>\n",
       "      <td>2</td>\n",
       "      <td>3</td>\n",
       "    </tr>\n",
       "  </tbody>\n",
       "</table>\n",
       "<p>207 rows × 6 columns</p>\n",
       "</div>"
      ],
      "text/plain": [
       "       id2        lat      long       id  num_road  class\n",
       "0     2001  116.42769  39.94485  HI7000d         4      0\n",
       "1     2002  116.42764  39.94330  HI7001a         3      0\n",
       "2     2003  116.42782  39.93705  HI7002a         2      0\n",
       "3     2005  116.42832  39.92993  HI7039a         3      0\n",
       "4     2006  116.42785  39.92513  HI7003a         3      0\n",
       "..     ...        ...       ...      ...       ...    ...\n",
       "202  61004  116.29400  39.97990  HI9037g         3      3\n",
       "203  61005  116.29300  39.98990  HI9097c         3      3\n",
       "204  61006  116.29000  39.99350  HI9098c         3      3\n",
       "205  61007  116.28600  39.99870  HI9099c         3      3\n",
       "206  61009  116.28200  40.00820  HI9101c         2      3\n",
       "\n",
       "[207 rows x 6 columns]"
      ]
     },
     "execution_count": 4,
     "metadata": {},
     "output_type": "execute_result"
    }
   ],
   "source": [
    "randseed = 3\n",
    "seg = pd.read_csv('./data/segement.csv', header=None)\n",
    "raw0 = pd.read_csv(open('./data/id2000.csv'), header=0, index_col=0)\n",
    "q = pd.read_csv('./data/q_20_aggragated.csv', index_col = 0)\n",
    "b = pd.read_csv('./data/b_20_aggragated.csv', index_col = 0)  # time occupancy, (density)\n",
    "raw0"
   ]
  },
  {
   "cell_type": "code",
   "execution_count": 5,
   "metadata": {},
   "outputs": [],
   "source": [
    "q_det = q.T.mean()\n",
    "b_det = b.T.mean()"
   ]
  },
  {
   "cell_type": "code",
   "execution_count": 6,
   "metadata": {},
   "outputs": [],
   "source": [
    "nodes = np.array(raw0['id2'])\n",
    "\n",
    "relation_df = pd.read_csv('./data/edges_all.csv', header = None)"
   ]
  },
  {
   "cell_type": "code",
   "execution_count": 7,
   "metadata": {
    "scrolled": false
   },
   "outputs": [
    {
     "data": {
      "text/html": [
       "<div>\n",
       "<style scoped>\n",
       "    .dataframe tbody tr th:only-of-type {\n",
       "        vertical-align: middle;\n",
       "    }\n",
       "\n",
       "    .dataframe tbody tr th {\n",
       "        vertical-align: top;\n",
       "    }\n",
       "\n",
       "    .dataframe thead th {\n",
       "        text-align: right;\n",
       "    }\n",
       "</style>\n",
       "<table border=\"1\" class=\"dataframe\">\n",
       "  <thead>\n",
       "    <tr style=\"text-align: right;\">\n",
       "      <th></th>\n",
       "      <th>0</th>\n",
       "      <th>1</th>\n",
       "      <th>flow</th>\n",
       "    </tr>\n",
       "  </thead>\n",
       "  <tbody>\n",
       "    <tr>\n",
       "      <th>0</th>\n",
       "      <td>2001</td>\n",
       "      <td>2002</td>\n",
       "      <td>467.753</td>\n",
       "    </tr>\n",
       "    <tr>\n",
       "      <th>1</th>\n",
       "      <td>2002</td>\n",
       "      <td>2003</td>\n",
       "      <td>346.658</td>\n",
       "    </tr>\n",
       "    <tr>\n",
       "      <th>2</th>\n",
       "      <td>2003</td>\n",
       "      <td>2005</td>\n",
       "      <td>290.099</td>\n",
       "    </tr>\n",
       "    <tr>\n",
       "      <th>3</th>\n",
       "      <td>2005</td>\n",
       "      <td>2006</td>\n",
       "      <td>394.707</td>\n",
       "    </tr>\n",
       "    <tr>\n",
       "      <th>4</th>\n",
       "      <td>2006</td>\n",
       "      <td>2007</td>\n",
       "      <td>431.022</td>\n",
       "    </tr>\n",
       "    <tr>\n",
       "      <th>...</th>\n",
       "      <td>...</td>\n",
       "      <td>...</td>\n",
       "      <td>...</td>\n",
       "    </tr>\n",
       "    <tr>\n",
       "      <th>235</th>\n",
       "      <td>61004</td>\n",
       "      <td>4045</td>\n",
       "      <td>398.524</td>\n",
       "    </tr>\n",
       "    <tr>\n",
       "      <th>236</th>\n",
       "      <td>61005</td>\n",
       "      <td>4043</td>\n",
       "      <td>439.801</td>\n",
       "    </tr>\n",
       "    <tr>\n",
       "      <th>237</th>\n",
       "      <td>61005</td>\n",
       "      <td>4045</td>\n",
       "      <td>375.032</td>\n",
       "    </tr>\n",
       "    <tr>\n",
       "      <th>238</th>\n",
       "      <td>61001</td>\n",
       "      <td>3051</td>\n",
       "      <td>263.398</td>\n",
       "    </tr>\n",
       "    <tr>\n",
       "      <th>239</th>\n",
       "      <td>61001</td>\n",
       "      <td>3052</td>\n",
       "      <td>182.356</td>\n",
       "    </tr>\n",
       "  </tbody>\n",
       "</table>\n",
       "<p>240 rows × 3 columns</p>\n",
       "</div>"
      ],
      "text/plain": [
       "         0     1     flow\n",
       "0     2001  2002  467.753\n",
       "1     2002  2003  346.658\n",
       "2     2003  2005  290.099\n",
       "3     2005  2006  394.707\n",
       "4     2006  2007  431.022\n",
       "..     ...   ...      ...\n",
       "235  61004  4045  398.524\n",
       "236  61005  4043  439.801\n",
       "237  61005  4045  375.032\n",
       "238  61001  3051  263.398\n",
       "239  61001  3052  182.356\n",
       "\n",
       "[240 rows x 3 columns]"
      ]
     },
     "execution_count": 7,
     "metadata": {},
     "output_type": "execute_result"
    }
   ],
   "source": [
    "relation_df['flow'] = ''\n",
    "\n",
    "for i in range(len(relation_df)):\n",
    "    #ipdb.set_trace()\n",
    "    det1 = raw0[raw0['id2']==relation_df.iloc[i, 0]]['id'].iloc[0]\n",
    "    det2 = raw0[raw0['id2']==relation_df.iloc[i, 1]]['id'].iloc[0]\n",
    "    relation_df.iloc[i, 2] = (q_det[det1] + q_det[det2]) / 2\n",
    "\n",
    "relation_df"
   ]
  },
  {
   "cell_type": "code",
   "execution_count": 8,
   "metadata": {},
   "outputs": [],
   "source": [
    "relation = np.array(relation_df)\n",
    "# relation"
   ]
  },
  {
   "cell_type": "code",
   "execution_count": 9,
   "metadata": {},
   "outputs": [],
   "source": [
    "G = nx.Graph()\n",
    "G.add_nodes_from(nodes)\n",
    "G.add_weighted_edges_from(relation)  # add weight from flow"
   ]
  },
  {
   "cell_type": "code",
   "execution_count": 10,
   "metadata": {},
   "outputs": [
    {
     "name": "stdout",
     "output_type": "stream",
     "text": [
      "We have 207 nodes.\n",
      "We have 240 edges.\n"
     ]
    }
   ],
   "source": [
    "print('We have %d nodes.' % G.number_of_nodes())\n",
    "print('We have %d edges.' % G.number_of_edges())"
   ]
  },
  {
   "cell_type": "code",
   "execution_count": 11,
   "metadata": {},
   "outputs": [],
   "source": [
    "pos0 = raw0.iloc[:, 1:3]\n",
    "pos0 = np.array(pos0)"
   ]
  },
  {
   "cell_type": "code",
   "execution_count": 12,
   "metadata": {},
   "outputs": [],
   "source": [
    "vnode = pos0\n",
    "npos = dict(zip(nodes, vnode))  # 获取节点与坐标之间的映射关系，用字典表示"
   ]
  },
  {
   "cell_type": "code",
   "execution_count": 13,
   "metadata": {},
   "outputs": [
    {
     "data": {
      "image/png": "[encoded data removed]",
      "text/plain": [
       "<Figure size 720x720 with 1 Axes>"
      ]
     },
     "metadata": {},
     "output_type": "display_data"
    }
   ],
   "source": [
    "partition = community_louvain.best_partition(G, resolution=15, weight='weight', random_state=randseed)\n",
    "\n",
    "# draw the graph\n",
    "pos = nx.spring_layout(G)\n",
    "# color the nodes according to their partition\n",
    "cmap = cm.get_cmap('viridis', max(partition.values()) + 1)\n",
    "\n",
    "plt.figure(figsize = (10,10))\n",
    "nx.draw_networkx(G, pos = npos, node_size=20, node_color=list(partition.values()), with_labels=False)\n",
    "#plt.savefig('./res/img/%i_net'%randseed)"
   ]
  },
  {
   "cell_type": "code",
   "execution_count": 14,
   "metadata": {},
   "outputs": [],
   "source": [
    "partition_results = pd.DataFrame(data = list(partition.values()))"
   ]
  },
  {
   "cell_type": "code",
   "execution_count": 15,
   "metadata": {},
   "outputs": [],
   "source": [
    "partition_results['node'] = nodes"
   ]
  },
  {
   "cell_type": "code",
   "execution_count": 16,
   "metadata": {},
   "outputs": [
    {
     "data": {
      "text/html": [
       "<div>\n",
       "<style scoped>\n",
       "    .dataframe tbody tr th:only-of-type {\n",
       "        vertical-align: middle;\n",
       "    }\n",
       "\n",
       "    .dataframe tbody tr th {\n",
       "        vertical-align: top;\n",
       "    }\n",
       "\n",
       "    .dataframe thead th {\n",
       "        text-align: right;\n",
       "    }\n",
       "</style>\n",
       "<table border=\"1\" class=\"dataframe\">\n",
       "  <thead>\n",
       "    <tr style=\"text-align: right;\">\n",
       "      <th></th>\n",
       "      <th>0</th>\n",
       "      <th>node</th>\n",
       "    </tr>\n",
       "  </thead>\n",
       "  <tbody>\n",
       "    <tr>\n",
       "      <th>0</th>\n",
       "      <td>0</td>\n",
       "      <td>2001</td>\n",
       "    </tr>\n",
       "    <tr>\n",
       "      <th>1</th>\n",
       "      <td>0</td>\n",
       "      <td>2002</td>\n",
       "    </tr>\n",
       "    <tr>\n",
       "      <th>2</th>\n",
       "      <td>0</td>\n",
       "      <td>2003</td>\n",
       "    </tr>\n",
       "    <tr>\n",
       "      <th>3</th>\n",
       "      <td>0</td>\n",
       "      <td>2005</td>\n",
       "    </tr>\n",
       "    <tr>\n",
       "      <th>4</th>\n",
       "      <td>0</td>\n",
       "      <td>2006</td>\n",
       "    </tr>\n",
       "    <tr>\n",
       "      <th>...</th>\n",
       "      <td>...</td>\n",
       "      <td>...</td>\n",
       "    </tr>\n",
       "    <tr>\n",
       "      <th>202</th>\n",
       "      <td>1</td>\n",
       "      <td>61004</td>\n",
       "    </tr>\n",
       "    <tr>\n",
       "      <th>203</th>\n",
       "      <td>1</td>\n",
       "      <td>61005</td>\n",
       "    </tr>\n",
       "    <tr>\n",
       "      <th>204</th>\n",
       "      <td>1</td>\n",
       "      <td>61006</td>\n",
       "    </tr>\n",
       "    <tr>\n",
       "      <th>205</th>\n",
       "      <td>1</td>\n",
       "      <td>61007</td>\n",
       "    </tr>\n",
       "    <tr>\n",
       "      <th>206</th>\n",
       "      <td>1</td>\n",
       "      <td>61009</td>\n",
       "    </tr>\n",
       "  </tbody>\n",
       "</table>\n",
       "<p>207 rows × 2 columns</p>\n",
       "</div>"
      ],
      "text/plain": [
       "     0   node\n",
       "0    0   2001\n",
       "1    0   2002\n",
       "2    0   2003\n",
       "3    0   2005\n",
       "4    0   2006\n",
       "..  ..    ...\n",
       "202  1  61004\n",
       "203  1  61005\n",
       "204  1  61006\n",
       "205  1  61007\n",
       "206  1  61009\n",
       "\n",
       "[207 rows x 2 columns]"
      ]
     },
     "execution_count": 16,
     "metadata": {},
     "output_type": "execute_result"
    }
   ],
   "source": [
    "partition_results"
   ]
  },
  {
   "cell_type": "code",
   "execution_count": 17,
   "metadata": {},
   "outputs": [],
   "source": [
    "partition_results.to_csv('./res/%i_partition_results1.csv'%randseed, index=False)"
   ]
  },
  {
   "cell_type": "code",
   "execution_count": 18,
   "metadata": {},
   "outputs": [],
   "source": [
    "relation_df['if boundary nodes'] = ''\n",
    "\n",
    "for i in range(len(relation_df)):\n",
    "    class1 = partition_results[partition_results['node']==relation_df.iloc[i, 0]].iloc[0, 0]\n",
    "    class2 = partition_results[partition_results['node']==relation_df.iloc[i, 1]].iloc[0, 0]\n",
    "    if class1 != class2:\n",
    "        relation_df.iloc[i, 3] = 1\n",
    "    else:\n",
    "        relation_df.iloc[i, 3] = 0"
   ]
  },
  {
   "cell_type": "code",
   "execution_count": 19,
   "metadata": {},
   "outputs": [],
   "source": [
    "bound_nodes_df = relation_df[relation_df['if boundary nodes']==1].iloc[:, 0:2]\n",
    "bound_nodes = np.array(bound_nodes_df).flatten()"
   ]
  },
  {
   "cell_type": "code",
   "execution_count": 20,
   "metadata": {
    "scrolled": true
   },
   "outputs": [],
   "source": [
    "bound_dets_df = pd.DataFrame([], columns=['n1d1','n1d2','n2d1','n2d2'], index=range(len(bound_nodes_df)))\n",
    "for i in range(len(bound_nodes_df)):\n",
    "    node1 = bound_nodes_df.iloc[i, 0]\n",
    "    node2 = bound_nodes_df.iloc[i, 1]\n",
    "    bound_dets_df.iloc[i, 0] = seg[seg[0]==node1].iloc[0, 6]\n",
    "    bound_dets_df.iloc[i, 1] = seg[seg[0]==node1].iloc[0, 7]\n",
    "    bound_dets_df.iloc[i, 2] = seg[seg[0]==node2].iloc[0, 6]\n",
    "    bound_dets_df.iloc[i, 3] = seg[seg[0]==node2].iloc[0, 7]"
   ]
  },
  {
   "cell_type": "code",
   "execution_count": 21,
   "metadata": {},
   "outputs": [
    {
     "data": {
      "text/html": [
       "<div>\n",
       "<style scoped>\n",
       "    .dataframe tbody tr th:only-of-type {\n",
       "        vertical-align: middle;\n",
       "    }\n",
       "\n",
       "    .dataframe tbody tr th {\n",
       "        vertical-align: top;\n",
       "    }\n",
       "\n",
       "    .dataframe thead th {\n",
       "        text-align: right;\n",
       "    }\n",
       "</style>\n",
       "<table border=\"1\" class=\"dataframe\">\n",
       "  <thead>\n",
       "    <tr style=\"text-align: right;\">\n",
       "      <th></th>\n",
       "      <th>n1d1</th>\n",
       "      <th>n1d2</th>\n",
       "      <th>n2d1</th>\n",
       "      <th>n2d2</th>\n",
       "    </tr>\n",
       "  </thead>\n",
       "  <tbody>\n",
       "    <tr>\n",
       "      <th>0</th>\n",
       "      <td>HI7010a</td>\n",
       "      <td>HI7009c</td>\n",
       "      <td>HI7011a</td>\n",
       "      <td>HI7010c</td>\n",
       "    </tr>\n",
       "    <tr>\n",
       "      <th>1</th>\n",
       "      <td>HI7054d</td>\n",
       "      <td>HI7032b</td>\n",
       "      <td>HI3002d</td>\n",
       "      <td>HI7033b</td>\n",
       "    </tr>\n",
       "    <tr>\n",
       "      <th>2</th>\n",
       "      <td>HI8011a</td>\n",
       "      <td>HI8057d</td>\n",
       "      <td>HI8058b</td>\n",
       "      <td>HI8012d</td>\n",
       "    </tr>\n",
       "    <tr>\n",
       "      <th>3</th>\n",
       "      <td>HI8038d</td>\n",
       "      <td>HI8037b</td>\n",
       "      <td>HI8039d</td>\n",
       "      <td>HI8066b</td>\n",
       "    </tr>\n",
       "    <tr>\n",
       "      <th>4</th>\n",
       "      <td>HI9071a</td>\n",
       "      <td>HI9033c</td>\n",
       "      <td>HI9033a</td>\n",
       "      <td>HI9034c</td>\n",
       "    </tr>\n",
       "    <tr>\n",
       "      <th>5</th>\n",
       "      <td>HI9038d</td>\n",
       "      <td>HI9073b</td>\n",
       "      <td>HI9039d</td>\n",
       "      <td>HI9038b</td>\n",
       "    </tr>\n",
       "    <tr>\n",
       "      <th>6</th>\n",
       "      <td>HI9055a</td>\n",
       "      <td>HI9054c</td>\n",
       "      <td>HI9056a</td>\n",
       "      <td>HI9055c</td>\n",
       "    </tr>\n",
       "    <tr>\n",
       "      <th>7</th>\n",
       "      <td>HI8020a</td>\n",
       "      <td>HI9078c</td>\n",
       "      <td>HI9079a</td>\n",
       "      <td>HI8020c</td>\n",
       "    </tr>\n",
       "    <tr>\n",
       "      <th>8</th>\n",
       "      <td>HI9061c</td>\n",
       "      <td>HI7032a</td>\n",
       "      <td>HI9062c</td>\n",
       "      <td>HI9061a</td>\n",
       "    </tr>\n",
       "    <tr>\n",
       "      <th>9</th>\n",
       "      <td>HI9082c</td>\n",
       "      <td>HI9081a</td>\n",
       "      <td>HI9083c</td>\n",
       "      <td>HI9082a</td>\n",
       "    </tr>\n",
       "  </tbody>\n",
       "</table>\n",
       "</div>"
      ],
      "text/plain": [
       "      n1d1     n1d2     n2d1     n2d2\n",
       "0  HI7010a  HI7009c  HI7011a  HI7010c\n",
       "1  HI7054d  HI7032b  HI3002d  HI7033b\n",
       "2  HI8011a  HI8057d  HI8058b  HI8012d\n",
       "3  HI8038d  HI8037b  HI8039d  HI8066b\n",
       "4  HI9071a  HI9033c  HI9033a  HI9034c\n",
       "5  HI9038d  HI9073b  HI9039d  HI9038b\n",
       "6  HI9055a  HI9054c  HI9056a  HI9055c\n",
       "7  HI8020a  HI9078c  HI9079a  HI8020c\n",
       "8  HI9061c  HI7032a  HI9062c  HI9061a\n",
       "9  HI9082c  HI9081a  HI9083c  HI9082a"
      ]
     },
     "execution_count": 21,
     "metadata": {},
     "output_type": "execute_result"
    }
   ],
   "source": [
    "bound_dets_df"
   ]
  },
  {
   "cell_type": "code",
   "execution_count": 22,
   "metadata": {},
   "outputs": [],
   "source": [
    "b_det = pd.DataFrame(b_det)\n",
    "b_det['det'] = b_det.index\n",
    "b_det['node']=''\n",
    "b_det.index=range(402)\n",
    "\n",
    "for i in range(len(b_det)):\n",
    "    try:\n",
    "        b_det.iloc[i, 2] = seg[seg[6]==b_det.iloc[i, 1]].iloc[0, 0]\n",
    "    except:\n",
    "        b_det.iloc[i, 2] = seg[seg[7]==b_det.iloc[i, 1]].iloc[0, 0]\n",
    "\n",
    "b_det['class'] = ''\n",
    "for i in range(len(b_det)):\n",
    "    b_det.iloc[i, 3] = partition_results[partition_results['node']==b_det.iloc[i, 2]].iloc[0, 0]"
   ]
  },
  {
   "cell_type": "code",
   "execution_count": 23,
   "metadata": {},
   "outputs": [
    {
     "name": "stderr",
     "output_type": "stream",
     "text": [
      "C:\\Users\\10169\\.conda\\envs\\dan_traff\\lib\\site-packages\\ipykernel_launcher.py:25: SettingWithCopyWarning: \n",
      "A value is trying to be set on a copy of a slice from a DataFrame.\n",
      "Try using .loc[row_indexer,col_indexer] = value instead\n",
      "\n",
      "See the caveats in the documentation: https://pandas.pydata.org/pandas-docs/stable/user_guide/indexing.html#returning-a-view-versus-a-copy\n",
      "C:\\Users\\10169\\.conda\\envs\\dan_traff\\lib\\site-packages\\ipykernel_launcher.py:33: SettingWithCopyWarning: \n",
      "A value is trying to be set on a copy of a slice from a DataFrame.\n",
      "Try using .loc[row_indexer,col_indexer] = value instead\n",
      "\n",
      "See the caveats in the documentation: https://pandas.pydata.org/pandas-docs/stable/user_guide/indexing.html#returning-a-view-versus-a-copy\n",
      "C:\\Users\\10169\\.conda\\envs\\dan_traff\\lib\\site-packages\\ipykernel_launcher.py:25: SettingWithCopyWarning: \n",
      "A value is trying to be set on a copy of a slice from a DataFrame.\n",
      "Try using .loc[row_indexer,col_indexer] = value instead\n",
      "\n",
      "See the caveats in the documentation: https://pandas.pydata.org/pandas-docs/stable/user_guide/indexing.html#returning-a-view-versus-a-copy\n",
      "C:\\Users\\10169\\.conda\\envs\\dan_traff\\lib\\site-packages\\ipykernel_launcher.py:25: SettingWithCopyWarning: \n",
      "A value is trying to be set on a copy of a slice from a DataFrame.\n",
      "Try using .loc[row_indexer,col_indexer] = value instead\n",
      "\n",
      "See the caveats in the documentation: https://pandas.pydata.org/pandas-docs/stable/user_guide/indexing.html#returning-a-view-versus-a-copy\n"
     ]
    }
   ],
   "source": [
    "for i in range(len(bound_nodes_df)):\n",
    "    node1 = bound_nodes_df.iloc[i, 0]\n",
    "    node2 = bound_nodes_df.iloc[i, 1]\n",
    "    class1 = partition_results[partition_results['node']==node1].iloc[0, 0]\n",
    "    class2 = partition_results[partition_results['node']==node2].iloc[0, 0]\n",
    "    \n",
    "    b1 = b_det[b_det['class']==class1]\n",
    "    b2 = b_det[b_det['class']==class2]\n",
    "    \n",
    "    ini_var1 = np.var(np.array(b1[0]))  # initial variance 1\n",
    "    ini_var2 = np.var(np.array(b2[0]))\n",
    "    ini_mean1 = np.mean(np.array(b1[0]))\n",
    "    ini_mean2 = np.mean(np.array(b2[0]))\n",
    "    \n",
    "    # 把node1从class1里面挑出来\n",
    "    b1_ = b1[b1['node']!=node1][0]\n",
    "    # 计算class1的variance\n",
    "    var1 = np.var(np.array(b1_))\n",
    "    # 把node1加到class2\n",
    "    b2_ = np.append(np.array(b2[0]), np.array(b1[b1['node']==node1][0]))\n",
    "    # 计算class2的variance\n",
    "    var2 = np.var(b2_)\n",
    "    # 比较两个variance，假如varianc减小，则保留更改，反之恢复原位\n",
    "    if var1<ini_var1 and var2<ini_var2:\n",
    "        b_det[b_det['node']==node1]['class'] = class2\n",
    "        \n",
    "    # 对node2重复以上五步\n",
    "    b2_ = b2[b2['node']!=node2][0]\n",
    "    var2 = np.var(np.array(b2_))\n",
    "    b1_ = np.append(np.array(b1[0]), np.array(b2[b2['node']==node2][0]))\n",
    "    var1 = np.var(b1_)\n",
    "    if var1<ini_var1 and var2<ini_var2:\n",
    "        b_det[b_det['node']==node2]['class'] = class1"
   ]
  },
  {
   "cell_type": "code",
   "execution_count": 24,
   "metadata": {},
   "outputs": [
    {
     "data": {
      "text/html": [
       "<div>\n",
       "<style scoped>\n",
       "    .dataframe tbody tr th:only-of-type {\n",
       "        vertical-align: middle;\n",
       "    }\n",
       "\n",
       "    .dataframe tbody tr th {\n",
       "        vertical-align: top;\n",
       "    }\n",
       "\n",
       "    .dataframe thead th {\n",
       "        text-align: right;\n",
       "    }\n",
       "</style>\n",
       "<table border=\"1\" class=\"dataframe\">\n",
       "  <thead>\n",
       "    <tr style=\"text-align: right;\">\n",
       "      <th></th>\n",
       "      <th>0</th>\n",
       "      <th>det</th>\n",
       "      <th>node</th>\n",
       "      <th>class</th>\n",
       "    </tr>\n",
       "  </thead>\n",
       "  <tbody>\n",
       "    <tr>\n",
       "      <th>0</th>\n",
       "      <td>13.016764</td>\n",
       "      <td>HI2063a</td>\n",
       "      <td>3044</td>\n",
       "      <td>1</td>\n",
       "    </tr>\n",
       "    <tr>\n",
       "      <th>1</th>\n",
       "      <td>19.076875</td>\n",
       "      <td>HI2063c</td>\n",
       "      <td>3043</td>\n",
       "      <td>1</td>\n",
       "    </tr>\n",
       "    <tr>\n",
       "      <th>2</th>\n",
       "      <td>4.800302</td>\n",
       "      <td>HI2065a</td>\n",
       "      <td>3046</td>\n",
       "      <td>1</td>\n",
       "    </tr>\n",
       "    <tr>\n",
       "      <th>3</th>\n",
       "      <td>13.778998</td>\n",
       "      <td>HI2065c</td>\n",
       "      <td>3044</td>\n",
       "      <td>1</td>\n",
       "    </tr>\n",
       "    <tr>\n",
       "      <th>4</th>\n",
       "      <td>5.571532</td>\n",
       "      <td>HI2068a</td>\n",
       "      <td>2043</td>\n",
       "      <td>1</td>\n",
       "    </tr>\n",
       "    <tr>\n",
       "      <th>...</th>\n",
       "      <td>...</td>\n",
       "      <td>...</td>\n",
       "      <td>...</td>\n",
       "      <td>...</td>\n",
       "    </tr>\n",
       "    <tr>\n",
       "      <th>397</th>\n",
       "      <td>7.279762</td>\n",
       "      <td>HI9099c</td>\n",
       "      <td>61007</td>\n",
       "      <td>1</td>\n",
       "    </tr>\n",
       "    <tr>\n",
       "      <th>398</th>\n",
       "      <td>10.456748</td>\n",
       "      <td>HI9100a</td>\n",
       "      <td>61009</td>\n",
       "      <td>1</td>\n",
       "    </tr>\n",
       "    <tr>\n",
       "      <th>399</th>\n",
       "      <td>10.709316</td>\n",
       "      <td>HI9101c</td>\n",
       "      <td>61009</td>\n",
       "      <td>1</td>\n",
       "    </tr>\n",
       "    <tr>\n",
       "      <th>400</th>\n",
       "      <td>7.264045</td>\n",
       "      <td>HI9102a</td>\n",
       "      <td>61004</td>\n",
       "      <td>1</td>\n",
       "    </tr>\n",
       "    <tr>\n",
       "      <th>401</th>\n",
       "      <td>10.672490</td>\n",
       "      <td>HI9102c</td>\n",
       "      <td>61003</td>\n",
       "      <td>1</td>\n",
       "    </tr>\n",
       "  </tbody>\n",
       "</table>\n",
       "<p>402 rows × 4 columns</p>\n",
       "</div>"
      ],
      "text/plain": [
       "             0      det   node class\n",
       "0    13.016764  HI2063a   3044     1\n",
       "1    19.076875  HI2063c   3043     1\n",
       "2     4.800302  HI2065a   3046     1\n",
       "3    13.778998  HI2065c   3044     1\n",
       "4     5.571532  HI2068a   2043     1\n",
       "..         ...      ...    ...   ...\n",
       "397   7.279762  HI9099c  61007     1\n",
       "398  10.456748  HI9100a  61009     1\n",
       "399  10.709316  HI9101c  61009     1\n",
       "400   7.264045  HI9102a  61004     1\n",
       "401  10.672490  HI9102c  61003     1\n",
       "\n",
       "[402 rows x 4 columns]"
      ]
     },
     "execution_count": 24,
     "metadata": {},
     "output_type": "execute_result"
    }
   ],
   "source": [
    "b_det"
   ]
  },
  {
   "cell_type": "code",
   "execution_count": 25,
   "metadata": {
    "scrolled": false
   },
   "outputs": [],
   "source": [
    "b_det.to_csv('./res/%i_b_det.csv'%randseed)"
   ]
  },
  {
   "cell_type": "code",
   "execution_count": 26,
   "metadata": {},
   "outputs": [],
   "source": [
    "id_2000 = pd.read_csv('./data/id2000.csv', index_col=0)\n",
    "id_402 = pd.read_csv('./data/selected_id.csv')\n",
    "seg = pd.read_csv('./data/segement.csv', header=None)\n",
    "partition_results = pd.read_csv('./res/%i_partition_results1.csv'%randseed)\n",
    "\n",
    "id_402['id_node'] = ''\n",
    "for i in range(len(id_402)):\n",
    "    id_402.iloc[i, 4] = b_det[b_det['det']==id_402.iloc[i, 0]].iloc[0, 2]\n",
    "        \n",
    "id_402['class_i'] = ''\n",
    "for i in range(len(id_402)):\n",
    "    id_402.iloc[i, 5] = b_det[b_det['det']==id_402.iloc[i, 0]].iloc[0, 3]\n",
    "\n",
    "id_402.to_csv('./res/%i_id_402_withclass.csv'%randseed)"
   ]
  },
  {
   "cell_type": "code",
   "execution_count": 27,
   "metadata": {},
   "outputs": [
    {
     "data": {
      "text/plain": [
       "<matplotlib.collections.PathCollection at 0x16826731240>"
      ]
     },
     "execution_count": 27,
     "metadata": {},
     "output_type": "execute_result"
    },
    {
     "data": {
      "image/png": "[encoded data removed]",
      "text/plain": [
       "<Figure size 360x360 with 1 Axes>"
      ]
     },
     "metadata": {
      "needs_background": "light"
     },
     "output_type": "display_data"
    }
   ],
   "source": [
    "q = pd.read_csv('./data/q_20_aggragated.csv', index_col = 0)\n",
    "b = pd.read_csv('./data/b_20_aggragated.csv', index_col = 0)  # time occupancy, (density)\n",
    "v = pd.read_csv('./data/v_20_aggragated.csv', index_col = 0)\n",
    "id_class = pd.read_csv('./res/%i_id_402_withclass.csv'%randseed)\n",
    "\n",
    "id_class0 = id_class[id_class.class_i == 0]\n",
    "q_c0 = q.loc[id_class0.id]\n",
    "b_c0 = b.loc[id_class0.id]\n",
    "\n",
    "id_class1 = id_class[id_class.class_i == 1]\n",
    "q_c1 = q.loc[id_class1.id]\n",
    "b_c1 = b.loc[id_class1.id]\n",
    "\n",
    "id_class2 = id_class[id_class.class_i == 2]\n",
    "q_c2 = q.loc[id_class2.id]\n",
    "b_c2 = b.loc[id_class2.id]\n",
    "\n",
    "id_class3 = id_class[id_class.class_i == 3]\n",
    "q_c3 = q.loc[id_class3.id]\n",
    "b_c3 = b.loc[id_class3.id]\n",
    "\n",
    "id_class4 = id_class[id_class.class_i == 4]\n",
    "q_c4 = q.loc[id_class4.id]\n",
    "b_c4 = b.loc[id_class4.id]\n",
    "\n",
    "id_class5 = id_class[id_class.class_i == 5]\n",
    "q_c5 = q.loc[id_class5.id]\n",
    "b_c5 = b.loc[id_class5.id]\n",
    "\n",
    "fig = plt.figure(figsize=[5, 5])\n",
    "ax2 = fig.add_subplot(111)\n",
    "ax2.set_xlim([0, 30])\n",
    "ax2.set_ylim([0, 700])\n",
    "\n",
    "ax2.scatter(x = b_c0.iloc[:,:432].mean(), y = q_c0.iloc[:,:432].mean(), s=1, c = 'b')\n",
    "ax2.scatter(x = b_c1.iloc[:,:432].mean(), y = q_c1.iloc[:,:432].mean(), s=1, c = 'g')\n",
    "ax2.scatter(x = b_c2.iloc[:,:432].mean(), y = q_c2.iloc[:,:432].mean(), s=1, c = 'y')\n",
    "ax2.scatter(x = b_c3.iloc[:,:432].mean(), y = q_c3.iloc[:,:432].mean(), s=1, c = 'black')\n",
    "ax2.scatter(x = b_c4.iloc[:,:432].mean(), y = q_c4.iloc[:,:432].mean(), s=1, c = 'r')\n",
    "ax2.scatter(x = b_c5.iloc[:,:432].mean(), y = q_c5.iloc[:,:432].mean(), s=1, c = 'grey')\n",
    "\n",
    "#plt.savefig('./res/img/%i'%randseed)"
   ]
  },
  {
   "cell_type": "markdown",
   "metadata": {},
   "source": [
    "# CH index (dont know the scale)"
   ]
  },
  {
   "cell_type": "code",
   "execution_count": 36,
   "metadata": {},
   "outputs": [
    {
     "data": {
      "text/plain": [
       "1125466.6348346474"
      ]
     },
     "execution_count": 36,
     "metadata": {},
     "output_type": "execute_result"
    }
   ],
   "source": [
    "cluster_set = b_det['class'].drop_duplicates()\n",
    "\n",
    "Nu1 = 0  # numerator 1\n",
    "c = b_det[0].mean()\n",
    "for c in cluster_set:\n",
    "    cluster = b_det[b_det['class']==c]\n",
    "    nk = len(cluster)\n",
    "    ck = cluster[0].mean()\n",
    "    Nu1 += nk*abs(ck-c)**2\n",
    "\n",
    "Nu2 = 0  # numerator 2\n",
    "for c in cluster_set:\n",
    "    cluster = b_det[b_det['class']==c]\n",
    "    nk = len(cluster)\n",
    "    ck = cluster[0].mean()\n",
    "    for i in range(nk):\n",
    "        Nu2 += (cluster.iloc[i, 0] - ck)**2\n",
    "        \n",
    "\n",
    "CH = Nu1*Nu2/((len(cluster_set)-1) * (len(b_det)-len(cluster_set)))\n",
    "CH"
   ]
  },
  {
   "cell_type": "markdown",
   "metadata": {},
   "source": [
    "## TV"
   ]
  },
  {
   "cell_type": "code",
   "execution_count": 43,
   "metadata": {},
   "outputs": [
    {
     "data": {
      "text/plain": [
       "34979.43114461438"
      ]
     },
     "execution_count": 43,
     "metadata": {},
     "output_type": "execute_result"
    }
   ],
   "source": [
    "cluster_set = b_det['class'].drop_duplicates()\n",
    "\n",
    "TV = 0\n",
    "for c in cluster_set:\n",
    "    cluster = b_det[b_det['class']==c]\n",
    "    NA = len(cluster)\n",
    "    TV += NA*cluster[0].std()**2\n",
    "\n",
    "TV"
   ]
  },
  {
   "cell_type": "code",
   "execution_count": null,
   "metadata": {},
   "outputs": [],
   "source": []
  }
 ],
 "metadata": {
  "interpreter": {
   "hash": "6787530bf9925b057af33f954282f7ad07558b12920f3eef54087b2f6236d6d8"
  },
  "kernelspec": {
   "display_name": "dan_traff",
   "language": "python",
   "name": "dan_traff"
  },
  "language_info": {
   "codemirror_mode": {
    "name": "ipython",
    "version": 3
   },
   "file_extension": ".py",
   "mimetype": "text/x-python",
   "name": "python",
   "nbconvert_exporter": "python",
   "pygments_lexer": "ipython3",
   "version": "3.6.13"
  }
 },
 "nbformat": 4,
 "nbformat_minor": 2
}
