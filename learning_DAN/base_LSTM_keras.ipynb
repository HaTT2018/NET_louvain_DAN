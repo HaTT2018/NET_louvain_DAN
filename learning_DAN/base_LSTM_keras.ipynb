{
 "cells": [
  {
   "cell_type": "markdown",
   "metadata": {},
   "source": [
    "# LSTM base net Implemented by Keras"
   ]
  },
  {
   "cell_type": "code",
   "execution_count": 1,
   "metadata": {},
   "outputs": [],
   "source": [
    "import numpy as np\n",
    "import pandas as pd\n",
    "import matplotlib.pyplot as plt\n",
    "import math\n",
    "import random\n",
    "\n",
    "import tensorflow.keras as keras\n",
    "import tensorflow as tf\n",
    "physical_devices = tf.config.list_physical_devices('GPU') \n",
    "for device in physical_devices:\n",
    "    tf.config.experimental.set_memory_growth(device, True)\n",
    "\n",
    "import ipdb\n",
    "import dan_utils"
   ]
  },
  {
   "cell_type": "code",
   "execution_count": 2,
   "metadata": {},
   "outputs": [],
   "source": [
    "# 设置随机数种子\n",
    "seed = 25\n",
    "dan_utils.setup_seed(seed)"
   ]
  },
  {
   "cell_type": "markdown",
   "metadata": {},
   "source": [
    "# Load data"
   ]
  },
  {
   "cell_type": "code",
   "execution_count": 3,
   "metadata": {},
   "outputs": [],
   "source": [
    "flow_df = pd.read_csv('../data/revised_data/flow_y_revised.csv')\n",
    "flow = flow_df.to_numpy()"
   ]
  },
  {
   "cell_type": "code",
   "execution_count": 4,
   "metadata": {},
   "outputs": [
    {
     "data": {
      "text/plain": [
       "(40, 4464)"
      ]
     },
     "execution_count": 4,
     "metadata": {},
     "output_type": "execute_result"
    }
   ],
   "source": [
    "flow.shape"
   ]
  },
  {
   "cell_type": "markdown",
   "metadata": {},
   "source": [
    "# Data assembling"
   ]
  },
  {
   "cell_type": "code",
   "execution_count": 5,
   "metadata": {},
   "outputs": [],
   "source": [
    "# # sliding window\n",
    "# window_size = 10\n",
    "# pred_size = 20\n",
    "# train_X = np.zeros([flow.shape[0] - window_size - pred_size + 1, window_size, flow.shape[1]])\n",
    "# train_y = np.zeros(train_X.shape[0], pred_size)\n",
    "\n",
    "# for i in range(window_size):\n",
    "#     train_X[:, i, :] += flow_df.shift(window_size - i - 1).iloc[window_size - 1:, :]\n",
    "#     # train_y[:, i] += flow_df.shift(window_size - i - 1).iloc[window_size - 1:, :]\n"
   ]
  },
  {
   "cell_type": "code",
   "execution_count": 6,
   "metadata": {},
   "outputs": [],
   "source": [
    "def sliding_window(data, window_size, pred_samp, prop):\n",
    "    \n",
    "#     data = data.flatten()\n",
    "    data_out = []\n",
    "    label_out = []\n",
    "    for i in range(data.shape[1] - window_size - pred_samp):\n",
    "        data_out.append(data[:, i : i + window_size])\n",
    "        # to predict the next [window size] flows\n",
    "        label_out.append(data[:, i + window_size + 1: i + window_size + 1 + pred_samp])\n",
    "    data_out = np.array(data_out)\n",
    "    label_out = np.array(label_out)\n",
    "#     ipdb.set_trace()\n",
    "    train_data_out = data_out[:int(data_out.shape[0]*prop), :]\n",
    "    train_label_out = label_out[:int(data_out.shape[0]*prop)]\n",
    "    val_data_out = data_out[int(data_out.shape[0]*prop):, :]\n",
    "    val_label_out = label_out[int(data_out.shape[0]*prop):]\n",
    "    \n",
    "    train_data_out = np.transpose(train_data_out, [0, 2, 1])\n",
    "    train_label_out = np.transpose(train_label_out, [0, 2, 1])\n",
    "    val_data_out = np.transpose(val_data_out, [0, 2, 1])\n",
    "    val_label_out = np.transpose(val_label_out, [0, 2, 1])\n",
    "    \n",
    "    return train_data_out, train_label_out, val_data_out, val_label_out\n"
   ]
  },
  {
   "cell_type": "code",
   "execution_count": 7,
   "metadata": {},
   "outputs": [],
   "source": [
    "window_size = 10\n",
    "pred_samp = 10\n",
    "\n",
    "train_X, train_y, test_X, test_y = sliding_window(flow, window_size, pred_samp, 24/31)"
   ]
  },
  {
   "cell_type": "code",
   "execution_count": 8,
   "metadata": {},
   "outputs": [
    {
     "name": "stdout",
     "output_type": "stream",
     "text": [
      "(3440, 10, 40)\n",
      "(3440, 10, 40)\n",
      "(1004, 10, 40)\n",
      "(1004, 10, 40)\n"
     ]
    }
   ],
   "source": [
    "print(train_X.shape)\n",
    "print(train_y.shape)\n",
    "print(test_X.shape)\n",
    "print(test_y.shape)"
   ]
  },
  {
   "cell_type": "markdown",
   "metadata": {},
   "source": [
    "# LSTM network (base)"
   ]
  },
  {
   "cell_type": "code",
   "execution_count": 9,
   "metadata": {},
   "outputs": [],
   "source": [
    "# data at the position of \"number of detectors\" are the same\n",
    "assert train_X.shape[2] == train_y.shape[2]\n",
    "assert train_X.shape[2] == test_X.shape[2]\n",
    "assert train_X.shape[2] == test_y.shape[2]\n",
    "num_det = flow.shape[0]\n",
    "\n",
    "hid_dim = 10"
   ]
  },
  {
   "cell_type": "code",
   "execution_count": 10,
   "metadata": {},
   "outputs": [
    {
     "data": {
      "text/plain": [
       "(3440, 10, 40)"
      ]
     },
     "execution_count": 10,
     "metadata": {},
     "output_type": "execute_result"
    }
   ],
   "source": [
    "train_X.shape"
   ]
  },
  {
   "cell_type": "code",
   "execution_count": 11,
   "metadata": {},
   "outputs": [],
   "source": [
    "model = keras.models.Sequential()\n",
    "# out shape: [window_size, hid_dim]\n",
    "model.add(keras.layers.BatchNormalization())\n",
    "model.add(keras.layers.LSTM(units=hid_dim, return_sequences=True))\n",
    "# model.add(keras.layers.Flatten())\n",
    "model.add(keras.layers.BatchNormalization())\n",
    "model.add(keras.layers.Dense(128, activation='relu'))\n",
    "model.add(keras.layers.Dense(num_det, activation='relu'))"
   ]
  },
  {
   "cell_type": "markdown",
   "metadata": {},
   "source": [
    "# Training on target data"
   ]
  },
  {
   "cell_type": "code",
   "execution_count": 12,
   "metadata": {
    "scrolled": true
   },
   "outputs": [
    {
     "name": "stdout",
     "output_type": "stream",
     "text": [
      "Epoch 1/100\n",
      "27/27 [==============================] - 4s 54ms/step - loss: 244002.3672 - val_loss: 242075.1250\n",
      "Epoch 2/100\n",
      "27/27 [==============================] - 0s 8ms/step - loss: 238569.4263 - val_loss: 239133.7969\n",
      "Epoch 3/100\n",
      "27/27 [==============================] - 0s 8ms/step - loss: 236447.4308 - val_loss: 232022.4219\n",
      "Epoch 4/100\n",
      "27/27 [==============================] - 0s 8ms/step - loss: 230171.4397 - val_loss: 220949.1875\n",
      "Epoch 5/100\n",
      "27/27 [==============================] - 0s 8ms/step - loss: 218486.1819 - val_loss: 205873.0312\n",
      "Epoch 6/100\n",
      "27/27 [==============================] - 0s 8ms/step - loss: 205857.7907 - val_loss: 186793.2188\n",
      "Epoch 7/100\n",
      "27/27 [==============================] - 0s 8ms/step - loss: 191293.4860 - val_loss: 164199.5156\n",
      "Epoch 8/100\n",
      "27/27 [==============================] - 0s 8ms/step - loss: 164160.5446 - val_loss: 142364.8594\n",
      "Epoch 9/100\n",
      "27/27 [==============================] - 0s 8ms/step - loss: 137862.1334 - val_loss: 118964.1094\n",
      "Epoch 10/100\n",
      "27/27 [==============================] - 0s 8ms/step - loss: 112992.9283 - val_loss: 95388.8047\n",
      "Epoch 11/100\n",
      "27/27 [==============================] - 0s 8ms/step - loss: 88911.8047 - val_loss: 74337.7812\n",
      "Epoch 12/100\n",
      "27/27 [==============================] - 0s 8ms/step - loss: 69830.8965 - val_loss: 57484.9961\n",
      "Epoch 13/100\n",
      "27/27 [==============================] - 0s 8ms/step - loss: 55424.7804 - val_loss: 44844.7812\n",
      "Epoch 14/100\n",
      "27/27 [==============================] - 0s 8ms/step - loss: 43511.2554 - val_loss: 36377.9219\n",
      "Epoch 15/100\n",
      "27/27 [==============================] - 0s 8ms/step - loss: 34351.6001 - val_loss: 31690.0801\n",
      "Epoch 16/100\n",
      "27/27 [==============================] - 0s 8ms/step - loss: 28591.7919 - val_loss: 29221.4023\n",
      "Epoch 17/100\n",
      "27/27 [==============================] - 0s 8ms/step - loss: 25969.0453 - val_loss: 26350.6348\n",
      "Epoch 18/100\n",
      "27/27 [==============================] - 0s 8ms/step - loss: 22278.9200 - val_loss: 24487.1445\n",
      "Epoch 19/100\n",
      "27/27 [==============================] - 0s 8ms/step - loss: 19293.3029 - val_loss: 24514.5996\n",
      "Epoch 20/100\n",
      "27/27 [==============================] - 0s 8ms/step - loss: 17439.0903 - val_loss: 20606.8652\n",
      "Epoch 21/100\n",
      "27/27 [==============================] - 0s 8ms/step - loss: 15949.9257 - val_loss: 19156.9844\n",
      "Epoch 22/100\n",
      "27/27 [==============================] - 0s 8ms/step - loss: 14561.6081 - val_loss: 17880.6973\n",
      "Epoch 23/100\n",
      "27/27 [==============================] - 0s 8ms/step - loss: 13895.1192 - val_loss: 16428.9082\n",
      "Epoch 24/100\n",
      "27/27 [==============================] - 0s 8ms/step - loss: 13775.1773 - val_loss: 16418.5566\n",
      "Epoch 25/100\n",
      "27/27 [==============================] - 0s 8ms/step - loss: 12992.7514 - val_loss: 15512.9951\n",
      "Epoch 26/100\n",
      "27/27 [==============================] - 0s 8ms/step - loss: 12265.1184 - val_loss: 14570.9209\n",
      "Epoch 27/100\n",
      "27/27 [==============================] - 0s 8ms/step - loss: 12244.9201 - val_loss: 15204.8896\n",
      "Epoch 28/100\n",
      "27/27 [==============================] - 0s 8ms/step - loss: 12083.6646 - val_loss: 14072.7256\n",
      "Epoch 29/100\n",
      "27/27 [==============================] - 0s 8ms/step - loss: 12261.2320 - val_loss: 13063.6289\n",
      "Epoch 30/100\n",
      "27/27 [==============================] - 0s 8ms/step - loss: 11369.6273 - val_loss: 12887.2314\n",
      "Epoch 31/100\n",
      "27/27 [==============================] - 0s 8ms/step - loss: 11120.5346 - val_loss: 12599.5400\n",
      "Epoch 32/100\n",
      "27/27 [==============================] - 0s 8ms/step - loss: 11414.8015 - val_loss: 12572.5625\n",
      "Epoch 33/100\n",
      "27/27 [==============================] - 0s 8ms/step - loss: 10518.8808 - val_loss: 12524.9189\n",
      "Epoch 34/100\n",
      "27/27 [==============================] - 0s 8ms/step - loss: 10918.3560 - val_loss: 12581.7803\n",
      "Epoch 35/100\n",
      "27/27 [==============================] - 0s 8ms/step - loss: 11022.8154 - val_loss: 12255.1602\n",
      "Epoch 36/100\n",
      "27/27 [==============================] - 0s 8ms/step - loss: 10928.2173 - val_loss: 11908.4473\n",
      "Epoch 37/100\n",
      "27/27 [==============================] - 0s 8ms/step - loss: 10371.3008 - val_loss: 13185.4629\n",
      "Epoch 38/100\n",
      "27/27 [==============================] - 0s 8ms/step - loss: 10116.0829 - val_loss: 12367.5127\n",
      "Epoch 39/100\n",
      "27/27 [==============================] - 0s 8ms/step - loss: 11030.6953 - val_loss: 12241.4082\n",
      "Epoch 40/100\n",
      "27/27 [==============================] - 0s 8ms/step - loss: 10683.9638 - val_loss: 12323.7998\n",
      "Epoch 41/100\n",
      "27/27 [==============================] - 0s 8ms/step - loss: 10120.1836 - val_loss: 12498.2520\n",
      "Epoch 42/100\n",
      "27/27 [==============================] - 0s 8ms/step - loss: 10908.6283 - val_loss: 12044.2666\n",
      "Epoch 43/100\n",
      "27/27 [==============================] - 0s 8ms/step - loss: 10016.2537 - val_loss: 12160.7422\n",
      "Epoch 44/100\n",
      "27/27 [==============================] - 0s 8ms/step - loss: 10152.4387 - val_loss: 11402.0762\n",
      "Epoch 45/100\n",
      "27/27 [==============================] - 0s 8ms/step - loss: 9585.9153 - val_loss: 11646.4609\n",
      "Epoch 46/100\n",
      "27/27 [==============================] - 0s 8ms/step - loss: 10047.9644 - val_loss: 11856.5654\n",
      "Epoch 47/100\n",
      "27/27 [==============================] - 0s 8ms/step - loss: 9868.7054 - val_loss: 11379.1406\n",
      "Epoch 48/100\n",
      "27/27 [==============================] - 0s 8ms/step - loss: 10601.3949 - val_loss: 11322.9375\n",
      "Epoch 49/100\n",
      "27/27 [==============================] - 0s 8ms/step - loss: 10024.3664 - val_loss: 11270.7256\n",
      "Epoch 50/100\n",
      "27/27 [==============================] - 0s 8ms/step - loss: 10006.6924 - val_loss: 11529.2920\n",
      "Epoch 51/100\n",
      "27/27 [==============================] - 0s 8ms/step - loss: 9767.3748 - val_loss: 11986.0146\n",
      "Epoch 52/100\n",
      "27/27 [==============================] - 0s 8ms/step - loss: 9678.6302 - val_loss: 11351.3984\n",
      "Epoch 53/100\n",
      "27/27 [==============================] - 0s 8ms/step - loss: 9782.1961 - val_loss: 11331.6797\n",
      "Epoch 54/100\n",
      "27/27 [==============================] - 0s 8ms/step - loss: 10139.1080 - val_loss: 12377.9629\n",
      "Epoch 55/100\n",
      "27/27 [==============================] - 0s 8ms/step - loss: 10219.3507 - val_loss: 11458.9482\n",
      "Epoch 56/100\n",
      "27/27 [==============================] - 0s 8ms/step - loss: 9191.2149 - val_loss: 11482.0088\n",
      "Epoch 57/100\n",
      "27/27 [==============================] - 0s 8ms/step - loss: 9532.7260 - val_loss: 11684.1279\n",
      "Epoch 58/100\n",
      "27/27 [==============================] - 0s 8ms/step - loss: 9799.0066 - val_loss: 11506.5596\n",
      "Epoch 59/100\n",
      "27/27 [==============================] - 0s 8ms/step - loss: 9590.9358 - val_loss: 11190.5898\n",
      "Epoch 60/100\n",
      "27/27 [==============================] - 0s 8ms/step - loss: 10186.2176 - val_loss: 11308.4570\n",
      "Epoch 61/100\n",
      "27/27 [==============================] - 0s 8ms/step - loss: 9642.1985 - val_loss: 11208.3945\n",
      "Epoch 62/100\n",
      "27/27 [==============================] - 0s 8ms/step - loss: 9792.4194 - val_loss: 11018.3662\n",
      "Epoch 63/100\n",
      "27/27 [==============================] - 0s 8ms/step - loss: 9636.5589 - val_loss: 11797.1963\n",
      "Epoch 64/100\n",
      "27/27 [==============================] - 0s 8ms/step - loss: 9488.7242 - val_loss: 10834.2275\n",
      "Epoch 65/100\n",
      "27/27 [==============================] - 0s 8ms/step - loss: 10148.3148 - val_loss: 11153.5781\n",
      "Epoch 66/100\n",
      "27/27 [==============================] - 0s 8ms/step - loss: 9920.4943 - val_loss: 10890.1641\n",
      "Epoch 67/100\n",
      "27/27 [==============================] - 0s 8ms/step - loss: 9714.4413 - val_loss: 11172.2842\n",
      "Epoch 68/100\n",
      "27/27 [==============================] - 0s 8ms/step - loss: 9342.7479 - val_loss: 10704.8535\n",
      "Epoch 69/100\n",
      "27/27 [==============================] - 0s 8ms/step - loss: 9759.0190 - val_loss: 10904.9893\n",
      "Epoch 70/100\n",
      "27/27 [==============================] - 0s 8ms/step - loss: 9192.3676 - val_loss: 10611.1152\n",
      "Epoch 71/100\n",
      "27/27 [==============================] - 0s 8ms/step - loss: 9771.0399 - val_loss: 10786.0059\n",
      "Epoch 72/100\n",
      "27/27 [==============================] - 0s 8ms/step - loss: 9314.4748 - val_loss: 10733.5986\n",
      "Epoch 73/100\n",
      "27/27 [==============================] - 0s 8ms/step - loss: 9609.7200 - val_loss: 10507.4629\n",
      "Epoch 74/100\n",
      "27/27 [==============================] - 0s 8ms/step - loss: 9473.2080 - val_loss: 10729.2334\n",
      "Epoch 75/100\n",
      "27/27 [==============================] - 0s 8ms/step - loss: 9481.4444 - val_loss: 11269.7842\n",
      "Epoch 76/100\n",
      "27/27 [==============================] - 0s 8ms/step - loss: 9375.5795 - val_loss: 10784.8291\n"
     ]
    },
    {
     "name": "stdout",
     "output_type": "stream",
     "text": [
      "Epoch 77/100\n",
      "27/27 [==============================] - 0s 8ms/step - loss: 9059.6024 - val_loss: 10636.0654\n",
      "Epoch 78/100\n",
      "27/27 [==============================] - 0s 8ms/step - loss: 9576.6425 - val_loss: 10499.1582\n",
      "Epoch 79/100\n",
      "27/27 [==============================] - 0s 8ms/step - loss: 9440.7450 - val_loss: 10513.0723\n",
      "Epoch 80/100\n",
      "27/27 [==============================] - 0s 8ms/step - loss: 9261.7390 - val_loss: 10654.6543\n",
      "Epoch 81/100\n",
      "27/27 [==============================] - 0s 8ms/step - loss: 9637.8898 - val_loss: 10662.5000\n",
      "Epoch 82/100\n",
      "27/27 [==============================] - 0s 8ms/step - loss: 8796.4390 - val_loss: 11154.7637\n",
      "Epoch 83/100\n",
      "27/27 [==============================] - 0s 8ms/step - loss: 9761.0597 - val_loss: 10973.5166\n",
      "Epoch 84/100\n",
      "27/27 [==============================] - 0s 8ms/step - loss: 9248.2899 - val_loss: 10643.9941\n",
      "Epoch 85/100\n",
      "27/27 [==============================] - 0s 8ms/step - loss: 9375.2856 - val_loss: 10280.3623\n",
      "Epoch 86/100\n",
      "27/27 [==============================] - 0s 8ms/step - loss: 8937.2992 - val_loss: 10594.7021\n",
      "Epoch 87/100\n",
      "27/27 [==============================] - 0s 8ms/step - loss: 9106.8043 - val_loss: 10873.7637\n",
      "Epoch 88/100\n",
      "27/27 [==============================] - 0s 8ms/step - loss: 9117.5561 - val_loss: 10579.4990\n",
      "Epoch 89/100\n",
      "27/27 [==============================] - 0s 8ms/step - loss: 8904.8882 - val_loss: 10198.9658\n",
      "Epoch 90/100\n",
      "27/27 [==============================] - 0s 8ms/step - loss: 8620.6806 - val_loss: 10353.3145\n",
      "Epoch 91/100\n",
      "27/27 [==============================] - 0s 8ms/step - loss: 9237.2290 - val_loss: 10496.8105\n",
      "Epoch 92/100\n",
      "27/27 [==============================] - 0s 8ms/step - loss: 8868.7750 - val_loss: 10504.3926\n",
      "Epoch 93/100\n",
      "27/27 [==============================] - 0s 8ms/step - loss: 8739.6166 - val_loss: 10429.9121\n",
      "Epoch 94/100\n",
      "27/27 [==============================] - 0s 8ms/step - loss: 8996.9256 - val_loss: 10164.8438\n",
      "Epoch 95/100\n",
      "27/27 [==============================] - 0s 8ms/step - loss: 8933.8559 - val_loss: 10144.1523\n",
      "Epoch 96/100\n",
      "27/27 [==============================] - 0s 8ms/step - loss: 9349.6747 - val_loss: 10043.2520\n",
      "Epoch 97/100\n",
      "27/27 [==============================] - 0s 8ms/step - loss: 8739.5926 - val_loss: 10111.0000\n",
      "Epoch 98/100\n",
      "27/27 [==============================] - 0s 8ms/step - loss: 9017.1585 - val_loss: 11121.2432\n",
      "Epoch 99/100\n",
      "27/27 [==============================] - 0s 8ms/step - loss: 8826.2993 - val_loss: 10018.1299\n",
      "Epoch 100/100\n",
      "27/27 [==============================] - 0s 8ms/step - loss: 8888.0413 - val_loss: 11106.1289\n"
     ]
    }
   ],
   "source": [
    "model.compile(loss='mse', optimizer='adam')\n",
    "history = model.fit(train_X, train_y, epochs=100, batch_size=128, validation_data=(test_X, test_y), verbose=1, shuffle=True)"
   ]
  },
  {
   "cell_type": "markdown",
   "metadata": {},
   "source": [
    "# Visualization"
   ]
  },
  {
   "cell_type": "code",
   "execution_count": 13,
   "metadata": {},
   "outputs": [
    {
     "data": {
      "text/plain": [
       "<matplotlib.legend.Legend at 0x18a7bbdcdc0>"
      ]
     },
     "execution_count": 13,
     "metadata": {},
     "output_type": "execute_result"
    },
    {
     "data": {
      "image/png": "[encoded data removed]",
      "text/plain": [
       "<Figure size 432x288 with 1 Axes>"
      ]
     },
     "metadata": {
      "needs_background": "light"
     },
     "output_type": "display_data"
    }
   ],
   "source": [
    "p1 = plt.plot(history.history['loss'], color='blue', label='train')\n",
    "p2 = plt.plot(history.history['val_loss'], color='red',label='test')\n",
    "plt.legend()"
   ]
  },
  {
   "cell_type": "code",
   "execution_count": 14,
   "metadata": {},
   "outputs": [],
   "source": [
    "yhat = model.predict(test_X)"
   ]
  },
  {
   "cell_type": "code",
   "execution_count": 15,
   "metadata": {},
   "outputs": [
    {
     "data": {
      "text/plain": [
       "(1004, 10, 40)"
      ]
     },
     "execution_count": 15,
     "metadata": {},
     "output_type": "execute_result"
    }
   ],
   "source": [
    "test_y.shape"
   ]
  },
  {
   "cell_type": "code",
   "execution_count": 18,
   "metadata": {},
   "outputs": [
    {
     "data": {
      "text/plain": [
       "Text(0.5, 1.0, 'Testing dataset')"
      ]
     },
     "execution_count": 18,
     "metadata": {},
     "output_type": "execute_result"
    },
    {
     "data": {
      "image/png": "[encoded data removed]",
      "text/plain": [
       "<Figure size 1152x288 with 1 Axes>"
      ]
     },
     "metadata": {
      "needs_background": "light"
     },
     "output_type": "display_data"
    }
   ],
   "source": [
    "n_step_ahead = 3\n",
    "det = 0\n",
    "\n",
    "plt.figure(figsize=[16,4])\n",
    "plt.plot(yhat[:, n_step_ahead, det], label='pred')\n",
    "plt.plot(test_y[:, n_step_ahead, det], label='ground truth')\n",
    "plt.legend()\n",
    "plt.xlabel('Time')  # time gran: 15 min\n",
    "plt.ylabel('Flow')\n",
    "plt.title('Testing dataset')"
   ]
  },
  {
   "cell_type": "markdown",
   "metadata": {},
   "source": [
    "# Evaluation"
   ]
  },
  {
   "cell_type": "code",
   "execution_count": 17,
   "metadata": {},
   "outputs": [
    {
     "name": "stdout",
     "output_type": "stream",
     "text": [
      "nrmse = 0.21382095492213796\n",
      "mape = 0.3795720530157864\n",
      "smape = 0.12644910633055412\n",
      "mae = 75.69701530100771\n"
     ]
    }
   ],
   "source": [
    "#transfer with DAN 预测精度计算\n",
    "m=0\n",
    "model_pre = yhat\n",
    "label_test_target = test_y\n",
    "\n",
    "nrmse_mean = dan_utils.nrmse_loss_func(model_pre, label_test_target, m)\n",
    "mape_mean = dan_utils.mape_loss_func(model_pre, label_test_target, m)\n",
    "smape_mean = dan_utils.smape_loss_func(model_pre, label_test_target, m)\n",
    "mae_mean = dan_utils.mae_loss_func(model_pre, label_test_target, m)\n",
    "\n",
    "print('nrmse = ' + str(nrmse_mean) + '\\n' + 'mape = ' + str(mape_mean) + '\\n' + 'smape = ' + str(smape_mean) + '\\n' + 'mae = ' + str(mae_mean))"
   ]
  },
  {
   "cell_type": "code",
   "execution_count": null,
   "metadata": {},
   "outputs": [],
   "source": []
  }
 ],
 "metadata": {
  "kernelspec": {
   "display_name": "dan_traff",
   "language": "python",
   "name": "dan_traff"
  },
  "language_info": {
   "codemirror_mode": {
    "name": "ipython",
    "version": 3
   },
   "file_extension": ".py",
   "mimetype": "text/x-python",
   "name": "python",
   "nbconvert_exporter": "python",
   "pygments_lexer": "ipython3",
   "version": "3.8.11"
  }
 },
 "nbformat": 4,
 "nbformat_minor": 4
}
