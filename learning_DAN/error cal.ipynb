{
 "cells": [
  {
   "cell_type": "code",
   "execution_count": 6,
   "metadata": {},
   "outputs": [],
   "source": [
    "import numpy as np\n",
    "import pandas as pd\n",
    "\n",
    "def mape_loss_func(preds, labels):\n",
    "    mask = labels > 0\n",
    "    return np.mean(np.fabs(labels[mask]-preds[mask])/labels[mask])\n",
    "\n",
    "def smape_loss_func(preds, labels):\n",
    "    mask= labels > 0\n",
    "    return np.mean(np.fabs(labels[mask]-preds[mask])/(np.fabs(labels[mask])+np.fabs(preds[mask])))\n",
    "\n",
    "def mae_loss_func(preds, labels):\n",
    "    mask= labels > 0\n",
    "    return np.fabs((labels[mask]-preds[mask])).mean()\n",
    "\n",
    "def nrmse(preds, labels):\n",
    "    mask= labels > 0\n",
    "    return np.sqrt(np.sum((labels[mask]-preds[mask])**2)/np.sum(np.square(labels[mask])))"
   ]
  },
  {
   "cell_type": "code",
   "execution_count": 14,
   "metadata": {},
   "outputs": [],
   "source": [
    "pred = np.load('24lstm1828.npy')\n",
    "label = np.load('base-ytest.npy')"
   ]
  },
  {
   "cell_type": "code",
   "execution_count": 15,
   "metadata": {},
   "outputs": [
    {
     "name": "stdout",
     "output_type": "stream",
     "text": [
      "(990, 40, 6)\n",
      "(990, 40, 6)\n",
      "(990, 40, 6)\n"
     ]
    }
   ],
   "source": [
    "print(np.shape(pred))\n",
    "print(np.shape(label))\n",
    "# label = label[-854:, :, :]\n",
    "# pred = pred[-854:, :, :]\n",
    "print(np.shape(label))"
   ]
  },
  {
   "cell_type": "code",
   "execution_count": 16,
   "metadata": {},
   "outputs": [
    {
     "name": "stdout",
     "output_type": "stream",
     "text": [
      "mape = 0.20755381224583844\n",
      "smape = 0.08926856871062222\n",
      "mae = 59.96904841545684\n",
      "nrmse = 0.1791223933480689\n"
     ]
    }
   ],
   "source": [
    "mape_mean = mape_loss_func(pred, label)\n",
    "smape_mean = smape_loss_func(pred, label)\n",
    "mae_mean = mae_loss_func(pred, label)\n",
    "nrmse_mean = nrmse(pred, label)\n",
    "\n",
    "print('mape = ' + str(mape_mean) + '\\n' + 'smape = ' + str(smape_mean) + '\\n' + 'mae = ' \n",
    "+ str(mae_mean) + '\\n' + 'nrmse = ' + str(nrmse_mean))"
   ]
  },
  {
   "cell_type": "code",
   "execution_count": 17,
   "metadata": {},
   "outputs": [
    {
     "name": "stdout",
     "output_type": "stream",
     "text": [
      "0\n",
      "mape = 0.21473308173535793\n",
      "smape = 0.09056927030950414\n",
      "mae = 59.43112385758209\n",
      "nrmse = 0.17724321406779336\n",
      "1\n",
      "mape = 0.2094991537883856\n",
      "smape = 0.08950495109450776\n",
      "mae = 59.38698948525228\n",
      "nrmse = 0.1776855590264808\n",
      "2\n",
      "mape = 0.20616494592453707\n",
      "smape = 0.0887214541890631\n",
      "mae = 59.53919874887077\n",
      "nrmse = 0.1782688890365968\n",
      "3\n",
      "mape = 0.20373291191633214\n",
      "smape = 0.08825210286350753\n",
      "mae = 59.799827985502866\n",
      "nrmse = 0.17897061608232318\n",
      "4\n",
      "mape = 0.20400420838830327\n",
      "smape = 0.08857681793257798\n",
      "mae = 60.32327583021736\n",
      "nrmse = 0.180210234293681\n",
      "5\n",
      "mape = 0.20718857172211463\n",
      "smape = 0.08998681587457272\n",
      "mae = 61.33387458531571\n",
      "nrmse = 0.18229935391210136\n"
     ]
    }
   ],
   "source": [
    "for i in range(6):    \n",
    "    mape_mean = mape_loss_func(pred[:,:,i], label[:,:,i])\n",
    "    smape_mean = smape_loss_func(pred[:,:,i], label[:,:,i])\n",
    "    mae_mean = mae_loss_func(pred[:,:,i], label[:,:,i])\n",
    "    nrmse_mean = nrmse(pred[:,:,i], label[:,:,i])\n",
    "\n",
    "    print(str(i) + '\\n' + 'mape = ' + str(mape_mean) + '\\n' + 'smape = ' + str(smape_mean) + '\\n' + 'mae = ' \n",
    "    + str(mae_mean) + '\\n' + 'nrmse = ' + str(nrmse_mean))"
   ]
  },
  {
   "cell_type": "code",
   "execution_count": null,
   "metadata": {},
   "outputs": [],
   "source": []
  },
  {
   "cell_type": "code",
   "execution_count": null,
   "metadata": {},
   "outputs": [],
   "source": []
  }
 ],
 "metadata": {
  "interpreter": {
   "hash": "6b092d8890fbfc1935d95d43d0881a7b3742c06492f450993a24f5c2e6237594"
  },
  "kernelspec": {
   "display_name": "Python 3",
   "language": "python",
   "name": "python3"
  },
  "language_info": {
   "codemirror_mode": {
    "name": "ipython",
    "version": 3
   },
   "file_extension": ".py",
   "mimetype": "text/x-python",
   "name": "python",
   "nbconvert_exporter": "python",
   "pygments_lexer": "ipython3",
   "version": "3.8.8"
  }
 },
 "nbformat": 4,
 "nbformat_minor": 2
}
