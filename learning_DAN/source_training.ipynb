{
 "cells": [
  {
   "cell_type": "code",
   "execution_count": 2,
   "metadata": {},
   "outputs": [
    {
     "name": "stderr",
     "output_type": "stream",
     "text": [
      "Using TensorFlow backend.\n",
      "C:\\ProgramData\\Anaconda3\\lib\\site-packages\\tensorflow\\python\\framework\\dtypes.py:516: FutureWarning: Passing (type, 1) or '1type' as a synonym of type is deprecated; in a future version of numpy, it will be understood as (type, (1,)) / '(1,)type'.\n",
      "  _np_qint8 = np.dtype([(\"qint8\", np.int8, 1)])\n",
      "C:\\ProgramData\\Anaconda3\\lib\\site-packages\\tensorflow\\python\\framework\\dtypes.py:517: FutureWarning: Passing (type, 1) or '1type' as a synonym of type is deprecated; in a future version of numpy, it will be understood as (type, (1,)) / '(1,)type'.\n",
      "  _np_quint8 = np.dtype([(\"quint8\", np.uint8, 1)])\n",
      "C:\\ProgramData\\Anaconda3\\lib\\site-packages\\tensorflow\\python\\framework\\dtypes.py:518: FutureWarning: Passing (type, 1) or '1type' as a synonym of type is deprecated; in a future version of numpy, it will be understood as (type, (1,)) / '(1,)type'.\n",
      "  _np_qint16 = np.dtype([(\"qint16\", np.int16, 1)])\n",
      "C:\\ProgramData\\Anaconda3\\lib\\site-packages\\tensorflow\\python\\framework\\dtypes.py:519: FutureWarning: Passing (type, 1) or '1type' as a synonym of type is deprecated; in a future version of numpy, it will be understood as (type, (1,)) / '(1,)type'.\n",
      "  _np_quint16 = np.dtype([(\"quint16\", np.uint16, 1)])\n",
      "C:\\ProgramData\\Anaconda3\\lib\\site-packages\\tensorflow\\python\\framework\\dtypes.py:520: FutureWarning: Passing (type, 1) or '1type' as a synonym of type is deprecated; in a future version of numpy, it will be understood as (type, (1,)) / '(1,)type'.\n",
      "  _np_qint32 = np.dtype([(\"qint32\", np.int32, 1)])\n",
      "C:\\ProgramData\\Anaconda3\\lib\\site-packages\\tensorflow\\python\\framework\\dtypes.py:525: FutureWarning: Passing (type, 1) or '1type' as a synonym of type is deprecated; in a future version of numpy, it will be understood as (type, (1,)) / '(1,)type'.\n",
      "  np_resource = np.dtype([(\"resource\", np.ubyte, 1)])\n",
      "C:\\ProgramData\\Anaconda3\\lib\\site-packages\\tensorboard\\compat\\tensorflow_stub\\dtypes.py:541: FutureWarning: Passing (type, 1) or '1type' as a synonym of type is deprecated; in a future version of numpy, it will be understood as (type, (1,)) / '(1,)type'.\n",
      "  _np_qint8 = np.dtype([(\"qint8\", np.int8, 1)])\n",
      "C:\\ProgramData\\Anaconda3\\lib\\site-packages\\tensorboard\\compat\\tensorflow_stub\\dtypes.py:542: FutureWarning: Passing (type, 1) or '1type' as a synonym of type is deprecated; in a future version of numpy, it will be understood as (type, (1,)) / '(1,)type'.\n",
      "  _np_quint8 = np.dtype([(\"quint8\", np.uint8, 1)])\n",
      "C:\\ProgramData\\Anaconda3\\lib\\site-packages\\tensorboard\\compat\\tensorflow_stub\\dtypes.py:543: FutureWarning: Passing (type, 1) or '1type' as a synonym of type is deprecated; in a future version of numpy, it will be understood as (type, (1,)) / '(1,)type'.\n",
      "  _np_qint16 = np.dtype([(\"qint16\", np.int16, 1)])\n",
      "C:\\ProgramData\\Anaconda3\\lib\\site-packages\\tensorboard\\compat\\tensorflow_stub\\dtypes.py:544: FutureWarning: Passing (type, 1) or '1type' as a synonym of type is deprecated; in a future version of numpy, it will be understood as (type, (1,)) / '(1,)type'.\n",
      "  _np_quint16 = np.dtype([(\"quint16\", np.uint16, 1)])\n",
      "C:\\ProgramData\\Anaconda3\\lib\\site-packages\\tensorboard\\compat\\tensorflow_stub\\dtypes.py:545: FutureWarning: Passing (type, 1) or '1type' as a synonym of type is deprecated; in a future version of numpy, it will be understood as (type, (1,)) / '(1,)type'.\n",
      "  _np_qint32 = np.dtype([(\"qint32\", np.int32, 1)])\n",
      "C:\\ProgramData\\Anaconda3\\lib\\site-packages\\tensorboard\\compat\\tensorflow_stub\\dtypes.py:550: FutureWarning: Passing (type, 1) or '1type' as a synonym of type is deprecated; in a future version of numpy, it will be understood as (type, (1,)) / '(1,)type'.\n",
      "  np_resource = np.dtype([(\"resource\", np.ubyte, 1)])\n"
     ]
    }
   ],
   "source": [
    "import time\n",
    "import numpy as np\n",
    "import pandas as pd\n",
    "import keras\n",
    "from keras.engine.topology import Layer"
   ]
  },
  {
   "cell_type": "code",
   "execution_count": 3,
   "metadata": {},
   "outputs": [],
   "source": [
    "def mape_loss_func(preds, labels):\n",
    "    mask = labels > 5\n",
    "    return np.mean(np.fabs(labels[mask]-preds[mask])/labels[mask])\n",
    "\n",
    "def smape_loss_func(preds, labels):\n",
    "    mask= labels > 5\n",
    "    return np.mean(2*np.fabs(labels[mask]-preds[mask])/(np.fabs(labels[mask])+np.fabs(preds[mask])))\n",
    "\n",
    "def mae_loss_func(preds, labels):\n",
    "    mask= labels > 5\n",
    "    return np.fabs((labels[mask]-preds[mask])).mean()\n",
    "\n",
    "def eliminate_nan(b):\n",
    "    a = np.array(b)\n",
    "    c = a[~np.isnan(a)]\n",
    "    return c"
   ]
  },
  {
   "cell_type": "code",
   "execution_count": 4,
   "metadata": {},
   "outputs": [
    {
     "name": "stdout",
     "output_type": "stream",
     "text": [
      "There are 5 class(es)\n"
     ]
    },
    {
     "name": "stderr",
     "output_type": "stream",
     "text": [
      "C:\\ProgramData\\Anaconda3\\lib\\site-packages\\pandas\\core\\indexing.py:543: SettingWithCopyWarning: \n",
      "A value is trying to be set on a copy of a slice from a DataFrame.\n",
      "Try using .loc[row_indexer,col_indexer] = value instead\n",
      "\n",
      "See the caveats in the documentation: http://pandas.pydata.org/pandas-docs/stable/indexing.html#indexing-view-versus-copy\n",
      "  self.obj[item] = s\n"
     ]
    }
   ],
   "source": [
    "randseed = 25\n",
    "res = 11\n",
    "\n",
    "v = pd.read_csv('../data/v_20_aggragated.csv')\n",
    "v = v.rename(columns={'Unnamed: 0': 'id'})\n",
    "det_with_class = pd.read_csv('../res/%i_res%i_id_402_withclass.csv'%(randseed, res), index_col=0)\n",
    "\n",
    "v['class_i'] = ''\n",
    "for i in range(len(v)):\n",
    "    v.loc[i, 'class_i'] = det_with_class[det_with_class['id']==v.loc[i, 'id']].iloc[0, 5]  # 5 stands for 'class_i'\n",
    "\n",
    "num_class = det_with_class['class_i'].drop_duplicates().size\n",
    "\n",
    "v_class = []\n",
    "for i in range(num_class):\n",
    "    v_class.append(v[v['class_i']==i])\n",
    "\n",
    "print('There are %i class(es)'%num_class)\n",
    "\n",
    "dist_mat = pd.read_csv('../data/dist_mat.csv', index_col=0)\n",
    "id_info = pd.read_csv('../data/id2000.csv', index_col=0)\n",
    "dist_mat.index = id_info['id2']\n",
    "dist_mat.columns = id_info['id2']\n",
    "for i in range(len(dist_mat)):\n",
    "    for j in range(len(dist_mat)):\n",
    "        if i==j:\n",
    "            dist_mat.iloc[i, j] = 0\n",
    "\n",
    "near_id = pd.DataFrame(np.argsort(np.array(dist_mat)), index = id_info['id2'], columns = id_info['id2'])\n",
    "\n",
    "def get_node(det, seg):\n",
    "    # det is one single detector id\n",
    "    # node is one single node id\n",
    "    \n",
    "    # seg = pd.read_csv('./data/segement.csv', header=None)\n",
    "    try:\n",
    "        node_info = seg[seg[6]==det]\n",
    "        node = node_info.iloc[0, 0]\n",
    "    except:\n",
    "        node_info = seg[seg[7]==det]\n",
    "        node = node_info.iloc[0, 0]\n",
    "        \n",
    "    return node\n",
    "\n",
    "def get_class_with_node(seg, v_class):\n",
    "    det_list_class = np.array([])\n",
    "    try:\n",
    "        v_class.insert(1, 'id2', '')  # id2 mean node id\n",
    "    except:\n",
    "        v_class['id2'] = ''\n",
    "        \n",
    "    for i in range(len(v_class)):\n",
    "        det_list_class = np.append(det_list_class, v_class.iloc[i, 0])\n",
    "        v_class.iloc[i, 1] = get_node(v_class.iloc[i, 0], seg)\n",
    "    \n",
    "    return det_list_class, v_class\n",
    "\n",
    "def rds_mat(old_dist_mat, det_ids):\n",
    "    # get a matrix that contains n raods that have specified node id s\n",
    "    node_ids = np.array([])\n",
    "    for i in det_ids:\n",
    "        node_ids = np.append(node_ids, get_node(i, seg))\n",
    "        \n",
    "    new_dist_mat = old_dist_mat.loc[node_ids, node_ids]\n",
    "    old_dist_mat = np.array(old_dist_mat)\n",
    "    new_near_id_mat = np.argsort(new_dist_mat)\n",
    "    return new_near_id_mat\n",
    "\n",
    "seg = pd.read_csv('../data/segement.csv', header=None)\n",
    "num_dets = 25\n",
    "\n",
    "det_list_class = []\n",
    "for i in range(num_class):\n",
    "    det_list_class_temp, v_class_temp = get_class_with_node(seg, v_class[i])\n",
    "    det_list_class.append(det_list_class_temp)\n",
    "    v_class_temp = v_class_temp[v_class_temp['id'].isin(det_list_class_temp[:num_dets])]\n",
    "    v_class[i] = v_class_temp\n",
    "    \n",
    "near_road_set = []\n",
    "for i in range(num_class):\n",
    "    near_road_set.append(rds_mat(dist_mat, det_list_class[i][:num_dets]))"
   ]
  },
  {
   "cell_type": "code",
   "execution_count": 5,
   "metadata": {},
   "outputs": [],
   "source": [
    "class_i = 3\n",
    "near_road = np.array(near_road_set[class_i])\n",
    "flow = np.array(v_class[class_i].iloc[:, 2:-1])"
   ]
  },
  {
   "cell_type": "code",
   "execution_count": 6,
   "metadata": {},
   "outputs": [
    {
     "data": {
      "text/plain": [
       "(25, 4464)"
      ]
     },
     "execution_count": 6,
     "metadata": {},
     "output_type": "execute_result"
    }
   ],
   "source": [
    "flow.shape"
   ]
  },
  {
   "cell_type": "code",
   "execution_count": 5,
   "metadata": {},
   "outputs": [
    {
     "name": "stdout",
     "output_type": "stream",
     "text": [
      "(3795, 5, 12, 25)\n",
      "(3795, 25, 3)\n",
      "(3795, 25, 3)\n"
     ]
    }
   ],
   "source": [
    "# 利用滑动窗口的方式，重构数据为(n，最近路段数，输入时间窗，总路段数)的形式\n",
    "\n",
    "k = 5 # 参数k为需考虑的最近路段数\n",
    "t_p = 24 # 参数t_p为总时间序列长度（天）\n",
    "t_input = 12 #参数t_input为输入时间窗(10min颗粒度)\n",
    "t_pre = 3 #参数t_pre为预测时间窗(10min颗粒度)\n",
    "num_links = 25 #参数num_links为总路段数\n",
    "\n",
    "\n",
    "image = []\n",
    "for i in range(np.shape(near_road)[0]):\n",
    "    road_id = []\n",
    "    for j in range(k):\n",
    "        road_id.append(near_road[i][j])\n",
    "    image.append(flow[road_id, :])\n",
    "image1 = np.reshape(image, [-1, k, len(flow[0,:])])\n",
    "image2 = np.transpose(image1,(1,2,0))\n",
    "image3 = []\n",
    "label = []\n",
    "day = []\n",
    "\n",
    "for i in range(1,t_p):\n",
    "    for j in range(180-t_input-t_pre):\n",
    "        image3.append(image2[:, i*180+j:i*180+j+t_input, :][:])\n",
    "        label.append(flow[:, i*180+j+t_input:i*180+j+t_input+t_pre][:])\n",
    "        day.append(flow[:, (i-1)*180+j+t_input:(i-1)*180+j+t_input+t_pre][:])\n",
    "\n",
    "image3 = np.asarray(image3)\n",
    "label = np.asarray(label)\n",
    "day =  np.asarray(day)\n",
    "\n",
    "print(np.shape(image3))\n",
    "print(np.shape(label))\n",
    "print(np.shape(day))\n",
    "\n",
    "#划分前80%数据为训练集，最后20%数据为测试集\n",
    "image_train = image3[:np.shape(image3)[0]*4//5]\n",
    "image_test = image3[np.shape(image3)[0]*4//5:]\n",
    "label_train = label[:np.shape(label)[0]*4//5]\n",
    "label_test = label[np.shape(label)[0]*4//5:]\n",
    "\n",
    "day_train = day[:np.shape(day)[0]*4//5]\n",
    "day_test = day[np.shape(day)[0]*4//5:]\n"
   ]
  },
  {
   "cell_type": "code",
   "execution_count": 6,
   "metadata": {
    "pycharm": {
     "name": "#%%\n"
    }
   },
   "outputs": [],
   "source": [
    "# define merge layer\n",
    "class Merge_Layer(Layer):\n",
    "    def __init__(self, **kwargs):\n",
    "        super(Merge_Layer, self).__init__(**kwargs)\n",
    "\n",
    "    def build(self, input_shape):\n",
    "        self.para1 = self.add_weight(shape=(input_shape[0][1], input_shape[0][2]),\n",
    "                                     initializer='uniform', trainable=True,\n",
    "                                     name='para1')\n",
    "        self.para2 = self.add_weight(shape=(input_shape[1][1], input_shape[1][2]),\n",
    "                                     initializer='uniform', trainable=True,\n",
    "                                     name='para2')\n",
    "        super(Merge_Layer, self).build(input_shape)\n",
    "\n",
    "    def call(self, inputs):\n",
    "        mat1 = inputs[0]\n",
    "        mat2 = inputs[1]\n",
    "        output = mat1 * self.para1 + mat2 * self.para2\n",
    "        # output = mat1 * 0.1 + mat2 * 0.9\n",
    "        return output\n",
    "\n",
    "    def compute_output_shape(self, input_shape):\n",
    "        return input_shape[0]"
   ]
  },
  {
   "cell_type": "code",
   "execution_count": 7,
   "metadata": {
    "tags": [
     "outputPrepend"
    ]
   },
   "outputs": [
    {
     "name": "stdout",
     "output_type": "stream",
     "text": [
      "WARNING:tensorflow:From C:\\ProgramData\\Anaconda3\\lib\\site-packages\\keras\\backend\\tensorflow_backend.py:517: The name tf.placeholder is deprecated. Please use tf.compat.v1.placeholder instead.\n",
      "\n",
      "WARNING:tensorflow:From C:\\ProgramData\\Anaconda3\\lib\\site-packages\\keras\\backend\\tensorflow_backend.py:74: The name tf.get_default_graph is deprecated. Please use tf.compat.v1.get_default_graph instead.\n",
      "\n",
      "WARNING:tensorflow:From C:\\ProgramData\\Anaconda3\\lib\\site-packages\\keras\\backend\\tensorflow_backend.py:174: The name tf.get_default_session is deprecated. Please use tf.compat.v1.get_default_session instead.\n",
      "\n",
      "WARNING:tensorflow:From C:\\ProgramData\\Anaconda3\\lib\\site-packages\\keras\\backend\\tensorflow_backend.py:181: The name tf.ConfigProto is deprecated. Please use tf.compat.v1.ConfigProto instead.\n",
      "\n",
      "WARNING:tensorflow:From C:\\ProgramData\\Anaconda3\\lib\\site-packages\\keras\\backend\\tensorflow_backend.py:186: The name tf.Session is deprecated. Please use tf.compat.v1.Session instead.\n",
      "\n",
      "WARNING:tensorflow:From C:\\ProgramData\\Anaconda3\\lib\\site-packages\\keras\\backend\\tensorflow_backend.py:1834: The name tf.nn.fused_batch_norm is deprecated. Please use tf.compat.v1.nn.fused_batch_norm instead.\n",
      "\n",
      "WARNING:tensorflow:From C:\\ProgramData\\Anaconda3\\lib\\site-packages\\keras\\backend\\tensorflow_backend.py:3980: The name tf.nn.avg_pool is deprecated. Please use tf.nn.avg_pool2d instead.\n",
      "\n",
      "WARNING:tensorflow:From C:\\ProgramData\\Anaconda3\\lib\\site-packages\\keras\\backend\\tensorflow_backend.py:3445: calling dropout (from tensorflow.python.ops.nn_ops) with keep_prob is deprecated and will be removed in a future version.\n",
      "Instructions for updating:\n",
      "Please use `rate` instead of `keep_prob`. Rate should be set to `rate = 1 - keep_prob`.\n",
      "__________________________________________________________________________________________________\n",
      "Layer (type)                    Output Shape         Param #     Connected to                     \n",
      "==================================================================================================\n",
      "input_data (InputLayer)         (None, 5, 12, 25)    0                                            \n",
      "__________________________________________________________________________________________________\n",
      "batch_normalization_1 (BatchNor (None, 5, 12, 25)    100         input_data[0][0]                 \n",
      "__________________________________________________________________________________________________\n",
      "conv2d_1 (Conv2D)               (None, 5, 12, 25)    5650        batch_normalization_1[0][0]      \n",
      "__________________________________________________________________________________________________\n",
      "average_pooling2d_1 (AveragePoo (None, 5, 12, 25)    0           conv2d_1[0][0]                   \n",
      "__________________________________________________________________________________________________\n",
      "batch_normalization_2 (BatchNor (None, 5, 12, 25)    100         average_pooling2d_1[0][0]        \n",
      "__________________________________________________________________________________________________\n",
      "conv2d_2 (Conv2D)               (None, 5, 12, 25)    5650        batch_normalization_2[0][0]      \n",
      "__________________________________________________________________________________________________\n",
      "average_pooling2d_2 (AveragePoo (None, 5, 12, 25)    0           conv2d_2[0][0]                   \n",
      "__________________________________________________________________________________________________\n",
      "flatten_1 (Flatten)             (None, 1500)         0           average_pooling2d_2[0][0]        \n",
      "__________________________________________________________________________________________________\n",
      "batch_normalization_3 (BatchNor (None, 1500)         6000        flatten_1[0][0]                  \n",
      "__________________________________________________________________________________________________\n",
      "dropout_1 (Dropout)             (None, 1500)         0           batch_normalization_3[0][0]      \n",
      "__________________________________________________________________________________________________\n",
      "dense_1 (Dense)                 (None, 150)          225150      dropout_1[0][0]                  \n",
      "__________________________________________________________________________________________________\n",
      "dense_2 (Dense)                 (None, 75)           11325       dense_1[0][0]                    \n",
      "__________________________________________________________________________________________________\n",
      "reshape_1 (Reshape)             (None, 25, 3)        0           dense_2[0][0]                    \n",
      "__________________________________________________________________________________________________\n",
      "input_HA (InputLayer)           (None, 25, 3)        0                                            \n",
      "__________________________________________________________________________________________________\n",
      "merge__layer_1 (Merge_Layer)    (None, 25, 3)        150         reshape_1[0][0]                  \n",
      "                                                                 input_HA[0][0]                   \n",
      "==================================================================================================\n",
      "Total params: 254,125\n",
      "Trainable params: 251,025\n",
      "Non-trainable params: 3,100\n",
      "__________________________________________________________________________________________________\n"
     ]
    }
   ],
   "source": [
    "input_data = keras.Input(shape=(k,t_input,num_links), name='input_data')\n",
    "input_HA = keras.Input(shape=(num_links, t_pre), name='input_HA')\n",
    "\n",
    "x = keras.layers.BatchNormalization(input_shape =(k,t_input,num_links))(input_data)\n",
    "\n",
    "x = keras.layers.Conv2D(\n",
    "                           filters = num_links,\n",
    "                           kernel_size = 3,\n",
    "                           strides = 1,\n",
    "                           padding=\"SAME\",\n",
    "                           activation='relu')(x)\n",
    "\n",
    "x = keras.layers.AveragePooling2D(pool_size = (2,2),\n",
    "                                strides = 1,\n",
    "                                padding = \"SAME\",\n",
    "                                )(x)\n",
    "\n",
    "x = keras.layers.BatchNormalization()(x)\n",
    "\n",
    "x = keras.layers.Conv2D(\n",
    "                       filters = num_links,\n",
    "                       kernel_size = 3,\n",
    "                       strides = 1,\n",
    "                       padding=\"SAME\",\n",
    "                       activation='relu')(x)\n",
    "\n",
    "x = keras.layers.AveragePooling2D(pool_size = (2,2),\n",
    "                                strides = 1,\n",
    "                                padding = \"SAME\",\n",
    "                                )(x)\n",
    "x = keras.layers.Flatten()(x)\n",
    "x = keras.layers.BatchNormalization()(x)\n",
    "x = keras.layers.Dropout(0.5)(x)\n",
    "\n",
    "x = keras.layers.Dense(num_links*2*t_pre, activation='relu', name='dense_1')(x)\n",
    "x = keras.layers.Dense(num_links*t_pre, activation='relu', name='dense_2')(x)\n",
    "\n",
    "output = keras.layers.Reshape((num_links,t_pre))(x)\n",
    "\n",
    "output_final = Merge_Layer()([output, input_HA])\n",
    "\n",
    "# construct model\n",
    "finish_model = keras.models.Model([input_data,input_HA], [output_final])\n",
    "\n",
    "finish_model.summary()"
   ]
  },
  {
   "cell_type": "code",
   "execution_count": 8,
   "metadata": {
    "pycharm": {
     "name": "#%%\n"
    }
   },
   "outputs": [
    {
     "name": "stdout",
     "output_type": "stream",
     "text": [
      "WARNING:tensorflow:From C:\\ProgramData\\Anaconda3\\lib\\site-packages\\keras\\optimizers.py:790: The name tf.train.Optimizer is deprecated. Please use tf.compat.v1.train.Optimizer instead.\n",
      "\n"
     ]
    }
   ],
   "source": [
    "finish_model.compile(optimizer='adam', loss='mean_squared_error')"
   ]
  },
  {
   "cell_type": "code",
   "execution_count": 9,
   "metadata": {},
   "outputs": [],
   "source": [
    "X_train = image_train\n",
    "X_HA_train = day_train\n",
    "label_train = label_train"
   ]
  },
  {
   "cell_type": "code",
   "execution_count": 10,
   "metadata": {
    "pycharm": {
     "name": "#%%\n"
    },
    "scrolled": true,
    "tags": []
   },
   "outputs": [
    {
     "name": "stdout",
     "output_type": "stream",
     "text": [
      "Train on 3036 samples, validate on 759 samples\n",
      "Epoch 1/100\n",
      "3036/3036 [==============================] - 1s 472us/step - loss: 3113.6255 - val_loss: 2879.2247\n",
      "Epoch 2/100\n",
      "3036/3036 [==============================] - 0s 70us/step - loss: 2626.9172 - val_loss: 2035.6383\n",
      "Epoch 3/100\n",
      "3036/3036 [==============================] - 0s 68us/step - loss: 1881.8811 - val_loss: 1637.0610\n",
      "Epoch 4/100\n",
      "3036/3036 [==============================] - 0s 66us/step - loss: 1571.0849 - val_loss: 1460.4864\n",
      "Epoch 5/100\n",
      "3036/3036 [==============================] - 0s 67us/step - loss: 1402.6526 - val_loss: 1351.1354\n",
      "Epoch 6/100\n",
      "3036/3036 [==============================] - 0s 67us/step - loss: 1270.3794 - val_loss: 1218.9148\n",
      "Epoch 7/100\n",
      "3036/3036 [==============================] - 0s 66us/step - loss: 1179.6136 - val_loss: 1140.0141\n",
      "Epoch 8/100\n",
      "3036/3036 [==============================] - 0s 68us/step - loss: 1115.0033 - val_loss: 1078.8210\n",
      "Epoch 9/100\n",
      "3036/3036 [==============================] - 0s 66us/step - loss: 1073.8329 - val_loss: 1031.1312\n",
      "Epoch 10/100\n",
      "3036/3036 [==============================] - 0s 65us/step - loss: 1013.2590 - val_loss: 983.9823\n",
      "Epoch 11/100\n",
      "3036/3036 [==============================] - 0s 68us/step - loss: 970.8040 - val_loss: 941.5087\n",
      "Epoch 12/100\n",
      "3036/3036 [==============================] - 0s 66us/step - loss: 927.8772 - val_loss: 902.5210\n",
      "Epoch 13/100\n",
      "3036/3036 [==============================] - 0s 67us/step - loss: 886.7027 - val_loss: 868.0830\n",
      "Epoch 14/100\n",
      "3036/3036 [==============================] - 0s 66us/step - loss: 845.9782 - val_loss: 824.3681\n",
      "Epoch 15/100\n",
      "3036/3036 [==============================] - 0s 67us/step - loss: 808.9994 - val_loss: 800.2168\n",
      "Epoch 16/100\n",
      "3036/3036 [==============================] - 0s 65us/step - loss: 772.2943 - val_loss: 751.7498\n",
      "Epoch 17/100\n",
      "3036/3036 [==============================] - 0s 66us/step - loss: 738.5374 - val_loss: 727.1800\n",
      "Epoch 18/100\n",
      "3036/3036 [==============================] - 0s 67us/step - loss: 706.7792 - val_loss: 691.3341\n",
      "Epoch 19/100\n",
      "3036/3036 [==============================] - 0s 66us/step - loss: 679.4610 - val_loss: 667.5116\n",
      "Epoch 20/100\n",
      "3036/3036 [==============================] - 0s 66us/step - loss: 650.1369 - val_loss: 646.7348\n",
      "Epoch 21/100\n",
      "3036/3036 [==============================] - 0s 67us/step - loss: 618.9817 - val_loss: 616.6858\n",
      "Epoch 22/100\n",
      "3036/3036 [==============================] - 0s 67us/step - loss: 590.8170 - val_loss: 589.6499\n",
      "Epoch 23/100\n",
      "3036/3036 [==============================] - 0s 67us/step - loss: 568.5246 - val_loss: 553.4061\n",
      "Epoch 24/100\n",
      "3036/3036 [==============================] - 0s 68us/step - loss: 545.4579 - val_loss: 536.2770\n",
      "Epoch 25/100\n",
      "3036/3036 [==============================] - 0s 67us/step - loss: 523.0445 - val_loss: 511.6187\n",
      "Epoch 26/100\n",
      "3036/3036 [==============================] - 0s 67us/step - loss: 500.0567 - val_loss: 494.8619\n",
      "Epoch 27/100\n",
      "3036/3036 [==============================] - 0s 75us/step - loss: 481.0999 - val_loss: 483.0262\n",
      "Epoch 28/100\n",
      "3036/3036 [==============================] - 0s 69us/step - loss: 463.4793 - val_loss: 458.5414\n",
      "Epoch 29/100\n",
      "3036/3036 [==============================] - 0s 66us/step - loss: 447.6368 - val_loss: 448.9407\n",
      "Epoch 30/100\n",
      "3036/3036 [==============================] - 0s 68us/step - loss: 430.0120 - val_loss: 423.8944\n",
      "Epoch 31/100\n",
      "3036/3036 [==============================] - 0s 71us/step - loss: 415.1213 - val_loss: 413.0412\n",
      "Epoch 32/100\n",
      "3036/3036 [==============================] - 0s 68us/step - loss: 396.9032 - val_loss: 392.9534\n",
      "Epoch 33/100\n",
      "3036/3036 [==============================] - 0s 67us/step - loss: 385.6292 - val_loss: 384.1907\n",
      "Epoch 34/100\n",
      "3036/3036 [==============================] - 0s 66us/step - loss: 371.2682 - val_loss: 368.2217\n",
      "Epoch 35/100\n",
      "3036/3036 [==============================] - 0s 67us/step - loss: 356.5431 - val_loss: 355.1766\n",
      "Epoch 36/100\n",
      "3036/3036 [==============================] - 0s 74us/step - loss: 346.4345 - val_loss: 344.9921\n",
      "Epoch 37/100\n",
      "3036/3036 [==============================] - 0s 77us/step - loss: 333.6045 - val_loss: 334.2756\n",
      "Epoch 38/100\n",
      "3036/3036 [==============================] - 0s 67us/step - loss: 324.2573 - val_loss: 327.0378\n",
      "Epoch 39/100\n",
      "3036/3036 [==============================] - 0s 66us/step - loss: 316.7019 - val_loss: 318.4068\n",
      "Epoch 40/100\n",
      "3036/3036 [==============================] - 0s 67us/step - loss: 307.9100 - val_loss: 307.3660\n",
      "Epoch 41/100\n",
      "3036/3036 [==============================] - 0s 67us/step - loss: 301.1666 - val_loss: 301.0047\n",
      "Epoch 42/100\n",
      "3036/3036 [==============================] - 0s 68us/step - loss: 292.8469 - val_loss: 293.1715\n",
      "Epoch 43/100\n",
      "3036/3036 [==============================] - 0s 66us/step - loss: 286.4975 - val_loss: 290.5366\n",
      "Epoch 44/100\n",
      "3036/3036 [==============================] - 0s 67us/step - loss: 281.5076 - val_loss: 285.2494\n",
      "Epoch 45/100\n",
      "3036/3036 [==============================] - 0s 68us/step - loss: 276.3736 - val_loss: 276.9062\n",
      "Epoch 46/100\n",
      "3036/3036 [==============================] - 0s 67us/step - loss: 268.7068 - val_loss: 273.1380\n",
      "Epoch 47/100\n",
      "3036/3036 [==============================] - 0s 69us/step - loss: 264.9817 - val_loss: 267.8335\n",
      "Epoch 48/100\n",
      "3036/3036 [==============================] - 0s 67us/step - loss: 261.7820 - val_loss: 262.3934\n",
      "Epoch 49/100\n",
      "3036/3036 [==============================] - 0s 70us/step - loss: 255.1375 - val_loss: 265.1930\n",
      "Epoch 50/100\n",
      "3036/3036 [==============================] - 0s 72us/step - loss: 253.3473 - val_loss: 255.4983\n",
      "Epoch 51/100\n",
      "3036/3036 [==============================] - 0s 72us/step - loss: 248.0965 - val_loss: 257.9627\n",
      "Epoch 52/100\n",
      "3036/3036 [==============================] - 0s 75us/step - loss: 245.2228 - val_loss: 248.2208\n",
      "Epoch 53/100\n",
      "3036/3036 [==============================] - 0s 75us/step - loss: 241.5822 - val_loss: 244.4603\n",
      "Epoch 54/100\n",
      "3036/3036 [==============================] - 0s 78us/step - loss: 236.9112 - val_loss: 241.6296\n",
      "Epoch 55/100\n",
      "3036/3036 [==============================] - 0s 74us/step - loss: 235.6604 - val_loss: 238.4669\n",
      "Epoch 56/100\n",
      "3036/3036 [==============================] - 0s 75us/step - loss: 233.5937 - val_loss: 241.8825\n",
      "Epoch 57/100\n",
      "3036/3036 [==============================] - 0s 73us/step - loss: 230.6378 - val_loss: 235.8755\n",
      "Epoch 58/100\n",
      "3036/3036 [==============================] - 0s 71us/step - loss: 229.0420 - val_loss: 236.6999\n",
      "Epoch 59/100\n",
      "3036/3036 [==============================] - 0s 74us/step - loss: 227.3581 - val_loss: 231.5832\n",
      "Epoch 60/100\n",
      "3036/3036 [==============================] - 0s 77us/step - loss: 224.3280 - val_loss: 230.9325\n",
      "Epoch 61/100\n",
      "3036/3036 [==============================] - 0s 74us/step - loss: 223.1447 - val_loss: 228.1510\n",
      "Epoch 62/100\n",
      "3036/3036 [==============================] - 0s 80us/step - loss: 222.1488 - val_loss: 226.3955\n",
      "Epoch 63/100\n",
      "3036/3036 [==============================] - 0s 75us/step - loss: 220.4761 - val_loss: 226.4360\n",
      "Epoch 64/100\n",
      "3036/3036 [==============================] - 0s 72us/step - loss: 218.5530 - val_loss: 223.7607\n",
      "Epoch 65/100\n",
      "3036/3036 [==============================] - 0s 74us/step - loss: 218.4812 - val_loss: 222.9032\n",
      "Epoch 66/100\n",
      "3036/3036 [==============================] - 0s 74us/step - loss: 217.3005 - val_loss: 222.2769\n",
      "Epoch 67/100\n",
      "3036/3036 [==============================] - 0s 73us/step - loss: 216.0347 - val_loss: 221.6414\n",
      "Epoch 68/100\n",
      "3036/3036 [==============================] - 0s 71us/step - loss: 216.0887 - val_loss: 221.2868\n",
      "Epoch 69/100\n",
      "3036/3036 [==============================] - 0s 72us/step - loss: 214.0802 - val_loss: 221.0195\n",
      "Epoch 70/100\n",
      "3036/3036 [==============================] - 0s 73us/step - loss: 213.1309 - val_loss: 219.3722\n",
      "Epoch 71/100\n",
      "3036/3036 [==============================] - 0s 73us/step - loss: 213.3107 - val_loss: 218.2942\n",
      "Epoch 72/100\n",
      "3036/3036 [==============================] - 0s 71us/step - loss: 212.4765 - val_loss: 217.7497\n",
      "Epoch 73/100\n",
      "3036/3036 [==============================] - 0s 71us/step - loss: 211.8506 - val_loss: 217.9018\n",
      "Epoch 74/100\n",
      "3036/3036 [==============================] - 0s 72us/step - loss: 210.7435 - val_loss: 219.3274\n",
      "Epoch 75/100\n"
     ]
    },
    {
     "name": "stdout",
     "output_type": "stream",
     "text": [
      "3036/3036 [==============================] - 0s 71us/step - loss: 209.8597 - val_loss: 217.2645\n",
      "Epoch 76/100\n",
      "3036/3036 [==============================] - 0s 70us/step - loss: 210.2788 - val_loss: 217.2577\n",
      "Epoch 77/100\n",
      "3036/3036 [==============================] - 0s 72us/step - loss: 209.5327 - val_loss: 216.2211\n",
      "Epoch 78/100\n",
      "3036/3036 [==============================] - 0s 72us/step - loss: 208.5433 - val_loss: 215.7607\n",
      "Epoch 79/100\n",
      "3036/3036 [==============================] - 0s 70us/step - loss: 208.5522 - val_loss: 215.5557\n",
      "Epoch 80/100\n",
      "3036/3036 [==============================] - 0s 70us/step - loss: 207.1860 - val_loss: 215.0101\n",
      "Epoch 81/100\n",
      "3036/3036 [==============================] - 0s 69us/step - loss: 207.0284 - val_loss: 214.9917\n",
      "Epoch 82/100\n",
      "3036/3036 [==============================] - 0s 71us/step - loss: 206.8377 - val_loss: 215.4845\n",
      "Epoch 83/100\n",
      "3036/3036 [==============================] - 0s 73us/step - loss: 208.0434 - val_loss: 214.6611\n",
      "Epoch 84/100\n",
      "3036/3036 [==============================] - 0s 69us/step - loss: 206.7965 - val_loss: 213.8657\n",
      "Epoch 85/100\n",
      "3036/3036 [==============================] - 0s 70us/step - loss: 207.0179 - val_loss: 213.3392\n",
      "Epoch 86/100\n",
      "3036/3036 [==============================] - 0s 71us/step - loss: 205.2063 - val_loss: 212.6474\n",
      "Epoch 87/100\n",
      "3036/3036 [==============================] - 0s 70us/step - loss: 205.7442 - val_loss: 214.2127\n",
      "Epoch 88/100\n",
      "3036/3036 [==============================] - 0s 71us/step - loss: 205.5016 - val_loss: 212.6388\n",
      "Epoch 89/100\n",
      "3036/3036 [==============================] - 0s 71us/step - loss: 204.5300 - val_loss: 212.0286\n",
      "Epoch 90/100\n",
      "3036/3036 [==============================] - 0s 71us/step - loss: 203.4901 - val_loss: 212.1130\n",
      "Epoch 91/100\n",
      "3036/3036 [==============================] - 0s 70us/step - loss: 203.6057 - val_loss: 210.3242\n",
      "Epoch 92/100\n",
      "3036/3036 [==============================] - 0s 72us/step - loss: 202.9659 - val_loss: 210.9746\n",
      "Epoch 93/100\n",
      "3036/3036 [==============================] - 0s 71us/step - loss: 201.5418 - val_loss: 212.3218\n",
      "Epoch 94/100\n",
      "3036/3036 [==============================] - 0s 72us/step - loss: 201.0461 - val_loss: 211.0451\n",
      "Epoch 95/100\n",
      "3036/3036 [==============================] - 0s 71us/step - loss: 200.7684 - val_loss: 208.5698\n",
      "Epoch 96/100\n",
      "3036/3036 [==============================] - 0s 70us/step - loss: 199.2449 - val_loss: 208.7204\n",
      "Epoch 97/100\n",
      "3036/3036 [==============================] - 0s 71us/step - loss: 198.3775 - val_loss: 207.5477\n",
      "Epoch 98/100\n",
      "3036/3036 [==============================] - 0s 71us/step - loss: 197.2639 - val_loss: 207.5335\n",
      "Epoch 99/100\n",
      "3036/3036 [==============================] - 0s 73us/step - loss: 197.7469 - val_loss: 207.6012\n",
      "Epoch 100/100\n",
      "3036/3036 [==============================] - 0s 71us/step - loss: 197.8404 - val_loss: 206.9928\n"
     ]
    },
    {
     "data": {
      "text/plain": [
       "<keras.callbacks.History at 0x1a5e0255f60>"
      ]
     },
     "execution_count": 10,
     "metadata": {},
     "output_type": "execute_result"
    }
   ],
   "source": [
    "#模型拟合与评估\n",
    "finish_model.fit([X_train,X_HA_train], label_train, epochs=100, batch_size=128,\n",
    "validation_data=([image_test,day_test], label_test))\n",
    "# finish_model.evaluate(image_test, label_test)"
   ]
  },
  {
   "cell_type": "code",
   "execution_count": 11,
   "metadata": {},
   "outputs": [],
   "source": [
    "#模型预测\n",
    "model_pre = finish_model.predict([image_test,day_test])"
   ]
  },
  {
   "cell_type": "code",
   "execution_count": 12,
   "metadata": {},
   "outputs": [
    {
     "name": "stdout",
     "output_type": "stream",
     "text": [
      "mape = 0.23380487718881862\n",
      "smape = 0.22049753617084464\n",
      "mae = 9.6413509935195\n"
     ]
    }
   ],
   "source": [
    "#计算各项误差指标\n",
    "\n",
    "mape_mean = mape_loss_func(model_pre, label_test)\n",
    "smape_mean = smape_loss_func(model_pre, label_test)\n",
    "mae_mean = mae_loss_func(model_pre, label_test)\n",
    "\n",
    "print('mape = ' + str(mape_mean) + '\\n' + 'smape = ' + str(smape_mean) + '\\n' + 'mae = ' + str(mae_mean))"
   ]
  },
  {
   "cell_type": "code",
   "execution_count": 13,
   "metadata": {},
   "outputs": [],
   "source": [
    "#模型保存\n",
    "finish_model.save_weights('../model/source_fulldata.h5')\n"
   ]
  },
  {
   "cell_type": "code",
   "execution_count": 14,
   "metadata": {},
   "outputs": [
    {
     "name": "stdout",
     "output_type": "stream",
     "text": [
      "1th link\n",
      "0.3849126232443209\n",
      "2th link\n",
      "0.09890990970882008\n",
      "3th link\n",
      "0.3779040752870145\n",
      "4th link\n",
      "0.24624090079132263\n",
      "5th link\n",
      "0.16636187383961043\n",
      "6th link\n",
      "0.11274875592974792\n",
      "7th link\n",
      "0.13098273509911168\n",
      "8th link\n",
      "0.0404700803400431\n",
      "9th link\n",
      "0.10018476130168177\n",
      "10th link\n",
      "0.17079389852769958\n",
      "11th link\n",
      "0.10038331805295737\n",
      "12th link\n",
      "0.05503035144440833\n",
      "13th link\n",
      "0.217240494239185\n",
      "14th link\n",
      "0.39741582274293175\n",
      "15th link\n",
      "0.27841386279939384\n",
      "16th link\n",
      "0.2190412534007548\n",
      "17th link\n",
      "0.3390328380219796\n",
      "18th link\n",
      "0.11354546593447948\n",
      "19th link\n",
      "0.15398636594382736\n",
      "20th link\n",
      "0.15089653580255932\n",
      "21th link\n",
      "0.16309076102579817\n",
      "22th link\n",
      "0.23956478431472472\n",
      "23th link\n",
      "0.5401646229274\n",
      "24th link\n",
      "0.6897578533766308\n",
      "25th link\n",
      "0.36018318396677546\n"
     ]
    }
   ],
   "source": [
    "#计算每条路段的误差\n",
    "mape_list = []\n",
    "for i in range(num_links):\n",
    "    a1 = mape_loss_func(model_pre[:,i,:], label_test[:,i,:])\n",
    "    mape_list.append(a1)\n",
    "    print(str(i+1)+'th link')\n",
    "    print(a1)"
   ]
  },
  {
   "cell_type": "code",
   "execution_count": 15,
   "metadata": {
    "pycharm": {
     "name": "#%%\n"
    }
   },
   "outputs": [],
   "source": [
    "mape_pd = pd.Series(mape_list)"
   ]
  },
  {
   "cell_type": "code",
   "execution_count": 16,
   "metadata": {
    "pycharm": {
     "name": "#%%\n"
    }
   },
   "outputs": [
    {
     "data": {
      "text/plain": [
       "7     0.040470\n",
       "11    0.055030\n",
       "1     0.098910\n",
       "8     0.100185\n",
       "10    0.100383\n",
       "5     0.112749\n",
       "17    0.113545\n",
       "6     0.130983\n",
       "19    0.150897\n",
       "18    0.153986\n",
       "20    0.163091\n",
       "4     0.166362\n",
       "9     0.170794\n",
       "12    0.217240\n",
       "15    0.219041\n",
       "21    0.239565\n",
       "3     0.246241\n",
       "14    0.278414\n",
       "16    0.339033\n",
       "24    0.360183\n",
       "2     0.377904\n",
       "0     0.384913\n",
       "13    0.397416\n",
       "22    0.540165\n",
       "23    0.689758\n",
       "dtype: float64"
      ]
     },
     "execution_count": 16,
     "metadata": {},
     "output_type": "execute_result"
    }
   ],
   "source": [
    "mape_pd.sort_values()"
   ]
  },
  {
   "cell_type": "code",
   "execution_count": null,
   "metadata": {
    "pycharm": {
     "name": "#%%\n"
    }
   },
   "outputs": [],
   "source": []
  },
  {
   "cell_type": "code",
   "execution_count": null,
   "metadata": {
    "pycharm": {
     "name": "#%%\n"
    }
   },
   "outputs": [],
   "source": []
  }
 ],
 "metadata": {
  "interpreter": {
   "hash": "6b092d8890fbfc1935d95d43d0881a7b3742c06492f450993a24f5c2e6237594"
  },
  "kernelspec": {
   "display_name": "Python 3",
   "language": "python",
   "name": "python3"
  },
  "language_info": {
   "codemirror_mode": {
    "name": "ipython",
    "version": 3
   },
   "file_extension": ".py",
   "mimetype": "text/x-python",
   "name": "python",
   "nbconvert_exporter": "python",
   "pygments_lexer": "ipython3",
   "version": "3.7.0"
  },
  "metadata": {
   "interpreter": {
    "hash": "6b092d8890fbfc1935d95d43d0881a7b3742c06492f450993a24f5c2e6237594"
   }
  }
 },
 "nbformat": 4,
 "nbformat_minor": 4
}
