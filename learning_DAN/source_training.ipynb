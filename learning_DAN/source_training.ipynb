{
 "cells": [
  {
   "cell_type": "code",
   "execution_count": 1,
   "metadata": {},
   "outputs": [
    {
     "name": "stderr",
     "output_type": "stream",
     "text": [
      "Using TensorFlow backend.\n",
      "C:\\ProgramData\\Anaconda3\\lib\\site-packages\\tensorflow\\python\\framework\\dtypes.py:516: FutureWarning: Passing (type, 1) or '1type' as a synonym of type is deprecated; in a future version of numpy, it will be understood as (type, (1,)) / '(1,)type'.\n",
      "  _np_qint8 = np.dtype([(\"qint8\", np.int8, 1)])\n",
      "C:\\ProgramData\\Anaconda3\\lib\\site-packages\\tensorflow\\python\\framework\\dtypes.py:517: FutureWarning: Passing (type, 1) or '1type' as a synonym of type is deprecated; in a future version of numpy, it will be understood as (type, (1,)) / '(1,)type'.\n",
      "  _np_quint8 = np.dtype([(\"quint8\", np.uint8, 1)])\n",
      "C:\\ProgramData\\Anaconda3\\lib\\site-packages\\tensorflow\\python\\framework\\dtypes.py:518: FutureWarning: Passing (type, 1) or '1type' as a synonym of type is deprecated; in a future version of numpy, it will be understood as (type, (1,)) / '(1,)type'.\n",
      "  _np_qint16 = np.dtype([(\"qint16\", np.int16, 1)])\n",
      "C:\\ProgramData\\Anaconda3\\lib\\site-packages\\tensorflow\\python\\framework\\dtypes.py:519: FutureWarning: Passing (type, 1) or '1type' as a synonym of type is deprecated; in a future version of numpy, it will be understood as (type, (1,)) / '(1,)type'.\n",
      "  _np_quint16 = np.dtype([(\"quint16\", np.uint16, 1)])\n",
      "C:\\ProgramData\\Anaconda3\\lib\\site-packages\\tensorflow\\python\\framework\\dtypes.py:520: FutureWarning: Passing (type, 1) or '1type' as a synonym of type is deprecated; in a future version of numpy, it will be understood as (type, (1,)) / '(1,)type'.\n",
      "  _np_qint32 = np.dtype([(\"qint32\", np.int32, 1)])\n",
      "C:\\ProgramData\\Anaconda3\\lib\\site-packages\\tensorflow\\python\\framework\\dtypes.py:525: FutureWarning: Passing (type, 1) or '1type' as a synonym of type is deprecated; in a future version of numpy, it will be understood as (type, (1,)) / '(1,)type'.\n",
      "  np_resource = np.dtype([(\"resource\", np.ubyte, 1)])\n",
      "C:\\ProgramData\\Anaconda3\\lib\\site-packages\\tensorboard\\compat\\tensorflow_stub\\dtypes.py:541: FutureWarning: Passing (type, 1) or '1type' as a synonym of type is deprecated; in a future version of numpy, it will be understood as (type, (1,)) / '(1,)type'.\n",
      "  _np_qint8 = np.dtype([(\"qint8\", np.int8, 1)])\n",
      "C:\\ProgramData\\Anaconda3\\lib\\site-packages\\tensorboard\\compat\\tensorflow_stub\\dtypes.py:542: FutureWarning: Passing (type, 1) or '1type' as a synonym of type is deprecated; in a future version of numpy, it will be understood as (type, (1,)) / '(1,)type'.\n",
      "  _np_quint8 = np.dtype([(\"quint8\", np.uint8, 1)])\n",
      "C:\\ProgramData\\Anaconda3\\lib\\site-packages\\tensorboard\\compat\\tensorflow_stub\\dtypes.py:543: FutureWarning: Passing (type, 1) or '1type' as a synonym of type is deprecated; in a future version of numpy, it will be understood as (type, (1,)) / '(1,)type'.\n",
      "  _np_qint16 = np.dtype([(\"qint16\", np.int16, 1)])\n",
      "C:\\ProgramData\\Anaconda3\\lib\\site-packages\\tensorboard\\compat\\tensorflow_stub\\dtypes.py:544: FutureWarning: Passing (type, 1) or '1type' as a synonym of type is deprecated; in a future version of numpy, it will be understood as (type, (1,)) / '(1,)type'.\n",
      "  _np_quint16 = np.dtype([(\"quint16\", np.uint16, 1)])\n",
      "C:\\ProgramData\\Anaconda3\\lib\\site-packages\\tensorboard\\compat\\tensorflow_stub\\dtypes.py:545: FutureWarning: Passing (type, 1) or '1type' as a synonym of type is deprecated; in a future version of numpy, it will be understood as (type, (1,)) / '(1,)type'.\n",
      "  _np_qint32 = np.dtype([(\"qint32\", np.int32, 1)])\n",
      "C:\\ProgramData\\Anaconda3\\lib\\site-packages\\tensorboard\\compat\\tensorflow_stub\\dtypes.py:550: FutureWarning: Passing (type, 1) or '1type' as a synonym of type is deprecated; in a future version of numpy, it will be understood as (type, (1,)) / '(1,)type'.\n",
      "  np_resource = np.dtype([(\"resource\", np.ubyte, 1)])\n"
     ]
    }
   ],
   "source": [
    "import time\n",
    "import numpy as np\n",
    "import pandas as pd\n",
    "import keras\n",
    "from keras.engine.topology import Layer"
   ]
  },
  {
   "cell_type": "code",
   "execution_count": 2,
   "metadata": {},
   "outputs": [],
   "source": [
    "def mape_loss_func(preds, labels):\n",
    "    mask = labels > 5\n",
    "    return np.mean(np.fabs(labels[mask]-preds[mask])/labels[mask])\n",
    "\n",
    "def smape_loss_func(preds, labels):\n",
    "    mask= labels > 5\n",
    "    return np.mean(2*np.fabs(labels[mask]-preds[mask])/(np.fabs(labels[mask])+np.fabs(preds[mask])))\n",
    "\n",
    "def mae_loss_func(preds, labels):\n",
    "    mask= labels > 5\n",
    "    return np.fabs((labels[mask]-preds[mask])).mean()\n",
    "\n",
    "def eliminate_nan(b):\n",
    "    a = np.array(b)\n",
    "    c = a[~np.isnan(a)]\n",
    "    return c"
   ]
  },
  {
   "cell_type": "code",
   "execution_count": 3,
   "metadata": {},
   "outputs": [
    {
     "name": "stdout",
     "output_type": "stream",
     "text": [
      "There are 5 class(es)\n"
     ]
    },
    {
     "name": "stderr",
     "output_type": "stream",
     "text": [
      "C:\\ProgramData\\Anaconda3\\lib\\site-packages\\pandas\\core\\indexing.py:543: SettingWithCopyWarning: \n",
      "A value is trying to be set on a copy of a slice from a DataFrame.\n",
      "Try using .loc[row_indexer,col_indexer] = value instead\n",
      "\n",
      "See the caveats in the documentation: http://pandas.pydata.org/pandas-docs/stable/indexing.html#indexing-view-versus-copy\n",
      "  self.obj[item] = s\n"
     ]
    }
   ],
   "source": [
    "randseed = 25\n",
    "res = 11\n",
    "\n",
    "v = pd.read_csv('../data/v_20_aggragated.csv')\n",
    "v = v.rename(columns={'Unnamed: 0': 'id'})\n",
    "det_with_class = pd.read_csv('../res/%i_res%i_id_402_withclass.csv'%(randseed, res), index_col=0)\n",
    "\n",
    "v['class_i'] = ''\n",
    "for i in range(len(v)):\n",
    "    v.loc[i, 'class_i'] = det_with_class[det_with_class['id']==v.loc[i, 'id']].iloc[0, 5]  # 5 stands for 'class_i'\n",
    "\n",
    "num_class = det_with_class['class_i'].drop_duplicates().size\n",
    "\n",
    "v_class = []\n",
    "for i in range(num_class):\n",
    "    v_class.append(v[v['class_i']==i])\n",
    "\n",
    "print('There are %i class(es)'%num_class)\n",
    "\n",
    "dist_mat = pd.read_csv('../data/dist_mat.csv', index_col=0)\n",
    "id_info = pd.read_csv('../data/id2000.csv', index_col=0)\n",
    "dist_mat.index = id_info['id2']\n",
    "dist_mat.columns = id_info['id2']\n",
    "for i in range(len(dist_mat)):\n",
    "    for j in range(len(dist_mat)):\n",
    "        if i==j:\n",
    "            dist_mat.iloc[i, j] = 0\n",
    "\n",
    "near_id = pd.DataFrame(np.argsort(np.array(dist_mat)), index = id_info['id2'], columns = id_info['id2'])\n",
    "\n",
    "def get_node(det, seg):\n",
    "    # det is one single detector id\n",
    "    # node is one single node id\n",
    "    \n",
    "    # seg = pd.read_csv('./data/segement.csv', header=None)\n",
    "    try:\n",
    "        node_info = seg[seg[6]==det]\n",
    "        node = node_info.iloc[0, 0]\n",
    "    except:\n",
    "        node_info = seg[seg[7]==det]\n",
    "        node = node_info.iloc[0, 0]\n",
    "        \n",
    "    return node\n",
    "\n",
    "def get_class_with_node(seg, v_class):\n",
    "    det_list_class = np.array([])\n",
    "    try:\n",
    "        v_class.insert(1, 'id2', '')  # id2 mean node id\n",
    "    except:\n",
    "        v_class['id2'] = ''\n",
    "        \n",
    "    for i in range(len(v_class)):\n",
    "        det_list_class = np.append(det_list_class, v_class.iloc[i, 0])\n",
    "        v_class.iloc[i, 1] = get_node(v_class.iloc[i, 0], seg)\n",
    "    \n",
    "    return det_list_class, v_class\n",
    "\n",
    "def rds_mat(old_dist_mat, det_ids):\n",
    "    # get a matrix that contains n raods that have specified node id s\n",
    "    node_ids = np.array([])\n",
    "    for i in det_ids:\n",
    "        node_ids = np.append(node_ids, get_node(i, seg))\n",
    "        \n",
    "    new_dist_mat = old_dist_mat.loc[node_ids, node_ids]\n",
    "    old_dist_mat = np.array(old_dist_mat)\n",
    "    new_near_id_mat = np.argsort(new_dist_mat)\n",
    "    return new_near_id_mat\n",
    "\n",
    "seg = pd.read_csv('../data/segement.csv', header=None)\n",
    "num_dets = 25\n",
    "\n",
    "det_list_class = []\n",
    "for i in range(num_class):\n",
    "    det_list_class_temp, v_class_temp = get_class_with_node(seg, v_class[i])\n",
    "    det_list_class.append(det_list_class_temp)\n",
    "    v_class_temp = v_class_temp[v_class_temp['id'].isin(det_list_class_temp[:num_dets])]\n",
    "    v_class[i] = v_class_temp\n",
    "    \n",
    "near_road_set = []\n",
    "for i in range(num_class):\n",
    "    near_road_set.append(rds_mat(dist_mat, det_list_class[i][:num_dets]))"
   ]
  },
  {
   "cell_type": "code",
   "execution_count": 4,
   "metadata": {},
   "outputs": [],
   "source": [
    "near_road = np.array(near_road_set[0])\n",
    "flow = np.array(v_class[0].iloc[:, 2:-1])"
   ]
  },
  {
   "cell_type": "code",
   "execution_count": 5,
   "metadata": {},
   "outputs": [
    {
     "name": "stdout",
     "output_type": "stream",
     "text": [
      "(3795, 5, 12, 25)\n",
      "(3795, 25, 3)\n",
      "(3795, 25, 3)\n"
     ]
    }
   ],
   "source": [
    "# 利用滑动窗口的方式，重构数据为(n，最近路段数，输入时间窗，总路段数)的形式\n",
    "\n",
    "k = 5 # 参数k为需考虑的最近路段数\n",
    "t_p = 24 # 参数t_p为总时间序列长度（天）\n",
    "t_input = 12 #参数t_input为输入时间窗(5min颗粒度)\n",
    "t_pre = 3 #参数t_pre为预测时间窗(5min颗粒度)\n",
    "num_links = 25 #参数num_links为总路段数\n",
    "\n",
    "\n",
    "image = []\n",
    "for i in range(np.shape(near_road)[0]):\n",
    "    road_id = []\n",
    "    for j in range(k):\n",
    "        road_id.append(near_road[i][j])\n",
    "    image.append(flow[road_id, :])\n",
    "image1 = np.reshape(image, [-1, k, len(flow[0,:])])\n",
    "image2 = np.transpose(image1,(1,2,0))\n",
    "image3 = []\n",
    "label = []\n",
    "day = []\n",
    "\n",
    "for i in range(1,t_p):\n",
    "    for j in range(180-t_input-t_pre):\n",
    "        image3.append(image2[:, i*180+j:i*180+j+t_input, :][:])\n",
    "        label.append(flow[:, i*180+j+t_input:i*180+j+t_input+t_pre][:])\n",
    "        day.append(flow[:, (i-1)*180+j+t_input:(i-1)*180+j+t_input+t_pre][:])\n",
    "\n",
    "image3 = np.asarray(image3)\n",
    "label = np.asarray(label)\n",
    "day =  np.asarray(day)\n",
    "\n",
    "print(np.shape(image3))\n",
    "print(np.shape(label))\n",
    "print(np.shape(day))\n",
    "\n",
    "#划分前80%数据为训练集，最后20%数据为测试集\n",
    "image_train = image3[:np.shape(image3)[0]*4//5]\n",
    "image_test = image3[np.shape(image3)[0]*4//5:]\n",
    "label_train = label[:np.shape(label)[0]*4//5]\n",
    "label_test = label[np.shape(label)[0]*4//5:]\n",
    "\n",
    "day_train = day[:np.shape(day)[0]*4//5]\n",
    "day_test = day[np.shape(day)[0]*4//5:]\n"
   ]
  },
  {
   "cell_type": "code",
   "execution_count": 6,
   "metadata": {
    "pycharm": {
     "name": "#%%\n"
    }
   },
   "outputs": [],
   "source": [
    "# define merge layer\n",
    "class Merge_Layer(Layer):\n",
    "    def __init__(self, **kwargs):\n",
    "        super(Merge_Layer, self).__init__(**kwargs)\n",
    "\n",
    "    def build(self, input_shape):\n",
    "        self.para1 = self.add_weight(shape=(input_shape[0][1], input_shape[0][2]),\n",
    "                                     initializer='uniform', trainable=True,\n",
    "                                     name='para1')\n",
    "        self.para2 = self.add_weight(shape=(input_shape[1][1], input_shape[1][2]),\n",
    "                                     initializer='uniform', trainable=True,\n",
    "                                     name='para2')\n",
    "        super(Merge_Layer, self).build(input_shape)\n",
    "\n",
    "    def call(self, inputs):\n",
    "        mat1 = inputs[0]\n",
    "        mat2 = inputs[1]\n",
    "        output = mat1 * self.para1 + mat2 * self.para2\n",
    "        # output = mat1 * 0.1 + mat2 * 0.9\n",
    "        return output\n",
    "\n",
    "    def compute_output_shape(self, input_shape):\n",
    "        return input_shape[0]"
   ]
  },
  {
   "cell_type": "code",
   "execution_count": 7,
   "metadata": {
    "tags": [
     "outputPrepend"
    ]
   },
   "outputs": [
    {
     "name": "stdout",
     "output_type": "stream",
     "text": [
      "WARNING:tensorflow:From C:\\ProgramData\\Anaconda3\\lib\\site-packages\\keras\\backend\\tensorflow_backend.py:517: The name tf.placeholder is deprecated. Please use tf.compat.v1.placeholder instead.\n",
      "\n",
      "WARNING:tensorflow:From C:\\ProgramData\\Anaconda3\\lib\\site-packages\\keras\\backend\\tensorflow_backend.py:74: The name tf.get_default_graph is deprecated. Please use tf.compat.v1.get_default_graph instead.\n",
      "\n",
      "WARNING:tensorflow:From C:\\ProgramData\\Anaconda3\\lib\\site-packages\\keras\\backend\\tensorflow_backend.py:174: The name tf.get_default_session is deprecated. Please use tf.compat.v1.get_default_session instead.\n",
      "\n",
      "WARNING:tensorflow:From C:\\ProgramData\\Anaconda3\\lib\\site-packages\\keras\\backend\\tensorflow_backend.py:181: The name tf.ConfigProto is deprecated. Please use tf.compat.v1.ConfigProto instead.\n",
      "\n",
      "WARNING:tensorflow:From C:\\ProgramData\\Anaconda3\\lib\\site-packages\\keras\\backend\\tensorflow_backend.py:186: The name tf.Session is deprecated. Please use tf.compat.v1.Session instead.\n",
      "\n",
      "WARNING:tensorflow:From C:\\ProgramData\\Anaconda3\\lib\\site-packages\\keras\\backend\\tensorflow_backend.py:1834: The name tf.nn.fused_batch_norm is deprecated. Please use tf.compat.v1.nn.fused_batch_norm instead.\n",
      "\n",
      "WARNING:tensorflow:From C:\\ProgramData\\Anaconda3\\lib\\site-packages\\keras\\backend\\tensorflow_backend.py:3980: The name tf.nn.avg_pool is deprecated. Please use tf.nn.avg_pool2d instead.\n",
      "\n",
      "WARNING:tensorflow:From C:\\ProgramData\\Anaconda3\\lib\\site-packages\\keras\\backend\\tensorflow_backend.py:3445: calling dropout (from tensorflow.python.ops.nn_ops) with keep_prob is deprecated and will be removed in a future version.\n",
      "Instructions for updating:\n",
      "Please use `rate` instead of `keep_prob`. Rate should be set to `rate = 1 - keep_prob`.\n",
      "__________________________________________________________________________________________________\n",
      "Layer (type)                    Output Shape         Param #     Connected to                     \n",
      "==================================================================================================\n",
      "input_data (InputLayer)         (None, 5, 12, 25)    0                                            \n",
      "__________________________________________________________________________________________________\n",
      "batch_normalization_1 (BatchNor (None, 5, 12, 25)    100         input_data[0][0]                 \n",
      "__________________________________________________________________________________________________\n",
      "conv2d_1 (Conv2D)               (None, 5, 12, 25)    5650        batch_normalization_1[0][0]      \n",
      "__________________________________________________________________________________________________\n",
      "average_pooling2d_1 (AveragePoo (None, 5, 12, 25)    0           conv2d_1[0][0]                   \n",
      "__________________________________________________________________________________________________\n",
      "batch_normalization_2 (BatchNor (None, 5, 12, 25)    100         average_pooling2d_1[0][0]        \n",
      "__________________________________________________________________________________________________\n",
      "conv2d_2 (Conv2D)               (None, 5, 12, 25)    5650        batch_normalization_2[0][0]      \n",
      "__________________________________________________________________________________________________\n",
      "average_pooling2d_2 (AveragePoo (None, 5, 12, 25)    0           conv2d_2[0][0]                   \n",
      "__________________________________________________________________________________________________\n",
      "flatten_1 (Flatten)             (None, 1500)         0           average_pooling2d_2[0][0]        \n",
      "__________________________________________________________________________________________________\n",
      "batch_normalization_3 (BatchNor (None, 1500)         6000        flatten_1[0][0]                  \n",
      "__________________________________________________________________________________________________\n",
      "dropout_1 (Dropout)             (None, 1500)         0           batch_normalization_3[0][0]      \n",
      "__________________________________________________________________________________________________\n",
      "dense_1 (Dense)                 (None, 150)          225150      dropout_1[0][0]                  \n",
      "__________________________________________________________________________________________________\n",
      "dense_2 (Dense)                 (None, 75)           11325       dense_1[0][0]                    \n",
      "__________________________________________________________________________________________________\n",
      "reshape_1 (Reshape)             (None, 25, 3)        0           dense_2[0][0]                    \n",
      "__________________________________________________________________________________________________\n",
      "input_HA (InputLayer)           (None, 25, 3)        0                                            \n",
      "__________________________________________________________________________________________________\n",
      "merge__layer_1 (Merge_Layer)    (None, 25, 3)        150         reshape_1[0][0]                  \n",
      "                                                                 input_HA[0][0]                   \n",
      "==================================================================================================\n",
      "Total params: 254,125\n",
      "Trainable params: 251,025\n",
      "Non-trainable params: 3,100\n",
      "__________________________________________________________________________________________________\n"
     ]
    }
   ],
   "source": [
    "input_data = keras.Input(shape=(k,t_input,num_links), name='input_data')\n",
    "input_HA = keras.Input(shape=(num_links, t_pre), name='input_HA')\n",
    "\n",
    "x = keras.layers.BatchNormalization(input_shape =(k,t_input,num_links))(input_data)\n",
    "\n",
    "x = keras.layers.Conv2D(\n",
    "                           filters = num_links,\n",
    "                           kernel_size = 3,\n",
    "                           strides = 1,\n",
    "                           padding=\"SAME\",\n",
    "                           activation='relu')(x)\n",
    "\n",
    "x = keras.layers.AveragePooling2D(pool_size = (2,2),\n",
    "                                strides = 1,\n",
    "                                padding = \"SAME\",\n",
    "                                )(x)\n",
    "\n",
    "x = keras.layers.BatchNormalization()(x)\n",
    "\n",
    "x = keras.layers.Conv2D(\n",
    "                       filters = num_links,\n",
    "                       kernel_size = 3,\n",
    "                       strides = 1,\n",
    "                       padding=\"SAME\",\n",
    "                       activation='relu')(x)\n",
    "\n",
    "x = keras.layers.AveragePooling2D(pool_size = (2,2),\n",
    "                                strides = 1,\n",
    "                                padding = \"SAME\",\n",
    "                                )(x)\n",
    "x = keras.layers.Flatten()(x)\n",
    "x = keras.layers.BatchNormalization()(x)\n",
    "x = keras.layers.Dropout(0.5)(x)\n",
    "\n",
    "x = keras.layers.Dense(num_links*2*t_pre, activation='relu', name='dense_1')(x)\n",
    "x = keras.layers.Dense(num_links*t_pre, activation='relu', name='dense_2')(x)\n",
    "\n",
    "output = keras.layers.Reshape((num_links,t_pre))(x)\n",
    "\n",
    "output_final = Merge_Layer()([output, input_HA])\n",
    "\n",
    "# construct model\n",
    "finish_model = keras.models.Model([input_data,input_HA], [output_final])\n",
    "\n",
    "finish_model.summary()"
   ]
  },
  {
   "cell_type": "code",
   "execution_count": 8,
   "metadata": {
    "pycharm": {
     "name": "#%%\n"
    }
   },
   "outputs": [
    {
     "name": "stdout",
     "output_type": "stream",
     "text": [
      "WARNING:tensorflow:From C:\\ProgramData\\Anaconda3\\lib\\site-packages\\keras\\optimizers.py:790: The name tf.train.Optimizer is deprecated. Please use tf.compat.v1.train.Optimizer instead.\n",
      "\n"
     ]
    }
   ],
   "source": [
    "finish_model.compile(optimizer='adam', loss='mean_squared_error')"
   ]
  },
  {
   "cell_type": "code",
   "execution_count": 9,
   "metadata": {},
   "outputs": [],
   "source": [
    "X_train = image_train\n",
    "X_HA_train = day_train\n",
    "label_train = label_train"
   ]
  },
  {
   "cell_type": "code",
   "execution_count": 10,
   "metadata": {
    "pycharm": {
     "name": "#%%\n"
    },
    "scrolled": true,
    "tags": []
   },
   "outputs": [
    {
     "name": "stdout",
     "output_type": "stream",
     "text": [
      "Train on 3036 samples, validate on 759 samples\n",
      "Epoch 1/100\n",
      "3036/3036 [==============================] - 1s 468us/step - loss: 3805.2768 - val_loss: 3527.0484\n",
      "Epoch 2/100\n",
      "3036/3036 [==============================] - 0s 74us/step - loss: 3155.5462 - val_loss: 2364.7202\n",
      "Epoch 3/100\n",
      "3036/3036 [==============================] - 0s 73us/step - loss: 2118.8122 - val_loss: 1946.8551\n",
      "Epoch 4/100\n",
      "3036/3036 [==============================] - 0s 77us/step - loss: 1726.9316 - val_loss: 1643.2279\n",
      "Epoch 5/100\n",
      "3036/3036 [==============================] - 0s 71us/step - loss: 1548.7631 - val_loss: 1502.8988\n",
      "Epoch 6/100\n",
      "3036/3036 [==============================] - 0s 70us/step - loss: 1418.6621 - val_loss: 1396.3119\n",
      "Epoch 7/100\n",
      "3036/3036 [==============================] - 0s 71us/step - loss: 1321.9838 - val_loss: 1304.2858\n",
      "Epoch 8/100\n",
      "3036/3036 [==============================] - 0s 70us/step - loss: 1262.4394 - val_loss: 1252.8938\n",
      "Epoch 9/100\n",
      "3036/3036 [==============================] - 0s 70us/step - loss: 1194.5516 - val_loss: 1241.8987\n",
      "Epoch 10/100\n",
      "3036/3036 [==============================] - 0s 71us/step - loss: 1141.9375 - val_loss: 1140.2228\n",
      "Epoch 11/100\n",
      "3036/3036 [==============================] - 0s 71us/step - loss: 1089.1564 - val_loss: 1079.4738\n",
      "Epoch 12/100\n",
      "3036/3036 [==============================] - 0s 72us/step - loss: 1037.4818 - val_loss: 1058.2687\n",
      "Epoch 13/100\n",
      "3036/3036 [==============================] - 0s 71us/step - loss: 992.2335 - val_loss: 984.8194\n",
      "Epoch 14/100\n",
      "3036/3036 [==============================] - 0s 71us/step - loss: 915.0151 - val_loss: 924.5957\n",
      "Epoch 15/100\n",
      "3036/3036 [==============================] - 0s 71us/step - loss: 865.6432 - val_loss: 876.7063\n",
      "Epoch 16/100\n",
      "3036/3036 [==============================] - 0s 72us/step - loss: 829.4562 - val_loss: 831.8295\n",
      "Epoch 17/100\n",
      "3036/3036 [==============================] - 0s 70us/step - loss: 788.3580 - val_loss: 816.4101\n",
      "Epoch 18/100\n",
      "3036/3036 [==============================] - 0s 71us/step - loss: 752.6709 - val_loss: 794.6083\n",
      "Epoch 19/100\n",
      "3036/3036 [==============================] - 0s 72us/step - loss: 719.1648 - val_loss: 748.6705\n",
      "Epoch 20/100\n",
      "3036/3036 [==============================] - 0s 71us/step - loss: 689.2242 - val_loss: 710.0888\n",
      "Epoch 21/100\n",
      "3036/3036 [==============================] - 0s 72us/step - loss: 660.2573 - val_loss: 705.4713\n",
      "Epoch 22/100\n",
      "3036/3036 [==============================] - 0s 73us/step - loss: 627.6466 - val_loss: 669.8440\n",
      "Epoch 23/100\n",
      "3036/3036 [==============================] - 0s 73us/step - loss: 597.3421 - val_loss: 614.6363\n",
      "Epoch 24/100\n",
      "3036/3036 [==============================] - 0s 74us/step - loss: 573.0814 - val_loss: 588.4838\n",
      "Epoch 25/100\n",
      "3036/3036 [==============================] - 0s 70us/step - loss: 550.4591 - val_loss: 560.8128\n",
      "Epoch 26/100\n",
      "3036/3036 [==============================] - 0s 72us/step - loss: 525.8399 - val_loss: 556.6737\n",
      "Epoch 27/100\n",
      "3036/3036 [==============================] - 0s 71us/step - loss: 505.3997 - val_loss: 542.8428\n",
      "Epoch 28/100\n",
      "3036/3036 [==============================] - 0s 70us/step - loss: 483.3719 - val_loss: 497.1282\n",
      "Epoch 29/100\n",
      "3036/3036 [==============================] - 0s 69us/step - loss: 466.7458 - val_loss: 505.0684\n",
      "Epoch 30/100\n",
      "3036/3036 [==============================] - 0s 70us/step - loss: 445.9311 - val_loss: 467.6831\n",
      "Epoch 31/100\n",
      "3036/3036 [==============================] - 0s 70us/step - loss: 427.5729 - val_loss: 450.1037\n",
      "Epoch 32/100\n",
      "3036/3036 [==============================] - 0s 72us/step - loss: 410.6285 - val_loss: 427.1486\n",
      "Epoch 33/100\n",
      "3036/3036 [==============================] - 0s 71us/step - loss: 395.4407 - val_loss: 419.4221\n",
      "Epoch 34/100\n",
      "3036/3036 [==============================] - 0s 74us/step - loss: 380.4009 - val_loss: 404.9707\n",
      "Epoch 35/100\n",
      "3036/3036 [==============================] - 0s 72us/step - loss: 366.7560 - val_loss: 383.9558\n",
      "Epoch 36/100\n",
      "3036/3036 [==============================] - 0s 74us/step - loss: 354.3147 - val_loss: 379.0870\n",
      "Epoch 37/100\n",
      "3036/3036 [==============================] - 0s 66us/step - loss: 342.8458 - val_loss: 357.5045\n",
      "Epoch 38/100\n",
      "3036/3036 [==============================] - 0s 65us/step - loss: 330.8551 - val_loss: 354.0412\n",
      "Epoch 39/100\n",
      "3036/3036 [==============================] - 0s 69us/step - loss: 322.3100 - val_loss: 351.4446\n",
      "Epoch 40/100\n",
      "3036/3036 [==============================] - 0s 70us/step - loss: 310.8874 - val_loss: 326.5643\n",
      "Epoch 41/100\n",
      "3036/3036 [==============================] - 0s 67us/step - loss: 300.9780 - val_loss: 319.9654\n",
      "Epoch 42/100\n",
      "3036/3036 [==============================] - 0s 66us/step - loss: 294.6204 - val_loss: 312.6334\n",
      "Epoch 43/100\n",
      "3036/3036 [==============================] - 0s 68us/step - loss: 283.9424 - val_loss: 303.3851\n",
      "Epoch 44/100\n",
      "3036/3036 [==============================] - 0s 68us/step - loss: 276.6690 - val_loss: 297.3436\n",
      "Epoch 45/100\n",
      "3036/3036 [==============================] - 0s 77us/step - loss: 269.7089 - val_loss: 289.4534\n",
      "Epoch 46/100\n",
      "3036/3036 [==============================] - 0s 72us/step - loss: 266.3278 - val_loss: 289.7722\n",
      "Epoch 47/100\n",
      "3036/3036 [==============================] - 0s 82us/step - loss: 259.5268 - val_loss: 276.1013\n",
      "Epoch 48/100\n",
      "3036/3036 [==============================] - 0s 75us/step - loss: 252.3091 - val_loss: 270.0819\n",
      "Epoch 49/100\n",
      "3036/3036 [==============================] - 0s 77us/step - loss: 247.9043 - val_loss: 268.9172\n",
      "Epoch 50/100\n",
      "3036/3036 [==============================] - 0s 83us/step - loss: 245.6567 - val_loss: 260.7518\n",
      "Epoch 51/100\n",
      "3036/3036 [==============================] - 0s 72us/step - loss: 240.8937 - val_loss: 257.4846\n",
      "Epoch 52/100\n",
      "3036/3036 [==============================] - 0s 66us/step - loss: 236.7127 - val_loss: 255.4275\n",
      "Epoch 53/100\n",
      "3036/3036 [==============================] - 0s 78us/step - loss: 234.0621 - val_loss: 254.5971\n",
      "Epoch 54/100\n",
      "3036/3036 [==============================] - 0s 82us/step - loss: 230.8932 - val_loss: 247.2124\n",
      "Epoch 55/100\n",
      "3036/3036 [==============================] - 0s 68us/step - loss: 227.3667 - val_loss: 247.0460\n",
      "Epoch 56/100\n",
      "3036/3036 [==============================] - 0s 66us/step - loss: 222.8223 - val_loss: 241.6339\n",
      "Epoch 57/100\n",
      "3036/3036 [==============================] - 0s 74us/step - loss: 221.9965 - val_loss: 239.6766\n",
      "Epoch 58/100\n",
      "3036/3036 [==============================] - 0s 76us/step - loss: 223.0140 - val_loss: 241.3725\n",
      "Epoch 59/100\n",
      "3036/3036 [==============================] - 0s 74us/step - loss: 221.6888 - val_loss: 239.3698\n",
      "Epoch 60/100\n",
      "3036/3036 [==============================] - 0s 71us/step - loss: 216.2565 - val_loss: 235.3589\n",
      "Epoch 61/100\n",
      "3036/3036 [==============================] - 0s 66us/step - loss: 214.0826 - val_loss: 233.0503\n",
      "Epoch 62/100\n",
      "3036/3036 [==============================] - 0s 65us/step - loss: 212.9088 - val_loss: 231.5603\n",
      "Epoch 63/100\n",
      "3036/3036 [==============================] - 0s 66us/step - loss: 214.3694 - val_loss: 232.6695\n",
      "Epoch 64/100\n",
      "3036/3036 [==============================] - 0s 65us/step - loss: 209.6353 - val_loss: 231.2063\n",
      "Epoch 65/100\n",
      "3036/3036 [==============================] - 0s 79us/step - loss: 208.8026 - val_loss: 227.9602\n",
      "Epoch 66/100\n",
      "3036/3036 [==============================] - 0s 66us/step - loss: 209.6170 - val_loss: 236.6756\n",
      "Epoch 67/100\n",
      "3036/3036 [==============================] - 0s 66us/step - loss: 206.8829 - val_loss: 231.9540\n",
      "Epoch 68/100\n",
      "3036/3036 [==============================] - 0s 66us/step - loss: 204.2559 - val_loss: 224.9915\n",
      "Epoch 69/100\n",
      "3036/3036 [==============================] - 0s 64us/step - loss: 205.0293 - val_loss: 229.1669\n",
      "Epoch 70/100\n",
      "3036/3036 [==============================] - 0s 66us/step - loss: 205.0862 - val_loss: 225.4135\n",
      "Epoch 71/100\n",
      "3036/3036 [==============================] - 0s 82us/step - loss: 202.6420 - val_loss: 223.7414\n",
      "Epoch 72/100\n",
      "3036/3036 [==============================] - 0s 72us/step - loss: 202.5705 - val_loss: 229.6396\n",
      "Epoch 73/100\n",
      "3036/3036 [==============================] - 0s 65us/step - loss: 201.5613 - val_loss: 221.9745\n",
      "Epoch 74/100\n",
      "3036/3036 [==============================] - 0s 79us/step - loss: 201.3059 - val_loss: 221.8670\n",
      "Epoch 75/100\n"
     ]
    },
    {
     "name": "stdout",
     "output_type": "stream",
     "text": [
      "3036/3036 [==============================] - 0s 65us/step - loss: 199.6191 - val_loss: 224.6174\n",
      "Epoch 76/100\n",
      "3036/3036 [==============================] - 0s 78us/step - loss: 197.8521 - val_loss: 216.7562\n",
      "Epoch 77/100\n",
      "3036/3036 [==============================] - 0s 66us/step - loss: 195.4123 - val_loss: 216.9793\n",
      "Epoch 78/100\n",
      "3036/3036 [==============================] - 0s 65us/step - loss: 194.0125 - val_loss: 214.7132\n",
      "Epoch 79/100\n",
      "3036/3036 [==============================] - 0s 66us/step - loss: 194.4985 - val_loss: 214.1665\n",
      "Epoch 80/100\n",
      "3036/3036 [==============================] - 0s 65us/step - loss: 193.9480 - val_loss: 214.8829\n",
      "Epoch 81/100\n",
      "3036/3036 [==============================] - 0s 65us/step - loss: 192.2555 - val_loss: 214.6272\n",
      "Epoch 82/100\n",
      "3036/3036 [==============================] - 0s 66us/step - loss: 193.0928 - val_loss: 213.7214\n",
      "Epoch 83/100\n",
      "3036/3036 [==============================] - 0s 64us/step - loss: 191.5100 - val_loss: 216.3573\n",
      "Epoch 84/100\n",
      "3036/3036 [==============================] - 0s 65us/step - loss: 191.3936 - val_loss: 217.7318\n",
      "Epoch 85/100\n",
      "3036/3036 [==============================] - 0s 65us/step - loss: 190.4746 - val_loss: 218.4398\n",
      "Epoch 86/100\n",
      "3036/3036 [==============================] - 0s 67us/step - loss: 190.3903 - val_loss: 215.2006\n",
      "Epoch 87/100\n",
      "3036/3036 [==============================] - 0s 66us/step - loss: 189.7108 - val_loss: 212.3276\n",
      "Epoch 88/100\n",
      "3036/3036 [==============================] - 0s 65us/step - loss: 189.9744 - val_loss: 212.6045\n",
      "Epoch 89/100\n",
      "3036/3036 [==============================] - 0s 66us/step - loss: 189.2796 - val_loss: 211.1057\n",
      "Epoch 90/100\n",
      "3036/3036 [==============================] - 0s 65us/step - loss: 188.2929 - val_loss: 210.4781\n",
      "Epoch 91/100\n",
      "3036/3036 [==============================] - 0s 66us/step - loss: 188.9370 - val_loss: 211.0611\n",
      "Epoch 92/100\n",
      "3036/3036 [==============================] - 0s 68us/step - loss: 188.2088 - val_loss: 210.1698\n",
      "Epoch 93/100\n",
      "3036/3036 [==============================] - 0s 64us/step - loss: 187.6052 - val_loss: 213.7331\n",
      "Epoch 94/100\n",
      "3036/3036 [==============================] - 0s 65us/step - loss: 187.1344 - val_loss: 211.0526\n",
      "Epoch 95/100\n",
      "3036/3036 [==============================] - 0s 65us/step - loss: 186.7485 - val_loss: 208.7483\n",
      "Epoch 96/100\n",
      "3036/3036 [==============================] - 0s 65us/step - loss: 188.7298 - val_loss: 208.1810\n",
      "Epoch 97/100\n",
      "3036/3036 [==============================] - 0s 66us/step - loss: 186.5801 - val_loss: 207.8782\n",
      "Epoch 98/100\n",
      "3036/3036 [==============================] - 0s 65us/step - loss: 186.4955 - val_loss: 211.7640\n",
      "Epoch 99/100\n",
      "3036/3036 [==============================] - 0s 65us/step - loss: 185.5108 - val_loss: 207.5633\n",
      "Epoch 100/100\n",
      "3036/3036 [==============================] - 0s 65us/step - loss: 185.5525 - val_loss: 206.4526\n"
     ]
    },
    {
     "data": {
      "text/plain": [
       "<keras.callbacks.History at 0x1f9fdbfe1d0>"
      ]
     },
     "execution_count": 10,
     "metadata": {},
     "output_type": "execute_result"
    }
   ],
   "source": [
    "#模型拟合与评估\n",
    "finish_model.fit([X_train,X_HA_train], label_train, epochs=100, batch_size=128,\n",
    "validation_data=([image_test,day_test], label_test))\n",
    "# finish_model.evaluate(image_test, label_test)"
   ]
  },
  {
   "cell_type": "code",
   "execution_count": 11,
   "metadata": {},
   "outputs": [],
   "source": [
    "#模型预测\n",
    "model_pre = finish_model.predict([image_test,day_test])"
   ]
  },
  {
   "cell_type": "code",
   "execution_count": 12,
   "metadata": {},
   "outputs": [
    {
     "name": "stdout",
     "output_type": "stream",
     "text": [
      "mape = 0.2132185999704539\n",
      "smape = 0.20230864364537196\n",
      "mae = 9.776683358269302\n"
     ]
    }
   ],
   "source": [
    "#计算各项误差指标\n",
    "\n",
    "mape_mean = mape_loss_func(model_pre, label_test)\n",
    "smape_mean = smape_loss_func(model_pre, label_test)\n",
    "mae_mean = mae_loss_func(model_pre, label_test)\n",
    "\n",
    "print('mape = ' + str(mape_mean) + '\\n' + 'smape = ' + str(smape_mean) + '\\n' + 'mae = ' + str(mae_mean))"
   ]
  },
  {
   "cell_type": "code",
   "execution_count": 13,
   "metadata": {},
   "outputs": [],
   "source": [
    "#模型保存\n",
    "finish_model.save_weights('../model/source.h5')"
   ]
  },
  {
   "cell_type": "code",
   "execution_count": 14,
   "metadata": {},
   "outputs": [
    {
     "name": "stdout",
     "output_type": "stream",
     "text": [
      "1th link\n",
      "0.08580487201532201\n",
      "2th link\n",
      "0.11509216213820454\n",
      "3th link\n",
      "0.2338833845348708\n",
      "4th link\n",
      "0.40157247732240026\n",
      "5th link\n",
      "0.26598718882293615\n",
      "6th link\n",
      "0.1429127018200504\n",
      "7th link\n",
      "0.41115971011257685\n",
      "8th link\n",
      "0.18514785321987282\n",
      "9th link\n",
      "0.16575821375859184\n",
      "10th link\n",
      "0.29176465319456824\n",
      "11th link\n",
      "0.33839385922284215\n",
      "12th link\n",
      "0.21653298632403994\n",
      "13th link\n",
      "0.3546577209793783\n",
      "14th link\n",
      "0.35633838286772607\n",
      "15th link\n",
      "0.07616331690037027\n",
      "16th link\n",
      "0.04272934048124674\n",
      "17th link\n",
      "0.2309547470116947\n",
      "18th link\n",
      "0.2174979403266109\n",
      "19th link\n",
      "0.17865108364238586\n",
      "20th link\n",
      "0.1084853305169592\n",
      "21th link\n",
      "0.04476175029898431\n",
      "22th link\n",
      "0.18137956797207114\n",
      "23th link\n",
      "0.31030134417391514\n",
      "24th link\n",
      "0.15365576720934707\n",
      "25th link\n",
      "0.23727735379588633\n"
     ]
    }
   ],
   "source": [
    "#计算每条路段的误差\n",
    "mape_list = []\n",
    "for i in range(num_links):\n",
    "    a1 = mape_loss_func(model_pre[:,i,:], label_test[:,i,:])\n",
    "    mape_list.append(a1)\n",
    "    print(str(i+1)+'th link')\n",
    "    print(a1)"
   ]
  },
  {
   "cell_type": "code",
   "execution_count": 15,
   "metadata": {
    "pycharm": {
     "name": "#%%\n"
    }
   },
   "outputs": [],
   "source": [
    "mape_pd = pd.Series(mape_list)"
   ]
  },
  {
   "cell_type": "code",
   "execution_count": 16,
   "metadata": {
    "pycharm": {
     "name": "#%%\n"
    }
   },
   "outputs": [
    {
     "data": {
      "text/plain": [
       "15    0.042729\n",
       "20    0.044762\n",
       "14    0.076163\n",
       "0     0.085805\n",
       "19    0.108485\n",
       "1     0.115092\n",
       "5     0.142913\n",
       "23    0.153656\n",
       "8     0.165758\n",
       "18    0.178651\n",
       "21    0.181380\n",
       "7     0.185148\n",
       "11    0.216533\n",
       "17    0.217498\n",
       "16    0.230955\n",
       "2     0.233883\n",
       "24    0.237277\n",
       "4     0.265987\n",
       "9     0.291765\n",
       "22    0.310301\n",
       "10    0.338394\n",
       "12    0.354658\n",
       "13    0.356338\n",
       "3     0.401572\n",
       "6     0.411160\n",
       "dtype: float64"
      ]
     },
     "execution_count": 16,
     "metadata": {},
     "output_type": "execute_result"
    }
   ],
   "source": [
    "mape_pd.sort_values()"
   ]
  },
  {
   "cell_type": "code",
   "execution_count": null,
   "metadata": {
    "pycharm": {
     "name": "#%%\n"
    }
   },
   "outputs": [],
   "source": []
  },
  {
   "cell_type": "code",
   "execution_count": null,
   "metadata": {
    "pycharm": {
     "name": "#%%\n"
    }
   },
   "outputs": [],
   "source": []
  }
 ],
 "metadata": {
  "interpreter": {
   "hash": "6b092d8890fbfc1935d95d43d0881a7b3742c06492f450993a24f5c2e6237594"
  },
  "kernelspec": {
   "display_name": "Python 3",
   "language": "python",
   "name": "python3"
  },
  "language_info": {
   "codemirror_mode": {
    "name": "ipython",
    "version": 3
   },
   "file_extension": ".py",
   "mimetype": "text/x-python",
   "name": "python",
   "nbconvert_exporter": "python",
   "pygments_lexer": "ipython3",
   "version": "3.7.0"
  },
  "metadata": {
   "interpreter": {
    "hash": "6b092d8890fbfc1935d95d43d0881a7b3742c06492f450993a24f5c2e6237594"
   }
  }
 },
 "nbformat": 4,
 "nbformat_minor": 4
}
