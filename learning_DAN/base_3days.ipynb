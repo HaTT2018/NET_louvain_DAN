{
 "cells": [
  {
   "cell_type": "code",
   "execution_count": 1,
   "metadata": {},
   "outputs": [],
   "source": [
    "import time\n",
    "import numpy as np\n",
    "import pandas as pd\n",
    "import matplotlib.pyplot as plt\n",
    "%matplotlib inline"
   ]
  },
  {
   "cell_type": "code",
   "execution_count": 2,
   "metadata": {},
   "outputs": [
    {
     "name": "stderr",
     "output_type": "stream",
     "text": [
      "Using TensorFlow backend.\n",
      "C:\\ProgramData\\Anaconda3\\lib\\site-packages\\tensorflow\\python\\framework\\dtypes.py:516: FutureWarning: Passing (type, 1) or '1type' as a synonym of type is deprecated; in a future version of numpy, it will be understood as (type, (1,)) / '(1,)type'.\n",
      "  _np_qint8 = np.dtype([(\"qint8\", np.int8, 1)])\n",
      "C:\\ProgramData\\Anaconda3\\lib\\site-packages\\tensorflow\\python\\framework\\dtypes.py:517: FutureWarning: Passing (type, 1) or '1type' as a synonym of type is deprecated; in a future version of numpy, it will be understood as (type, (1,)) / '(1,)type'.\n",
      "  _np_quint8 = np.dtype([(\"quint8\", np.uint8, 1)])\n",
      "C:\\ProgramData\\Anaconda3\\lib\\site-packages\\tensorflow\\python\\framework\\dtypes.py:518: FutureWarning: Passing (type, 1) or '1type' as a synonym of type is deprecated; in a future version of numpy, it will be understood as (type, (1,)) / '(1,)type'.\n",
      "  _np_qint16 = np.dtype([(\"qint16\", np.int16, 1)])\n",
      "C:\\ProgramData\\Anaconda3\\lib\\site-packages\\tensorflow\\python\\framework\\dtypes.py:519: FutureWarning: Passing (type, 1) or '1type' as a synonym of type is deprecated; in a future version of numpy, it will be understood as (type, (1,)) / '(1,)type'.\n",
      "  _np_quint16 = np.dtype([(\"quint16\", np.uint16, 1)])\n",
      "C:\\ProgramData\\Anaconda3\\lib\\site-packages\\tensorflow\\python\\framework\\dtypes.py:520: FutureWarning: Passing (type, 1) or '1type' as a synonym of type is deprecated; in a future version of numpy, it will be understood as (type, (1,)) / '(1,)type'.\n",
      "  _np_qint32 = np.dtype([(\"qint32\", np.int32, 1)])\n",
      "C:\\ProgramData\\Anaconda3\\lib\\site-packages\\tensorflow\\python\\framework\\dtypes.py:525: FutureWarning: Passing (type, 1) or '1type' as a synonym of type is deprecated; in a future version of numpy, it will be understood as (type, (1,)) / '(1,)type'.\n",
      "  np_resource = np.dtype([(\"resource\", np.ubyte, 1)])\n",
      "C:\\ProgramData\\Anaconda3\\lib\\site-packages\\tensorboard\\compat\\tensorflow_stub\\dtypes.py:541: FutureWarning: Passing (type, 1) or '1type' as a synonym of type is deprecated; in a future version of numpy, it will be understood as (type, (1,)) / '(1,)type'.\n",
      "  _np_qint8 = np.dtype([(\"qint8\", np.int8, 1)])\n",
      "C:\\ProgramData\\Anaconda3\\lib\\site-packages\\tensorboard\\compat\\tensorflow_stub\\dtypes.py:542: FutureWarning: Passing (type, 1) or '1type' as a synonym of type is deprecated; in a future version of numpy, it will be understood as (type, (1,)) / '(1,)type'.\n",
      "  _np_quint8 = np.dtype([(\"quint8\", np.uint8, 1)])\n",
      "C:\\ProgramData\\Anaconda3\\lib\\site-packages\\tensorboard\\compat\\tensorflow_stub\\dtypes.py:543: FutureWarning: Passing (type, 1) or '1type' as a synonym of type is deprecated; in a future version of numpy, it will be understood as (type, (1,)) / '(1,)type'.\n",
      "  _np_qint16 = np.dtype([(\"qint16\", np.int16, 1)])\n",
      "C:\\ProgramData\\Anaconda3\\lib\\site-packages\\tensorboard\\compat\\tensorflow_stub\\dtypes.py:544: FutureWarning: Passing (type, 1) or '1type' as a synonym of type is deprecated; in a future version of numpy, it will be understood as (type, (1,)) / '(1,)type'.\n",
      "  _np_quint16 = np.dtype([(\"quint16\", np.uint16, 1)])\n",
      "C:\\ProgramData\\Anaconda3\\lib\\site-packages\\tensorboard\\compat\\tensorflow_stub\\dtypes.py:545: FutureWarning: Passing (type, 1) or '1type' as a synonym of type is deprecated; in a future version of numpy, it will be understood as (type, (1,)) / '(1,)type'.\n",
      "  _np_qint32 = np.dtype([(\"qint32\", np.int32, 1)])\n",
      "C:\\ProgramData\\Anaconda3\\lib\\site-packages\\tensorboard\\compat\\tensorflow_stub\\dtypes.py:550: FutureWarning: Passing (type, 1) or '1type' as a synonym of type is deprecated; in a future version of numpy, it will be understood as (type, (1,)) / '(1,)type'.\n",
      "  np_resource = np.dtype([(\"resource\", np.ubyte, 1)])\n"
     ]
    }
   ],
   "source": [
    "import keras\n",
    "from keras.engine.topology import Layer"
   ]
  },
  {
   "cell_type": "code",
   "execution_count": 3,
   "metadata": {},
   "outputs": [],
   "source": [
    "def mape_loss_func(preds, labels):\n",
    "    mask = labels > 5\n",
    "    return np.mean(np.fabs(labels[mask]-preds[mask])/labels[mask])\n",
    "\n",
    "def smape_loss_func(preds, labels):\n",
    "    mask= labels > 5\n",
    "    return np.mean(2*np.fabs(labels[mask]-preds[mask])/(np.fabs(labels[mask])+np.fabs(preds[mask])))\n",
    "\n",
    "def mae_loss_func(preds, labels):\n",
    "    mask= labels > 5\n",
    "    return np.fabs((labels[mask]-preds[mask])).mean()\n",
    "\n",
    "def eliminate_nan(b):\n",
    "    a = np.array(b)\n",
    "    c = a[~np.isnan(a)]\n",
    "    return c"
   ]
  },
  {
   "cell_type": "markdown",
   "metadata": {},
   "source": [
    "# 制作flow 和 near road"
   ]
  },
  {
   "cell_type": "code",
   "execution_count": 17,
   "metadata": {},
   "outputs": [],
   "source": [
    "randseed = 25\n",
    "res = 11\n",
    "num_dets = 30\n",
    "\n",
    "v = pd.read_csv('../data/v_20_aggragated.csv')\n",
    "v = v.rename(columns={'Unnamed: 0': 'id'})\n",
    "# 以上 flow 制作完毕\n",
    "\n",
    "dist_mat = pd.read_csv('../data/dist_mat.csv', index_col=0)\n",
    "id_info = pd.read_csv('../data/id2000.csv', index_col=0)\n",
    "dist_mat.index = id_info['id2']\n",
    "dist_mat.columns = id_info['id2']\n",
    "for i in range(len(dist_mat)):\n",
    "    for j in range(len(dist_mat)):\n",
    "        if i==j:\n",
    "            dist_mat.iloc[i, j] = 0\n",
    "\n",
    "near_id = pd.DataFrame(np.argsort(np.array(dist_mat.iloc[:num_dets, :num_dets])), index = id_info['id2'][:num_dets], columns = id_info['id2'][:num_dets])\n",
    "# 以上near_road 制作完毕"
   ]
  },
  {
   "cell_type": "code",
   "execution_count": 18,
   "metadata": {},
   "outputs": [],
   "source": [
    "#载入最近路段数据，流量数据\n",
    "# distance = np.array(pd.read_csv('video_link_dis.csv',header = None))\n",
    "near_road = np.array(near_id)\n",
    "flow = np.array(v.iloc[:, 1:]) #注意header=0 or None"
   ]
  },
  {
   "cell_type": "code",
   "execution_count": 22,
   "metadata": {},
   "outputs": [
    {
     "name": "stdout",
     "output_type": "stream",
     "text": [
      "(1548, 5, 12, 30)\n",
      "(1548, 30, 3)\n",
      "(1548, 30, 3)\n"
     ]
    }
   ],
   "source": [
    "# 利用滑动窗口的方式，重构数据为(n，最近路段数，输入时间窗，总路段数)的形式\n",
    "k = 5 # 参数k为需考虑的最近路段数\n",
    "t_p = 31 # 参数t_p为总时间序列长度（天）\n",
    "t_input = 12 #参数t_input为输入时间窗(10min颗粒度)\n",
    "t_pre = 3 #参数t_pre为预测时间窗(10min颗粒度) 颗粒度？\n",
    "num_links = num_dets #参数num_links为总路段数\n",
    "flow = flow[:num_links, :]\n",
    "g = 10\n",
    "n = 24*60//g\n",
    "\n",
    "\n",
    "image = []\n",
    "for i in range(np.shape(near_road)[0]):\n",
    "    road_id = []\n",
    "    for j in range(k):\n",
    "        road_id.append(near_road[i][j])\n",
    "    image.append(flow[road_id, :])\n",
    "image1 = np.reshape(image, [-1, k, len(flow[0,:])])\n",
    "image2 = np.transpose(image1,(1,2,0))\n",
    "image3 = []\n",
    "label = []\n",
    "day = []\n",
    "\n",
    "for i in range(19, t_p):  # 10 days in total\n",
    "    for j in range(n-t_input-t_pre):\n",
    "        image3.append(image2[:, i*n+j:i*n+j+t_input, :][:])\n",
    "        label.append(flow[:, i*n+j+t_input:i*n+j+t_input+t_pre][:])\n",
    "        day.append(flow[:, (i-1)*n+j+t_input:(i-1)*n+j+t_input+t_pre][:])\n",
    "\n",
    "image3 = np.asarray(image3)\n",
    "label = np.asarray(label)\n",
    "day =  np.asarray(day)\n",
    "\n",
    "print(np.shape(image3))\n",
    "print(np.shape(label))\n",
    "print(np.shape(day))\n",
    "\n",
    "#划分前80%数据为训练集，最后20%数据为测试集\n",
    "prop = 0.3\n",
    "image_train = image3[:int(np.shape(image3)[0]*prop)]\n",
    "image_test = image3[int(np.shape(image3)[0]*prop):]\n",
    "label_train = label[:int(np.shape(label)[0]*prop)]\n",
    "label_test = label[int(np.shape(label)[0]*prop):]\n",
    "\n",
    "day_train = day[:int(np.shape(day)[0]*prop)]\n",
    "day_test = day[int(np.shape(day)[0]*prop):]"
   ]
  },
  {
   "cell_type": "code",
   "execution_count": 23,
   "metadata": {
    "pycharm": {
     "name": "#%%\n"
    }
   },
   "outputs": [],
   "source": [
    "# define merge layer\n",
    "class Merge_Layer(Layer):\n",
    "    def __init__(self, **kwargs):\n",
    "        super(Merge_Layer, self).__init__(**kwargs)\n",
    "\n",
    "    def build(self, input_shape):\n",
    "        self.para1 = self.add_weight(shape=(input_shape[0][1], input_shape[0][2]),\n",
    "                                     initializer='uniform', trainable=True,\n",
    "                                     name='para1')\n",
    "        self.para2 = self.add_weight(shape=(input_shape[1][1], input_shape[1][2]),\n",
    "                                     initializer='uniform', trainable=True,\n",
    "                                     name='para2')\n",
    "        super(Merge_Layer, self).build(input_shape)\n",
    "\n",
    "    def call(self, inputs):\n",
    "        mat1 = inputs[0]\n",
    "        mat2 = inputs[1]\n",
    "        output = mat1 * self.para1 + mat2 * self.para2\n",
    "        # output = mat1 * 0.1 + mat2 * 0.9\n",
    "        return output\n",
    "\n",
    "    def compute_output_shape(self, input_shape):\n",
    "        return input_shape[0]"
   ]
  },
  {
   "cell_type": "code",
   "execution_count": 24,
   "metadata": {
    "tags": [
     "outputPrepend"
    ]
   },
   "outputs": [
    {
     "name": "stdout",
     "output_type": "stream",
     "text": [
      "WARNING:tensorflow:From C:\\ProgramData\\Anaconda3\\lib\\site-packages\\keras\\backend\\tensorflow_backend.py:517: The name tf.placeholder is deprecated. Please use tf.compat.v1.placeholder instead.\n",
      "\n",
      "WARNING:tensorflow:From C:\\ProgramData\\Anaconda3\\lib\\site-packages\\keras\\backend\\tensorflow_backend.py:74: The name tf.get_default_graph is deprecated. Please use tf.compat.v1.get_default_graph instead.\n",
      "\n",
      "WARNING:tensorflow:From C:\\ProgramData\\Anaconda3\\lib\\site-packages\\keras\\backend\\tensorflow_backend.py:174: The name tf.get_default_session is deprecated. Please use tf.compat.v1.get_default_session instead.\n",
      "\n",
      "WARNING:tensorflow:From C:\\ProgramData\\Anaconda3\\lib\\site-packages\\keras\\backend\\tensorflow_backend.py:181: The name tf.ConfigProto is deprecated. Please use tf.compat.v1.ConfigProto instead.\n",
      "\n",
      "WARNING:tensorflow:From C:\\ProgramData\\Anaconda3\\lib\\site-packages\\keras\\backend\\tensorflow_backend.py:186: The name tf.Session is deprecated. Please use tf.compat.v1.Session instead.\n",
      "\n",
      "WARNING:tensorflow:From C:\\ProgramData\\Anaconda3\\lib\\site-packages\\keras\\backend\\tensorflow_backend.py:1834: The name tf.nn.fused_batch_norm is deprecated. Please use tf.compat.v1.nn.fused_batch_norm instead.\n",
      "\n",
      "WARNING:tensorflow:From C:\\ProgramData\\Anaconda3\\lib\\site-packages\\keras\\backend\\tensorflow_backend.py:3980: The name tf.nn.avg_pool is deprecated. Please use tf.nn.avg_pool2d instead.\n",
      "\n",
      "WARNING:tensorflow:From C:\\ProgramData\\Anaconda3\\lib\\site-packages\\keras\\backend\\tensorflow_backend.py:3445: calling dropout (from tensorflow.python.ops.nn_ops) with keep_prob is deprecated and will be removed in a future version.\n",
      "Instructions for updating:\n",
      "Please use `rate` instead of `keep_prob`. Rate should be set to `rate = 1 - keep_prob`.\n",
      "__________________________________________________________________________________________________\n",
      "Layer (type)                    Output Shape         Param #     Connected to                     \n",
      "==================================================================================================\n",
      "input_data (InputLayer)         (None, 5, 12, 30)    0                                            \n",
      "__________________________________________________________________________________________________\n",
      "batch_normalization_1 (BatchNor (None, 5, 12, 30)    120         input_data[0][0]                 \n",
      "__________________________________________________________________________________________________\n",
      "conv2d_1 (Conv2D)               (None, 5, 12, 30)    8130        batch_normalization_1[0][0]      \n",
      "__________________________________________________________________________________________________\n",
      "average_pooling2d_1 (AveragePoo (None, 5, 12, 30)    0           conv2d_1[0][0]                   \n",
      "__________________________________________________________________________________________________\n",
      "batch_normalization_2 (BatchNor (None, 5, 12, 30)    120         average_pooling2d_1[0][0]        \n",
      "__________________________________________________________________________________________________\n",
      "conv2d_2 (Conv2D)               (None, 5, 12, 30)    8130        batch_normalization_2[0][0]      \n",
      "__________________________________________________________________________________________________\n",
      "average_pooling2d_2 (AveragePoo (None, 5, 12, 30)    0           conv2d_2[0][0]                   \n",
      "__________________________________________________________________________________________________\n",
      "flatten_1 (Flatten)             (None, 1800)         0           average_pooling2d_2[0][0]        \n",
      "__________________________________________________________________________________________________\n",
      "batch_normalization_3 (BatchNor (None, 1800)         7200        flatten_1[0][0]                  \n",
      "__________________________________________________________________________________________________\n",
      "dropout_1 (Dropout)             (None, 1800)         0           batch_normalization_3[0][0]      \n",
      "__________________________________________________________________________________________________\n",
      "dense_1 (Dense)                 (None, 180)          324180      dropout_1[0][0]                  \n",
      "__________________________________________________________________________________________________\n",
      "dense_2 (Dense)                 (None, 90)           16290       dense_1[0][0]                    \n",
      "__________________________________________________________________________________________________\n",
      "reshape_1 (Reshape)             (None, 30, 3)        0           dense_2[0][0]                    \n",
      "__________________________________________________________________________________________________\n",
      "input_HA (InputLayer)           (None, 30, 3)        0                                            \n",
      "__________________________________________________________________________________________________\n",
      "merge__layer_1 (Merge_Layer)    (None, 30, 3)        180         reshape_1[0][0]                  \n",
      "                                                                 input_HA[0][0]                   \n",
      "==================================================================================================\n",
      "Total params: 364,350\n",
      "Trainable params: 360,630\n",
      "Non-trainable params: 3,720\n",
      "__________________________________________________________________________________________________\n"
     ]
    }
   ],
   "source": [
    "input_data = keras.Input(shape=(k,t_input,num_links), name='input_data')\n",
    "input_HA = keras.Input(shape=(num_links, t_pre), name='input_HA')\n",
    "\n",
    "x = keras.layers.BatchNormalization(input_shape =(k,t_input,num_links))(input_data)\n",
    "\n",
    "x = keras.layers.Conv2D(\n",
    "                           filters = 30,\n",
    "                           kernel_size = 3,\n",
    "                           strides = 1,\n",
    "                           padding=\"SAME\",\n",
    "                           activation='relu')(x)\n",
    "\n",
    "x = keras.layers.AveragePooling2D(pool_size = (2,2),\n",
    "                                strides = 1,\n",
    "                                padding = \"SAME\",\n",
    "                                )(x)\n",
    "\n",
    "x = keras.layers.BatchNormalization()(x)\n",
    "\n",
    "x = keras.layers.Conv2D(\n",
    "                       filters = 30,\n",
    "                       kernel_size = 3,\n",
    "                       strides = 1,\n",
    "                       padding=\"SAME\",\n",
    "                       activation='relu')(x)\n",
    "\n",
    "x = keras.layers.AveragePooling2D(pool_size = (2,2),\n",
    "                                strides = 1,\n",
    "                                padding = \"SAME\",\n",
    "                                )(x)\n",
    "x = keras.layers.Flatten()(x)\n",
    "x = keras.layers.BatchNormalization()(x)\n",
    "x = keras.layers.Dropout(0.5)(x)\n",
    "\n",
    "x = keras.layers.Dense(num_links*2*t_pre, activation='relu', name='dense_1')(x)\n",
    "x = keras.layers.Dense(num_links*t_pre, activation='relu', name='dense_2')(x)\n",
    "\n",
    "output = keras.layers.Reshape((num_links,t_pre))(x)\n",
    "\n",
    "output_final = Merge_Layer()([output, input_HA])\n",
    "\n",
    "# construct model\n",
    "finish_model = keras.models.Model([input_data,input_HA], [output_final])\n",
    "\n",
    "finish_model.summary()"
   ]
  },
  {
   "cell_type": "code",
   "execution_count": 25,
   "metadata": {
    "pycharm": {
     "name": "#%%\n"
    }
   },
   "outputs": [
    {
     "name": "stdout",
     "output_type": "stream",
     "text": [
      "WARNING:tensorflow:From C:\\ProgramData\\Anaconda3\\lib\\site-packages\\keras\\optimizers.py:790: The name tf.train.Optimizer is deprecated. Please use tf.compat.v1.train.Optimizer instead.\n",
      "\n"
     ]
    }
   ],
   "source": [
    "finish_model.compile(optimizer='adam', loss='mean_squared_error')"
   ]
  },
  {
   "cell_type": "code",
   "execution_count": 26,
   "metadata": {},
   "outputs": [],
   "source": [
    "X_train = image_train\n",
    "X_HA_train = day_train\n",
    "label_train = label_train"
   ]
  },
  {
   "cell_type": "code",
   "execution_count": 30,
   "metadata": {
    "pycharm": {
     "name": "#%%\n"
    },
    "scrolled": true,
    "tags": []
   },
   "outputs": [
    {
     "name": "stdout",
     "output_type": "stream",
     "text": [
      "Train on 464 samples, validate on 1084 samples\n",
      "Epoch 1/100\n",
      "464/464 [==============================] - 0s 180us/step - loss: 291.0429 - val_loss: 401.1940\n",
      "Epoch 2/100\n",
      "464/464 [==============================] - 0s 166us/step - loss: 287.8879 - val_loss: 397.0823\n",
      "Epoch 3/100\n",
      "464/464 [==============================] - 0s 159us/step - loss: 284.6632 - val_loss: 397.8468\n",
      "Epoch 4/100\n",
      "464/464 [==============================] - 0s 150us/step - loss: 282.3822 - val_loss: 395.4634\n",
      "Epoch 5/100\n",
      "464/464 [==============================] - 0s 159us/step - loss: 279.3455 - val_loss: 392.8933\n",
      "Epoch 6/100\n",
      "464/464 [==============================] - 0s 155us/step - loss: 276.6873 - val_loss: 388.2605\n",
      "Epoch 7/100\n",
      "464/464 [==============================] - 0s 148us/step - loss: 276.0499 - val_loss: 393.0555\n",
      "Epoch 8/100\n",
      "464/464 [==============================] - 0s 150us/step - loss: 270.7546 - val_loss: 384.2551\n",
      "Epoch 9/100\n",
      "464/464 [==============================] - 0s 155us/step - loss: 268.5143 - val_loss: 389.5220\n",
      "Epoch 10/100\n",
      "464/464 [==============================] - 0s 165us/step - loss: 267.7430 - val_loss: 383.9772\n",
      "Epoch 11/100\n",
      "464/464 [==============================] - 0s 148us/step - loss: 264.2810 - val_loss: 375.8191\n",
      "Epoch 12/100\n",
      "464/464 [==============================] - 0s 145us/step - loss: 259.9259 - val_loss: 376.6814\n",
      "Epoch 13/100\n",
      "464/464 [==============================] - 0s 146us/step - loss: 258.8252 - val_loss: 372.5172\n",
      "Epoch 14/100\n",
      "464/464 [==============================] - 0s 151us/step - loss: 256.3506 - val_loss: 369.6832\n",
      "Epoch 15/100\n",
      "464/464 [==============================] - 0s 153us/step - loss: 252.3377 - val_loss: 365.6186\n",
      "Epoch 16/100\n",
      "464/464 [==============================] - 0s 148us/step - loss: 250.4701 - val_loss: 366.5295\n",
      "Epoch 17/100\n",
      "464/464 [==============================] - 0s 148us/step - loss: 249.5677 - val_loss: 366.2319\n",
      "Epoch 18/100\n",
      "464/464 [==============================] - 0s 153us/step - loss: 245.3148 - val_loss: 364.1482\n",
      "Epoch 19/100\n",
      "464/464 [==============================] - 0s 148us/step - loss: 244.9543 - val_loss: 362.9601\n",
      "Epoch 20/100\n",
      "464/464 [==============================] - 0s 150us/step - loss: 241.5949 - val_loss: 359.6074\n",
      "Epoch 21/100\n",
      "464/464 [==============================] - 0s 148us/step - loss: 239.1561 - val_loss: 357.2289\n",
      "Epoch 22/100\n",
      "464/464 [==============================] - 0s 153us/step - loss: 236.9252 - val_loss: 351.5408\n",
      "Epoch 23/100\n",
      "464/464 [==============================] - 0s 148us/step - loss: 239.9209 - val_loss: 351.9936\n",
      "Epoch 24/100\n",
      "464/464 [==============================] - 0s 146us/step - loss: 238.2574 - val_loss: 347.7758\n",
      "Epoch 25/100\n",
      "464/464 [==============================] - 0s 146us/step - loss: 231.9786 - val_loss: 351.3236\n",
      "Epoch 26/100\n",
      "464/464 [==============================] - 0s 153us/step - loss: 229.9887 - val_loss: 349.0865\n",
      "Epoch 27/100\n",
      "464/464 [==============================] - 0s 150us/step - loss: 230.6323 - val_loss: 345.8144\n",
      "Epoch 28/100\n",
      "464/464 [==============================] - 0s 148us/step - loss: 227.5148 - val_loss: 343.4788\n",
      "Epoch 29/100\n",
      "464/464 [==============================] - 0s 144us/step - loss: 224.1542 - val_loss: 337.8586\n",
      "Epoch 30/100\n",
      "464/464 [==============================] - 0s 148us/step - loss: 224.4946 - val_loss: 344.8504\n",
      "Epoch 31/100\n",
      "464/464 [==============================] - 0s 172us/step - loss: 223.6304 - val_loss: 333.2152\n",
      "Epoch 32/100\n",
      "464/464 [==============================] - 0s 168us/step - loss: 217.8133 - val_loss: 340.1533\n",
      "Epoch 33/100\n",
      "464/464 [==============================] - 0s 157us/step - loss: 216.1128 - val_loss: 335.5012\n",
      "Epoch 34/100\n",
      "464/464 [==============================] - 0s 142us/step - loss: 216.3067 - val_loss: 330.3373\n",
      "Epoch 35/100\n",
      "464/464 [==============================] - 0s 159us/step - loss: 212.9309 - val_loss: 333.0171\n",
      "Epoch 36/100\n",
      "464/464 [==============================] - 0s 155us/step - loss: 210.4102 - val_loss: 326.4550\n",
      "Epoch 37/100\n",
      "464/464 [==============================] - 0s 146us/step - loss: 208.3657 - val_loss: 330.1271\n",
      "Epoch 38/100\n",
      "464/464 [==============================] - 0s 144us/step - loss: 208.0289 - val_loss: 319.5911\n",
      "Epoch 39/100\n",
      "464/464 [==============================] - 0s 142us/step - loss: 204.7150 - val_loss: 319.3093\n",
      "Epoch 40/100\n",
      "464/464 [==============================] - 0s 142us/step - loss: 203.1039 - val_loss: 316.4658\n",
      "Epoch 41/100\n",
      "464/464 [==============================] - 0s 146us/step - loss: 203.8808 - val_loss: 311.6115\n",
      "Epoch 42/100\n",
      "464/464 [==============================] - 0s 144us/step - loss: 198.7385 - val_loss: 313.6788\n",
      "Epoch 43/100\n",
      "464/464 [==============================] - 0s 151us/step - loss: 198.7330 - val_loss: 307.6475\n",
      "Epoch 44/100\n",
      "464/464 [==============================] - 0s 157us/step - loss: 195.2511 - val_loss: 309.6640\n",
      "Epoch 45/100\n",
      "464/464 [==============================] - 0s 150us/step - loss: 193.2530 - val_loss: 307.4034\n",
      "Epoch 46/100\n",
      "464/464 [==============================] - 0s 144us/step - loss: 193.7262 - val_loss: 302.4972\n",
      "Epoch 47/100\n",
      "464/464 [==============================] - 0s 146us/step - loss: 192.3294 - val_loss: 302.9741\n",
      "Epoch 48/100\n",
      "464/464 [==============================] - 0s 144us/step - loss: 189.5684 - val_loss: 301.5938\n",
      "Epoch 49/100\n",
      "464/464 [==============================] - 0s 155us/step - loss: 189.1078 - val_loss: 295.7804\n",
      "Epoch 50/100\n",
      "464/464 [==============================] - 0s 146us/step - loss: 187.1112 - val_loss: 296.6208\n",
      "Epoch 51/100\n",
      "464/464 [==============================] - 0s 148us/step - loss: 185.7325 - val_loss: 295.4500\n",
      "Epoch 52/100\n",
      "464/464 [==============================] - 0s 161us/step - loss: 184.4282 - val_loss: 291.9374\n",
      "Epoch 53/100\n",
      "464/464 [==============================] - 0s 159us/step - loss: 179.8213 - val_loss: 295.3086\n",
      "Epoch 54/100\n",
      "464/464 [==============================] - 0s 152us/step - loss: 183.6319 - val_loss: 290.4361\n",
      "Epoch 55/100\n",
      "464/464 [==============================] - 0s 146us/step - loss: 178.7380 - val_loss: 289.6770\n",
      "Epoch 56/100\n",
      "464/464 [==============================] - 0s 155us/step - loss: 177.5392 - val_loss: 291.0167\n",
      "Epoch 57/100\n",
      "464/464 [==============================] - 0s 159us/step - loss: 175.9289 - val_loss: 287.2156\n",
      "Epoch 58/100\n",
      "464/464 [==============================] - 0s 153us/step - loss: 174.1295 - val_loss: 287.8996\n",
      "Epoch 59/100\n",
      "464/464 [==============================] - 0s 151us/step - loss: 173.0551 - val_loss: 283.0257\n",
      "Epoch 60/100\n",
      "464/464 [==============================] - 0s 148us/step - loss: 171.1667 - val_loss: 280.0342\n",
      "Epoch 61/100\n",
      "464/464 [==============================] - 0s 144us/step - loss: 170.9235 - val_loss: 280.3796\n",
      "Epoch 62/100\n",
      "464/464 [==============================] - 0s 146us/step - loss: 170.1661 - val_loss: 275.6253\n",
      "Epoch 63/100\n",
      "464/464 [==============================] - 0s 146us/step - loss: 168.1180 - val_loss: 275.5464\n",
      "Epoch 64/100\n",
      "464/464 [==============================] - 0s 146us/step - loss: 166.5449 - val_loss: 275.3423\n",
      "Epoch 65/100\n",
      "464/464 [==============================] - 0s 140us/step - loss: 164.9319 - val_loss: 275.3515\n",
      "Epoch 66/100\n",
      "464/464 [==============================] - 0s 140us/step - loss: 163.6300 - val_loss: 275.8886\n",
      "Epoch 67/100\n",
      "464/464 [==============================] - 0s 144us/step - loss: 163.0572 - val_loss: 275.4690\n",
      "Epoch 68/100\n",
      "464/464 [==============================] - 0s 153us/step - loss: 160.5669 - val_loss: 273.2471\n",
      "Epoch 69/100\n",
      "464/464 [==============================] - 0s 146us/step - loss: 159.6979 - val_loss: 271.1449\n",
      "Epoch 70/100\n",
      "464/464 [==============================] - 0s 181us/step - loss: 157.9651 - val_loss: 271.7718\n",
      "Epoch 71/100\n",
      "464/464 [==============================] - 0s 168us/step - loss: 156.9271 - val_loss: 272.0895\n",
      "Epoch 72/100\n",
      "464/464 [==============================] - 0s 200us/step - loss: 155.4683 - val_loss: 271.8771\n",
      "Epoch 73/100\n",
      "464/464 [==============================] - 0s 183us/step - loss: 154.1902 - val_loss: 269.6003\n",
      "Epoch 74/100\n",
      "464/464 [==============================] - 0s 142us/step - loss: 152.9433 - val_loss: 271.0767\n",
      "Epoch 75/100\n",
      "464/464 [==============================] - 0s 150us/step - loss: 152.5682 - val_loss: 268.3119\n",
      "Epoch 76/100\n"
     ]
    },
    {
     "name": "stdout",
     "output_type": "stream",
     "text": [
      "464/464 [==============================] - 0s 144us/step - loss: 153.0164 - val_loss: 268.3155\n",
      "Epoch 77/100\n",
      "464/464 [==============================] - 0s 144us/step - loss: 151.4842 - val_loss: 265.8886\n",
      "Epoch 78/100\n",
      "464/464 [==============================] - 0s 142us/step - loss: 149.4084 - val_loss: 265.0862\n",
      "Epoch 79/100\n",
      "464/464 [==============================] - 0s 140us/step - loss: 148.1926 - val_loss: 264.4480\n",
      "Epoch 80/100\n",
      "464/464 [==============================] - 0s 142us/step - loss: 145.9446 - val_loss: 262.7847\n",
      "Epoch 81/100\n",
      "464/464 [==============================] - 0s 140us/step - loss: 146.1090 - val_loss: 262.8665\n",
      "Epoch 82/100\n",
      "464/464 [==============================] - 0s 144us/step - loss: 144.6720 - val_loss: 261.2390\n",
      "Epoch 83/100\n",
      "464/464 [==============================] - 0s 146us/step - loss: 144.3645 - val_loss: 259.9115\n",
      "Epoch 84/100\n",
      "464/464 [==============================] - 0s 191us/step - loss: 143.7077 - val_loss: 262.9430\n",
      "Epoch 85/100\n",
      "464/464 [==============================] - 0s 185us/step - loss: 142.8144 - val_loss: 257.0504\n",
      "Epoch 86/100\n",
      "464/464 [==============================] - 0s 181us/step - loss: 141.4748 - val_loss: 261.9041\n",
      "Epoch 87/100\n",
      "464/464 [==============================] - 0s 148us/step - loss: 139.7347 - val_loss: 262.4088\n",
      "Epoch 88/100\n",
      "464/464 [==============================] - 0s 146us/step - loss: 138.7325 - val_loss: 256.7829\n",
      "Epoch 89/100\n",
      "464/464 [==============================] - 0s 142us/step - loss: 137.7531 - val_loss: 259.3390\n",
      "Epoch 90/100\n",
      "464/464 [==============================] - 0s 138us/step - loss: 137.0836 - val_loss: 256.3394\n",
      "Epoch 91/100\n",
      "464/464 [==============================] - 0s 170us/step - loss: 138.3004 - val_loss: 253.2031\n",
      "Epoch 92/100\n",
      "464/464 [==============================] - 0s 185us/step - loss: 135.5175 - val_loss: 255.7947\n",
      "Epoch 93/100\n",
      "464/464 [==============================] - 0s 137us/step - loss: 135.1406 - val_loss: 256.2908\n",
      "Epoch 94/100\n",
      "464/464 [==============================] - 0s 140us/step - loss: 134.2764 - val_loss: 256.3081\n",
      "Epoch 95/100\n",
      "464/464 [==============================] - 0s 172us/step - loss: 135.2234 - val_loss: 251.8484\n",
      "Epoch 96/100\n",
      "464/464 [==============================] - 0s 191us/step - loss: 134.4110 - val_loss: 249.8103\n",
      "Epoch 97/100\n",
      "464/464 [==============================] - 0s 181us/step - loss: 131.3759 - val_loss: 250.8392\n",
      "Epoch 98/100\n",
      "464/464 [==============================] - 0s 178us/step - loss: 129.3127 - val_loss: 250.7670\n",
      "Epoch 99/100\n",
      "464/464 [==============================] - 0s 209us/step - loss: 131.1812 - val_loss: 246.7220\n",
      "Epoch 100/100\n",
      "464/464 [==============================] - 0s 166us/step - loss: 127.9793 - val_loss: 245.7836\n"
     ]
    },
    {
     "data": {
      "text/plain": [
       "<keras.callbacks.History at 0x1b4fe5d93c8>"
      ]
     },
     "execution_count": 30,
     "metadata": {},
     "output_type": "execute_result"
    }
   ],
   "source": [
    "#模型拟合与评估\n",
    "finish_model.fit([X_train,X_HA_train], label_train, epochs=350, batch_size=128,\n",
    "validation_data=([image_test,day_test], label_test))\n",
    "# finish_model.evaluate(image_test, label_test)"
   ]
  },
  {
   "cell_type": "code",
   "execution_count": 31,
   "metadata": {},
   "outputs": [],
   "source": [
    "#模型预测\n",
    "model_pre = finish_model.predict([image_test,day_test])"
   ]
  },
  {
   "cell_type": "code",
   "execution_count": 32,
   "metadata": {},
   "outputs": [
    {
     "name": "stdout",
     "output_type": "stream",
     "text": [
      "mape = 0.21521104344971367\n",
      "smape = 0.2360158251183316\n",
      "mae = 11.709483633314415\n"
     ]
    }
   ],
   "source": [
    "#计算各项误差指标\n",
    "\n",
    "mape_mean = mape_loss_func(model_pre, label_test)\n",
    "smape_mean = smape_loss_func(model_pre, label_test)\n",
    "mae_mean = mae_loss_func(model_pre, label_test)\n",
    "\n",
    "print('mape = ' + str(mape_mean) + '\\n' + 'smape = ' + str(smape_mean) + '\\n' + 'mae = ' + str(mae_mean))"
   ]
  },
  {
   "cell_type": "code",
   "execution_count": 33,
   "metadata": {},
   "outputs": [],
   "source": [
    "#模型保存\n",
    "finish_model.save_weights('../model/source_base.h5')"
   ]
  },
  {
   "cell_type": "code",
   "execution_count": 34,
   "metadata": {},
   "outputs": [
    {
     "name": "stdout",
     "output_type": "stream",
     "text": [
      "1th link\n",
      "0.2319396189000425\n",
      "2th link\n",
      "0.18734180501204206\n",
      "3th link\n",
      "0.26595153238498426\n",
      "4th link\n",
      "0.20522465484080915\n",
      "5th link\n",
      "0.15505751159335412\n",
      "6th link\n",
      "0.5019992480669413\n",
      "7th link\n",
      "0.12813163179812861\n",
      "8th link\n",
      "0.2260138115716322\n",
      "9th link\n",
      "0.18740360287651478\n",
      "10th link\n",
      "0.16601372022969269\n",
      "11th link\n",
      "0.17290482777199137\n",
      "12th link\n",
      "0.19281218938116698\n",
      "13th link\n",
      "0.15031497868922367\n",
      "14th link\n",
      "0.1892829247854927\n",
      "15th link\n",
      "0.24455300179016304\n",
      "16th link\n",
      "0.19068467999480912\n",
      "17th link\n",
      "0.11461669479137482\n",
      "18th link\n",
      "0.30357015538496795\n",
      "19th link\n",
      "0.20882560335418207\n",
      "20th link\n",
      "0.18037636506757057\n",
      "21th link\n",
      "0.16977098246137\n",
      "22th link\n",
      "0.229986257109525\n",
      "23th link\n",
      "0.33510372356746937\n",
      "24th link\n",
      "0.25765544605252655\n",
      "25th link\n",
      "0.16739174880016558\n",
      "26th link\n",
      "0.16498515029338204\n",
      "27th link\n",
      "0.23503522759556267\n",
      "28th link\n",
      "0.2712577944263715\n",
      "29th link\n",
      "0.15626722579710306\n",
      "30th link\n",
      "0.28098749162994135\n"
     ]
    }
   ],
   "source": [
    "#计算每条路段的误差\n",
    "mape_list = []\n",
    "for i in range(num_links):\n",
    "    a1 = mape_loss_func(model_pre[:,i,:], label_test[:,i,:])\n",
    "    mape_list.append(a1)\n",
    "    print(str(i+1)+'th link')\n",
    "    print(a1)"
   ]
  },
  {
   "cell_type": "code",
   "execution_count": 35,
   "metadata": {
    "pycharm": {
     "name": "#%%\n"
    }
   },
   "outputs": [],
   "source": [
    "mape_pd = pd.Series(mape_list)"
   ]
  },
  {
   "cell_type": "code",
   "execution_count": 36,
   "metadata": {
    "pycharm": {
     "name": "#%%\n"
    }
   },
   "outputs": [
    {
     "data": {
      "text/plain": [
       "16    0.114617\n",
       "6     0.128132\n",
       "12    0.150315\n",
       "4     0.155058\n",
       "28    0.156267\n",
       "25    0.164985\n",
       "9     0.166014\n",
       "24    0.167392\n",
       "20    0.169771\n",
       "10    0.172905\n",
       "19    0.180376\n",
       "1     0.187342\n",
       "8     0.187404\n",
       "13    0.189283\n",
       "15    0.190685\n",
       "11    0.192812\n",
       "3     0.205225\n",
       "18    0.208826\n",
       "7     0.226014\n",
       "21    0.229986\n",
       "0     0.231940\n",
       "26    0.235035\n",
       "14    0.244553\n",
       "23    0.257655\n",
       "2     0.265952\n",
       "27    0.271258\n",
       "29    0.280987\n",
       "17    0.303570\n",
       "22    0.335104\n",
       "5     0.501999\n",
       "dtype: float64"
      ]
     },
     "execution_count": 36,
     "metadata": {},
     "output_type": "execute_result"
    }
   ],
   "source": [
    "mape_pd.sort_values()"
   ]
  },
  {
   "cell_type": "code",
   "execution_count": null,
   "metadata": {
    "pycharm": {
     "name": "#%%\n"
    }
   },
   "outputs": [],
   "source": []
  },
  {
   "cell_type": "code",
   "execution_count": null,
   "metadata": {
    "pycharm": {
     "name": "#%%\n"
    }
   },
   "outputs": [],
   "source": []
  }
 ],
 "metadata": {
  "interpreter": {
   "hash": "6b092d8890fbfc1935d95d43d0881a7b3742c06492f450993a24f5c2e6237594"
  },
  "kernelspec": {
   "display_name": "Python 3",
   "language": "python",
   "name": "python3"
  },
  "language_info": {
   "codemirror_mode": {
    "name": "ipython",
    "version": 3
   },
   "file_extension": ".py",
   "mimetype": "text/x-python",
   "name": "python",
   "nbconvert_exporter": "python",
   "pygments_lexer": "ipython3",
   "version": "3.7.0"
  },
  "metadata": {
   "interpreter": {
    "hash": "6b092d8890fbfc1935d95d43d0881a7b3742c06492f450993a24f5c2e6237594"
   }
  }
 },
 "nbformat": 4,
 "nbformat_minor": 4
}
