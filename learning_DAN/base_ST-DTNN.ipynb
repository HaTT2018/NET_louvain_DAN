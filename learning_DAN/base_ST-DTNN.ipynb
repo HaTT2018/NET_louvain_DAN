{
 "cells": [
  {
   "cell_type": "code",
   "execution_count": 1,
   "metadata": {},
   "outputs": [],
   "source": [
    "import time\n",
    "import numpy as np\n",
    "import pandas as pd"
   ]
  },
  {
   "cell_type": "code",
   "execution_count": 2,
   "metadata": {},
   "outputs": [],
   "source": [
    "import tensorflow.python.keras as keras\n",
    "from tensorflow.python.keras.layers import Layer"
   ]
  },
  {
   "cell_type": "code",
   "execution_count": 3,
   "metadata": {},
   "outputs": [],
   "source": [
    "def mape_loss_func(preds, labels):\n",
    "    mask = labels > 5\n",
    "    return np.mean(np.fabs(labels[mask]-preds[mask])/labels[mask])\n",
    "\n",
    "def smape_loss_func(preds, labels):\n",
    "    mask= labels > 5\n",
    "    return np.mean(2*np.fabs(labels[mask]-preds[mask])/(np.fabs(labels[mask])+np.fabs(preds[mask])))\n",
    "\n",
    "def mae_loss_func(preds, labels):\n",
    "    mask= labels > 5\n",
    "    return np.fabs((labels[mask]-preds[mask])).mean()\n",
    "\n",
    "def eliminate_nan(b):\n",
    "    a = np.array(b)\n",
    "    c = a[~np.isnan(a)]\n",
    "    return c"
   ]
  },
  {
   "cell_type": "code",
   "execution_count": 4,
   "metadata": {},
   "outputs": [
    {
     "name": "stdout",
     "output_type": "stream",
     "text": [
      "There are 5 class(es)\n"
     ]
    },
    {
     "name": "stderr",
     "output_type": "stream",
     "text": [
      "C:\\Users\\10169\\.conda\\envs\\dan_traff\\lib\\site-packages\\pandas\\core\\indexing.py:1817: SettingWithCopyWarning: \n",
      "A value is trying to be set on a copy of a slice from a DataFrame.\n",
      "Try using .loc[row_indexer,col_indexer] = value instead\n",
      "\n",
      "See the caveats in the documentation: https://pandas.pydata.org/pandas-docs/stable/user_guide/indexing.html#returning-a-view-versus-a-copy\n",
      "  self._setitem_single_column(loc, value, pi)\n"
     ]
    }
   ],
   "source": [
    "randseed = 25\n",
    "res = 11\n",
    "\n",
    "v = pd.read_csv('../data/v_20_aggragated.csv')\n",
    "v = v.rename(columns={'Unnamed: 0': 'id'})\n",
    "det_with_class = pd.read_csv('../res/%i_res%i_id_402_withclass.csv'%(randseed, res), index_col=0)\n",
    "\n",
    "v['class_i'] = ''\n",
    "for i in range(len(v)):\n",
    "    v.loc[i, 'class_i'] = det_with_class[det_with_class['id']==v.loc[i, 'id']].iloc[0, 5]  # 5 stands for 'class_i'\n",
    "\n",
    "num_class = det_with_class['class_i'].drop_duplicates().size\n",
    "\n",
    "v_class = []\n",
    "for i in range(num_class):\n",
    "    v_class.append(v[v['class_i']==i])\n",
    "\n",
    "print('There are %i class(es)'%num_class)\n",
    "\n",
    "dist_mat = pd.read_csv('../data/dist_mat.csv', index_col=0)\n",
    "id_info = pd.read_csv('../data/id2000.csv', index_col=0)\n",
    "dist_mat.index = id_info['id2']\n",
    "dist_mat.columns = id_info['id2']\n",
    "for i in range(len(dist_mat)):\n",
    "    for j in range(len(dist_mat)):\n",
    "        if i==j:\n",
    "            dist_mat.iloc[i, j] = 0\n",
    "\n",
    "near_id = pd.DataFrame(np.argsort(np.array(dist_mat)), index = id_info['id2'], columns = id_info['id2'])\n",
    "\n",
    "def get_node(det, seg):\n",
    "    # det is one single detector id\n",
    "    # node is one single node id\n",
    "    \n",
    "    # seg = pd.read_csv('./data/segement.csv', header=None)\n",
    "    try:\n",
    "        node_info = seg[seg[6]==det]\n",
    "        node = node_info.iloc[0, 0]\n",
    "    except:\n",
    "        node_info = seg[seg[7]==det]\n",
    "        node = node_info.iloc[0, 0]\n",
    "        \n",
    "    return node\n",
    "\n",
    "def get_class_with_node(seg, v_class):\n",
    "    det_list_class = np.array([])\n",
    "    try:\n",
    "        v_class.insert(1, 'id2', '')  # id2 mean node id\n",
    "    except:\n",
    "        v_class['id2'] = ''\n",
    "        \n",
    "    for i in range(len(v_class)):\n",
    "        det_list_class = np.append(det_list_class, v_class.iloc[i, 0])\n",
    "        v_class.iloc[i, 1] = get_node(v_class.iloc[i, 0], seg)\n",
    "    \n",
    "    return det_list_class, v_class\n",
    "\n",
    "def rds_mat(old_dist_mat, det_ids):\n",
    "    # get a matrix that contains n raods that have specified node id s\n",
    "    node_ids = np.array([])\n",
    "    for i in det_ids:\n",
    "        node_ids = np.append(node_ids, get_node(i, seg))\n",
    "        \n",
    "    new_dist_mat = old_dist_mat.loc[node_ids, node_ids]\n",
    "    old_dist_mat = np.array(old_dist_mat)\n",
    "    new_near_id_mat = np.argsort(new_dist_mat)\n",
    "    return new_near_id_mat\n",
    "\n",
    "seg = pd.read_csv('../data/segement.csv', header=None)\n",
    "num_dets = 25\n",
    "\n",
    "det_list_class = []\n",
    "for i in range(num_class):\n",
    "    det_list_class_temp, v_class_temp = get_class_with_node(seg, v_class[i])\n",
    "    det_list_class.append(det_list_class_temp)\n",
    "    v_class_temp = v_class_temp[v_class_temp['id'].isin(det_list_class_temp[:num_dets])]\n",
    "    v_class[i] = v_class_temp\n",
    "    \n",
    "near_road_set = []\n",
    "for i in range(num_class):\n",
    "    near_road_set.append(rds_mat(dist_mat, det_list_class[i][:num_dets]))"
   ]
  },
  {
   "cell_type": "code",
   "execution_count": 5,
   "metadata": {},
   "outputs": [],
   "source": [
    "def sliding_window(flow, near_road, from_day, to_day, prop):\n",
    "    flow = np.array(flow)\n",
    "    # 选数据\n",
    "    flow = flow[:, 144*(from_day-1):144*(to_day)]\n",
    "    print(flow.shape)\n",
    "\n",
    "    # 利用滑动窗口的方式，重构数据为(n，最近路段数，输入时间窗，总路段数)的形式\n",
    "\n",
    "    global k, t_p, t_input, t_pre, num_links\n",
    "    k = 5 # 参数k为需考虑的最近路段数\n",
    "    t_p = 10 # 参数t_p为总时间序列长度（天）\n",
    "    t_input = 12 #参数t_input为输入时间窗(10min颗粒度)\n",
    "    t_pre = 3 #参数t_pre为预测时间窗(10min颗粒度)\n",
    "    num_links = 25 #参数num_links为总路段数\n",
    "\n",
    "\n",
    "    image = []\n",
    "    for i in range(np.shape(near_road)[0]):\n",
    "        road_id = []\n",
    "        for j in range(k):\n",
    "            road_id.append(near_road[i][j])\n",
    "        image.append(flow[road_id, :])\n",
    "    image1 = np.reshape(image, [-1, k, len(flow[0,:])])\n",
    "    image2 = np.transpose(image1,(1,2,0))\n",
    "    image3 = []\n",
    "    label = []\n",
    "    day = []\n",
    "\n",
    "    for i in range(1, t_p):\n",
    "        for j in range(144-t_input-t_pre):\n",
    "            image3.append(image2[:, i*144+j:i*144+j+t_input, :][:])\n",
    "            label.append(flow[:, i*144+j+t_input:i*144+j+t_input+t_pre][:])\n",
    "            day.append(flow[:, (i-1)*144+j+t_input:(i-1)*144+j+t_input+t_pre][:])\n",
    "\n",
    "    image3 = np.asarray(image3)\n",
    "    label = np.asarray(label)\n",
    "    day =  np.asarray(day)\n",
    "\n",
    "    print(np.shape(image3))\n",
    "\n",
    "    #划分前90%数据为训练集，最后10%数据为测试集\n",
    "    image_train = image3[:int(np.shape(image3)[0]*prop)]\n",
    "    image_test = image3[int(np.shape(image3)[0]*prop):]\n",
    "    label_train = label[:int(np.shape(label)[0]*prop)]\n",
    "    label_test = label[int(np.shape(label)[0]*prop):]\n",
    "\n",
    "    day_train = day[:int(np.shape(day)[0]*prop)]\n",
    "    day_test = day[int(np.shape(day)[0]*prop):]\n",
    "\n",
    "    print(image_train.shape)\n",
    "    print(image_test.shape)\n",
    "    print(label_train.shape)\n",
    "    print(label_test.shape)\n",
    "    \n",
    "    return image_train, image_test, day_train, day_test, label_train, label_test"
   ]
  },
  {
   "cell_type": "code",
   "execution_count": 6,
   "metadata": {},
   "outputs": [
    {
     "name": "stdout",
     "output_type": "stream",
     "text": [
      "(25, 4464)\n",
      "(1161, 5, 12, 25)\n",
      "(898, 5, 12, 25)\n",
      "(263, 5, 12, 25)\n",
      "(898, 25, 3)\n",
      "(263, 25, 3)\n"
     ]
    }
   ],
   "source": [
    "# ind, class\n",
    "# 0  , blue\n",
    "# 1  , green\n",
    "# 2  , yellow  <--\n",
    "# 3  , black   <--\n",
    "# 4  , red     <--\n",
    "class_color_set = ['b', 'g', 'y', 'black', 'r']\n",
    "class_i = 3\n",
    "\n",
    "near_road = np.array(near_road_set[class_i])\n",
    "flow = v_class[class_i].iloc[:, 2:-1]\n",
    "\n",
    "prop = 24/31  # proportion of training data\n",
    "\n",
    "image_train, image_test, day_train, day_test, label_train, label_test\\\n",
    "= sliding_window(\n",
    "    flow, near_road, from_day=1, to_day=31, prop=prop\n",
    ")"
   ]
  },
  {
   "cell_type": "code",
   "execution_count": 7,
   "metadata": {
    "pycharm": {
     "name": "#%%\n"
    }
   },
   "outputs": [],
   "source": [
    "# define merge layer\n",
    "class Merge_Layer(Layer):\n",
    "    def __init__(self, **kwargs):\n",
    "        super(Merge_Layer, self).__init__(**kwargs)\n",
    "\n",
    "    def build(self, input_shape):\n",
    "        self.para1 = self.add_weight(shape=(input_shape[0][1], input_shape[0][2]),\n",
    "                                     initializer='uniform', trainable=True,\n",
    "                                     name='para1')\n",
    "        self.para2 = self.add_weight(shape=(input_shape[1][1], input_shape[1][2]),\n",
    "                                     initializer='uniform', trainable=True,\n",
    "                                     name='para2')\n",
    "        super(Merge_Layer, self).build(input_shape)\n",
    "\n",
    "    def call(self, inputs):\n",
    "        mat1 = inputs[0]\n",
    "        mat2 = inputs[1]\n",
    "        output = mat1 * self.para1 + mat2 * self.para2\n",
    "        # output = mat1 * 0.1 + mat2 * 0.9\n",
    "        return output\n",
    "\n",
    "    def compute_output_shape(self, input_shape):\n",
    "        return input_shape[0]"
   ]
  },
  {
   "cell_type": "code",
   "execution_count": 8,
   "metadata": {
    "tags": [
     "outputPrepend"
    ]
   },
   "outputs": [
    {
     "name": "stdout",
     "output_type": "stream",
     "text": [
      "Model: \"model\"\n",
      "__________________________________________________________________________________________________\n",
      "Layer (type)                    Output Shape         Param #     Connected to                     \n",
      "==================================================================================================\n",
      "input_data (InputLayer)         [(None, 5, 12, 25)]  0                                            \n",
      "__________________________________________________________________________________________________\n",
      "batch_normalization (BatchNorma (None, 5, 12, 25)    100         input_data[0][0]                 \n",
      "__________________________________________________________________________________________________\n",
      "conv2d (Conv2D)                 (None, 5, 12, 25)    5650        batch_normalization[0][0]        \n",
      "__________________________________________________________________________________________________\n",
      "average_pooling2d (AveragePooli (None, 5, 12, 25)    0           conv2d[0][0]                     \n",
      "__________________________________________________________________________________________________\n",
      "batch_normalization_1 (BatchNor (None, 5, 12, 25)    100         average_pooling2d[0][0]          \n",
      "__________________________________________________________________________________________________\n",
      "conv2d_1 (Conv2D)               (None, 5, 12, 25)    5650        batch_normalization_1[0][0]      \n",
      "__________________________________________________________________________________________________\n",
      "average_pooling2d_1 (AveragePoo (None, 5, 12, 25)    0           conv2d_1[0][0]                   \n",
      "__________________________________________________________________________________________________\n",
      "flatten (Flatten)               (None, 1500)         0           average_pooling2d_1[0][0]        \n",
      "__________________________________________________________________________________________________\n",
      "batch_normalization_2 (BatchNor (None, 1500)         6000        flatten[0][0]                    \n",
      "__________________________________________________________________________________________________\n",
      "dropout (Dropout)               (None, 1500)         0           batch_normalization_2[0][0]      \n",
      "__________________________________________________________________________________________________\n",
      "dense_1 (Dense)                 (None, 150)          225150      dropout[0][0]                    \n",
      "__________________________________________________________________________________________________\n",
      "dense_2 (Dense)                 (None, 75)           11325       dense_1[0][0]                    \n",
      "__________________________________________________________________________________________________\n",
      "reshape (Reshape)               (None, 25, 3)        0           dense_2[0][0]                    \n",
      "__________________________________________________________________________________________________\n",
      "input_HA (InputLayer)           [(None, 25, 3)]      0                                            \n",
      "__________________________________________________________________________________________________\n",
      "merge__layer (Merge_Layer)      (None, 25, 3)        150         reshape[0][0]                    \n",
      "                                                                 input_HA[0][0]                   \n",
      "==================================================================================================\n",
      "Total params: 254,125\n",
      "Trainable params: 251,025\n",
      "Non-trainable params: 3,100\n",
      "__________________________________________________________________________________________________\n"
     ]
    }
   ],
   "source": [
    "input_data = keras.Input(shape=(k,t_input,num_links), name='input_data')\n",
    "input_HA = keras.Input(shape=(num_links, t_pre), name='input_HA')\n",
    "\n",
    "x = keras.layers.BatchNormalization(input_shape =(k,t_input,num_links))(input_data)\n",
    "\n",
    "x = keras.layers.Conv2D(\n",
    "                           filters = num_links,\n",
    "                           kernel_size = 3,\n",
    "                           strides = 1,\n",
    "                           padding=\"SAME\",\n",
    "                           activation='relu')(x)\n",
    "\n",
    "x = keras.layers.AveragePooling2D(pool_size = (2,2),\n",
    "                                strides = 1,\n",
    "                                padding = \"SAME\",\n",
    "                                )(x)\n",
    "\n",
    "x = keras.layers.BatchNormalization()(x)\n",
    "\n",
    "x = keras.layers.Conv2D(\n",
    "                       filters = num_links,\n",
    "                       kernel_size = 3,\n",
    "                       strides = 1,\n",
    "                       padding=\"SAME\",\n",
    "                       activation='relu')(x)\n",
    "\n",
    "x = keras.layers.AveragePooling2D(pool_size = (2,2),\n",
    "                                strides = 1,\n",
    "                                padding = \"SAME\",\n",
    "                                )(x)\n",
    "x = keras.layers.Flatten()(x)\n",
    "x = keras.layers.BatchNormalization()(x)\n",
    "x = keras.layers.Dropout(0.5)(x)\n",
    "\n",
    "x = keras.layers.Dense(num_links*2*t_pre, activation='relu', name='dense_1')(x)\n",
    "x = keras.layers.Dense(num_links*t_pre, activation='relu', name='dense_2')(x)\n",
    "\n",
    "output = keras.layers.Reshape((num_links,t_pre))(x)\n",
    "\n",
    "output_final = Merge_Layer()([output, input_HA])\n",
    "\n",
    "# construct model\n",
    "finish_model = keras.models.Model([input_data,input_HA], [output_final])\n",
    "\n",
    "finish_model.summary()"
   ]
  },
  {
   "cell_type": "code",
   "execution_count": 9,
   "metadata": {
    "pycharm": {
     "name": "#%%\n"
    }
   },
   "outputs": [],
   "source": [
    "finish_model.compile(optimizer='adam', loss='mean_squared_error')"
   ]
  },
  {
   "cell_type": "code",
   "execution_count": 10,
   "metadata": {},
   "outputs": [],
   "source": [
    "X_train = image_train\n",
    "X_HA_train = day_train\n",
    "label_train = label_train"
   ]
  },
  {
   "cell_type": "code",
   "execution_count": 11,
   "metadata": {
    "pycharm": {
     "name": "#%%\n"
    },
    "scrolled": true,
    "tags": []
   },
   "outputs": [
    {
     "name": "stdout",
     "output_type": "stream",
     "text": [
      "Epoch 1/100\n",
      "8/8 [==============================] - 3s 30ms/step - loss: 3055.9531 - val_loss: 2784.0088\n",
      "Epoch 2/100\n",
      "8/8 [==============================] - 0s 7ms/step - loss: 2992.3162 - val_loss: 2565.1755\n",
      "Epoch 3/100\n",
      "8/8 [==============================] - 0s 8ms/step - loss: 2905.1943 - val_loss: 2289.7622\n",
      "Epoch 4/100\n",
      "8/8 [==============================] - 0s 7ms/step - loss: 2769.7544 - val_loss: 2020.8358\n",
      "Epoch 5/100\n",
      "8/8 [==============================] - 0s 7ms/step - loss: 2556.6147 - val_loss: 2038.5927\n",
      "Epoch 6/100\n",
      "8/8 [==============================] - 0s 7ms/step - loss: 2274.1929 - val_loss: 2318.0769\n",
      "Epoch 7/100\n",
      "8/8 [==============================] - 0s 7ms/step - loss: 1972.8766 - val_loss: 2330.4512\n",
      "Epoch 8/100\n",
      "8/8 [==============================] - 0s 7ms/step - loss: 1736.6571 - val_loss: 1733.1234\n",
      "Epoch 9/100\n",
      "8/8 [==============================] - 0s 7ms/step - loss: 1600.9412 - val_loss: 1622.9595\n",
      "Epoch 10/100\n",
      "8/8 [==============================] - 0s 7ms/step - loss: 1503.2747 - val_loss: 1547.2302\n",
      "Epoch 11/100\n",
      "8/8 [==============================] - 0s 7ms/step - loss: 1473.3094 - val_loss: 1540.0138\n",
      "Epoch 12/100\n",
      "8/8 [==============================] - 0s 7ms/step - loss: 1432.9952 - val_loss: 1542.2805\n",
      "Epoch 13/100\n",
      "8/8 [==============================] - 0s 7ms/step - loss: 1403.5934 - val_loss: 1546.6631\n",
      "Epoch 14/100\n",
      "8/8 [==============================] - 0s 7ms/step - loss: 1377.3004 - val_loss: 1524.4601\n",
      "Epoch 15/100\n",
      "8/8 [==============================] - 0s 7ms/step - loss: 1346.0244 - val_loss: 1512.4775\n",
      "Epoch 16/100\n",
      "8/8 [==============================] - 0s 7ms/step - loss: 1321.1514 - val_loss: 1481.5227\n",
      "Epoch 17/100\n",
      "8/8 [==============================] - 0s 7ms/step - loss: 1288.6409 - val_loss: 1451.1230\n",
      "Epoch 18/100\n",
      "8/8 [==============================] - 0s 7ms/step - loss: 1249.3533 - val_loss: 1471.8129\n",
      "Epoch 19/100\n",
      "8/8 [==============================] - 0s 7ms/step - loss: 1226.3590 - val_loss: 1485.2025\n",
      "Epoch 20/100\n",
      "8/8 [==============================] - 0s 8ms/step - loss: 1202.2727 - val_loss: 1444.4825\n",
      "Epoch 21/100\n",
      "8/8 [==============================] - 0s 7ms/step - loss: 1172.9600 - val_loss: 1441.9591\n",
      "Epoch 22/100\n",
      "8/8 [==============================] - 0s 7ms/step - loss: 1157.9539 - val_loss: 1480.7908\n",
      "Epoch 23/100\n",
      "8/8 [==============================] - 0s 8ms/step - loss: 1138.5884 - val_loss: 1340.5255\n",
      "Epoch 24/100\n",
      "8/8 [==============================] - 0s 8ms/step - loss: 1125.5930 - val_loss: 1248.2067\n",
      "Epoch 25/100\n",
      "8/8 [==============================] - 0s 7ms/step - loss: 1104.5564 - val_loss: 1189.7552\n",
      "Epoch 26/100\n",
      "8/8 [==============================] - 0s 7ms/step - loss: 1093.1155 - val_loss: 1148.9587\n",
      "Epoch 27/100\n",
      "8/8 [==============================] - 0s 7ms/step - loss: 1058.9170 - val_loss: 1096.3322\n",
      "Epoch 28/100\n",
      "8/8 [==============================] - 0s 7ms/step - loss: 1042.1305 - val_loss: 1067.3033\n",
      "Epoch 29/100\n",
      "8/8 [==============================] - 0s 7ms/step - loss: 1024.3643 - val_loss: 1036.4919\n",
      "Epoch 30/100\n",
      "8/8 [==============================] - 0s 7ms/step - loss: 1007.8218 - val_loss: 985.1030\n",
      "Epoch 31/100\n",
      "8/8 [==============================] - 0s 7ms/step - loss: 999.1166 - val_loss: 956.4748\n",
      "Epoch 32/100\n",
      "8/8 [==============================] - 0s 8ms/step - loss: 970.1462 - val_loss: 918.9583\n",
      "Epoch 33/100\n",
      "8/8 [==============================] - 0s 7ms/step - loss: 949.2130 - val_loss: 901.9830\n",
      "Epoch 34/100\n",
      "8/8 [==============================] - 0s 7ms/step - loss: 941.8536 - val_loss: 891.6984\n",
      "Epoch 35/100\n",
      "8/8 [==============================] - 0s 7ms/step - loss: 922.1774 - val_loss: 886.6274\n",
      "Epoch 36/100\n",
      "8/8 [==============================] - 0s 7ms/step - loss: 908.4171 - val_loss: 883.1036\n",
      "Epoch 37/100\n",
      "8/8 [==============================] - 0s 8ms/step - loss: 897.0109 - val_loss: 883.9037\n",
      "Epoch 38/100\n",
      "8/8 [==============================] - 0s 7ms/step - loss: 884.9795 - val_loss: 843.7939\n",
      "Epoch 39/100\n",
      "8/8 [==============================] - 0s 7ms/step - loss: 873.5258 - val_loss: 827.7762\n",
      "Epoch 40/100\n",
      "8/8 [==============================] - 0s 7ms/step - loss: 857.2263 - val_loss: 824.9125\n",
      "Epoch 41/100\n",
      "8/8 [==============================] - 0s 7ms/step - loss: 833.4972 - val_loss: 783.5826\n",
      "Epoch 42/100\n",
      "8/8 [==============================] - 0s 7ms/step - loss: 824.9634 - val_loss: 766.3450\n",
      "Epoch 43/100\n",
      "8/8 [==============================] - 0s 8ms/step - loss: 810.9927 - val_loss: 758.3152\n",
      "Epoch 44/100\n",
      "8/8 [==============================] - 0s 7ms/step - loss: 802.4462 - val_loss: 766.5128\n",
      "Epoch 45/100\n",
      "8/8 [==============================] - 0s 7ms/step - loss: 783.2789 - val_loss: 739.3039\n",
      "Epoch 46/100\n",
      "8/8 [==============================] - 0s 7ms/step - loss: 762.9866 - val_loss: 721.9194\n",
      "Epoch 47/100\n",
      "8/8 [==============================] - 0s 7ms/step - loss: 748.7560 - val_loss: 731.4008\n",
      "Epoch 48/100\n",
      "8/8 [==============================] - 0s 7ms/step - loss: 738.3996 - val_loss: 710.8757\n",
      "Epoch 49/100\n",
      "8/8 [==============================] - 0s 7ms/step - loss: 725.4763 - val_loss: 682.6345\n",
      "Epoch 50/100\n",
      "8/8 [==============================] - 0s 7ms/step - loss: 711.3217 - val_loss: 668.6706\n",
      "Epoch 51/100\n",
      "8/8 [==============================] - 0s 7ms/step - loss: 694.6324 - val_loss: 650.3458\n",
      "Epoch 52/100\n",
      "8/8 [==============================] - 0s 8ms/step - loss: 673.6771 - val_loss: 633.7008\n",
      "Epoch 53/100\n",
      "8/8 [==============================] - 0s 7ms/step - loss: 660.8793 - val_loss: 613.0533\n",
      "Epoch 54/100\n",
      "8/8 [==============================] - 0s 7ms/step - loss: 654.6647 - val_loss: 604.9072\n",
      "Epoch 55/100\n",
      "8/8 [==============================] - 0s 7ms/step - loss: 654.8239 - val_loss: 590.7607\n",
      "Epoch 56/100\n",
      "8/8 [==============================] - 0s 8ms/step - loss: 631.4559 - val_loss: 576.7378\n",
      "Epoch 57/100\n",
      "8/8 [==============================] - 0s 8ms/step - loss: 620.0223 - val_loss: 569.8967\n",
      "Epoch 58/100\n",
      "8/8 [==============================] - 0s 8ms/step - loss: 613.6797 - val_loss: 556.9720\n",
      "Epoch 59/100\n",
      "8/8 [==============================] - 0s 8ms/step - loss: 607.9678 - val_loss: 548.2007\n",
      "Epoch 60/100\n",
      "8/8 [==============================] - 0s 8ms/step - loss: 584.8180 - val_loss: 543.8606\n",
      "Epoch 61/100\n",
      "8/8 [==============================] - 0s 8ms/step - loss: 580.0536 - val_loss: 528.5406\n",
      "Epoch 62/100\n",
      "8/8 [==============================] - 0s 7ms/step - loss: 567.5446 - val_loss: 519.0345\n",
      "Epoch 63/100\n",
      "8/8 [==============================] - 0s 7ms/step - loss: 561.9158 - val_loss: 511.3291\n",
      "Epoch 64/100\n",
      "8/8 [==============================] - 0s 7ms/step - loss: 548.1133 - val_loss: 502.8165\n",
      "Epoch 65/100\n",
      "8/8 [==============================] - 0s 7ms/step - loss: 535.7676 - val_loss: 497.6334\n",
      "Epoch 66/100\n",
      "8/8 [==============================] - 0s 7ms/step - loss: 524.4451 - val_loss: 482.9656\n",
      "Epoch 67/100\n",
      "8/8 [==============================] - 0s 8ms/step - loss: 517.7391 - val_loss: 474.2288\n",
      "Epoch 68/100\n",
      "8/8 [==============================] - 0s 7ms/step - loss: 504.2391 - val_loss: 466.9501\n",
      "Epoch 69/100\n",
      "8/8 [==============================] - 0s 7ms/step - loss: 497.1694 - val_loss: 459.0195\n",
      "Epoch 70/100\n",
      "8/8 [==============================] - 0s 7ms/step - loss: 486.5343 - val_loss: 450.1069\n",
      "Epoch 71/100\n",
      "8/8 [==============================] - 0s 8ms/step - loss: 479.1446 - val_loss: 440.2307\n",
      "Epoch 72/100\n",
      "8/8 [==============================] - 0s 8ms/step - loss: 472.3512 - val_loss: 433.5486\n",
      "Epoch 73/100\n",
      "8/8 [==============================] - 0s 8ms/step - loss: 468.6364 - val_loss: 424.9171\n",
      "Epoch 74/100\n",
      "8/8 [==============================] - 0s 8ms/step - loss: 455.0526 - val_loss: 416.8449\n",
      "Epoch 75/100\n",
      "8/8 [==============================] - 0s 8ms/step - loss: 450.6729 - val_loss: 409.5071\n",
      "Epoch 76/100\n",
      "8/8 [==============================] - 0s 8ms/step - loss: 445.6081 - val_loss: 400.0179\n",
      "Epoch 77/100\n",
      "8/8 [==============================] - 0s 8ms/step - loss: 431.9122 - val_loss: 392.1122\n",
      "Epoch 78/100\n",
      "8/8 [==============================] - 0s 8ms/step - loss: 424.8370 - val_loss: 384.8181\n",
      "Epoch 79/100\n",
      "8/8 [==============================] - 0s 8ms/step - loss: 426.5414 - val_loss: 371.2481\n",
      "Epoch 80/100\n",
      "8/8 [==============================] - 0s 7ms/step - loss: 404.2360 - val_loss: 364.4084\n"
     ]
    },
    {
     "name": "stdout",
     "output_type": "stream",
     "text": [
      "Epoch 81/100\n",
      "8/8 [==============================] - 0s 7ms/step - loss: 397.8760 - val_loss: 358.5220\n",
      "Epoch 82/100\n",
      "8/8 [==============================] - 0s 8ms/step - loss: 385.6193 - val_loss: 353.1258\n",
      "Epoch 83/100\n",
      "8/8 [==============================] - 0s 7ms/step - loss: 381.0254 - val_loss: 347.0158\n",
      "Epoch 84/100\n",
      "8/8 [==============================] - 0s 7ms/step - loss: 375.9543 - val_loss: 342.0900\n",
      "Epoch 85/100\n",
      "8/8 [==============================] - 0s 8ms/step - loss: 366.2476 - val_loss: 347.4416\n",
      "Epoch 86/100\n",
      "8/8 [==============================] - 0s 8ms/step - loss: 361.3788 - val_loss: 346.0293\n",
      "Epoch 87/100\n",
      "8/8 [==============================] - 0s 8ms/step - loss: 355.4507 - val_loss: 338.9527\n",
      "Epoch 88/100\n",
      "8/8 [==============================] - 0s 7ms/step - loss: 347.7251 - val_loss: 331.6571\n",
      "Epoch 89/100\n",
      "8/8 [==============================] - 0s 8ms/step - loss: 343.0527 - val_loss: 328.3972\n",
      "Epoch 90/100\n",
      "8/8 [==============================] - 0s 7ms/step - loss: 337.7163 - val_loss: 317.9419\n",
      "Epoch 91/100\n",
      "8/8 [==============================] - 0s 7ms/step - loss: 337.9807 - val_loss: 307.8667\n",
      "Epoch 92/100\n",
      "8/8 [==============================] - 0s 7ms/step - loss: 328.3268 - val_loss: 299.3007\n",
      "Epoch 93/100\n",
      "8/8 [==============================] - 0s 7ms/step - loss: 320.3647 - val_loss: 292.1584\n",
      "Epoch 94/100\n",
      "8/8 [==============================] - 0s 7ms/step - loss: 313.8052 - val_loss: 287.1343\n",
      "Epoch 95/100\n",
      "8/8 [==============================] - 0s 7ms/step - loss: 315.1168 - val_loss: 281.9647\n",
      "Epoch 96/100\n",
      "8/8 [==============================] - 0s 7ms/step - loss: 303.0359 - val_loss: 273.6399\n",
      "Epoch 97/100\n",
      "8/8 [==============================] - 0s 8ms/step - loss: 296.0543 - val_loss: 268.0079\n",
      "Epoch 98/100\n",
      "8/8 [==============================] - 0s 7ms/step - loss: 290.2634 - val_loss: 263.4023\n",
      "Epoch 99/100\n",
      "8/8 [==============================] - 0s 7ms/step - loss: 287.8848 - val_loss: 259.2999\n",
      "Epoch 100/100\n",
      "8/8 [==============================] - 0s 7ms/step - loss: 284.3955 - val_loss: 255.3494\n"
     ]
    },
    {
     "data": {
      "text/plain": [
       "<tensorflow.python.keras.callbacks.History at 0x24e925fde80>"
      ]
     },
     "execution_count": 11,
     "metadata": {},
     "output_type": "execute_result"
    }
   ],
   "source": [
    "#模型拟合与评估\n",
    "finish_model.fit([X_train,X_HA_train], label_train, epochs=100, batch_size=128,\n",
    "validation_data=([image_test,day_test], label_test))\n",
    "# finish_model.evaluate(image_test, label_test)"
   ]
  },
  {
   "cell_type": "code",
   "execution_count": 12,
   "metadata": {},
   "outputs": [],
   "source": [
    "#模型预测\n",
    "model_pre = finish_model.predict([image_test,day_test])"
   ]
  },
  {
   "cell_type": "code",
   "execution_count": 13,
   "metadata": {},
   "outputs": [
    {
     "name": "stdout",
     "output_type": "stream",
     "text": [
      "mape = 0.2909155769358326\n",
      "smape = 0.3008804368320047\n",
      "mae = 12.600984486777438\n"
     ]
    }
   ],
   "source": [
    "#计算各项误差指标\n",
    "\n",
    "mape_mean = mape_loss_func(model_pre, label_test)\n",
    "smape_mean = smape_loss_func(model_pre, label_test)\n",
    "mae_mean = mae_loss_func(model_pre, label_test)\n",
    "\n",
    "print('mape = ' + str(mape_mean) + '\\n' + 'smape = ' + str(smape_mean) + '\\n' + 'mae = ' + str(mae_mean))"
   ]
  },
  {
   "cell_type": "code",
   "execution_count": 14,
   "metadata": {},
   "outputs": [],
   "source": [
    "#模型保存\n",
    "finish_model.save_weights('../model/source_%s.h5'%class_color_set[class_i])\n"
   ]
  },
  {
   "cell_type": "code",
   "execution_count": 15,
   "metadata": {},
   "outputs": [
    {
     "name": "stdout",
     "output_type": "stream",
     "text": [
      "1th link\n",
      "0.26558917188512293\n",
      "2th link\n",
      "0.2308582074256896\n",
      "3th link\n",
      "0.20192586629899276\n",
      "4th link\n",
      "0.27934538018001875\n",
      "5th link\n",
      "0.23169412301638664\n",
      "6th link\n",
      "0.31547507375574213\n",
      "7th link\n",
      "0.18545068875138093\n",
      "8th link\n",
      "0.15477520633000863\n",
      "9th link\n",
      "0.17510011782680346\n",
      "10th link\n",
      "0.25391158433080696\n",
      "11th link\n",
      "0.2612362978374999\n",
      "12th link\n",
      "0.16303645968256447\n",
      "13th link\n",
      "0.4431111465920849\n",
      "14th link\n",
      "0.3448941589753647\n",
      "15th link\n",
      "0.20400924625042124\n",
      "16th link\n",
      "0.17889302490588826\n",
      "17th link\n",
      "0.23106950261800568\n",
      "18th link\n",
      "0.2877335376685735\n",
      "19th link\n",
      "0.29987932407292134\n",
      "20th link\n",
      "0.37153202622166687\n",
      "21th link\n",
      "0.3698360456685773\n",
      "22th link\n",
      "0.20079351727227068\n",
      "23th link\n",
      "0.30446597420868443\n",
      "24th link\n",
      "1.0222479428223437\n",
      "25th link\n",
      "0.29602579879799445\n"
     ]
    }
   ],
   "source": [
    "#计算每条路段的误差\n",
    "mape_list = []\n",
    "for i in range(num_links):\n",
    "    a1 = mape_loss_func(model_pre[:,i,:], label_test[:,i,:])\n",
    "    mape_list.append(a1)\n",
    "    print(str(i+1)+'th link')\n",
    "    print(a1)"
   ]
  },
  {
   "cell_type": "code",
   "execution_count": 16,
   "metadata": {
    "pycharm": {
     "name": "#%%\n"
    }
   },
   "outputs": [],
   "source": [
    "mape_pd = pd.Series(mape_list)"
   ]
  },
  {
   "cell_type": "code",
   "execution_count": 17,
   "metadata": {
    "pycharm": {
     "name": "#%%\n"
    }
   },
   "outputs": [
    {
     "data": {
      "text/plain": [
       "7     0.154775\n",
       "11    0.163036\n",
       "8     0.175100\n",
       "15    0.178893\n",
       "6     0.185451\n",
       "21    0.200794\n",
       "2     0.201926\n",
       "14    0.204009\n",
       "1     0.230858\n",
       "16    0.231070\n",
       "4     0.231694\n",
       "9     0.253912\n",
       "10    0.261236\n",
       "0     0.265589\n",
       "3     0.279345\n",
       "17    0.287734\n",
       "24    0.296026\n",
       "18    0.299879\n",
       "22    0.304466\n",
       "5     0.315475\n",
       "13    0.344894\n",
       "20    0.369836\n",
       "19    0.371532\n",
       "12    0.443111\n",
       "23    1.022248\n",
       "dtype: float64"
      ]
     },
     "execution_count": 17,
     "metadata": {},
     "output_type": "execute_result"
    }
   ],
   "source": [
    "mape_pd.sort_values()"
   ]
  },
  {
   "cell_type": "code",
   "execution_count": null,
   "metadata": {
    "pycharm": {
     "name": "#%%\n"
    }
   },
   "outputs": [],
   "source": []
  },
  {
   "cell_type": "code",
   "execution_count": null,
   "metadata": {
    "pycharm": {
     "name": "#%%\n"
    }
   },
   "outputs": [],
   "source": []
  }
 ],
 "metadata": {
  "interpreter": {
   "hash": "6b092d8890fbfc1935d95d43d0881a7b3742c06492f450993a24f5c2e6237594"
  },
  "kernelspec": {
   "display_name": "dan_traff",
   "language": "python",
   "name": "dan_traff"
  },
  "language_info": {
   "codemirror_mode": {
    "name": "ipython",
    "version": 3
   },
   "file_extension": ".py",
   "mimetype": "text/x-python",
   "name": "python",
   "nbconvert_exporter": "python",
   "pygments_lexer": "ipython3",
   "version": "3.9.7"
  },
  "metadata": {
   "interpreter": {
    "hash": "6b092d8890fbfc1935d95d43d0881a7b3742c06492f450993a24f5c2e6237594"
   }
  }
 },
 "nbformat": 4,
 "nbformat_minor": 4
}
