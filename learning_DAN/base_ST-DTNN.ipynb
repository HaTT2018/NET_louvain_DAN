{
 "cells": [
  {
   "cell_type": "code",
   "execution_count": 1,
   "metadata": {},
   "outputs": [],
   "source": [
    "import time\n",
    "import numpy as np\n",
    "import pandas as pd"
   ]
  },
  {
   "cell_type": "code",
   "execution_count": 2,
   "metadata": {},
   "outputs": [
    {
     "name": "stderr",
     "output_type": "stream",
     "text": [
      "Using TensorFlow backend.\n",
      "C:\\ProgramData\\Anaconda3\\lib\\site-packages\\tensorflow\\python\\framework\\dtypes.py:516: FutureWarning: Passing (type, 1) or '1type' as a synonym of type is deprecated; in a future version of numpy, it will be understood as (type, (1,)) / '(1,)type'.\n",
      "  _np_qint8 = np.dtype([(\"qint8\", np.int8, 1)])\n",
      "C:\\ProgramData\\Anaconda3\\lib\\site-packages\\tensorflow\\python\\framework\\dtypes.py:517: FutureWarning: Passing (type, 1) or '1type' as a synonym of type is deprecated; in a future version of numpy, it will be understood as (type, (1,)) / '(1,)type'.\n",
      "  _np_quint8 = np.dtype([(\"quint8\", np.uint8, 1)])\n",
      "C:\\ProgramData\\Anaconda3\\lib\\site-packages\\tensorflow\\python\\framework\\dtypes.py:518: FutureWarning: Passing (type, 1) or '1type' as a synonym of type is deprecated; in a future version of numpy, it will be understood as (type, (1,)) / '(1,)type'.\n",
      "  _np_qint16 = np.dtype([(\"qint16\", np.int16, 1)])\n",
      "C:\\ProgramData\\Anaconda3\\lib\\site-packages\\tensorflow\\python\\framework\\dtypes.py:519: FutureWarning: Passing (type, 1) or '1type' as a synonym of type is deprecated; in a future version of numpy, it will be understood as (type, (1,)) / '(1,)type'.\n",
      "  _np_quint16 = np.dtype([(\"quint16\", np.uint16, 1)])\n",
      "C:\\ProgramData\\Anaconda3\\lib\\site-packages\\tensorflow\\python\\framework\\dtypes.py:520: FutureWarning: Passing (type, 1) or '1type' as a synonym of type is deprecated; in a future version of numpy, it will be understood as (type, (1,)) / '(1,)type'.\n",
      "  _np_qint32 = np.dtype([(\"qint32\", np.int32, 1)])\n",
      "C:\\ProgramData\\Anaconda3\\lib\\site-packages\\tensorflow\\python\\framework\\dtypes.py:525: FutureWarning: Passing (type, 1) or '1type' as a synonym of type is deprecated; in a future version of numpy, it will be understood as (type, (1,)) / '(1,)type'.\n",
      "  np_resource = np.dtype([(\"resource\", np.ubyte, 1)])\n",
      "C:\\ProgramData\\Anaconda3\\lib\\site-packages\\tensorboard\\compat\\tensorflow_stub\\dtypes.py:541: FutureWarning: Passing (type, 1) or '1type' as a synonym of type is deprecated; in a future version of numpy, it will be understood as (type, (1,)) / '(1,)type'.\n",
      "  _np_qint8 = np.dtype([(\"qint8\", np.int8, 1)])\n",
      "C:\\ProgramData\\Anaconda3\\lib\\site-packages\\tensorboard\\compat\\tensorflow_stub\\dtypes.py:542: FutureWarning: Passing (type, 1) or '1type' as a synonym of type is deprecated; in a future version of numpy, it will be understood as (type, (1,)) / '(1,)type'.\n",
      "  _np_quint8 = np.dtype([(\"quint8\", np.uint8, 1)])\n",
      "C:\\ProgramData\\Anaconda3\\lib\\site-packages\\tensorboard\\compat\\tensorflow_stub\\dtypes.py:543: FutureWarning: Passing (type, 1) or '1type' as a synonym of type is deprecated; in a future version of numpy, it will be understood as (type, (1,)) / '(1,)type'.\n",
      "  _np_qint16 = np.dtype([(\"qint16\", np.int16, 1)])\n",
      "C:\\ProgramData\\Anaconda3\\lib\\site-packages\\tensorboard\\compat\\tensorflow_stub\\dtypes.py:544: FutureWarning: Passing (type, 1) or '1type' as a synonym of type is deprecated; in a future version of numpy, it will be understood as (type, (1,)) / '(1,)type'.\n",
      "  _np_quint16 = np.dtype([(\"quint16\", np.uint16, 1)])\n",
      "C:\\ProgramData\\Anaconda3\\lib\\site-packages\\tensorboard\\compat\\tensorflow_stub\\dtypes.py:545: FutureWarning: Passing (type, 1) or '1type' as a synonym of type is deprecated; in a future version of numpy, it will be understood as (type, (1,)) / '(1,)type'.\n",
      "  _np_qint32 = np.dtype([(\"qint32\", np.int32, 1)])\n",
      "C:\\ProgramData\\Anaconda3\\lib\\site-packages\\tensorboard\\compat\\tensorflow_stub\\dtypes.py:550: FutureWarning: Passing (type, 1) or '1type' as a synonym of type is deprecated; in a future version of numpy, it will be understood as (type, (1,)) / '(1,)type'.\n",
      "  np_resource = np.dtype([(\"resource\", np.ubyte, 1)])\n"
     ]
    }
   ],
   "source": [
    "import keras\n",
    "from keras.engine.topology import Layer"
   ]
  },
  {
   "cell_type": "code",
   "execution_count": 3,
   "metadata": {},
   "outputs": [],
   "source": [
    "def mape_loss_func(preds, labels):\n",
    "    mask = labels > 5\n",
    "    return np.mean(np.fabs(labels[mask]-preds[mask])/labels[mask])\n",
    "\n",
    "def smape_loss_func(preds, labels):\n",
    "    mask= labels > 5\n",
    "    return np.mean(2*np.fabs(labels[mask]-preds[mask])/(np.fabs(labels[mask])+np.fabs(preds[mask])))\n",
    "\n",
    "def mae_loss_func(preds, labels):\n",
    "    mask= labels > 5\n",
    "    return np.fabs((labels[mask]-preds[mask])).mean()\n",
    "\n",
    "def eliminate_nan(b):\n",
    "    a = np.array(b)\n",
    "    c = a[~np.isnan(a)]\n",
    "    return c"
   ]
  },
  {
   "cell_type": "code",
   "execution_count": 4,
   "metadata": {},
   "outputs": [
    {
     "name": "stdout",
     "output_type": "stream",
     "text": [
      "There are 5 class(es)\n"
     ]
    },
    {
     "name": "stderr",
     "output_type": "stream",
     "text": [
      "C:\\ProgramData\\Anaconda3\\lib\\site-packages\\pandas\\core\\indexing.py:543: SettingWithCopyWarning: \n",
      "A value is trying to be set on a copy of a slice from a DataFrame.\n",
      "Try using .loc[row_indexer,col_indexer] = value instead\n",
      "\n",
      "See the caveats in the documentation: http://pandas.pydata.org/pandas-docs/stable/indexing.html#indexing-view-versus-copy\n",
      "  self.obj[item] = s\n"
     ]
    }
   ],
   "source": [
    "randseed = 25\n",
    "res = 11\n",
    "\n",
    "v = pd.read_csv('../data/v_20_aggragated.csv')\n",
    "v = v.rename(columns={'Unnamed: 0': 'id'})\n",
    "det_with_class = pd.read_csv('../res/%i_res%i_id_402_withclass.csv'%(randseed, res), index_col=0)\n",
    "\n",
    "v['class_i'] = ''\n",
    "for i in range(len(v)):\n",
    "    v.loc[i, 'class_i'] = det_with_class[det_with_class['id']==v.loc[i, 'id']].iloc[0, 5]  # 5 stands for 'class_i'\n",
    "\n",
    "num_class = det_with_class['class_i'].drop_duplicates().size\n",
    "\n",
    "v_class = []\n",
    "for i in range(num_class):\n",
    "    v_class.append(v[v['class_i']==i])\n",
    "\n",
    "print('There are %i class(es)'%num_class)\n",
    "\n",
    "dist_mat = pd.read_csv('../data/dist_mat.csv', index_col=0)\n",
    "id_info = pd.read_csv('../data/id2000.csv', index_col=0)\n",
    "dist_mat.index = id_info['id2']\n",
    "dist_mat.columns = id_info['id2']\n",
    "for i in range(len(dist_mat)):\n",
    "    for j in range(len(dist_mat)):\n",
    "        if i==j:\n",
    "            dist_mat.iloc[i, j] = 0\n",
    "\n",
    "near_id = pd.DataFrame(np.argsort(np.array(dist_mat)), index = id_info['id2'], columns = id_info['id2'])\n",
    "\n",
    "def get_node(det, seg):\n",
    "    # det is one single detector id\n",
    "    # node is one single node id\n",
    "    \n",
    "    # seg = pd.read_csv('./data/segement.csv', header=None)\n",
    "    try:\n",
    "        node_info = seg[seg[6]==det]\n",
    "        node = node_info.iloc[0, 0]\n",
    "    except:\n",
    "        node_info = seg[seg[7]==det]\n",
    "        node = node_info.iloc[0, 0]\n",
    "        \n",
    "    return node\n",
    "\n",
    "def get_class_with_node(seg, v_class):\n",
    "    det_list_class = np.array([])\n",
    "    try:\n",
    "        v_class.insert(1, 'id2', '')  # id2 mean node id\n",
    "    except:\n",
    "        v_class['id2'] = ''\n",
    "        \n",
    "    for i in range(len(v_class)):\n",
    "        det_list_class = np.append(det_list_class, v_class.iloc[i, 0])\n",
    "        v_class.iloc[i, 1] = get_node(v_class.iloc[i, 0], seg)\n",
    "    \n",
    "    return det_list_class, v_class\n",
    "\n",
    "def rds_mat(old_dist_mat, det_ids):\n",
    "    # get a matrix that contains n raods that have specified node id s\n",
    "    node_ids = np.array([])\n",
    "    for i in det_ids:\n",
    "        node_ids = np.append(node_ids, get_node(i, seg))\n",
    "        \n",
    "    new_dist_mat = old_dist_mat.loc[node_ids, node_ids]\n",
    "    old_dist_mat = np.array(old_dist_mat)\n",
    "    new_near_id_mat = np.argsort(new_dist_mat)\n",
    "    return new_near_id_mat\n",
    "\n",
    "seg = pd.read_csv('../data/segement.csv', header=None)\n",
    "num_dets = 25\n",
    "\n",
    "det_list_class = []\n",
    "for i in range(num_class):\n",
    "    det_list_class_temp, v_class_temp = get_class_with_node(seg, v_class[i])\n",
    "    det_list_class.append(det_list_class_temp)\n",
    "    v_class_temp = v_class_temp[v_class_temp['id'].isin(det_list_class_temp[:num_dets])]\n",
    "    v_class[i] = v_class_temp\n",
    "    \n",
    "near_road_set = []\n",
    "for i in range(num_class):\n",
    "    near_road_set.append(rds_mat(dist_mat, det_list_class[i][:num_dets]))"
   ]
  },
  {
   "cell_type": "code",
   "execution_count": 5,
   "metadata": {},
   "outputs": [],
   "source": [
    "def sliding_window(flow, near_road, from_day, to_day, prop):\n",
    "    flow = np.array(flow)\n",
    "    # 选数据\n",
    "    flow = flow[:, 144*(from_day-1):144*(to_day)]\n",
    "    print(flow.shape)\n",
    "\n",
    "    # 利用滑动窗口的方式，重构数据为(n，最近路段数，输入时间窗，总路段数)的形式\n",
    "\n",
    "    global k, t_p, t_input, t_pre, num_links\n",
    "    k = 5 # 参数k为需考虑的最近路段数\n",
    "    t_p = 10 # 参数t_p为总时间序列长度（天）\n",
    "    t_input = 12 #参数t_input为输入时间窗(10min颗粒度)\n",
    "    t_pre = 3 #参数t_pre为预测时间窗(10min颗粒度)\n",
    "    num_links = 25 #参数num_links为总路段数\n",
    "\n",
    "\n",
    "    image = []\n",
    "    for i in range(np.shape(near_road)[0]):\n",
    "        road_id = []\n",
    "        for j in range(k):\n",
    "            road_id.append(near_road[i][j])\n",
    "        image.append(flow[road_id, :])\n",
    "    image1 = np.reshape(image, [-1, k, len(flow[0,:])])\n",
    "    image2 = np.transpose(image1,(1,2,0))\n",
    "    image3 = []\n",
    "    label = []\n",
    "    day = []\n",
    "\n",
    "    for i in range(1, t_p):\n",
    "        for j in range(144-t_input-t_pre):\n",
    "            image3.append(image2[:, i*144+j:i*144+j+t_input, :][:])\n",
    "            label.append(flow[:, i*144+j+t_input:i*144+j+t_input+t_pre][:])\n",
    "            day.append(flow[:, (i-1)*144+j+t_input:(i-1)*144+j+t_input+t_pre][:])\n",
    "\n",
    "    image3 = np.asarray(image3)\n",
    "    label = np.asarray(label)\n",
    "    day =  np.asarray(day)\n",
    "\n",
    "    print(np.shape(image3))\n",
    "\n",
    "    #划分前90%数据为训练集，最后10%数据为测试集\n",
    "    image_train = image3[:int(np.shape(image3)[0]*prop)]\n",
    "    image_test = image3[int(np.shape(image3)[0]*prop):]\n",
    "    label_train = label[:int(np.shape(label)[0]*prop)]\n",
    "    label_test = label[int(np.shape(label)[0]*prop):]\n",
    "\n",
    "    day_train = day[:int(np.shape(day)[0]*prop)]\n",
    "    day_test = day[int(np.shape(day)[0]*prop):]\n",
    "\n",
    "    print(image_train.shape)\n",
    "    print(image_test.shape)\n",
    "    print(label_train.shape)\n",
    "    print(label_test.shape)\n",
    "    \n",
    "    return image_train, image_test, day_train, day_test, label_train, label_test"
   ]
  },
  {
   "cell_type": "code",
   "execution_count": 6,
   "metadata": {},
   "outputs": [
    {
     "name": "stdout",
     "output_type": "stream",
     "text": [
      "(25, 4464)\n",
      "(1161, 5, 12, 25)\n",
      "(898, 5, 12, 25)\n",
      "(263, 5, 12, 25)\n",
      "(898, 25, 3)\n",
      "(263, 25, 3)\n"
     ]
    }
   ],
   "source": [
    "# ind, class\n",
    "# 0  , blue\n",
    "# 1  , green\n",
    "# 2  , yellow  <--\n",
    "# 3  , black   <--\n",
    "# 4  , red     <--\n",
    "class_color_set = ['b', 'g', 'y', 'black', 'r']\n",
    "class_i = 3\n",
    "\n",
    "near_road = np.array(near_road_set[class_i])\n",
    "flow = v_class[class_i].iloc[:, 2:-1]\n",
    "\n",
    "prop = 24/31  # proportion of training data\n",
    "\n",
    "image_train, image_test, day_train, day_test, label_train, label_test\\\n",
    "= sliding_window(\n",
    "    flow, near_road, from_day=1, to_day=31, prop=prop\n",
    ")"
   ]
  },
  {
   "cell_type": "code",
   "execution_count": 7,
   "metadata": {
    "pycharm": {
     "name": "#%%\n"
    }
   },
   "outputs": [],
   "source": [
    "# define merge layer\n",
    "class Merge_Layer(Layer):\n",
    "    def __init__(self, **kwargs):\n",
    "        super(Merge_Layer, self).__init__(**kwargs)\n",
    "\n",
    "    def build(self, input_shape):\n",
    "        self.para1 = self.add_weight(shape=(input_shape[0][1], input_shape[0][2]),\n",
    "                                     initializer='uniform', trainable=True,\n",
    "                                     name='para1')\n",
    "        self.para2 = self.add_weight(shape=(input_shape[1][1], input_shape[1][2]),\n",
    "                                     initializer='uniform', trainable=True,\n",
    "                                     name='para2')\n",
    "        super(Merge_Layer, self).build(input_shape)\n",
    "\n",
    "    def call(self, inputs):\n",
    "        mat1 = inputs[0]\n",
    "        mat2 = inputs[1]\n",
    "        output = mat1 * self.para1 + mat2 * self.para2\n",
    "        # output = mat1 * 0.1 + mat2 * 0.9\n",
    "        return output\n",
    "\n",
    "    def compute_output_shape(self, input_shape):\n",
    "        return input_shape[0]"
   ]
  },
  {
   "cell_type": "code",
   "execution_count": 8,
   "metadata": {
    "tags": [
     "outputPrepend"
    ]
   },
   "outputs": [
    {
     "name": "stdout",
     "output_type": "stream",
     "text": [
      "WARNING:tensorflow:From C:\\ProgramData\\Anaconda3\\lib\\site-packages\\keras\\backend\\tensorflow_backend.py:517: The name tf.placeholder is deprecated. Please use tf.compat.v1.placeholder instead.\n",
      "\n",
      "WARNING:tensorflow:From C:\\ProgramData\\Anaconda3\\lib\\site-packages\\keras\\backend\\tensorflow_backend.py:74: The name tf.get_default_graph is deprecated. Please use tf.compat.v1.get_default_graph instead.\n",
      "\n",
      "WARNING:tensorflow:From C:\\ProgramData\\Anaconda3\\lib\\site-packages\\keras\\backend\\tensorflow_backend.py:174: The name tf.get_default_session is deprecated. Please use tf.compat.v1.get_default_session instead.\n",
      "\n",
      "WARNING:tensorflow:From C:\\ProgramData\\Anaconda3\\lib\\site-packages\\keras\\backend\\tensorflow_backend.py:181: The name tf.ConfigProto is deprecated. Please use tf.compat.v1.ConfigProto instead.\n",
      "\n",
      "WARNING:tensorflow:From C:\\ProgramData\\Anaconda3\\lib\\site-packages\\keras\\backend\\tensorflow_backend.py:186: The name tf.Session is deprecated. Please use tf.compat.v1.Session instead.\n",
      "\n",
      "WARNING:tensorflow:From C:\\ProgramData\\Anaconda3\\lib\\site-packages\\keras\\backend\\tensorflow_backend.py:1834: The name tf.nn.fused_batch_norm is deprecated. Please use tf.compat.v1.nn.fused_batch_norm instead.\n",
      "\n",
      "WARNING:tensorflow:From C:\\ProgramData\\Anaconda3\\lib\\site-packages\\keras\\backend\\tensorflow_backend.py:3980: The name tf.nn.avg_pool is deprecated. Please use tf.nn.avg_pool2d instead.\n",
      "\n",
      "WARNING:tensorflow:From C:\\ProgramData\\Anaconda3\\lib\\site-packages\\keras\\backend\\tensorflow_backend.py:3445: calling dropout (from tensorflow.python.ops.nn_ops) with keep_prob is deprecated and will be removed in a future version.\n",
      "Instructions for updating:\n",
      "Please use `rate` instead of `keep_prob`. Rate should be set to `rate = 1 - keep_prob`.\n",
      "__________________________________________________________________________________________________\n",
      "Layer (type)                    Output Shape         Param #     Connected to                     \n",
      "==================================================================================================\n",
      "input_data (InputLayer)         (None, 5, 12, 25)    0                                            \n",
      "__________________________________________________________________________________________________\n",
      "batch_normalization_1 (BatchNor (None, 5, 12, 25)    100         input_data[0][0]                 \n",
      "__________________________________________________________________________________________________\n",
      "conv2d_1 (Conv2D)               (None, 5, 12, 25)    5650        batch_normalization_1[0][0]      \n",
      "__________________________________________________________________________________________________\n",
      "average_pooling2d_1 (AveragePoo (None, 5, 12, 25)    0           conv2d_1[0][0]                   \n",
      "__________________________________________________________________________________________________\n",
      "batch_normalization_2 (BatchNor (None, 5, 12, 25)    100         average_pooling2d_1[0][0]        \n",
      "__________________________________________________________________________________________________\n",
      "conv2d_2 (Conv2D)               (None, 5, 12, 25)    5650        batch_normalization_2[0][0]      \n",
      "__________________________________________________________________________________________________\n",
      "average_pooling2d_2 (AveragePoo (None, 5, 12, 25)    0           conv2d_2[0][0]                   \n",
      "__________________________________________________________________________________________________\n",
      "flatten_1 (Flatten)             (None, 1500)         0           average_pooling2d_2[0][0]        \n",
      "__________________________________________________________________________________________________\n",
      "batch_normalization_3 (BatchNor (None, 1500)         6000        flatten_1[0][0]                  \n",
      "__________________________________________________________________________________________________\n",
      "dropout_1 (Dropout)             (None, 1500)         0           batch_normalization_3[0][0]      \n",
      "__________________________________________________________________________________________________\n",
      "dense_1 (Dense)                 (None, 150)          225150      dropout_1[0][0]                  \n",
      "__________________________________________________________________________________________________\n",
      "dense_2 (Dense)                 (None, 75)           11325       dense_1[0][0]                    \n",
      "__________________________________________________________________________________________________\n",
      "reshape_1 (Reshape)             (None, 25, 3)        0           dense_2[0][0]                    \n",
      "__________________________________________________________________________________________________\n",
      "input_HA (InputLayer)           (None, 25, 3)        0                                            \n",
      "__________________________________________________________________________________________________\n",
      "merge__layer_1 (Merge_Layer)    (None, 25, 3)        150         reshape_1[0][0]                  \n",
      "                                                                 input_HA[0][0]                   \n",
      "==================================================================================================\n",
      "Total params: 254,125\n",
      "Trainable params: 251,025\n",
      "Non-trainable params: 3,100\n",
      "__________________________________________________________________________________________________\n"
     ]
    }
   ],
   "source": [
    "input_data = keras.Input(shape=(k,t_input,num_links), name='input_data')\n",
    "input_HA = keras.Input(shape=(num_links, t_pre), name='input_HA')\n",
    "\n",
    "x = keras.layers.BatchNormalization(input_shape =(k,t_input,num_links))(input_data)\n",
    "\n",
    "x = keras.layers.Conv2D(\n",
    "                           filters = num_links,\n",
    "                           kernel_size = 3,\n",
    "                           strides = 1,\n",
    "                           padding=\"SAME\",\n",
    "                           activation='relu')(x)\n",
    "\n",
    "x = keras.layers.AveragePooling2D(pool_size = (2,2),\n",
    "                                strides = 1,\n",
    "                                padding = \"SAME\",\n",
    "                                )(x)\n",
    "\n",
    "x = keras.layers.BatchNormalization()(x)\n",
    "\n",
    "x = keras.layers.Conv2D(\n",
    "                       filters = num_links,\n",
    "                       kernel_size = 3,\n",
    "                       strides = 1,\n",
    "                       padding=\"SAME\",\n",
    "                       activation='relu')(x)\n",
    "\n",
    "x = keras.layers.AveragePooling2D(pool_size = (2,2),\n",
    "                                strides = 1,\n",
    "                                padding = \"SAME\",\n",
    "                                )(x)\n",
    "x = keras.layers.Flatten()(x)\n",
    "x = keras.layers.BatchNormalization()(x)\n",
    "x = keras.layers.Dropout(0.5)(x)\n",
    "\n",
    "x = keras.layers.Dense(num_links*2*t_pre, activation='relu', name='dense_1')(x)\n",
    "x = keras.layers.Dense(num_links*t_pre, activation='relu', name='dense_2')(x)\n",
    "\n",
    "output = keras.layers.Reshape((num_links,t_pre))(x)\n",
    "\n",
    "output_final = Merge_Layer()([output, input_HA])\n",
    "\n",
    "# construct model\n",
    "finish_model = keras.models.Model([input_data,input_HA], [output_final])\n",
    "\n",
    "finish_model.summary()"
   ]
  },
  {
   "cell_type": "code",
   "execution_count": 9,
   "metadata": {
    "pycharm": {
     "name": "#%%\n"
    }
   },
   "outputs": [
    {
     "name": "stdout",
     "output_type": "stream",
     "text": [
      "WARNING:tensorflow:From C:\\ProgramData\\Anaconda3\\lib\\site-packages\\keras\\optimizers.py:790: The name tf.train.Optimizer is deprecated. Please use tf.compat.v1.train.Optimizer instead.\n",
      "\n"
     ]
    }
   ],
   "source": [
    "finish_model.compile(optimizer='adam', loss='mean_squared_error')"
   ]
  },
  {
   "cell_type": "code",
   "execution_count": 10,
   "metadata": {},
   "outputs": [],
   "source": [
    "X_train = image_train\n",
    "X_HA_train = day_train\n",
    "label_train = label_train"
   ]
  },
  {
   "cell_type": "code",
   "execution_count": 11,
   "metadata": {
    "pycharm": {
     "name": "#%%\n"
    },
    "scrolled": true,
    "tags": []
   },
   "outputs": [
    {
     "name": "stdout",
     "output_type": "stream",
     "text": [
      "Train on 898 samples, validate on 263 samples\n",
      "Epoch 1/100\n",
      "898/898 [==============================] - 1s 1ms/step - loss: 3083.6724 - val_loss: 2855.2604\n",
      "Epoch 2/100\n",
      "898/898 [==============================] - 0s 84us/step - loss: 3016.1341 - val_loss: 2756.6914\n",
      "Epoch 3/100\n",
      "898/898 [==============================] - 0s 86us/step - loss: 2916.9897 - val_loss: 2595.7931\n",
      "Epoch 4/100\n",
      "898/898 [==============================] - 0s 81us/step - loss: 2757.6160 - val_loss: 2351.4361\n",
      "Epoch 5/100\n",
      "898/898 [==============================] - 0s 83us/step - loss: 2512.8087 - val_loss: 2043.3032\n",
      "Epoch 6/100\n",
      "898/898 [==============================] - 0s 80us/step - loss: 2185.5794 - val_loss: 1661.8642\n",
      "Epoch 7/100\n",
      "898/898 [==============================] - 0s 83us/step - loss: 1837.0057 - val_loss: 1467.9635\n",
      "Epoch 8/100\n",
      "898/898 [==============================] - 0s 83us/step - loss: 1590.0431 - val_loss: 1403.0765\n",
      "Epoch 9/100\n",
      "898/898 [==============================] - 0s 81us/step - loss: 1421.0072 - val_loss: 1320.2965\n",
      "Epoch 10/100\n",
      "898/898 [==============================] - 0s 84us/step - loss: 1316.5077 - val_loss: 1255.0694\n",
      "Epoch 11/100\n",
      "898/898 [==============================] - 0s 80us/step - loss: 1263.0372 - val_loss: 1187.5510\n",
      "Epoch 12/100\n",
      "898/898 [==============================] - 0s 78us/step - loss: 1214.0172 - val_loss: 1146.7153\n",
      "Epoch 13/100\n",
      "898/898 [==============================] - 0s 79us/step - loss: 1190.6923 - val_loss: 1193.3166\n",
      "Epoch 14/100\n",
      "898/898 [==============================] - 0s 83us/step - loss: 1156.8645 - val_loss: 1103.5113\n",
      "Epoch 15/100\n",
      "898/898 [==============================] - 0s 83us/step - loss: 1116.5164 - val_loss: 1034.1985\n",
      "Epoch 16/100\n",
      "898/898 [==============================] - 0s 80us/step - loss: 1073.7334 - val_loss: 1003.2730\n",
      "Epoch 17/100\n",
      "898/898 [==============================] - 0s 78us/step - loss: 1044.3426 - val_loss: 971.4516\n",
      "Epoch 18/100\n",
      "898/898 [==============================] - 0s 81us/step - loss: 1003.1865 - val_loss: 935.5979\n",
      "Epoch 19/100\n",
      "898/898 [==============================] - 0s 82us/step - loss: 962.6467 - val_loss: 895.7489\n",
      "Epoch 20/100\n",
      "898/898 [==============================] - 0s 84us/step - loss: 927.1274 - val_loss: 868.2213\n",
      "Epoch 21/100\n",
      "898/898 [==============================] - 0s 84us/step - loss: 906.2748 - val_loss: 840.4630\n",
      "Epoch 22/100\n",
      "898/898 [==============================] - 0s 83us/step - loss: 902.4639 - val_loss: 820.4732\n",
      "Epoch 23/100\n",
      "898/898 [==============================] - 0s 84us/step - loss: 869.8792 - val_loss: 807.1558\n",
      "Epoch 24/100\n",
      "898/898 [==============================] - 0s 83us/step - loss: 843.3223 - val_loss: 818.1218\n",
      "Epoch 25/100\n",
      "898/898 [==============================] - 0s 82us/step - loss: 830.2125 - val_loss: 798.4780\n",
      "Epoch 26/100\n",
      "898/898 [==============================] - 0s 88us/step - loss: 823.0471 - val_loss: 762.0854\n",
      "Epoch 27/100\n",
      "898/898 [==============================] - 0s 78us/step - loss: 805.5008 - val_loss: 740.9446\n",
      "Epoch 28/100\n",
      "898/898 [==============================] - 0s 78us/step - loss: 790.5922 - val_loss: 746.0195\n",
      "Epoch 29/100\n",
      "898/898 [==============================] - 0s 78us/step - loss: 767.9082 - val_loss: 759.9456\n",
      "Epoch 30/100\n",
      "898/898 [==============================] - 0s 81us/step - loss: 751.2489 - val_loss: 750.5071\n",
      "Epoch 31/100\n",
      "898/898 [==============================] - 0s 81us/step - loss: 744.1245 - val_loss: 730.5458\n",
      "Epoch 32/100\n",
      "898/898 [==============================] - 0s 79us/step - loss: 737.4332 - val_loss: 702.7667\n",
      "Epoch 33/100\n",
      "898/898 [==============================] - 0s 79us/step - loss: 725.0146 - val_loss: 685.2062\n",
      "Epoch 34/100\n",
      "898/898 [==============================] - 0s 77us/step - loss: 703.9791 - val_loss: 684.9971\n",
      "Epoch 35/100\n",
      "898/898 [==============================] - 0s 81us/step - loss: 697.2532 - val_loss: 695.4534\n",
      "Epoch 36/100\n",
      "898/898 [==============================] - 0s 80us/step - loss: 687.6548 - val_loss: 663.7922\n",
      "Epoch 37/100\n",
      "898/898 [==============================] - 0s 83us/step - loss: 667.0801 - val_loss: 658.0518\n",
      "Epoch 38/100\n",
      "898/898 [==============================] - 0s 84us/step - loss: 655.1923 - val_loss: 630.6932\n",
      "Epoch 39/100\n",
      "898/898 [==============================] - 0s 84us/step - loss: 643.8873 - val_loss: 608.3126\n",
      "Epoch 40/100\n",
      "898/898 [==============================] - 0s 83us/step - loss: 643.3780 - val_loss: 597.8419\n",
      "Epoch 41/100\n",
      "898/898 [==============================] - 0s 80us/step - loss: 627.7419 - val_loss: 582.8304\n",
      "Epoch 42/100\n",
      "898/898 [==============================] - 0s 83us/step - loss: 613.9228 - val_loss: 579.4297\n",
      "Epoch 43/100\n",
      "898/898 [==============================] - 0s 83us/step - loss: 611.1856 - val_loss: 611.5431\n",
      "Epoch 44/100\n",
      "898/898 [==============================] - 0s 83us/step - loss: 608.0098 - val_loss: 596.1320\n",
      "Epoch 45/100\n",
      "898/898 [==============================] - 0s 83us/step - loss: 584.9434 - val_loss: 589.3922\n",
      "Epoch 46/100\n",
      "898/898 [==============================] - 0s 81us/step - loss: 572.8018 - val_loss: 573.4496\n",
      "Epoch 47/100\n",
      "898/898 [==============================] - 0s 82us/step - loss: 564.2811 - val_loss: 553.5085\n",
      "Epoch 48/100\n",
      "898/898 [==============================] - 0s 83us/step - loss: 557.7144 - val_loss: 532.7249\n",
      "Epoch 49/100\n",
      "898/898 [==============================] - 0s 84us/step - loss: 550.2005 - val_loss: 512.9620\n",
      "Epoch 50/100\n",
      "898/898 [==============================] - 0s 78us/step - loss: 539.8156 - val_loss: 508.3188\n",
      "Epoch 51/100\n",
      "898/898 [==============================] - 0s 78us/step - loss: 538.3032 - val_loss: 500.5367\n",
      "Epoch 52/100\n",
      "898/898 [==============================] - 0s 81us/step - loss: 514.5224 - val_loss: 497.1954\n",
      "Epoch 53/100\n",
      "898/898 [==============================] - 0s 84us/step - loss: 508.3866 - val_loss: 490.4730\n",
      "Epoch 54/100\n",
      "898/898 [==============================] - 0s 82us/step - loss: 500.5171 - val_loss: 495.2401\n",
      "Epoch 55/100\n",
      "898/898 [==============================] - 0s 80us/step - loss: 506.4752 - val_loss: 477.1109\n",
      "Epoch 56/100\n",
      "898/898 [==============================] - 0s 78us/step - loss: 484.2825 - val_loss: 471.4475\n",
      "Epoch 57/100\n",
      "898/898 [==============================] - 0s 84us/step - loss: 478.7850 - val_loss: 472.2026\n",
      "Epoch 58/100\n",
      "898/898 [==============================] - 0s 81us/step - loss: 467.9502 - val_loss: 449.3734\n",
      "Epoch 59/100\n",
      "898/898 [==============================] - 0s 83us/step - loss: 464.3060 - val_loss: 436.9309\n",
      "Epoch 60/100\n",
      "898/898 [==============================] - 0s 81us/step - loss: 457.8054 - val_loss: 427.8830\n",
      "Epoch 61/100\n",
      "898/898 [==============================] - 0s 83us/step - loss: 445.3619 - val_loss: 420.9075\n",
      "Epoch 62/100\n",
      "898/898 [==============================] - 0s 82us/step - loss: 437.4413 - val_loss: 422.0569\n",
      "Epoch 63/100\n",
      "898/898 [==============================] - 0s 83us/step - loss: 430.8023 - val_loss: 407.7604\n",
      "Epoch 64/100\n",
      "898/898 [==============================] - 0s 81us/step - loss: 430.8849 - val_loss: 398.3809\n",
      "Epoch 65/100\n",
      "898/898 [==============================] - 0s 83us/step - loss: 416.5464 - val_loss: 391.4213\n",
      "Epoch 66/100\n",
      "898/898 [==============================] - 0s 84us/step - loss: 408.7136 - val_loss: 384.1714\n",
      "Epoch 67/100\n",
      "898/898 [==============================] - 0s 82us/step - loss: 403.2256 - val_loss: 377.1144\n",
      "Epoch 68/100\n",
      "898/898 [==============================] - 0s 79us/step - loss: 395.3128 - val_loss: 372.8753\n",
      "Epoch 69/100\n",
      "898/898 [==============================] - 0s 82us/step - loss: 387.6051 - val_loss: 366.8123\n",
      "Epoch 70/100\n",
      "898/898 [==============================] - 0s 86us/step - loss: 384.6779 - val_loss: 358.0176\n",
      "Epoch 71/100\n",
      "898/898 [==============================] - 0s 83us/step - loss: 375.6936 - val_loss: 352.0960\n",
      "Epoch 72/100\n",
      "898/898 [==============================] - 0s 81us/step - loss: 371.9615 - val_loss: 347.4130\n",
      "Epoch 73/100\n",
      "898/898 [==============================] - 0s 83us/step - loss: 362.4217 - val_loss: 341.9983\n",
      "Epoch 74/100\n",
      "898/898 [==============================] - 0s 81us/step - loss: 356.1642 - val_loss: 332.3565\n",
      "Epoch 75/100\n",
      "898/898 [==============================] - 0s 78us/step - loss: 348.7107 - val_loss: 326.9592\n",
      "Epoch 76/100\n",
      "898/898 [==============================] - 0s 79us/step - loss: 350.1432 - val_loss: 330.3323\n"
     ]
    },
    {
     "name": "stdout",
     "output_type": "stream",
     "text": [
      "Epoch 77/100\n",
      "898/898 [==============================] - 0s 86us/step - loss: 340.7629 - val_loss: 316.4328\n",
      "Epoch 78/100\n",
      "898/898 [==============================] - 0s 81us/step - loss: 336.0070 - val_loss: 309.4072\n",
      "Epoch 79/100\n",
      "898/898 [==============================] - 0s 78us/step - loss: 327.0741 - val_loss: 304.6081\n",
      "Epoch 80/100\n",
      "898/898 [==============================] - 0s 82us/step - loss: 326.7037 - val_loss: 299.6679\n",
      "Epoch 81/100\n",
      "898/898 [==============================] - 0s 80us/step - loss: 324.2995 - val_loss: 293.5417\n",
      "Epoch 82/100\n",
      "898/898 [==============================] - 0s 83us/step - loss: 310.6097 - val_loss: 294.4147\n",
      "Epoch 83/100\n",
      "898/898 [==============================] - 0s 82us/step - loss: 310.2778 - val_loss: 285.9446\n",
      "Epoch 84/100\n",
      "898/898 [==============================] - 0s 83us/step - loss: 305.3208 - val_loss: 280.7628\n",
      "Epoch 85/100\n",
      "898/898 [==============================] - 0s 78us/step - loss: 303.8800 - val_loss: 283.5656\n",
      "Epoch 86/100\n",
      "898/898 [==============================] - 0s 78us/step - loss: 295.3423 - val_loss: 276.1073\n",
      "Epoch 87/100\n",
      "898/898 [==============================] - 0s 84us/step - loss: 287.4584 - val_loss: 266.4592\n",
      "Epoch 88/100\n",
      "898/898 [==============================] - 0s 80us/step - loss: 287.9392 - val_loss: 263.2794\n",
      "Epoch 89/100\n",
      "898/898 [==============================] - 0s 79us/step - loss: 280.6751 - val_loss: 262.7385\n",
      "Epoch 90/100\n",
      "898/898 [==============================] - 0s 79us/step - loss: 274.5800 - val_loss: 253.5751\n",
      "Epoch 91/100\n",
      "898/898 [==============================] - 0s 80us/step - loss: 271.9405 - val_loss: 250.5802\n",
      "Epoch 92/100\n",
      "898/898 [==============================] - 0s 81us/step - loss: 270.8351 - val_loss: 246.5156\n",
      "Epoch 93/100\n",
      "898/898 [==============================] - 0s 76us/step - loss: 263.5575 - val_loss: 243.2560\n",
      "Epoch 94/100\n",
      "898/898 [==============================] - 0s 84us/step - loss: 258.3077 - val_loss: 237.4894\n",
      "Epoch 95/100\n",
      "898/898 [==============================] - 0s 81us/step - loss: 257.5175 - val_loss: 232.5817\n",
      "Epoch 96/100\n",
      "898/898 [==============================] - 0s 77us/step - loss: 247.0793 - val_loss: 231.2732\n",
      "Epoch 97/100\n",
      "898/898 [==============================] - 0s 78us/step - loss: 246.9869 - val_loss: 224.6925\n",
      "Epoch 98/100\n",
      "898/898 [==============================] - 0s 81us/step - loss: 242.7318 - val_loss: 220.3112\n",
      "Epoch 99/100\n",
      "898/898 [==============================] - 0s 83us/step - loss: 245.2173 - val_loss: 229.8276\n",
      "Epoch 100/100\n",
      "898/898 [==============================] - 0s 81us/step - loss: 234.2087 - val_loss: 226.0476\n"
     ]
    },
    {
     "data": {
      "text/plain": [
       "<keras.callbacks.History at 0x23d68812c50>"
      ]
     },
     "execution_count": 11,
     "metadata": {},
     "output_type": "execute_result"
    }
   ],
   "source": [
    "#模型拟合与评估\n",
    "finish_model.fit([X_train,X_HA_train], label_train, epochs=100, batch_size=128,\n",
    "validation_data=([image_test,day_test], label_test))\n",
    "# finish_model.evaluate(image_test, label_test)"
   ]
  },
  {
   "cell_type": "code",
   "execution_count": 12,
   "metadata": {},
   "outputs": [],
   "source": [
    "#模型预测\n",
    "model_pre = finish_model.predict([image_test,day_test])"
   ]
  },
  {
   "cell_type": "code",
   "execution_count": 13,
   "metadata": {},
   "outputs": [
    {
     "name": "stdout",
     "output_type": "stream",
     "text": [
      "mape = 0.29100835086769183\n",
      "smape = 0.2857837647625457\n",
      "mae = 11.743400675196806\n"
     ]
    }
   ],
   "source": [
    "#计算各项误差指标\n",
    "\n",
    "mape_mean = mape_loss_func(model_pre, label_test)\n",
    "smape_mean = smape_loss_func(model_pre, label_test)\n",
    "mae_mean = mae_loss_func(model_pre, label_test)\n",
    "\n",
    "print('mape = ' + str(mape_mean) + '\\n' + 'smape = ' + str(smape_mean) + '\\n' + 'mae = ' + str(mae_mean))"
   ]
  },
  {
   "cell_type": "code",
   "execution_count": 14,
   "metadata": {},
   "outputs": [],
   "source": [
    "#模型保存\n",
    "finish_model.save_weights('../model/source_%s.h5'%class_color_set[class_i])\n"
   ]
  },
  {
   "cell_type": "code",
   "execution_count": 15,
   "metadata": {},
   "outputs": [
    {
     "name": "stdout",
     "output_type": "stream",
     "text": [
      "1th link\n",
      "0.2527406787045255\n",
      "2th link\n",
      "0.2609676225484497\n",
      "3th link\n",
      "0.3029923770663945\n",
      "4th link\n",
      "0.25043198981255627\n",
      "5th link\n",
      "0.30440486225759134\n",
      "6th link\n",
      "0.3184706261403306\n",
      "7th link\n",
      "0.2064590514231075\n",
      "8th link\n",
      "0.16092913915517726\n",
      "9th link\n",
      "0.09173559090363263\n",
      "10th link\n",
      "0.3227994368847059\n",
      "11th link\n",
      "0.1777450463308535\n",
      "12th link\n",
      "0.1838527374413018\n",
      "13th link\n",
      "0.4127571863702831\n",
      "14th link\n",
      "0.21692297205997824\n",
      "15th link\n",
      "0.311259394863514\n",
      "16th link\n",
      "0.2023901750235445\n",
      "17th link\n",
      "0.19381300340410804\n",
      "18th link\n",
      "0.14632225923175218\n",
      "19th link\n",
      "0.29899124343175704\n",
      "20th link\n",
      "0.36675821436985356\n",
      "21th link\n",
      "0.2280635748169783\n",
      "22th link\n",
      "0.20766729622998836\n",
      "23th link\n",
      "0.3388713423420355\n",
      "24th link\n",
      "1.1538931057786794\n",
      "25th link\n",
      "0.36396984510119634\n"
     ]
    }
   ],
   "source": [
    "#计算每条路段的误差\n",
    "mape_list = []\n",
    "for i in range(num_links):\n",
    "    a1 = mape_loss_func(model_pre[:,i,:], label_test[:,i,:])\n",
    "    mape_list.append(a1)\n",
    "    print(str(i+1)+'th link')\n",
    "    print(a1)"
   ]
  },
  {
   "cell_type": "code",
   "execution_count": 16,
   "metadata": {
    "pycharm": {
     "name": "#%%\n"
    }
   },
   "outputs": [],
   "source": [
    "mape_pd = pd.Series(mape_list)"
   ]
  },
  {
   "cell_type": "code",
   "execution_count": 17,
   "metadata": {
    "pycharm": {
     "name": "#%%\n"
    }
   },
   "outputs": [
    {
     "data": {
      "text/plain": [
       "8     0.091736\n",
       "17    0.146322\n",
       "7     0.160929\n",
       "10    0.177745\n",
       "11    0.183853\n",
       "16    0.193813\n",
       "15    0.202390\n",
       "6     0.206459\n",
       "21    0.207667\n",
       "13    0.216923\n",
       "20    0.228064\n",
       "3     0.250432\n",
       "0     0.252741\n",
       "1     0.260968\n",
       "18    0.298991\n",
       "2     0.302992\n",
       "4     0.304405\n",
       "14    0.311259\n",
       "5     0.318471\n",
       "9     0.322799\n",
       "22    0.338871\n",
       "24    0.363970\n",
       "19    0.366758\n",
       "12    0.412757\n",
       "23    1.153893\n",
       "dtype: float64"
      ]
     },
     "execution_count": 17,
     "metadata": {},
     "output_type": "execute_result"
    }
   ],
   "source": [
    "mape_pd.sort_values()"
   ]
  },
  {
   "cell_type": "code",
   "execution_count": null,
   "metadata": {
    "pycharm": {
     "name": "#%%\n"
    }
   },
   "outputs": [],
   "source": []
  },
  {
   "cell_type": "code",
   "execution_count": null,
   "metadata": {
    "pycharm": {
     "name": "#%%\n"
    }
   },
   "outputs": [],
   "source": []
  }
 ],
 "metadata": {
  "interpreter": {
   "hash": "6b092d8890fbfc1935d95d43d0881a7b3742c06492f450993a24f5c2e6237594"
  },
  "kernelspec": {
   "display_name": "Python 3",
   "language": "python",
   "name": "python3"
  },
  "language_info": {
   "codemirror_mode": {
    "name": "ipython",
    "version": 3
   },
   "file_extension": ".py",
   "mimetype": "text/x-python",
   "name": "python",
   "nbconvert_exporter": "python",
   "pygments_lexer": "ipython3",
   "version": "3.7.0"
  },
  "metadata": {
   "interpreter": {
    "hash": "6b092d8890fbfc1935d95d43d0881a7b3742c06492f450993a24f5c2e6237594"
   }
  }
 },
 "nbformat": 4,
 "nbformat_minor": 4
}
