{
 "cells": [
  {
   "cell_type": "code",
   "execution_count": 1,
   "id": "02e3da22",
   "metadata": {},
   "outputs": [],
   "source": [
    "import time\n",
    "import math\n",
    "import numpy as np\n",
    "import pandas as pd\n",
    "import matplotlib.pyplot as plt\n",
    "import seaborn as sns\n",
    "import ipdb\n",
    "import os\n",
    "\n",
    "import tensorflow as tf\n",
    "from tensorflow.keras.models import load_model, Model\n",
    "from tensorflow.keras import backend as K\n",
    "import tensorflow.keras as keras\n",
    "from tensorflow.keras.layers import Layer\n",
    "import dan_models\n",
    "import dan_utils\n",
    "from sklearn.manifold import TSNE\n",
    "\n",
    "import warnings\n",
    "warnings.filterwarnings(\"ignore\")\n",
    "\n",
    "physical_devices = tf.config.list_physical_devices('GPU') \n",
    "tf.config.experimental.set_memory_growth(physical_devices[0], True)\n",
    "tf.compat.v1.enable_eager_execution()\n",
    "tf.executing_eagerly()"
   ]
  },
  {
   "cell_type": "markdown",
   "id": "b25c1c3f",
   "metadata": {},
   "source": [
    "# Load data"
   ]
  },
  {
   "cell_type": "code",
   "execution_count": 5,
   "id": "7f744bac",
   "metadata": {},
   "outputs": [
    {
     "name": "stdout",
     "output_type": "stream",
     "text": [
      "There are 5 class(es)\n"
     ]
    }
   ],
   "source": [
    "class_set = [2, 3, 4]\n",
    "randseed = 25\n",
    "res = 11\n",
    "v, v_class, id_402, part1, part2, seg, det_list_class, near_road_set  \\\n",
    "        = dan_utils.load_data(class_set, res, randseed)\n",
    "class_color_set = ['b', 'g', 'y', 'black', 'r']\n",
    "\n",
    "# ind, class\n",
    "# 0  , blue\n",
    "# 1  , green\n",
    "# 2  , yellow  <--\n",
    "# 3  , black   <--\n",
    "# 4  , red     <--\n",
    "class_src = 3\n",
    "v_class1 = v_class[class_src]  # source\n",
    "near_road1 = np.array(near_road_set[class_src])\n",
    "\n",
    "class_tar = 2\n",
    "v_class2 = v_class[class_tar]  # target\n",
    "near_road2 = np.array(near_road_set[class_tar])\n",
    "\n",
    "num_links = v_class1.shape[0]\n",
    "\n",
    "near_road_src = near_road1\n",
    "flow_src = v_class1.iloc[:, 2:-1]\n",
    "prop = 1  # proportion of training data\n",
    "from_day = 1\n",
    "to_day = 24\n",
    "\n",
    "image_train_source, image_test_source, day_train_source, day_test_source, label_train_source, label_test_source\\\n",
    "= dan_utils.sliding_window(\n",
    "    flow_src, near_road_src, from_day, to_day, prop, num_links\n",
    ")\n",
    "\n",
    "near_road_tar = near_road2\n",
    "flow_tar = v_class2.iloc[:, 2:-1]\n",
    "prop = 3/10\n",
    "from_day = 22\n",
    "to_day = 31\n",
    "\n",
    "image_train_target, image_test_target, day_train_target, day_test_target, label_train_target, label_test_target\\\n",
    "= dan_utils.sliding_window(\n",
    "    flow_tar, near_road_tar, from_day, to_day, prop, num_links\n",
    ")\n",
    "\n",
    "dup_mul = image_train_source.shape[0]//image_train_target.shape[0]\n",
    "dup_r   = image_train_source.shape[0]%image_train_target.shape[0]\n",
    "\n",
    "image_train_target, day_train_target, label_train_target = \\\n",
    "np.concatenate((np.tile(image_train_target, [dup_mul, 1, 1, 1]), image_train_target[:dup_r, :, :, :]), axis=0),\\\n",
    "np.concatenate((np.tile(day_train_target, [dup_mul, 1, 1]), day_train_target[:dup_r, :, :]), axis=0),\\\n",
    "np.concatenate((np.tile(label_train_target, [dup_mul, 1, 1]), label_train_target[:dup_r, :, :]), axis=0),\n",
    "\n"
   ]
  },
  {
   "cell_type": "markdown",
   "id": "576544b6",
   "metadata": {},
   "source": [
    "# Load model"
   ]
  },
  {
   "cell_type": "code",
   "execution_count": 9,
   "id": "2c6ee8e7",
   "metadata": {},
   "outputs": [
    {
     "name": "stdout",
     "output_type": "stream",
     "text": [
      "Model: \"model\"\n",
      "__________________________________________________________________________________________________\n",
      "Layer (type)                    Output Shape         Param #     Connected to                     \n",
      "==================================================================================================\n",
      "input_data (InputLayer)         [(None, 5, 12, 40)]  0                                            \n",
      "__________________________________________________________________________________________________\n",
      "batch_normalization (BatchNorma (None, 5, 12, 40)    160         input_data[0][0]                 \n",
      "__________________________________________________________________________________________________\n",
      "conv2d (Conv2D)                 (None, 5, 12, 40)    14440       batch_normalization[0][0]        \n",
      "__________________________________________________________________________________________________\n",
      "average_pooling2d (AveragePooli (None, 5, 12, 40)    0           conv2d[0][0]                     \n",
      "__________________________________________________________________________________________________\n",
      "batch_normalization_1 (BatchNor (None, 5, 12, 40)    160         average_pooling2d[0][0]          \n",
      "__________________________________________________________________________________________________\n",
      "conv2d_1 (Conv2D)               (None, 5, 12, 40)    14440       batch_normalization_1[0][0]      \n",
      "__________________________________________________________________________________________________\n",
      "average_pooling2d_1 (AveragePoo (None, 5, 12, 40)    0           conv2d_1[0][0]                   \n",
      "__________________________________________________________________________________________________\n",
      "flatten (Flatten)               (None, 2400)         0           average_pooling2d_1[0][0]        \n",
      "__________________________________________________________________________________________________\n",
      "batch_normalization_2 (BatchNor (None, 2400)         9600        flatten[0][0]                    \n",
      "__________________________________________________________________________________________________\n",
      "dropout (Dropout)               (None, 2400)         0           batch_normalization_2[0][0]      \n",
      "__________________________________________________________________________________________________\n",
      "dense_1 (Dense)                 (None, 480)          1152480     dropout[0][0]                    \n",
      "__________________________________________________________________________________________________\n",
      "dense_2 (Dense)                 (None, 240)          115440      dense_1[0][0]                    \n",
      "__________________________________________________________________________________________________\n",
      "reshape (Reshape)               (None, 40, 6)        0           dense_2[0][0]                    \n",
      "__________________________________________________________________________________________________\n",
      "input_HA (InputLayer)           [(None, 40, 6)]      0                                            \n",
      "__________________________________________________________________________________________________\n",
      "merge__layer (Merge_Layer)      (None, 40, 6)        480         reshape[0][0]                    \n",
      "                                                                 input_HA[0][0]                   \n",
      "==================================================================================================\n",
      "Total params: 1,307,200\n",
      "Trainable params: 1,302,240\n",
      "Non-trainable params: 4,960\n",
      "__________________________________________________________________________________________________\n"
     ]
    }
   ],
   "source": [
    "t_input = image_train_source.shape[2]\n",
    "t_pre = label_train_source.shape[2]\n",
    "k = image_train_source.shape[1]\n",
    "\n",
    "#模型构建\n",
    "input_data = keras.Input(shape=(k,t_input,num_links), name='input_data')\n",
    "input_HA = keras.Input(shape=(num_links, t_pre), name='input_HA')\n",
    "\n",
    "finish_model = dan_models.build_model(input_data, input_HA)"
   ]
  },
  {
   "cell_type": "code",
   "execution_count": 10,
   "id": "1ede2364",
   "metadata": {},
   "outputs": [],
   "source": [
    "#参数加载\n",
    "finish_model.load_weights('../model/transfer_DAN_black_y_mape=0.17822_nrmse=0.07493.h5')\n",
    "#模型预测\n",
    "model_pre = finish_model.predict([image_test_target, day_test_target])"
   ]
  },
  {
   "cell_type": "code",
   "execution_count": 11,
   "id": "5f7575bc",
   "metadata": {},
   "outputs": [
    {
     "name": "stdout",
     "output_type": "stream",
     "text": [
      "0.17417744876888902\n",
      "0.16155152675114964\n",
      "0.07420658926701826\n",
      "56.434408815127966\n"
     ]
    }
   ],
   "source": [
    "m = 5\n",
    "print(dan_utils.mape_loss_func(model_pre, label_test_target, m))\n",
    "print(dan_utils.smape_loss_func(model_pre, label_test_target, m))\n",
    "print(dan_utils.nrmse_loss_func(model_pre, label_test_target, m))\n",
    "print(dan_utils.mae_loss_func(model_pre, label_test_target, m))"
   ]
  },
  {
   "cell_type": "code",
   "execution_count": 12,
   "id": "c54367c5",
   "metadata": {},
   "outputs": [
    {
     "data": {
      "text/plain": [
       "(706, 40, 6)"
      ]
     },
     "execution_count": 12,
     "metadata": {},
     "output_type": "execute_result"
    }
   ],
   "source": [
    "model_pre.shape"
   ]
  },
  {
   "cell_type": "code",
   "execution_count": 13,
   "id": "7a8cca14",
   "metadata": {},
   "outputs": [
    {
     "data": {
      "text/plain": [
       "[<matplotlib.lines.Line2D at 0x20c2794e580>]"
      ]
     },
     "execution_count": 13,
     "metadata": {},
     "output_type": "execute_result"
    },
    {
     "data": {
      "image/png": "[encoded data removed]",
      "text/plain": [
       "<Figure size 432x288 with 1 Axes>"
      ]
     },
     "metadata": {
      "needs_background": "light"
     },
     "output_type": "display_data"
    }
   ],
   "source": [
    "plt.plot(model_pre[:, 5, 4])\n",
    "plt.plot(label_test_target[:, 5, 4])"
   ]
  },
  {
   "cell_type": "code",
   "execution_count": null,
   "id": "f7f98c2b",
   "metadata": {},
   "outputs": [],
   "source": []
  }
 ],
 "metadata": {
  "kernelspec": {
   "display_name": "dan_traff",
   "language": "python",
   "name": "dan_traff"
  },
  "language_info": {
   "codemirror_mode": {
    "name": "ipython",
    "version": 3
   },
   "file_extension": ".py",
   "mimetype": "text/x-python",
   "name": "python",
   "nbconvert_exporter": "python",
   "pygments_lexer": "ipython3",
   "version": "3.8.11"
  }
 },
 "nbformat": 4,
 "nbformat_minor": 5
}
