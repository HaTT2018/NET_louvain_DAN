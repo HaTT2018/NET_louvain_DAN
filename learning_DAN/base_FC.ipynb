{
 "cells": [
  {
   "cell_type": "markdown",
   "metadata": {},
   "source": [
    "# FC base net"
   ]
  },
  {
   "cell_type": "code",
   "execution_count": 1,
   "metadata": {},
   "outputs": [],
   "source": [
    "import numpy as np\n",
    "import pandas as pd\n",
    "import matplotlib.pyplot as plt\n",
    "import math\n",
    "import random\n",
    "\n",
    "import torch\n",
    "from torchvision import datasets, transforms\n",
    "import torch.nn as nn\n",
    "import torch.nn.functional as F\n",
    "import torch.optim as optim\n",
    "from torchinfo import summary\n",
    "from torch.utils.data import TensorDataset\n",
    "\n",
    "import ipdb"
   ]
  },
  {
   "cell_type": "code",
   "execution_count": 2,
   "metadata": {},
   "outputs": [],
   "source": [
    "def setup_seed(seed):\n",
    "    torch.manual_seed(seed)\n",
    "    torch.cuda.manual_seed_all(seed)\n",
    "    np.random.seed(seed)\n",
    "    random.seed(seed)\n",
    "    torch.backends.cudnn.deterministic = True\n",
    "# 设置随机数种子\n",
    "seed = 25\n",
    "setup_seed(seed)"
   ]
  },
  {
   "cell_type": "code",
   "execution_count": 3,
   "metadata": {},
   "outputs": [],
   "source": [
    "def mape_loss_func(preds, labels):\n",
    "    mask = labels > 5\n",
    "    return np.mean(np.fabs(labels[mask]-preds[mask])/labels[mask])\n",
    "\n",
    "def smape_loss_func(preds, labels):\n",
    "    mask= labels > 5\n",
    "    return np.mean(2*np.fabs(labels[mask]-preds[mask])/(np.fabs(labels[mask])+np.fabs(preds[mask])))\n",
    "\n",
    "def mae_loss_func(preds, labels):\n",
    "    mask= labels > 5\n",
    "    return np.fabs((labels[mask]-preds[mask])).mean()\n",
    "\n",
    "def eliminate_nan(b):\n",
    "    a = np.array(b)\n",
    "    c = a[~np.isnan(a)]\n",
    "    return c"
   ]
  },
  {
   "cell_type": "markdown",
   "metadata": {},
   "source": [
    "# Load data"
   ]
  },
  {
   "cell_type": "code",
   "execution_count": 4,
   "metadata": {},
   "outputs": [],
   "source": [
    "def norm_data(vec):\n",
    "    vec = vec.flatten()\n",
    "    return (vec - min(vec))/(max(vec) - min(vec)), min(vec), max(vec)"
   ]
  },
  {
   "cell_type": "code",
   "execution_count": 5,
   "metadata": {},
   "outputs": [
    {
     "name": "stdout",
     "output_type": "stream",
     "text": [
      "There are 5 class(es)\n"
     ]
    },
    {
     "name": "stderr",
     "output_type": "stream",
     "text": [
      "C:\\Users\\10169\\.conda\\envs\\dan_traff\\lib\\site-packages\\pandas\\core\\indexing.py:1763: SettingWithCopyWarning: \n",
      "A value is trying to be set on a copy of a slice from a DataFrame.\n",
      "Try using .loc[row_indexer,col_indexer] = value instead\n",
      "\n",
      "See the caveats in the documentation: https://pandas.pydata.org/pandas-docs/stable/user_guide/indexing.html#returning-a-view-versus-a-copy\n",
      "  isetter(loc, value)\n"
     ]
    }
   ],
   "source": [
    "randseed = seed\n",
    "res = 11\n",
    "\n",
    "v = pd.read_csv('../data/v_20_aggragated.csv')\n",
    "v = v.rename(columns={'Unnamed: 0': 'id'})\n",
    "det_with_class = pd.read_csv('../res/%i_res%i_id_402_withclass.csv'%(randseed, res), index_col=0)\n",
    "\n",
    "v['class_i'] = ''\n",
    "for i in range(len(v)):\n",
    "    v.loc[i, 'class_i'] = det_with_class[det_with_class['id']==v.loc[i, 'id']].iloc[0, 5]  # 5 stands for 'class_i'\n",
    "\n",
    "num_class = det_with_class['class_i'].drop_duplicates().size\n",
    "\n",
    "v_class = []\n",
    "for i in range(num_class):\n",
    "    v_class.append(v[v['class_i']==i])\n",
    "\n",
    "print('There are %i class(es)'%num_class)\n",
    "\n",
    "dist_mat = pd.read_csv('../data/dist_mat.csv', index_col=0)\n",
    "id_info = pd.read_csv('../data/id2000.csv', index_col=0)\n",
    "dist_mat.index = id_info['id2']\n",
    "dist_mat.columns = id_info['id2']\n",
    "for i in range(len(dist_mat)):\n",
    "    for j in range(len(dist_mat)):\n",
    "        if i==j:\n",
    "            dist_mat.iloc[i, j] = 0\n",
    "\n",
    "near_id = pd.DataFrame(np.argsort(np.array(dist_mat)), index = id_info['id2'], columns = id_info['id2'])\n",
    "\n",
    "def get_node(det, seg):\n",
    "    # det is one single detector id\n",
    "    # node is one single node id\n",
    "    \n",
    "    # seg = pd.read_csv('./data/segement.csv', header=None)\n",
    "    try:\n",
    "        node_info = seg[seg[6]==det]\n",
    "        node = node_info.iloc[0, 0]\n",
    "    except:\n",
    "        node_info = seg[seg[7]==det]\n",
    "        node = node_info.iloc[0, 0]\n",
    "        \n",
    "    return node\n",
    "\n",
    "def get_class_with_node(seg, v_class):\n",
    "    det_list_class = np.array([])\n",
    "    try:\n",
    "        v_class.insert(1, 'id2', '')  # id2 mean node id\n",
    "    except:\n",
    "        v_class['id2'] = ''\n",
    "        \n",
    "    for i in range(len(v_class)):\n",
    "        det_list_class = np.append(det_list_class, v_class.iloc[i, 0])\n",
    "        v_class.iloc[i, 1] = get_node(v_class.iloc[i, 0], seg)\n",
    "    \n",
    "    return det_list_class, v_class\n",
    "\n",
    "def rds_mat(old_dist_mat, det_ids):\n",
    "    # get a matrix that contains n raods that have specified node id s\n",
    "    node_ids = np.array([])\n",
    "    for i in det_ids:\n",
    "        node_ids = np.append(node_ids, get_node(i, seg))\n",
    "        \n",
    "    new_dist_mat = old_dist_mat.loc[node_ids, node_ids]\n",
    "    old_dist_mat = np.array(old_dist_mat)\n",
    "    new_near_id_mat = np.argsort(new_dist_mat)\n",
    "    return new_near_id_mat\n",
    "\n",
    "seg = pd.read_csv('../data/segement.csv', header=None)\n",
    "num_dets = 30\n",
    "\n",
    "det_list_class = []\n",
    "for i in range(num_class):\n",
    "    det_list_class_temp, v_class_temp = get_class_with_node(seg, v_class[i])\n",
    "    det_list_class.append(det_list_class_temp)\n",
    "    v_class_temp = v_class_temp[v_class_temp['id'].isin(det_list_class_temp[:num_dets])]\n",
    "    v_class[i] = v_class_temp\n",
    "\n",
    "near_road_set = []\n",
    "for i in range(num_class):\n",
    "    near_road_set.append(rds_mat(dist_mat, det_list_class[i][:num_dets]))\n",
    "\n"
   ]
  },
  {
   "cell_type": "code",
   "execution_count": 6,
   "metadata": {},
   "outputs": [],
   "source": [
    "src_flow, src_min, src_max = norm_data(np.array(v_class[0].iloc[:, 4466-144*10-1:4466-144*7-1], dtype=float))\n",
    "# in this case, only target data is accessible\n",
    "tar_flow, tar_min, tar_max = norm_data(np.array(v_class[1].iloc[:, 4466-144*10-1:4466-144-1], dtype=float))"
   ]
  },
  {
   "cell_type": "markdown",
   "metadata": {},
   "source": [
    "# Data assembling"
   ]
  },
  {
   "cell_type": "code",
   "execution_count": 7,
   "metadata": {},
   "outputs": [],
   "source": [
    "def sliding_window(data, window_size, prop):\n",
    "    pred_samp = 3\n",
    "    device = torch.device(\"cuda\" if torch.cuda.is_available() else \"cpu\")\n",
    "    # \"data\" should be 1-D vector\n",
    "    data = data.flatten()\n",
    "    data_out = []\n",
    "    label_out = []\n",
    "    for i in range(data.shape[0] - window_size - pred_samp):\n",
    "        data_out.append(data[i : i + window_size])\n",
    "        label_out.append(data[i + window_size + 1: i + window_size + 1 + pred_samp])  # to predict the next 3 flows\n",
    "    data_out = np.array(data_out)\n",
    "    label_out = np.array(label_out)\n",
    "    \n",
    "    train_data_out = torch.tensor(data_out[:int(data_out.shape[0]*prop), :], dtype=torch.float32).to(device)\n",
    "    train_label_out = torch.tensor(label_out[:int(data_out.shape[0]*prop)], dtype=torch.float32).to(device)\n",
    "    val_data_out = torch.tensor(data_out[int(data_out.shape[0]*prop):, :], dtype=torch.float32).to(device)\n",
    "    val_label_out = torch.tensor(label_out[int(data_out.shape[0]*prop):], dtype=torch.float32).to(device)\n",
    "    \n",
    "    return train_data_out, train_label_out, val_data_out, val_label_out"
   ]
  },
  {
   "cell_type": "code",
   "execution_count": 8,
   "metadata": {},
   "outputs": [],
   "source": [
    "window_size = 10\n",
    "batch_size = 57600\n",
    "device = torch.device(\"cuda\" if torch.cuda.is_available() else \"cpu\")\n",
    "src_train_data, src_train_label, _, _ = sliding_window(src_flow, window_size, 1)\n",
    "tar_train_data, tar_train_label, tar_val_data, tar_val_label = sliding_window(tar_flow, window_size, 0.3)\n",
    "\n",
    "src_train_loader = torch.utils.data.DataLoader(\n",
    "    TensorDataset(src_train_data, src_train_label), batch_size, shuffle=True\n",
    ")\n",
    "tar_train_loader = torch.utils.data.DataLoader(\n",
    "    TensorDataset(tar_train_data, tar_train_label), batch_size, shuffle=True\n",
    ")\n",
    "\n",
    "src_iter, tar_iter = iter(src_train_loader), iter(tar_train_loader)"
   ]
  },
  {
   "cell_type": "code",
   "execution_count": 9,
   "metadata": {},
   "outputs": [
    {
     "name": "stdout",
     "output_type": "stream",
     "text": [
      "torch.Size([11660, 10])\n",
      "torch.Size([11660, 3])\n",
      "torch.Size([27207, 10])\n",
      "torch.Size([27207, 3])\n"
     ]
    }
   ],
   "source": [
    "print(tar_train_data.shape)\n",
    "print(tar_train_label.shape)\n",
    "print(tar_val_data.shape)\n",
    "print(tar_val_label.shape)"
   ]
  },
  {
   "cell_type": "markdown",
   "metadata": {},
   "source": [
    "# FC network (base)"
   ]
  },
  {
   "cell_type": "code",
   "execution_count": 10,
   "metadata": {},
   "outputs": [],
   "source": [
    "class traffic_base_net(nn.Module):\n",
    "    def __init__(self, inp_dim, out_dim, hid_dim):\n",
    "        super(traffic_base_net, self).__init__()\n",
    "        \n",
    "        self.fc = nn.Sequential(\n",
    "            nn.Linear(inp_dim, hid_dim),\n",
    "            nn.ReLU(),\n",
    "            nn.Linear(hid_dim, hid_dim*2),\n",
    "            nn.ReLU(),\n",
    "            nn.Linear(hid_dim*2, hid_dim),\n",
    "            nn.ReLU(),\n",
    "            nn.Linear(hid_dim, out_dim),\n",
    "            nn.ReLU(),\n",
    "        )  # regression\n",
    "    \n",
    "    def forward(self, x):\n",
    "        # input size: (batchsize, seq_len, input_dim)\n",
    "        # output size: (batchsize, seq_len, hid_dim)\n",
    "#         ipdb.set_trace()\n",
    "        # y = self.lstm(x)[0]  # y, (h, c) = self.rnn(x)\n",
    "        \n",
    "        y = self.fc(x)[:, -3:]  # fully connected layer\n",
    "        \n",
    "        return y"
   ]
  },
  {
   "cell_type": "markdown",
   "metadata": {},
   "source": [
    "# Training on target data"
   ]
  },
  {
   "cell_type": "code",
   "execution_count": 11,
   "metadata": {},
   "outputs": [],
   "source": [
    "inp_dim = window_size\n",
    "out_dim = 1\n",
    "hid_dim = 8\n",
    "# layers = 3"
   ]
  },
  {
   "cell_type": "code",
   "execution_count": 12,
   "metadata": {},
   "outputs": [],
   "source": [
    "traff_node_base = traffic_base_net(inp_dim, out_dim, hid_dim).to(device)\n",
    "\n",
    "loss_func = nn.MSELoss()\n",
    "val_loss_set = []\n",
    "train_loss_set = []\n",
    "\n",
    "#summary(traff_node_dannet, input_size=(batch_size, window_size), device=device)"
   ]
  },
  {
   "cell_type": "code",
   "execution_count": 13,
   "metadata": {},
   "outputs": [],
   "source": [
    "optimizer = optim.Adam(traff_node_base.parameters())"
   ]
  },
  {
   "cell_type": "code",
   "execution_count": 14,
   "metadata": {
    "scrolled": false
   },
   "outputs": [
    {
     "name": "stderr",
     "output_type": "stream",
     "text": [
      "C:\\Users\\10169\\.conda\\envs\\dan_traff\\lib\\site-packages\\torch\\nn\\modules\\loss.py:528: UserWarning: Using a target size (torch.Size([11660, 3])) that is different to the input size (torch.Size([11660, 1])). This will likely lead to incorrect results due to broadcasting. Please ensure they have the same size.\n",
      "  return F.mse_loss(input, target, reduction=self.reduction)\n",
      "C:\\Users\\10169\\.conda\\envs\\dan_traff\\lib\\site-packages\\torch\\nn\\modules\\loss.py:528: UserWarning: Using a target size (torch.Size([27207, 3])) that is different to the input size (torch.Size([27207, 1])). This will likely lead to incorrect results due to broadcasting. Please ensure they have the same size.\n",
      "  return F.mse_loss(input, target, reduction=self.reduction)\n"
     ]
    },
    {
     "name": "stdout",
     "output_type": "stream",
     "text": [
      "Epoch 0 success, val loss:0.33206, train loss:0.27889\n",
      "Epoch 50 success, val loss:0.09282, train loss:0.07554\n",
      "Epoch 100 success, val loss:0.01982, train loss:0.02670\n",
      "Epoch 150 success, val loss:0.01888, train loss:0.02436\n",
      "Epoch 200 success, val loss:0.01640, train loss:0.02134\n",
      "Epoch 250 success, val loss:0.01375, train loss:0.01802\n"
     ]
    }
   ],
   "source": [
    "traff_node_base.train()\n",
    "\n",
    "epochs = 300\n",
    "\n",
    "# assert len(src_loader) == len(tar_loader)\n",
    "   \n",
    "for e in range(epochs):\n",
    "    #ipdb.set_trace()\n",
    "    for i in range(len(src_train_loader)):\n",
    "        try:\n",
    "            tar_data, tar_label = tar_iter.next()\n",
    "        except:\n",
    "            tar_iter = iter(tar_train_loader)\n",
    "            tar_data, tar_label = tar_iter.next()\n",
    "        \n",
    "        tar_out = traff_node_base(tar_data)\n",
    "        #ipdb.set_trace()\n",
    "        loss = loss_func(tar_out, tar_label)  # target dataset loss\n",
    "\n",
    "        val_out = traff_node_base(tar_val_data)\n",
    "        val_loss = loss_func(val_out, tar_val_label)\n",
    "        #ipdb.set_trace()\n",
    "\n",
    "        optimizer.zero_grad()\n",
    "        loss.backward()\n",
    "        optimizer.step()\n",
    "\n",
    "        val_loss_set.append(val_loss.cpu().detach().numpy())\n",
    "        train_loss_set.append(loss.cpu().detach().numpy())\n",
    "    if e%50==0:\n",
    "        print('Epoch %i success, val loss:%.5f, train loss:%.5f'%(e, val_loss.cpu().detach().numpy(), loss.cpu().detach().numpy()))"
   ]
  },
  {
   "cell_type": "code",
   "execution_count": 15,
   "metadata": {},
   "outputs": [],
   "source": [
    "torch.save(traff_node_base.state_dict(), '../model/base_FC.h5')\n",
    "torch.cuda.empty_cache()"
   ]
  },
  {
   "cell_type": "markdown",
   "metadata": {},
   "source": [
    "# Visualization"
   ]
  },
  {
   "cell_type": "code",
   "execution_count": 16,
   "metadata": {},
   "outputs": [],
   "source": [
    "def plot_loss(val, train, title):\n",
    "    fig = plt.figure()\n",
    "    ax1 = fig.add_subplot(121)\n",
    "    ax1.plot(val)\n",
    "    ax1.set_xlabel('Batches')\n",
    "    ax1.set_ylabel('MSELoss')\n",
    "    ax1.set_ylim([0, max(val)])\n",
    "    ax1.set_title('Validation loss')\n",
    "    ax1.grid()\n",
    "    ax2 = fig.add_subplot(122)\n",
    "    ax2.plot(train)\n",
    "    ax2.set_xlabel('Batches')\n",
    "    ax2.set_ylabel('MSELoss')\n",
    "    ax2.set_ylim([0, max(train)])\n",
    "    ax2.set_title('Train loss')\n",
    "    ax2.grid()\n",
    "    plt.suptitle(title)"
   ]
  },
  {
   "cell_type": "code",
   "execution_count": 17,
   "metadata": {},
   "outputs": [
    {
     "data": {
      "image/png": "[encoded data removed]",
      "text/plain": [
       "<Figure size 432x288 with 2 Axes>"
      ]
     },
     "metadata": {
      "needs_background": "light"
     },
     "output_type": "display_data"
    }
   ],
   "source": [
    "plot_loss(val_loss_set, train_loss_set, 'No DAN')"
   ]
  },
  {
   "cell_type": "code",
   "execution_count": 18,
   "metadata": {},
   "outputs": [
    {
     "data": {
      "text/plain": [
       "Text(0.5, 1.0, 'Target dataset')"
      ]
     },
     "execution_count": 18,
     "metadata": {},
     "output_type": "execute_result"
    },
    {
     "data": {
      "image/png": "[encoded data removed]",
      "text/plain": [
       "<Figure size 1152x288 with 1 Axes>"
      ]
     },
     "metadata": {
      "needs_background": "light"
     },
     "output_type": "display_data"
    }
   ],
   "source": [
    "plt.figure(figsize=[16,4])\n",
    "plt.plot(val_out[:500, -1].cpu().detach().numpy(), label='pred')\n",
    "plt.plot(tar_val_label[:500, -1].cpu().detach().numpy(), label='ground truth')\n",
    "plt.legend()\n",
    "plt.xlabel('Time')  # time gran: 15 min\n",
    "plt.ylabel('Flow')\n",
    "plt.title('Target dataset')"
   ]
  },
  {
   "cell_type": "markdown",
   "metadata": {},
   "source": [
    "# Evaluation"
   ]
  },
  {
   "cell_type": "code",
   "execution_count": 19,
   "metadata": {},
   "outputs": [],
   "source": [
    "def mape_loss_func(preds, labels):\n",
    "    #ipdb.set_trace()\n",
    "    try:\n",
    "        preds = preds.cpu().detach().numpy()\n",
    "        labels = labels.cpu().detach().numpy()\n",
    "    except:\n",
    "        preds = preds.detach().numpy()\n",
    "        labels = labels.detach().numpy()\n",
    "        \n",
    "    mask = labels > 5\n",
    "    return np.mean(np.fabs(labels[mask]-preds[mask])/labels[mask])\n",
    "\n",
    "def smape_loss_func(preds, labels):\n",
    "    try:\n",
    "        preds = preds.cpu().detach().numpy()\n",
    "        labels = labels.cpu().detach().numpy()\n",
    "    except:\n",
    "        preds = preds.detach().numpy()\n",
    "        labels = labels.detach().numpy()\n",
    "        \n",
    "    mask= labels > 5\n",
    "    return np.mean(2*np.fabs(labels[mask]-preds[mask])/(np.fabs(labels[mask])+np.fabs(preds[mask])))\n",
    "\n",
    "def mae_loss_func(preds, labels):\n",
    "    try:\n",
    "        preds = preds.cpu().detach().numpy()\n",
    "        labels = labels.cpu().detach().numpy()\n",
    "    except:\n",
    "        preds = preds.detach().numpy()\n",
    "        labels = labels.detach().numpy()\n",
    "        \n",
    "    mask= labels > 5\n",
    "    return np.fabs((labels[mask]-preds[mask])).mean()\n",
    "\n",
    "def eliminate_nan(b):\n",
    "    a = np.array(b)\n",
    "    c = a[~np.isnan(a)]\n",
    "    return c"
   ]
  },
  {
   "cell_type": "code",
   "execution_count": 20,
   "metadata": {},
   "outputs": [],
   "source": [
    "def denorm_data(vec, min_val, max_val):\n",
    "    return vec*(max_val - min_val) + min_val"
   ]
  },
  {
   "cell_type": "code",
   "execution_count": 21,
   "metadata": {},
   "outputs": [
    {
     "name": "stdout",
     "output_type": "stream",
     "text": [
      "MAPE: 0.11910\n",
      "SMAPE: 0.11118\n",
      "MAE: 7.11747\n"
     ]
    }
   ],
   "source": [
    "# traff_node_dannet = torch.load('./model/traff_node_dannet.pth')\n",
    "traff_node_base.eval()\n",
    "\n",
    "val_out = traff_node_base(tar_val_data)\n",
    "val_out_denormed = denorm_data(val_out, tar_min, tar_max)\n",
    "tar_val_label_denormed = denorm_data(tar_val_label, tar_min, tar_max)\n",
    "\n",
    "print('MAPE: %.5f'%mape_loss_func(val_out_denormed[:, -1], tar_val_label_denormed[:, -1]))\n",
    "print('SMAPE: %.5f'%smape_loss_func(val_out_denormed[:, -1], tar_val_label_denormed[:, -1]))\n",
    "print('MAE: %.5f'%mae_loss_func(val_out_denormed[:, -1], tar_val_label_denormed[:, -1]))\n"
   ]
  },
  {
   "cell_type": "code",
   "execution_count": 22,
   "metadata": {
    "scrolled": false
   },
   "outputs": [
    {
     "data": {
      "text/plain": [
       "[<matplotlib.lines.Line2D at 0x2520ed8c240>]"
      ]
     },
     "execution_count": 22,
     "metadata": {},
     "output_type": "execute_result"
    },
    {
     "data": {
      "image/png": "[encoded data removed]",
      "text/plain": [
       "<Figure size 432x288 with 1 Axes>"
      ]
     },
     "metadata": {
      "needs_background": "light"
     },
     "output_type": "display_data"
    }
   ],
   "source": [
    "plt.plot(val_out_denormed[:, -1].cpu().detach().numpy())\n",
    "plt.plot(tar_val_label_denormed[:, -1].cpu().detach().numpy())"
   ]
  },
  {
   "cell_type": "code",
   "execution_count": null,
   "metadata": {},
   "outputs": [],
   "source": []
  }
 ],
 "metadata": {
  "kernelspec": {
   "display_name": "dan_traff",
   "language": "python",
   "name": "dan_traff"
  },
  "language_info": {
   "codemirror_mode": {
    "name": "ipython",
    "version": 3
   },
   "file_extension": ".py",
   "mimetype": "text/x-python",
   "name": "python",
   "nbconvert_exporter": "python",
   "pygments_lexer": "ipython3",
   "version": "3.6.13"
  }
 },
 "nbformat": 4,
 "nbformat_minor": 4
}
