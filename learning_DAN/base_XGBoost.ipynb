{
 "cells": [
  {
   "cell_type": "code",
   "execution_count": 5,
   "id": "678e22e8",
   "metadata": {},
   "outputs": [],
   "source": [
    "import scipy.io as sio  \n",
    "import numpy as np\n",
    "import xgboost as xgb\n",
    "from xgboost import plot_importance\n",
    "from matplotlib import pyplot as plt\n",
    "import dan_utils"
   ]
  },
  {
   "cell_type": "code",
   "execution_count": 6,
   "id": "1958ebc7",
   "metadata": {},
   "outputs": [],
   "source": [
    "dan_utils.setup_seed(25)"
   ]
  },
  {
   "cell_type": "markdown",
   "id": "776350ab",
   "metadata": {},
   "source": [
    "# Execute \"dataprocess.m\""
   ]
  },
  {
   "cell_type": "code",
   "execution_count": 7,
   "id": "f0d13a59",
   "metadata": {
    "scrolled": false
   },
   "outputs": [],
   "source": [
    "data = []\n",
    "data = sio.loadmat('./XGBoost/data2_6.mat')    #在Python中读取的.mat为字典格式"
   ]
  },
  {
   "cell_type": "code",
   "execution_count": 8,
   "id": "8ef03430",
   "metadata": {},
   "outputs": [
    {
     "name": "stdout",
     "output_type": "stream",
     "text": [
      "input done\n",
      "[04:42:28] WARNING: C:/Users/Administrator/workspace/xgboost-win64_release_1.4.0/src/learner.cc:573: \n",
      "Parameters: { \"silent\" } might not be used.\n",
      "\n",
      "  This may not be accurate due to some parameters are only used in language bindings but\n",
      "  passed down to XGBoost core.  Or some parameters are not used but slip through this\n",
      "  verification. Please open an issue if you find above cases.\n",
      "\n",
      "\n"
     ]
    },
    {
     "data": {
      "image/png": "[encoded data removed]",
      "text/plain": [
       "<Figure size 432x288 with 1 Axes>"
      ]
     },
     "metadata": {
      "needs_background": "light"
     },
     "output_type": "display_data"
    }
   ],
   "source": [
    "x_train = data['x_train']\n",
    "x_train[x_train==0] = 0.001\n",
    "y_train = abs(data['y_train'])\n",
    "y_train[y_train==0] = 0.001\n",
    "x_test = data['x_test']\n",
    "y_test = data['y_test']\n",
    "y_train = np.reshape(y_train, [np.shape(y_train)[0]])\n",
    "y_test = np.reshape(y_test, [np.shape(y_test)[0]])\n",
    "print('input done')\n",
    "\n",
    "\n",
    "params = {\n",
    "    'booster': 'gbtree',\n",
    "    'objective': 'reg:gamma',\n",
    "    'gamma': 0.1,\n",
    "    'max_depth': 5,\n",
    "    'lambda': 3,\n",
    "    'subsample': 0.7,\n",
    "    'colsample_bytree': 0.7,\n",
    "    'min_child_weight': 3,\n",
    "    'silent': 1,\n",
    "    'eta': 0.1,\n",
    "    'seed': 1000,\n",
    "    'nthread': 4,\n",
    "}\n",
    "\n",
    "dtrain = xgb.DMatrix(x_train, y_train)\n",
    "num_rounds = 66\n",
    "plst = list(params.items())\n",
    "model = xgb.train(plst, dtrain, num_rounds)\n",
    "\n",
    "# 对测试集进行预测\n",
    "dtest = xgb.DMatrix(x_test)\n",
    "ans = model.predict(dtest)\n",
    "\n",
    "# 显示重要特征\n",
    "plot_importance(model)\n",
    "plt.show()\n",
    "\n",
    "sio.savemat('./XGBoost/result5.mat',{'pre': ans,'true': y_test})"
   ]
  },
  {
   "cell_type": "markdown",
   "id": "523d5487",
   "metadata": {},
   "source": [
    "# Execute \"cal_ecdf.m\""
   ]
  },
  {
   "cell_type": "code",
   "execution_count": null,
   "id": "fd2cd320",
   "metadata": {},
   "outputs": [],
   "source": []
  }
 ],
 "metadata": {
  "kernelspec": {
   "display_name": "dan_traff",
   "language": "python",
   "name": "dan_traff"
  },
  "language_info": {
   "codemirror_mode": {
    "name": "ipython",
    "version": 3
   },
   "file_extension": ".py",
   "mimetype": "text/x-python",
   "name": "python",
   "nbconvert_exporter": "python",
   "pygments_lexer": "ipython3",
   "version": "3.8.11"
  }
 },
 "nbformat": 4,
 "nbformat_minor": 5
}
