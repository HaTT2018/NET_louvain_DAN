{
 "cells": [
  {
   "cell_type": "code",
   "execution_count": 1,
   "metadata": {},
   "outputs": [
    {
     "name": "stderr",
     "output_type": "stream",
     "text": [
      "Using TensorFlow backend.\n",
      "C:\\ProgramData\\Anaconda3\\lib\\site-packages\\tensorflow\\python\\framework\\dtypes.py:516: FutureWarning: Passing (type, 1) or '1type' as a synonym of type is deprecated; in a future version of numpy, it will be understood as (type, (1,)) / '(1,)type'.\n",
      "  _np_qint8 = np.dtype([(\"qint8\", np.int8, 1)])\n",
      "C:\\ProgramData\\Anaconda3\\lib\\site-packages\\tensorflow\\python\\framework\\dtypes.py:517: FutureWarning: Passing (type, 1) or '1type' as a synonym of type is deprecated; in a future version of numpy, it will be understood as (type, (1,)) / '(1,)type'.\n",
      "  _np_quint8 = np.dtype([(\"quint8\", np.uint8, 1)])\n",
      "C:\\ProgramData\\Anaconda3\\lib\\site-packages\\tensorflow\\python\\framework\\dtypes.py:518: FutureWarning: Passing (type, 1) or '1type' as a synonym of type is deprecated; in a future version of numpy, it will be understood as (type, (1,)) / '(1,)type'.\n",
      "  _np_qint16 = np.dtype([(\"qint16\", np.int16, 1)])\n",
      "C:\\ProgramData\\Anaconda3\\lib\\site-packages\\tensorflow\\python\\framework\\dtypes.py:519: FutureWarning: Passing (type, 1) or '1type' as a synonym of type is deprecated; in a future version of numpy, it will be understood as (type, (1,)) / '(1,)type'.\n",
      "  _np_quint16 = np.dtype([(\"quint16\", np.uint16, 1)])\n",
      "C:\\ProgramData\\Anaconda3\\lib\\site-packages\\tensorflow\\python\\framework\\dtypes.py:520: FutureWarning: Passing (type, 1) or '1type' as a synonym of type is deprecated; in a future version of numpy, it will be understood as (type, (1,)) / '(1,)type'.\n",
      "  _np_qint32 = np.dtype([(\"qint32\", np.int32, 1)])\n",
      "C:\\ProgramData\\Anaconda3\\lib\\site-packages\\tensorflow\\python\\framework\\dtypes.py:525: FutureWarning: Passing (type, 1) or '1type' as a synonym of type is deprecated; in a future version of numpy, it will be understood as (type, (1,)) / '(1,)type'.\n",
      "  np_resource = np.dtype([(\"resource\", np.ubyte, 1)])\n",
      "C:\\ProgramData\\Anaconda3\\lib\\site-packages\\tensorboard\\compat\\tensorflow_stub\\dtypes.py:541: FutureWarning: Passing (type, 1) or '1type' as a synonym of type is deprecated; in a future version of numpy, it will be understood as (type, (1,)) / '(1,)type'.\n",
      "  _np_qint8 = np.dtype([(\"qint8\", np.int8, 1)])\n",
      "C:\\ProgramData\\Anaconda3\\lib\\site-packages\\tensorboard\\compat\\tensorflow_stub\\dtypes.py:542: FutureWarning: Passing (type, 1) or '1type' as a synonym of type is deprecated; in a future version of numpy, it will be understood as (type, (1,)) / '(1,)type'.\n",
      "  _np_quint8 = np.dtype([(\"quint8\", np.uint8, 1)])\n",
      "C:\\ProgramData\\Anaconda3\\lib\\site-packages\\tensorboard\\compat\\tensorflow_stub\\dtypes.py:543: FutureWarning: Passing (type, 1) or '1type' as a synonym of type is deprecated; in a future version of numpy, it will be understood as (type, (1,)) / '(1,)type'.\n",
      "  _np_qint16 = np.dtype([(\"qint16\", np.int16, 1)])\n",
      "C:\\ProgramData\\Anaconda3\\lib\\site-packages\\tensorboard\\compat\\tensorflow_stub\\dtypes.py:544: FutureWarning: Passing (type, 1) or '1type' as a synonym of type is deprecated; in a future version of numpy, it will be understood as (type, (1,)) / '(1,)type'.\n",
      "  _np_quint16 = np.dtype([(\"quint16\", np.uint16, 1)])\n",
      "C:\\ProgramData\\Anaconda3\\lib\\site-packages\\tensorboard\\compat\\tensorflow_stub\\dtypes.py:545: FutureWarning: Passing (type, 1) or '1type' as a synonym of type is deprecated; in a future version of numpy, it will be understood as (type, (1,)) / '(1,)type'.\n",
      "  _np_qint32 = np.dtype([(\"qint32\", np.int32, 1)])\n",
      "C:\\ProgramData\\Anaconda3\\lib\\site-packages\\tensorboard\\compat\\tensorflow_stub\\dtypes.py:550: FutureWarning: Passing (type, 1) or '1type' as a synonym of type is deprecated; in a future version of numpy, it will be understood as (type, (1,)) / '(1,)type'.\n",
      "  np_resource = np.dtype([(\"resource\", np.ubyte, 1)])\n"
     ]
    }
   ],
   "source": [
    "import time\n",
    "import numpy as np\n",
    "import pandas as pd\n",
    "import keras\n",
    "from keras.engine.topology import Layer"
   ]
  },
  {
   "cell_type": "code",
   "execution_count": 2,
   "metadata": {},
   "outputs": [],
   "source": [
    "def mape_loss_func(preds, labels):\n",
    "    mask = labels > 5\n",
    "    return np.mean(np.fabs(labels[mask]-preds[mask])/labels[mask])\n",
    "\n",
    "def smape_loss_func(preds, labels):\n",
    "    mask= labels > 5\n",
    "    return np.mean(2*np.fabs(labels[mask]-preds[mask])/(np.fabs(labels[mask])+np.fabs(preds[mask])))\n",
    "\n",
    "def mae_loss_func(preds, labels):\n",
    "    mask= labels > 5\n",
    "    return np.fabs((labels[mask]-preds[mask])).mean()\n",
    "\n",
    "def eliminate_nan(b):\n",
    "    a = np.array(b)\n",
    "    c = a[~np.isnan(a)]\n",
    "    return c"
   ]
  },
  {
   "cell_type": "code",
   "execution_count": 3,
   "metadata": {},
   "outputs": [
    {
     "name": "stdout",
     "output_type": "stream",
     "text": [
      "There are 5 class(es)\n"
     ]
    },
    {
     "name": "stderr",
     "output_type": "stream",
     "text": [
      "C:\\ProgramData\\Anaconda3\\lib\\site-packages\\pandas\\core\\indexing.py:543: SettingWithCopyWarning: \n",
      "A value is trying to be set on a copy of a slice from a DataFrame.\n",
      "Try using .loc[row_indexer,col_indexer] = value instead\n",
      "\n",
      "See the caveats in the documentation: http://pandas.pydata.org/pandas-docs/stable/indexing.html#indexing-view-versus-copy\n",
      "  self.obj[item] = s\n"
     ]
    }
   ],
   "source": [
    "randseed = 25\n",
    "res = 11\n",
    "\n",
    "v = pd.read_csv('../data/v_20_aggragated.csv')\n",
    "v = v.rename(columns={'Unnamed: 0': 'id'})\n",
    "det_with_class = pd.read_csv('../res/%i_res%i_id_402_withclass.csv'%(randseed, res), index_col=0)\n",
    "\n",
    "v['class_i'] = ''\n",
    "for i in range(len(v)):\n",
    "    v.loc[i, 'class_i'] = det_with_class[det_with_class['id']==v.loc[i, 'id']].iloc[0, 5]  # 5 stands for 'class_i'\n",
    "\n",
    "num_class = det_with_class['class_i'].drop_duplicates().size\n",
    "\n",
    "v_class = []\n",
    "for i in range(num_class):\n",
    "    v_class.append(v[v['class_i']==i])\n",
    "\n",
    "print('There are %i class(es)'%num_class)\n",
    "\n",
    "dist_mat = pd.read_csv('../data/dist_mat.csv', index_col=0)\n",
    "id_info = pd.read_csv('../data/id2000.csv', index_col=0)\n",
    "dist_mat.index = id_info['id2']\n",
    "dist_mat.columns = id_info['id2']\n",
    "for i in range(len(dist_mat)):\n",
    "    for j in range(len(dist_mat)):\n",
    "        if i==j:\n",
    "            dist_mat.iloc[i, j] = 0\n",
    "\n",
    "near_id = pd.DataFrame(np.argsort(np.array(dist_mat)), index = id_info['id2'], columns = id_info['id2'])\n",
    "\n",
    "def get_node(det, seg):\n",
    "    # det is one single detector id\n",
    "    # node is one single node id\n",
    "    \n",
    "    # seg = pd.read_csv('./data/segement.csv', header=None)\n",
    "    try:\n",
    "        node_info = seg[seg[6]==det]\n",
    "        node = node_info.iloc[0, 0]\n",
    "    except:\n",
    "        node_info = seg[seg[7]==det]\n",
    "        node = node_info.iloc[0, 0]\n",
    "        \n",
    "    return node\n",
    "\n",
    "def get_class_with_node(seg, v_class):\n",
    "    det_list_class = np.array([])\n",
    "    try:\n",
    "        v_class.insert(1, 'id2', '')  # id2 mean node id\n",
    "    except:\n",
    "        v_class['id2'] = ''\n",
    "        \n",
    "    for i in range(len(v_class)):\n",
    "        det_list_class = np.append(det_list_class, v_class.iloc[i, 0])\n",
    "        v_class.iloc[i, 1] = get_node(v_class.iloc[i, 0], seg)\n",
    "    \n",
    "    return det_list_class, v_class\n",
    "\n",
    "def rds_mat(old_dist_mat, det_ids):\n",
    "    # get a matrix that contains n raods that have specified node id s\n",
    "    node_ids = np.array([])\n",
    "    for i in det_ids:\n",
    "        node_ids = np.append(node_ids, get_node(i, seg))\n",
    "        \n",
    "    new_dist_mat = old_dist_mat.loc[node_ids, node_ids]\n",
    "    old_dist_mat = np.array(old_dist_mat)\n",
    "    new_near_id_mat = np.argsort(new_dist_mat)\n",
    "    return new_near_id_mat\n",
    "\n",
    "seg = pd.read_csv('../data/segement.csv', header=None)\n",
    "num_dets = 25\n",
    "\n",
    "det_list_class = []\n",
    "for i in range(num_class):\n",
    "    det_list_class_temp, v_class_temp = get_class_with_node(seg, v_class[i])\n",
    "    det_list_class.append(det_list_class_temp)\n",
    "    v_class_temp = v_class_temp[v_class_temp['id'].isin(det_list_class_temp[:num_dets])]\n",
    "    v_class[i] = v_class_temp\n",
    "    \n",
    "near_road_set = []\n",
    "for i in range(num_class):\n",
    "    near_road_set.append(rds_mat(dist_mat, det_list_class[i][:num_dets]))"
   ]
  },
  {
   "cell_type": "code",
   "execution_count": 4,
   "metadata": {},
   "outputs": [],
   "source": [
    "class_i = 2\n",
    "near_road = np.array(near_road_set[class_i])\n",
    "flow = np.array(v_class[class_i].iloc[:, 2:-1])"
   ]
  },
  {
   "cell_type": "code",
   "execution_count": 5,
   "metadata": {},
   "outputs": [
    {
     "name": "stdout",
     "output_type": "stream",
     "text": [
      "(3795, 5, 12, 25)\n",
      "(3795, 25, 3)\n",
      "(3795, 25, 3)\n"
     ]
    }
   ],
   "source": [
    "# 利用滑动窗口的方式，重构数据为(n，最近路段数，输入时间窗，总路段数)的形式\n",
    "\n",
    "k = 5 # 参数k为需考虑的最近路段数\n",
    "t_p = 24 # 参数t_p为总时间序列长度（天）\n",
    "t_input = 12 #参数t_input为输入时间窗(5min颗粒度)\n",
    "t_pre = 3 #参数t_pre为预测时间窗(5min颗粒度)\n",
    "num_links = 25 #参数num_links为总路段数\n",
    "\n",
    "\n",
    "image = []\n",
    "for i in range(np.shape(near_road)[0]):\n",
    "    road_id = []\n",
    "    for j in range(k):\n",
    "        road_id.append(near_road[i][j])\n",
    "    image.append(flow[road_id, :])\n",
    "image1 = np.reshape(image, [-1, k, len(flow[0,:])])\n",
    "image2 = np.transpose(image1,(1,2,0))\n",
    "image3 = []\n",
    "label = []\n",
    "day = []\n",
    "\n",
    "for i in range(1,t_p):\n",
    "    for j in range(180-t_input-t_pre):\n",
    "        image3.append(image2[:, i*180+j:i*180+j+t_input, :][:])\n",
    "        label.append(flow[:, i*180+j+t_input:i*180+j+t_input+t_pre][:])\n",
    "        day.append(flow[:, (i-1)*180+j+t_input:(i-1)*180+j+t_input+t_pre][:])\n",
    "\n",
    "image3 = np.asarray(image3)\n",
    "label = np.asarray(label)\n",
    "day =  np.asarray(day)\n",
    "\n",
    "print(np.shape(image3))\n",
    "print(np.shape(label))\n",
    "print(np.shape(day))\n",
    "\n",
    "#划分前80%数据为训练集，最后20%数据为测试集\n",
    "image_train = image3[:np.shape(image3)[0]*4//5]\n",
    "image_test = image3[np.shape(image3)[0]*4//5:]\n",
    "label_train = label[:np.shape(label)[0]*4//5]\n",
    "label_test = label[np.shape(label)[0]*4//5:]\n",
    "\n",
    "day_train = day[:np.shape(day)[0]*4//5]\n",
    "day_test = day[np.shape(day)[0]*4//5:]\n"
   ]
  },
  {
   "cell_type": "code",
   "execution_count": 6,
   "metadata": {
    "pycharm": {
     "name": "#%%\n"
    }
   },
   "outputs": [],
   "source": [
    "# define merge layer\n",
    "class Merge_Layer(Layer):\n",
    "    def __init__(self, **kwargs):\n",
    "        super(Merge_Layer, self).__init__(**kwargs)\n",
    "\n",
    "    def build(self, input_shape):\n",
    "        self.para1 = self.add_weight(shape=(input_shape[0][1], input_shape[0][2]),\n",
    "                                     initializer='uniform', trainable=True,\n",
    "                                     name='para1')\n",
    "        self.para2 = self.add_weight(shape=(input_shape[1][1], input_shape[1][2]),\n",
    "                                     initializer='uniform', trainable=True,\n",
    "                                     name='para2')\n",
    "        super(Merge_Layer, self).build(input_shape)\n",
    "\n",
    "    def call(self, inputs):\n",
    "        mat1 = inputs[0]\n",
    "        mat2 = inputs[1]\n",
    "        output = mat1 * self.para1 + mat2 * self.para2\n",
    "        # output = mat1 * 0.1 + mat2 * 0.9\n",
    "        return output\n",
    "\n",
    "    def compute_output_shape(self, input_shape):\n",
    "        return input_shape[0]"
   ]
  },
  {
   "cell_type": "code",
   "execution_count": 7,
   "metadata": {
    "tags": [
     "outputPrepend"
    ]
   },
   "outputs": [
    {
     "name": "stdout",
     "output_type": "stream",
     "text": [
      "WARNING:tensorflow:From C:\\ProgramData\\Anaconda3\\lib\\site-packages\\keras\\backend\\tensorflow_backend.py:517: The name tf.placeholder is deprecated. Please use tf.compat.v1.placeholder instead.\n",
      "\n",
      "WARNING:tensorflow:From C:\\ProgramData\\Anaconda3\\lib\\site-packages\\keras\\backend\\tensorflow_backend.py:74: The name tf.get_default_graph is deprecated. Please use tf.compat.v1.get_default_graph instead.\n",
      "\n",
      "WARNING:tensorflow:From C:\\ProgramData\\Anaconda3\\lib\\site-packages\\keras\\backend\\tensorflow_backend.py:174: The name tf.get_default_session is deprecated. Please use tf.compat.v1.get_default_session instead.\n",
      "\n",
      "WARNING:tensorflow:From C:\\ProgramData\\Anaconda3\\lib\\site-packages\\keras\\backend\\tensorflow_backend.py:181: The name tf.ConfigProto is deprecated. Please use tf.compat.v1.ConfigProto instead.\n",
      "\n",
      "WARNING:tensorflow:From C:\\ProgramData\\Anaconda3\\lib\\site-packages\\keras\\backend\\tensorflow_backend.py:186: The name tf.Session is deprecated. Please use tf.compat.v1.Session instead.\n",
      "\n",
      "WARNING:tensorflow:From C:\\ProgramData\\Anaconda3\\lib\\site-packages\\keras\\backend\\tensorflow_backend.py:1834: The name tf.nn.fused_batch_norm is deprecated. Please use tf.compat.v1.nn.fused_batch_norm instead.\n",
      "\n",
      "WARNING:tensorflow:From C:\\ProgramData\\Anaconda3\\lib\\site-packages\\keras\\backend\\tensorflow_backend.py:3980: The name tf.nn.avg_pool is deprecated. Please use tf.nn.avg_pool2d instead.\n",
      "\n",
      "WARNING:tensorflow:From C:\\ProgramData\\Anaconda3\\lib\\site-packages\\keras\\backend\\tensorflow_backend.py:3445: calling dropout (from tensorflow.python.ops.nn_ops) with keep_prob is deprecated and will be removed in a future version.\n",
      "Instructions for updating:\n",
      "Please use `rate` instead of `keep_prob`. Rate should be set to `rate = 1 - keep_prob`.\n",
      "__________________________________________________________________________________________________\n",
      "Layer (type)                    Output Shape         Param #     Connected to                     \n",
      "==================================================================================================\n",
      "input_data (InputLayer)         (None, 5, 12, 25)    0                                            \n",
      "__________________________________________________________________________________________________\n",
      "batch_normalization_1 (BatchNor (None, 5, 12, 25)    100         input_data[0][0]                 \n",
      "__________________________________________________________________________________________________\n",
      "conv2d_1 (Conv2D)               (None, 5, 12, 25)    5650        batch_normalization_1[0][0]      \n",
      "__________________________________________________________________________________________________\n",
      "average_pooling2d_1 (AveragePoo (None, 5, 12, 25)    0           conv2d_1[0][0]                   \n",
      "__________________________________________________________________________________________________\n",
      "batch_normalization_2 (BatchNor (None, 5, 12, 25)    100         average_pooling2d_1[0][0]        \n",
      "__________________________________________________________________________________________________\n",
      "conv2d_2 (Conv2D)               (None, 5, 12, 25)    5650        batch_normalization_2[0][0]      \n",
      "__________________________________________________________________________________________________\n",
      "average_pooling2d_2 (AveragePoo (None, 5, 12, 25)    0           conv2d_2[0][0]                   \n",
      "__________________________________________________________________________________________________\n",
      "flatten_1 (Flatten)             (None, 1500)         0           average_pooling2d_2[0][0]        \n",
      "__________________________________________________________________________________________________\n",
      "batch_normalization_3 (BatchNor (None, 1500)         6000        flatten_1[0][0]                  \n",
      "__________________________________________________________________________________________________\n",
      "dropout_1 (Dropout)             (None, 1500)         0           batch_normalization_3[0][0]      \n",
      "__________________________________________________________________________________________________\n",
      "dense_1 (Dense)                 (None, 150)          225150      dropout_1[0][0]                  \n",
      "__________________________________________________________________________________________________\n",
      "dense_2 (Dense)                 (None, 75)           11325       dense_1[0][0]                    \n",
      "__________________________________________________________________________________________________\n",
      "reshape_1 (Reshape)             (None, 25, 3)        0           dense_2[0][0]                    \n",
      "__________________________________________________________________________________________________\n",
      "input_HA (InputLayer)           (None, 25, 3)        0                                            \n",
      "__________________________________________________________________________________________________\n",
      "merge__layer_1 (Merge_Layer)    (None, 25, 3)        150         reshape_1[0][0]                  \n",
      "                                                                 input_HA[0][0]                   \n",
      "==================================================================================================\n",
      "Total params: 254,125\n",
      "Trainable params: 251,025\n",
      "Non-trainable params: 3,100\n",
      "__________________________________________________________________________________________________\n"
     ]
    }
   ],
   "source": [
    "input_data = keras.Input(shape=(k,t_input,num_links), name='input_data')\n",
    "input_HA = keras.Input(shape=(num_links, t_pre), name='input_HA')\n",
    "\n",
    "x = keras.layers.BatchNormalization(input_shape =(k,t_input,num_links))(input_data)\n",
    "\n",
    "x = keras.layers.Conv2D(\n",
    "                           filters = num_links,\n",
    "                           kernel_size = 3,\n",
    "                           strides = 1,\n",
    "                           padding=\"SAME\",\n",
    "                           activation='relu')(x)\n",
    "\n",
    "x = keras.layers.AveragePooling2D(pool_size = (2,2),\n",
    "                                strides = 1,\n",
    "                                padding = \"SAME\",\n",
    "                                )(x)\n",
    "\n",
    "x = keras.layers.BatchNormalization()(x)\n",
    "\n",
    "x = keras.layers.Conv2D(\n",
    "                       filters = num_links,\n",
    "                       kernel_size = 3,\n",
    "                       strides = 1,\n",
    "                       padding=\"SAME\",\n",
    "                       activation='relu')(x)\n",
    "\n",
    "x = keras.layers.AveragePooling2D(pool_size = (2,2),\n",
    "                                strides = 1,\n",
    "                                padding = \"SAME\",\n",
    "                                )(x)\n",
    "x = keras.layers.Flatten()(x)\n",
    "x = keras.layers.BatchNormalization()(x)\n",
    "x = keras.layers.Dropout(0.5)(x)\n",
    "\n",
    "x = keras.layers.Dense(num_links*2*t_pre, activation='relu', name='dense_1')(x)\n",
    "x = keras.layers.Dense(num_links*t_pre, activation='relu', name='dense_2')(x)\n",
    "\n",
    "output = keras.layers.Reshape((num_links,t_pre))(x)\n",
    "\n",
    "output_final = Merge_Layer()([output, input_HA])\n",
    "\n",
    "# construct model\n",
    "finish_model = keras.models.Model([input_data,input_HA], [output_final])\n",
    "\n",
    "finish_model.summary()"
   ]
  },
  {
   "cell_type": "code",
   "execution_count": 8,
   "metadata": {
    "pycharm": {
     "name": "#%%\n"
    }
   },
   "outputs": [
    {
     "name": "stdout",
     "output_type": "stream",
     "text": [
      "WARNING:tensorflow:From C:\\ProgramData\\Anaconda3\\lib\\site-packages\\keras\\optimizers.py:790: The name tf.train.Optimizer is deprecated. Please use tf.compat.v1.train.Optimizer instead.\n",
      "\n"
     ]
    }
   ],
   "source": [
    "finish_model.compile(optimizer='adam', loss='mean_squared_error')"
   ]
  },
  {
   "cell_type": "code",
   "execution_count": 9,
   "metadata": {},
   "outputs": [],
   "source": [
    "X_train = image_train\n",
    "X_HA_train = day_train\n",
    "label_train = label_train"
   ]
  },
  {
   "cell_type": "code",
   "execution_count": 10,
   "metadata": {
    "pycharm": {
     "name": "#%%\n"
    },
    "scrolled": true,
    "tags": []
   },
   "outputs": [
    {
     "name": "stdout",
     "output_type": "stream",
     "text": [
      "Train on 3036 samples, validate on 759 samples\n",
      "Epoch 1/100\n",
      "3036/3036 [==============================] - 1s 483us/step - loss: 4028.0970 - val_loss: 3819.9958\n",
      "Epoch 2/100\n",
      "3036/3036 [==============================] - 0s 72us/step - loss: 3206.6711 - val_loss: 2189.7022\n",
      "Epoch 3/100\n",
      "3036/3036 [==============================] - 0s 76us/step - loss: 1773.4651 - val_loss: 1533.8389\n",
      "Epoch 4/100\n",
      "3036/3036 [==============================] - 0s 68us/step - loss: 1375.6343 - val_loss: 1372.7222\n",
      "Epoch 5/100\n",
      "3036/3036 [==============================] - 0s 70us/step - loss: 1232.3949 - val_loss: 1244.9188\n",
      "Epoch 6/100\n",
      "3036/3036 [==============================] - 0s 70us/step - loss: 1132.7666 - val_loss: 1127.4285\n",
      "Epoch 7/100\n",
      "3036/3036 [==============================] - 0s 67us/step - loss: 1041.7285 - val_loss: 1006.8387\n",
      "Epoch 8/100\n",
      "3036/3036 [==============================] - 0s 70us/step - loss: 949.5210 - val_loss: 954.0887\n",
      "Epoch 9/100\n",
      "3036/3036 [==============================] - 0s 66us/step - loss: 895.1001 - val_loss: 923.5423\n",
      "Epoch 10/100\n",
      "3036/3036 [==============================] - 0s 66us/step - loss: 854.9569 - val_loss: 883.0531\n",
      "Epoch 11/100\n",
      "3036/3036 [==============================] - 0s 66us/step - loss: 809.1580 - val_loss: 850.0054\n",
      "Epoch 12/100\n",
      "3036/3036 [==============================] - 0s 69us/step - loss: 771.2953 - val_loss: 789.4185\n",
      "Epoch 13/100\n",
      "3036/3036 [==============================] - 0s 70us/step - loss: 743.2383 - val_loss: 800.0105\n",
      "Epoch 14/100\n",
      "3036/3036 [==============================] - 0s 69us/step - loss: 706.4236 - val_loss: 716.3216\n",
      "Epoch 15/100\n",
      "3036/3036 [==============================] - 0s 67us/step - loss: 670.4315 - val_loss: 686.3123\n",
      "Epoch 16/100\n",
      "3036/3036 [==============================] - 0s 69us/step - loss: 635.3752 - val_loss: 642.1933\n",
      "Epoch 17/100\n",
      "3036/3036 [==============================] - ETA: 0s - loss: 609.656 - 0s 68us/step - loss: 609.2942 - val_loss: 610.7246\n",
      "Epoch 18/100\n",
      "3036/3036 [==============================] - 0s 68us/step - loss: 583.2805 - val_loss: 584.4636\n",
      "Epoch 19/100\n",
      "3036/3036 [==============================] - 0s 70us/step - loss: 553.5548 - val_loss: 566.8076\n",
      "Epoch 20/100\n",
      "3036/3036 [==============================] - 0s 69us/step - loss: 523.8976 - val_loss: 528.2454\n",
      "Epoch 21/100\n",
      "3036/3036 [==============================] - 0s 70us/step - loss: 499.2223 - val_loss: 490.8328\n",
      "Epoch 22/100\n",
      "3036/3036 [==============================] - 0s 71us/step - loss: 477.8737 - val_loss: 473.1507\n",
      "Epoch 23/100\n",
      "3036/3036 [==============================] - 0s 68us/step - loss: 453.7611 - val_loss: 453.9279\n",
      "Epoch 24/100\n",
      "3036/3036 [==============================] - 0s 68us/step - loss: 432.8910 - val_loss: 433.3625\n",
      "Epoch 25/100\n",
      "3036/3036 [==============================] - 0s 68us/step - loss: 414.8122 - val_loss: 409.5589\n",
      "Epoch 26/100\n",
      "3036/3036 [==============================] - 0s 67us/step - loss: 393.7614 - val_loss: 388.7877\n",
      "Epoch 27/100\n",
      "3036/3036 [==============================] - 0s 70us/step - loss: 377.5059 - val_loss: 371.2216\n",
      "Epoch 28/100\n",
      "3036/3036 [==============================] - 0s 68us/step - loss: 361.0452 - val_loss: 356.3134\n",
      "Epoch 29/100\n",
      "3036/3036 [==============================] - 0s 69us/step - loss: 357.9881 - val_loss: 353.1996\n",
      "Epoch 30/100\n",
      "3036/3036 [==============================] - 0s 68us/step - loss: 332.6067 - val_loss: 327.2538\n",
      "Epoch 31/100\n",
      "3036/3036 [==============================] - 0s 67us/step - loss: 316.6444 - val_loss: 310.3632\n",
      "Epoch 32/100\n",
      "3036/3036 [==============================] - 0s 68us/step - loss: 301.4303 - val_loss: 298.5359\n",
      "Epoch 33/100\n",
      "3036/3036 [==============================] - 0s 77us/step - loss: 290.4493 - val_loss: 293.7632\n",
      "Epoch 34/100\n",
      "3036/3036 [==============================] - 0s 78us/step - loss: 282.1495 - val_loss: 273.5960\n",
      "Epoch 35/100\n",
      "3036/3036 [==============================] - 0s 76us/step - loss: 268.9879 - val_loss: 266.6672\n",
      "Epoch 36/100\n",
      "3036/3036 [==============================] - 0s 82us/step - loss: 260.7682 - val_loss: 255.4854\n",
      "Epoch 37/100\n",
      "3036/3036 [==============================] - 0s 74us/step - loss: 248.0137 - val_loss: 248.6809\n",
      "Epoch 38/100\n",
      "3036/3036 [==============================] - 0s 67us/step - loss: 238.9502 - val_loss: 234.8367\n",
      "Epoch 39/100\n",
      "3036/3036 [==============================] - 0s 68us/step - loss: 231.4180 - val_loss: 226.8976\n",
      "Epoch 40/100\n",
      "3036/3036 [==============================] - 0s 68us/step - loss: 226.1817 - val_loss: 221.8781\n",
      "Epoch 41/100\n",
      "3036/3036 [==============================] - 0s 68us/step - loss: 219.9953 - val_loss: 212.2042\n",
      "Epoch 42/100\n",
      "3036/3036 [==============================] - 0s 68us/step - loss: 210.7760 - val_loss: 209.5431\n",
      "Epoch 43/100\n",
      "3036/3036 [==============================] - 0s 68us/step - loss: 205.1008 - val_loss: 201.2364\n",
      "Epoch 44/100\n",
      "3036/3036 [==============================] - 0s 67us/step - loss: 200.4235 - val_loss: 193.1223\n",
      "Epoch 45/100\n",
      "3036/3036 [==============================] - 0s 65us/step - loss: 192.7937 - val_loss: 187.8244\n",
      "Epoch 46/100\n",
      "3036/3036 [==============================] - 0s 68us/step - loss: 186.6819 - val_loss: 183.5167\n",
      "Epoch 47/100\n",
      "3036/3036 [==============================] - 0s 65us/step - loss: 184.8127 - val_loss: 177.7136\n",
      "Epoch 48/100\n",
      "3036/3036 [==============================] - 0s 66us/step - loss: 178.5471 - val_loss: 173.7977\n",
      "Epoch 49/100\n",
      "3036/3036 [==============================] - 0s 67us/step - loss: 173.9769 - val_loss: 170.5994\n",
      "Epoch 50/100\n",
      "3036/3036 [==============================] - 0s 67us/step - loss: 174.0054 - val_loss: 170.1062\n",
      "Epoch 51/100\n",
      "3036/3036 [==============================] - 0s 71us/step - loss: 167.9933 - val_loss: 164.1353\n",
      "Epoch 52/100\n",
      "3036/3036 [==============================] - 0s 78us/step - loss: 166.1770 - val_loss: 164.1649\n",
      "Epoch 53/100\n",
      "3036/3036 [==============================] - 0s 82us/step - loss: 161.9626 - val_loss: 159.7169\n",
      "Epoch 54/100\n",
      "3036/3036 [==============================] - 0s 78us/step - loss: 160.2654 - val_loss: 156.2999\n",
      "Epoch 55/100\n",
      "3036/3036 [==============================] - 0s 76us/step - loss: 157.8775 - val_loss: 153.0077\n",
      "Epoch 56/100\n",
      "3036/3036 [==============================] - 0s 78us/step - loss: 153.1304 - val_loss: 153.6434\n",
      "Epoch 57/100\n",
      "3036/3036 [==============================] - 0s 79us/step - loss: 156.4028 - val_loss: 149.8104\n",
      "Epoch 58/100\n",
      "3036/3036 [==============================] - 0s 76us/step - loss: 150.0730 - val_loss: 147.0220\n",
      "Epoch 59/100\n",
      "3036/3036 [==============================] - 0s 84us/step - loss: 152.0249 - val_loss: 146.1503\n",
      "Epoch 60/100\n",
      "3036/3036 [==============================] - 0s 84us/step - loss: 148.3023 - val_loss: 142.8961\n",
      "Epoch 61/100\n",
      "3036/3036 [==============================] - 0s 74us/step - loss: 146.1517 - val_loss: 142.2268\n",
      "Epoch 62/100\n",
      "3036/3036 [==============================] - 0s 81us/step - loss: 142.5410 - val_loss: 141.5806\n",
      "Epoch 63/100\n",
      "3036/3036 [==============================] - 0s 76us/step - loss: 144.5598 - val_loss: 142.1554\n",
      "Epoch 64/100\n",
      "3036/3036 [==============================] - 0s 67us/step - loss: 144.3171 - val_loss: 141.3084\n",
      "Epoch 65/100\n",
      "3036/3036 [==============================] - 0s 66us/step - loss: 146.4691 - val_loss: 139.4330\n",
      "Epoch 66/100\n",
      "3036/3036 [==============================] - 0s 67us/step - loss: 143.4985 - val_loss: 136.9800\n",
      "Epoch 67/100\n",
      "3036/3036 [==============================] - 0s 66us/step - loss: 139.0320 - val_loss: 137.0648\n",
      "Epoch 68/100\n",
      "3036/3036 [==============================] - 0s 67us/step - loss: 138.5292 - val_loss: 135.1798\n",
      "Epoch 69/100\n",
      "3036/3036 [==============================] - 0s 66us/step - loss: 136.9903 - val_loss: 135.3878\n",
      "Epoch 70/100\n",
      "3036/3036 [==============================] - 0s 67us/step - loss: 137.4916 - val_loss: 134.2030\n",
      "Epoch 71/100\n",
      "3036/3036 [==============================] - 0s 72us/step - loss: 135.8099 - val_loss: 133.1102\n",
      "Epoch 72/100\n",
      "3036/3036 [==============================] - 0s 71us/step - loss: 134.8005 - val_loss: 133.8801\n",
      "Epoch 73/100\n",
      "3036/3036 [==============================] - 0s 67us/step - loss: 133.9621 - val_loss: 132.7034\n",
      "Epoch 74/100\n",
      "3036/3036 [==============================] - 0s 67us/step - loss: 133.4920 - val_loss: 132.7470\n",
      "Epoch 75/100\n"
     ]
    },
    {
     "name": "stdout",
     "output_type": "stream",
     "text": [
      "3036/3036 [==============================] - 0s 66us/step - loss: 133.5517 - val_loss: 134.3122\n",
      "Epoch 76/100\n",
      "3036/3036 [==============================] - 0s 67us/step - loss: 133.3763 - val_loss: 131.6749\n",
      "Epoch 77/100\n",
      "3036/3036 [==============================] - 0s 66us/step - loss: 133.3889 - val_loss: 133.6277\n",
      "Epoch 78/100\n",
      "3036/3036 [==============================] - 0s 67us/step - loss: 133.4625 - val_loss: 129.5423\n",
      "Epoch 79/100\n",
      "3036/3036 [==============================] - 0s 67us/step - loss: 133.2472 - val_loss: 129.4468\n",
      "Epoch 80/100\n",
      "3036/3036 [==============================] - ETA: 0s - loss: 131.969 - 0s 66us/step - loss: 131.9211 - val_loss: 128.2913\n",
      "Epoch 81/100\n",
      "3036/3036 [==============================] - 0s 69us/step - loss: 131.0137 - val_loss: 129.7991\n",
      "Epoch 82/100\n",
      "3036/3036 [==============================] - 0s 66us/step - loss: 131.6180 - val_loss: 128.1530\n",
      "Epoch 83/100\n",
      "3036/3036 [==============================] - 0s 67us/step - loss: 131.1665 - val_loss: 128.1717\n",
      "Epoch 84/100\n",
      "3036/3036 [==============================] - 0s 67us/step - loss: 129.7562 - val_loss: 128.4726\n",
      "Epoch 85/100\n",
      "3036/3036 [==============================] - 0s 69us/step - loss: 131.0339 - val_loss: 127.2982\n",
      "Epoch 86/100\n",
      "3036/3036 [==============================] - 0s 67us/step - loss: 129.4230 - val_loss: 129.2248\n",
      "Epoch 87/100\n",
      "3036/3036 [==============================] - 0s 66us/step - loss: 129.9806 - val_loss: 127.5226\n",
      "Epoch 88/100\n",
      "3036/3036 [==============================] - 0s 66us/step - loss: 129.5184 - val_loss: 128.6895\n",
      "Epoch 89/100\n",
      "3036/3036 [==============================] - 0s 66us/step - loss: 130.8253 - val_loss: 130.3301\n",
      "Epoch 90/100\n",
      "3036/3036 [==============================] - 0s 66us/step - loss: 129.0932 - val_loss: 126.4385\n",
      "Epoch 91/100\n",
      "3036/3036 [==============================] - 0s 67us/step - loss: 128.4904 - val_loss: 125.0048\n",
      "Epoch 92/100\n",
      "3036/3036 [==============================] - 0s 67us/step - loss: 128.5586 - val_loss: 127.6909\n",
      "Epoch 93/100\n",
      "3036/3036 [==============================] - 0s 66us/step - loss: 129.8415 - val_loss: 126.2949\n",
      "Epoch 94/100\n",
      "3036/3036 [==============================] - 0s 66us/step - loss: 128.1252 - val_loss: 126.5656\n",
      "Epoch 95/100\n",
      "3036/3036 [==============================] - 0s 66us/step - loss: 128.3571 - val_loss: 127.3352\n",
      "Epoch 96/100\n",
      "3036/3036 [==============================] - 0s 67us/step - loss: 126.9312 - val_loss: 126.9330\n",
      "Epoch 97/100\n",
      "3036/3036 [==============================] - 0s 68us/step - loss: 127.5684 - val_loss: 128.0549\n",
      "Epoch 98/100\n",
      "3036/3036 [==============================] - 0s 72us/step - loss: 127.8621 - val_loss: 125.2306\n",
      "Epoch 99/100\n",
      "3036/3036 [==============================] - 0s 69us/step - loss: 126.6517 - val_loss: 125.8936\n",
      "Epoch 100/100\n",
      "3036/3036 [==============================] - 0s 69us/step - loss: 126.7195 - val_loss: 125.9176\n"
     ]
    },
    {
     "data": {
      "text/plain": [
       "<keras.callbacks.History at 0x18d3d644b70>"
      ]
     },
     "execution_count": 10,
     "metadata": {},
     "output_type": "execute_result"
    }
   ],
   "source": [
    "#模型拟合与评估\n",
    "finish_model.fit([X_train,X_HA_train], label_train, epochs=100, batch_size=128,\n",
    "validation_data=([image_test,day_test], label_test))\n",
    "# finish_model.evaluate(image_test, label_test)"
   ]
  },
  {
   "cell_type": "code",
   "execution_count": 11,
   "metadata": {},
   "outputs": [],
   "source": [
    "#模型预测\n",
    "model_pre = finish_model.predict([image_test,day_test])"
   ]
  },
  {
   "cell_type": "code",
   "execution_count": 12,
   "metadata": {},
   "outputs": [
    {
     "name": "stdout",
     "output_type": "stream",
     "text": [
      "mape = 0.16982743385828167\n",
      "smape = 0.14371300700301307\n",
      "mae = 7.291537351662864\n"
     ]
    }
   ],
   "source": [
    "#计算各项误差指标\n",
    "\n",
    "mape_mean = mape_loss_func(model_pre, label_test)\n",
    "smape_mean = smape_loss_func(model_pre, label_test)\n",
    "mae_mean = mae_loss_func(model_pre, label_test)\n",
    "\n",
    "print('mape = ' + str(mape_mean) + '\\n' + 'smape = ' + str(smape_mean) + '\\n' + 'mae = ' + str(mae_mean))"
   ]
  },
  {
   "cell_type": "code",
   "execution_count": 13,
   "metadata": {},
   "outputs": [],
   "source": [
    "#模型保存\n",
    "finish_model.save_weights('../model/source.h5')"
   ]
  },
  {
   "cell_type": "code",
   "execution_count": 14,
   "metadata": {},
   "outputs": [
    {
     "name": "stdout",
     "output_type": "stream",
     "text": [
      "1th link\n",
      "0.09411075151172811\n",
      "2th link\n",
      "0.6984054574364996\n",
      "3th link\n",
      "0.0753088427565539\n",
      "4th link\n",
      "0.11006398248878549\n",
      "5th link\n",
      "0.10466616265607231\n",
      "6th link\n",
      "0.06102385633777214\n",
      "7th link\n",
      "0.23957910516663944\n",
      "8th link\n",
      "0.3074329689173324\n",
      "9th link\n",
      "0.09171718357604988\n",
      "10th link\n",
      "0.01345075718894538\n",
      "11th link\n",
      "0.10443276324931984\n",
      "12th link\n",
      "0.1207690064775601\n",
      "13th link\n",
      "0.3536600452566063\n",
      "14th link\n",
      "0.06236887332436552\n",
      "15th link\n",
      "0.3563501202985441\n",
      "16th link\n",
      "0.15724642202776795\n",
      "17th link\n",
      "0.09350015217679185\n",
      "18th link\n",
      "0.08582576007458075\n",
      "19th link\n",
      "0.2936862205151531\n",
      "20th link\n",
      "0.061451305041428636\n",
      "21th link\n",
      "0.15241184047424713\n",
      "22th link\n",
      "0.08519853708172023\n",
      "23th link\n",
      "0.19907632635863243\n",
      "24th link\n",
      "0.08484962278779873\n",
      "25th link\n",
      "0.24073146946261698\n"
     ]
    }
   ],
   "source": [
    "#计算每条路段的误差\n",
    "mape_list = []\n",
    "for i in range(num_links):\n",
    "    a1 = mape_loss_func(model_pre[:,i,:], label_test[:,i,:])\n",
    "    mape_list.append(a1)\n",
    "    print(str(i+1)+'th link')\n",
    "    print(a1)"
   ]
  },
  {
   "cell_type": "code",
   "execution_count": 15,
   "metadata": {
    "pycharm": {
     "name": "#%%\n"
    }
   },
   "outputs": [],
   "source": [
    "mape_pd = pd.Series(mape_list)"
   ]
  },
  {
   "cell_type": "code",
   "execution_count": 16,
   "metadata": {
    "pycharm": {
     "name": "#%%\n"
    }
   },
   "outputs": [
    {
     "data": {
      "text/plain": [
       "9     0.013451\n",
       "5     0.061024\n",
       "19    0.061451\n",
       "13    0.062369\n",
       "2     0.075309\n",
       "23    0.084850\n",
       "21    0.085199\n",
       "17    0.085826\n",
       "8     0.091717\n",
       "16    0.093500\n",
       "0     0.094111\n",
       "10    0.104433\n",
       "4     0.104666\n",
       "3     0.110064\n",
       "11    0.120769\n",
       "20    0.152412\n",
       "15    0.157246\n",
       "22    0.199076\n",
       "6     0.239579\n",
       "24    0.240731\n",
       "18    0.293686\n",
       "7     0.307433\n",
       "12    0.353660\n",
       "14    0.356350\n",
       "1     0.698405\n",
       "dtype: float64"
      ]
     },
     "execution_count": 16,
     "metadata": {},
     "output_type": "execute_result"
    }
   ],
   "source": [
    "mape_pd.sort_values()"
   ]
  },
  {
   "cell_type": "code",
   "execution_count": null,
   "metadata": {
    "pycharm": {
     "name": "#%%\n"
    }
   },
   "outputs": [],
   "source": []
  },
  {
   "cell_type": "code",
   "execution_count": null,
   "metadata": {
    "pycharm": {
     "name": "#%%\n"
    }
   },
   "outputs": [],
   "source": []
  }
 ],
 "metadata": {
  "interpreter": {
   "hash": "6b092d8890fbfc1935d95d43d0881a7b3742c06492f450993a24f5c2e6237594"
  },
  "kernelspec": {
   "display_name": "Python 3",
   "language": "python",
   "name": "python3"
  },
  "language_info": {
   "codemirror_mode": {
    "name": "ipython",
    "version": 3
   },
   "file_extension": ".py",
   "mimetype": "text/x-python",
   "name": "python",
   "nbconvert_exporter": "python",
   "pygments_lexer": "ipython3",
   "version": "3.7.0"
  },
  "metadata": {
   "interpreter": {
    "hash": "6b092d8890fbfc1935d95d43d0881a7b3742c06492f450993a24f5c2e6237594"
   }
  }
 },
 "nbformat": 4,
 "nbformat_minor": 4
}
