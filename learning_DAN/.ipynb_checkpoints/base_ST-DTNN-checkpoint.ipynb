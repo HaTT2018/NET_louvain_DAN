{
 "cells": [
  {
   "cell_type": "code",
   "execution_count": 1,
   "metadata": {},
   "outputs": [],
   "source": [
    "import time\n",
    "import numpy as np\n",
    "import pandas as pd"
   ]
  },
  {
   "cell_type": "code",
   "execution_count": 2,
   "metadata": {},
   "outputs": [],
   "source": [
    "import tensorflow.python.keras as keras\n",
    "from tensorflow.python.keras.layers import Layer\n",
    "import dan_models\n",
    "import dan_utils"
   ]
  },
  {
   "cell_type": "code",
   "execution_count": 3,
   "metadata": {},
   "outputs": [
    {
     "name": "stdout",
     "output_type": "stream",
     "text": [
      "There are 5 class(es)\n"
     ]
    },
    {
     "name": "stderr",
     "output_type": "stream",
     "text": [
      "C:\\Users\\10169\\.conda\\envs\\dan_traff\\lib\\site-packages\\pandas\\core\\indexing.py:1817: SettingWithCopyWarning: \n",
      "A value is trying to be set on a copy of a slice from a DataFrame.\n",
      "Try using .loc[row_indexer,col_indexer] = value instead\n",
      "\n",
      "See the caveats in the documentation: https://pandas.pydata.org/pandas-docs/stable/user_guide/indexing.html#returning-a-view-versus-a-copy\n",
      "  self._setitem_single_column(loc, value, pi)\n"
     ]
    }
   ],
   "source": [
    "randseed = 25\n",
    "res = 11\n",
    "\n",
    "v = pd.read_csv('../data/v_20_aggragated.csv')\n",
    "v = v.rename(columns={'Unnamed: 0': 'id'})\n",
    "det_with_class = pd.read_csv('../res/%i_res%i_id_402_withclass.csv'%(randseed, res), index_col=0)\n",
    "\n",
    "v['class_i'] = ''\n",
    "for i in range(len(v)):\n",
    "    v.loc[i, 'class_i'] = det_with_class[det_with_class['id']==v.loc[i, 'id']].iloc[0, 5]  # 5 stands for 'class_i'\n",
    "\n",
    "num_class = det_with_class['class_i'].drop_duplicates().size\n",
    "\n",
    "v_class = []\n",
    "for i in range(num_class):\n",
    "    v_class.append(v[v['class_i']==i])\n",
    "\n",
    "print('There are %i class(es)'%num_class)\n",
    "\n",
    "dist_mat = pd.read_csv('../data/dist_mat.csv', index_col=0)\n",
    "id_info = pd.read_csv('../data/id2000.csv', index_col=0)\n",
    "dist_mat.index = id_info['id2']\n",
    "dist_mat.columns = id_info['id2']\n",
    "for i in range(len(dist_mat)):\n",
    "    for j in range(len(dist_mat)):\n",
    "        if i==j:\n",
    "            dist_mat.iloc[i, j] = 0\n",
    "\n",
    "near_id = pd.DataFrame(np.argsort(np.array(dist_mat)), index = id_info['id2'], columns = id_info['id2'])\n",
    "\n",
    "seg = pd.read_csv('../data/segement.csv', header=None)\n",
    "num_dets = 25\n",
    "\n",
    "det_list_class = []\n",
    "for i in range(num_class):\n",
    "    det_list_class_temp, v_class_temp = dan_utils.get_class_with_node(seg, v_class[i])\n",
    "    det_list_class.append(det_list_class_temp)\n",
    "    v_class_temp = v_class_temp[v_class_temp['id'].isin(det_list_class_temp[:num_dets])]\n",
    "    v_class[i] = v_class_temp\n",
    "    \n",
    "near_road_set = []\n",
    "for i in range(num_class):\n",
    "    near_road_set.append(dan_utils.rds_mat(dist_mat, det_list_class[i][:num_dets], seg))"
   ]
  },
  {
   "cell_type": "code",
   "execution_count": 4,
   "metadata": {},
   "outputs": [
    {
     "name": "stdout",
     "output_type": "stream",
     "text": [
      "(25, 4464)\n",
      "(1161, 5, 12, 25)\n",
      "(898, 5, 12, 25)\n",
      "(263, 5, 12, 25)\n",
      "(898, 25, 3)\n",
      "(263, 25, 3)\n"
     ]
    }
   ],
   "source": [
    "# ind, class\n",
    "# 0  , blue\n",
    "# 1  , green\n",
    "# 2  , yellow  <--\n",
    "# 3  , black   <--\n",
    "# 4  , red     <--\n",
    "class_color_set = ['b', 'g', 'y', 'black', 'r']\n",
    "class_i = 3\n",
    "\n",
    "near_road = np.array(near_road_set[class_i])\n",
    "flow = v_class[class_i].iloc[:, 2:-1]\n",
    "\n",
    "prop = 24/31  # proportion of training data\n",
    "\n",
    "k, t_p, t_input, t_pre, num_links = 5, 10, 12, 3, 25\n",
    "from_day = 1\n",
    "to_day = 31\n",
    "\n",
    "image_train, image_test, day_train, day_test, label_train, label_test\\\n",
    "= dan_utils.sliding_window(\n",
    "    flow, near_road, from_day, to_day, prop, \n",
    "    k, t_p, t_input, t_pre, num_links\n",
    ")"
   ]
  },
  {
   "cell_type": "code",
   "execution_count": 5,
   "metadata": {
    "tags": [
     "outputPrepend"
    ]
   },
   "outputs": [
    {
     "name": "stdout",
     "output_type": "stream",
     "text": [
      "Model: \"model\"\n",
      "__________________________________________________________________________________________________\n",
      "Layer (type)                    Output Shape         Param #     Connected to                     \n",
      "==================================================================================================\n",
      "input_data (InputLayer)         [(None, 5, 12, 25)]  0                                            \n",
      "__________________________________________________________________________________________________\n",
      "batch_normalization (BatchNorma (None, 5, 12, 25)    100         input_data[0][0]                 \n",
      "__________________________________________________________________________________________________\n",
      "conv2d (Conv2D)                 (None, 5, 12, 25)    5650        batch_normalization[0][0]        \n",
      "__________________________________________________________________________________________________\n",
      "average_pooling2d (AveragePooli (None, 5, 12, 25)    0           conv2d[0][0]                     \n",
      "__________________________________________________________________________________________________\n",
      "batch_normalization_1 (BatchNor (None, 5, 12, 25)    100         average_pooling2d[0][0]          \n",
      "__________________________________________________________________________________________________\n",
      "conv2d_1 (Conv2D)               (None, 5, 12, 25)    5650        batch_normalization_1[0][0]      \n",
      "__________________________________________________________________________________________________\n",
      "average_pooling2d_1 (AveragePoo (None, 5, 12, 25)    0           conv2d_1[0][0]                   \n",
      "__________________________________________________________________________________________________\n",
      "flatten (Flatten)               (None, 1500)         0           average_pooling2d_1[0][0]        \n",
      "__________________________________________________________________________________________________\n",
      "batch_normalization_2 (BatchNor (None, 1500)         6000        flatten[0][0]                    \n",
      "__________________________________________________________________________________________________\n",
      "dropout (Dropout)               (None, 1500)         0           batch_normalization_2[0][0]      \n",
      "__________________________________________________________________________________________________\n",
      "dense_1 (Dense)                 (None, 150)          225150      dropout[0][0]                    \n",
      "__________________________________________________________________________________________________\n",
      "dense_2 (Dense)                 (None, 75)           11325       dense_1[0][0]                    \n",
      "__________________________________________________________________________________________________\n",
      "reshape (Reshape)               (None, 25, 3)        0           dense_2[0][0]                    \n",
      "__________________________________________________________________________________________________\n",
      "input_HA (InputLayer)           [(None, 25, 3)]      0                                            \n",
      "__________________________________________________________________________________________________\n",
      "merge__layer (Merge_Layer)      (None, 25, 3)        150         reshape[0][0]                    \n",
      "                                                                 input_HA[0][0]                   \n",
      "==================================================================================================\n",
      "Total params: 254,125\n",
      "Trainable params: 251,025\n",
      "Non-trainable params: 3,100\n",
      "__________________________________________________________________________________________________\n"
     ]
    }
   ],
   "source": [
    "input_data = keras.Input(shape=(k,t_input,num_links), name='input_data')\n",
    "input_HA = keras.Input(shape=(num_links, t_pre), name='input_HA')\n",
    "\n",
    "finish_model = dan_models.build_model(input_data, input_HA)"
   ]
  },
  {
   "cell_type": "code",
   "execution_count": 6,
   "metadata": {
    "pycharm": {
     "name": "#%%\n"
    }
   },
   "outputs": [],
   "source": [
    "finish_model.compile(optimizer='adam', loss='mean_squared_error')"
   ]
  },
  {
   "cell_type": "code",
   "execution_count": 7,
   "metadata": {},
   "outputs": [],
   "source": [
    "X_train = image_train\n",
    "X_HA_train = day_train\n",
    "label_train = label_train"
   ]
  },
  {
   "cell_type": "code",
   "execution_count": 8,
   "metadata": {
    "pycharm": {
     "name": "#%%\n"
    },
    "scrolled": true,
    "tags": []
   },
   "outputs": [
    {
     "name": "stdout",
     "output_type": "stream",
     "text": [
      "Epoch 1/100\n",
      "8/8 [==============================] - 3s 30ms/step - loss: 3093.4478 - val_loss: 2815.1533\n",
      "Epoch 2/100\n",
      "8/8 [==============================] - 0s 7ms/step - loss: 3022.1533 - val_loss: 2576.2319\n",
      "Epoch 3/100\n",
      "8/8 [==============================] - 0s 7ms/step - loss: 2910.7964 - val_loss: 2310.2041\n",
      "Epoch 4/100\n",
      "8/8 [==============================] - 0s 8ms/step - loss: 2717.7627 - val_loss: 2087.4944\n",
      "Epoch 5/100\n",
      "8/8 [==============================] - 0s 7ms/step - loss: 2417.3804 - val_loss: 1731.5836\n",
      "Epoch 6/100\n",
      "8/8 [==============================] - 0s 7ms/step - loss: 1991.3341 - val_loss: 1428.4752\n",
      "Epoch 7/100\n",
      "8/8 [==============================] - 0s 7ms/step - loss: 1519.2439 - val_loss: 1332.0604\n",
      "Epoch 8/100\n",
      "8/8 [==============================] - 0s 7ms/step - loss: 1172.7112 - val_loss: 1320.4541\n",
      "Epoch 9/100\n",
      "8/8 [==============================] - 0s 7ms/step - loss: 1000.7850 - val_loss: 1363.0374\n",
      "Epoch 10/100\n",
      "8/8 [==============================] - 0s 7ms/step - loss: 925.4342 - val_loss: 1344.4016\n",
      "Epoch 11/100\n",
      "8/8 [==============================] - 0s 8ms/step - loss: 849.0912 - val_loss: 1172.9482\n",
      "Epoch 12/100\n",
      "8/8 [==============================] - 0s 7ms/step - loss: 799.6189 - val_loss: 1098.0476\n",
      "Epoch 13/100\n",
      "8/8 [==============================] - 0s 7ms/step - loss: 754.3190 - val_loss: 1151.5214\n",
      "Epoch 14/100\n",
      "8/8 [==============================] - 0s 8ms/step - loss: 712.4822 - val_loss: 1172.2863\n",
      "Epoch 15/100\n",
      "8/8 [==============================] - 0s 7ms/step - loss: 711.5630 - val_loss: 1186.0623\n",
      "Epoch 16/100\n",
      "8/8 [==============================] - 0s 8ms/step - loss: 672.6128 - val_loss: 1126.6400\n",
      "Epoch 17/100\n",
      "8/8 [==============================] - 0s 7ms/step - loss: 682.4740 - val_loss: 1155.3232\n",
      "Epoch 18/100\n",
      "8/8 [==============================] - 0s 7ms/step - loss: 656.5137 - val_loss: 1182.4912\n",
      "Epoch 19/100\n",
      "8/8 [==============================] - 0s 7ms/step - loss: 633.0235 - val_loss: 1208.9860\n",
      "Epoch 20/100\n",
      "8/8 [==============================] - 0s 7ms/step - loss: 616.0987 - val_loss: 1184.6805\n",
      "Epoch 21/100\n",
      "8/8 [==============================] - 0s 8ms/step - loss: 613.6507 - val_loss: 1128.6904\n",
      "Epoch 22/100\n",
      "8/8 [==============================] - 0s 8ms/step - loss: 599.1306 - val_loss: 990.9062\n",
      "Epoch 23/100\n",
      "8/8 [==============================] - 0s 7ms/step - loss: 591.1244 - val_loss: 894.0159\n",
      "Epoch 24/100\n",
      "8/8 [==============================] - 0s 7ms/step - loss: 588.4816 - val_loss: 813.9438\n",
      "Epoch 25/100\n",
      "8/8 [==============================] - 0s 7ms/step - loss: 584.7012 - val_loss: 726.8010\n",
      "Epoch 26/100\n",
      "8/8 [==============================] - 0s 7ms/step - loss: 573.5380 - val_loss: 649.6976\n",
      "Epoch 27/100\n",
      "8/8 [==============================] - 0s 7ms/step - loss: 555.3742 - val_loss: 572.4354\n",
      "Epoch 28/100\n",
      "8/8 [==============================] - 0s 7ms/step - loss: 539.7586 - val_loss: 533.7536\n",
      "Epoch 29/100\n",
      "8/8 [==============================] - 0s 7ms/step - loss: 520.7012 - val_loss: 514.5137\n",
      "Epoch 30/100\n",
      "8/8 [==============================] - 0s 7ms/step - loss: 514.9160 - val_loss: 504.9834\n",
      "Epoch 31/100\n",
      "8/8 [==============================] - 0s 7ms/step - loss: 514.5782 - val_loss: 493.9557\n",
      "Epoch 32/100\n",
      "8/8 [==============================] - 0s 7ms/step - loss: 506.7150 - val_loss: 463.5864\n",
      "Epoch 33/100\n",
      "8/8 [==============================] - 0s 8ms/step - loss: 496.5576 - val_loss: 462.2783\n",
      "Epoch 34/100\n",
      "8/8 [==============================] - 0s 7ms/step - loss: 516.9099 - val_loss: 453.1242\n",
      "Epoch 35/100\n",
      "8/8 [==============================] - 0s 8ms/step - loss: 471.5729 - val_loss: 444.2768\n",
      "Epoch 36/100\n",
      "8/8 [==============================] - 0s 8ms/step - loss: 465.5747 - val_loss: 447.6592\n",
      "Epoch 37/100\n",
      "8/8 [==============================] - 0s 7ms/step - loss: 468.7718 - val_loss: 432.5556\n",
      "Epoch 38/100\n",
      "8/8 [==============================] - 0s 8ms/step - loss: 456.1262 - val_loss: 416.3629\n",
      "Epoch 39/100\n",
      "8/8 [==============================] - 0s 7ms/step - loss: 453.4743 - val_loss: 412.7002\n",
      "Epoch 40/100\n",
      "8/8 [==============================] - 0s 7ms/step - loss: 453.5275 - val_loss: 395.3618\n",
      "Epoch 41/100\n",
      "8/8 [==============================] - 0s 8ms/step - loss: 439.2431 - val_loss: 395.4461\n",
      "Epoch 42/100\n",
      "8/8 [==============================] - 0s 8ms/step - loss: 429.1414 - val_loss: 390.1830\n",
      "Epoch 43/100\n",
      "8/8 [==============================] - 0s 8ms/step - loss: 422.8281 - val_loss: 433.3980\n",
      "Epoch 44/100\n",
      "8/8 [==============================] - 0s 8ms/step - loss: 451.6212 - val_loss: 457.6322\n",
      "Epoch 45/100\n",
      "8/8 [==============================] - 0s 8ms/step - loss: 420.1573 - val_loss: 439.4009\n",
      "Epoch 46/100\n",
      "8/8 [==============================] - 0s 8ms/step - loss: 421.3719 - val_loss: 438.4737\n",
      "Epoch 47/100\n",
      "8/8 [==============================] - 0s 8ms/step - loss: 400.5153 - val_loss: 414.2440\n",
      "Epoch 48/100\n",
      "8/8 [==============================] - 0s 8ms/step - loss: 381.2087 - val_loss: 438.0415\n",
      "Epoch 49/100\n",
      "8/8 [==============================] - 0s 8ms/step - loss: 377.2017 - val_loss: 399.9441\n",
      "Epoch 50/100\n",
      "8/8 [==============================] - 0s 8ms/step - loss: 365.9454 - val_loss: 395.4668\n",
      "Epoch 51/100\n",
      "8/8 [==============================] - 0s 8ms/step - loss: 368.4365 - val_loss: 413.5103\n",
      "Epoch 52/100\n",
      "8/8 [==============================] - 0s 8ms/step - loss: 368.8510 - val_loss: 378.7520\n",
      "Epoch 53/100\n",
      "8/8 [==============================] - 0s 8ms/step - loss: 343.8910 - val_loss: 415.2137\n",
      "Epoch 54/100\n",
      "8/8 [==============================] - 0s 8ms/step - loss: 344.3866 - val_loss: 413.8955\n",
      "Epoch 55/100\n",
      "8/8 [==============================] - 0s 7ms/step - loss: 341.7026 - val_loss: 356.1286\n",
      "Epoch 56/100\n",
      "8/8 [==============================] - 0s 7ms/step - loss: 335.2540 - val_loss: 333.1610\n",
      "Epoch 57/100\n",
      "8/8 [==============================] - 0s 7ms/step - loss: 322.7721 - val_loss: 343.6532\n",
      "Epoch 58/100\n",
      "8/8 [==============================] - 0s 7ms/step - loss: 321.2455 - val_loss: 340.9607\n",
      "Epoch 59/100\n",
      "8/8 [==============================] - 0s 7ms/step - loss: 329.8317 - val_loss: 324.4407\n",
      "Epoch 60/100\n",
      "8/8 [==============================] - 0s 7ms/step - loss: 324.8416 - val_loss: 336.8895\n",
      "Epoch 61/100\n",
      "8/8 [==============================] - 0s 7ms/step - loss: 310.3441 - val_loss: 323.8809\n",
      "Epoch 62/100\n",
      "8/8 [==============================] - 0s 7ms/step - loss: 319.0101 - val_loss: 357.9719\n",
      "Epoch 63/100\n",
      "8/8 [==============================] - 0s 7ms/step - loss: 302.3899 - val_loss: 332.0964\n",
      "Epoch 64/100\n",
      "8/8 [==============================] - 0s 8ms/step - loss: 294.4724 - val_loss: 325.0533\n",
      "Epoch 65/100\n",
      "8/8 [==============================] - 0s 8ms/step - loss: 300.8940 - val_loss: 317.6816\n",
      "Epoch 66/100\n",
      "8/8 [==============================] - 0s 8ms/step - loss: 287.0315 - val_loss: 311.4708\n",
      "Epoch 67/100\n",
      "8/8 [==============================] - 0s 7ms/step - loss: 286.9177 - val_loss: 296.6530\n",
      "Epoch 68/100\n",
      "8/8 [==============================] - 0s 7ms/step - loss: 299.4434 - val_loss: 284.4012\n",
      "Epoch 69/100\n",
      "8/8 [==============================] - 0s 7ms/step - loss: 286.7951 - val_loss: 259.1995\n",
      "Epoch 70/100\n",
      "8/8 [==============================] - 0s 8ms/step - loss: 268.1735 - val_loss: 261.7966\n",
      "Epoch 71/100\n",
      "8/8 [==============================] - 0s 8ms/step - loss: 274.7973 - val_loss: 265.6281\n",
      "Epoch 72/100\n",
      "8/8 [==============================] - 0s 8ms/step - loss: 258.0656 - val_loss: 268.5290\n",
      "Epoch 73/100\n",
      "8/8 [==============================] - 0s 8ms/step - loss: 261.1177 - val_loss: 252.1967\n",
      "Epoch 74/100\n",
      "8/8 [==============================] - 0s 8ms/step - loss: 254.1721 - val_loss: 240.4209\n",
      "Epoch 75/100\n",
      "8/8 [==============================] - 0s 8ms/step - loss: 252.3083 - val_loss: 241.2869\n",
      "Epoch 76/100\n",
      "8/8 [==============================] - 0s 8ms/step - loss: 254.9601 - val_loss: 227.7773\n",
      "Epoch 77/100\n",
      "8/8 [==============================] - 0s 7ms/step - loss: 244.9345 - val_loss: 213.1151\n",
      "Epoch 78/100\n",
      "8/8 [==============================] - 0s 7ms/step - loss: 244.7344 - val_loss: 211.4819\n",
      "Epoch 79/100\n",
      "8/8 [==============================] - 0s 8ms/step - loss: 236.6192 - val_loss: 226.4210\n",
      "Epoch 80/100\n",
      "8/8 [==============================] - 0s 8ms/step - loss: 238.4927 - val_loss: 239.9760\n",
      "Epoch 81/100\n"
     ]
    },
    {
     "name": "stdout",
     "output_type": "stream",
     "text": [
      "8/8 [==============================] - 0s 7ms/step - loss: 234.2514 - val_loss: 229.5527\n",
      "Epoch 82/100\n",
      "8/8 [==============================] - 0s 8ms/step - loss: 225.9239 - val_loss: 211.6688\n",
      "Epoch 83/100\n",
      "8/8 [==============================] - 0s 8ms/step - loss: 234.5336 - val_loss: 207.9254\n",
      "Epoch 84/100\n",
      "8/8 [==============================] - 0s 7ms/step - loss: 224.5180 - val_loss: 210.1490\n",
      "Epoch 85/100\n",
      "8/8 [==============================] - 0s 7ms/step - loss: 221.5730 - val_loss: 236.9770\n",
      "Epoch 86/100\n",
      "8/8 [==============================] - 0s 8ms/step - loss: 218.8351 - val_loss: 219.5593\n",
      "Epoch 87/100\n",
      "8/8 [==============================] - 0s 7ms/step - loss: 213.8279 - val_loss: 226.6540\n",
      "Epoch 88/100\n",
      "8/8 [==============================] - 0s 8ms/step - loss: 211.5372 - val_loss: 206.3027\n",
      "Epoch 89/100\n",
      "8/8 [==============================] - 0s 7ms/step - loss: 206.6976 - val_loss: 203.9854\n",
      "Epoch 90/100\n",
      "8/8 [==============================] - 0s 7ms/step - loss: 207.7497 - val_loss: 197.2102\n",
      "Epoch 91/100\n",
      "8/8 [==============================] - 0s 7ms/step - loss: 208.7995 - val_loss: 196.3665\n",
      "Epoch 92/100\n",
      "8/8 [==============================] - 0s 8ms/step - loss: 203.4152 - val_loss: 185.3772\n",
      "Epoch 93/100\n",
      "8/8 [==============================] - 0s 7ms/step - loss: 204.4870 - val_loss: 183.7501\n",
      "Epoch 94/100\n",
      "8/8 [==============================] - 0s 7ms/step - loss: 193.9489 - val_loss: 177.8379\n",
      "Epoch 95/100\n",
      "8/8 [==============================] - 0s 7ms/step - loss: 197.7826 - val_loss: 172.4447\n",
      "Epoch 96/100\n",
      "8/8 [==============================] - 0s 7ms/step - loss: 185.6841 - val_loss: 170.3393\n",
      "Epoch 97/100\n",
      "8/8 [==============================] - 0s 8ms/step - loss: 191.4080 - val_loss: 180.2464\n",
      "Epoch 98/100\n",
      "8/8 [==============================] - 0s 8ms/step - loss: 190.5514 - val_loss: 169.5779\n",
      "Epoch 99/100\n",
      "8/8 [==============================] - 0s 8ms/step - loss: 185.5132 - val_loss: 160.1700\n",
      "Epoch 100/100\n",
      "8/8 [==============================] - 0s 7ms/step - loss: 182.7641 - val_loss: 177.7536\n"
     ]
    },
    {
     "data": {
      "text/plain": [
       "<tensorflow.python.keras.callbacks.History at 0x25e921c3b80>"
      ]
     },
     "execution_count": 8,
     "metadata": {},
     "output_type": "execute_result"
    }
   ],
   "source": [
    "#模型拟合与评估\n",
    "finish_model.fit([X_train,X_HA_train], label_train, epochs=100, batch_size=128,\n",
    "validation_data=([image_test,day_test], label_test))\n",
    "# finish_model.evaluate(image_test, label_test)"
   ]
  },
  {
   "cell_type": "code",
   "execution_count": 9,
   "metadata": {},
   "outputs": [],
   "source": [
    "#模型预测\n",
    "model_pre = finish_model.predict([image_test,day_test])"
   ]
  },
  {
   "cell_type": "code",
   "execution_count": 11,
   "metadata": {},
   "outputs": [
    {
     "name": "stdout",
     "output_type": "stream",
     "text": [
      "mape = 0.2642430992187431\n",
      "smape = 0.24545049368329783\n",
      "mae = 10.179607212471044\n"
     ]
    }
   ],
   "source": [
    "#计算各项误差指标\n",
    "\n",
    "mape_mean = dan_utils.mape_loss_func(model_pre, label_test)\n",
    "smape_mean = dan_utils.smape_loss_func(model_pre, label_test)\n",
    "mae_mean = dan_utils.mae_loss_func(model_pre, label_test)\n",
    "\n",
    "print('mape = ' + str(mape_mean) + '\\n' + 'smape = ' + str(smape_mean) + '\\n' + 'mae = ' + str(mae_mean))"
   ]
  },
  {
   "cell_type": "code",
   "execution_count": 12,
   "metadata": {},
   "outputs": [],
   "source": [
    "#模型保存\n",
    "finish_model.save_weights('../model/source_%s.h5'%class_color_set[class_i])\n"
   ]
  },
  {
   "cell_type": "code",
   "execution_count": 14,
   "metadata": {},
   "outputs": [
    {
     "name": "stdout",
     "output_type": "stream",
     "text": [
      "1th link\n",
      "0.291418888301914\n",
      "2th link\n",
      "0.20615807811446704\n",
      "3th link\n",
      "0.142309093239803\n",
      "4th link\n",
      "0.29527213239505107\n",
      "5th link\n",
      "0.21218772656484716\n",
      "6th link\n",
      "0.2613052053722919\n",
      "7th link\n",
      "0.3387219361153922\n",
      "8th link\n",
      "0.08444143306069736\n",
      "9th link\n",
      "0.11022018904201941\n",
      "10th link\n",
      "0.2676980011088829\n",
      "11th link\n",
      "0.11709705036257698\n",
      "12th link\n",
      "0.1987071693718227\n",
      "13th link\n",
      "0.43025253051377144\n",
      "14th link\n",
      "0.21045421069718948\n",
      "15th link\n",
      "0.2802105438373814\n",
      "16th link\n",
      "0.27044689879354333\n",
      "17th link\n",
      "0.22806834471218507\n",
      "18th link\n",
      "0.16005546997562725\n",
      "19th link\n",
      "0.3166538336520252\n",
      "20th link\n",
      "0.19286563916805596\n",
      "21th link\n",
      "0.17696268372718482\n",
      "22th link\n",
      "0.13814892339190496\n",
      "23th link\n",
      "0.3597297233036539\n",
      "24th link\n",
      "1.037468892815995\n",
      "25th link\n",
      "0.27922288283029395\n"
     ]
    }
   ],
   "source": [
    "#计算每条路段的误差\n",
    "mape_list = []\n",
    "for i in range(num_links):\n",
    "    a1 = dan_utils.mape_loss_func(model_pre[:,i,:], label_test[:,i,:])\n",
    "    mape_list.append(a1)\n",
    "    print(str(i+1)+'th link')\n",
    "    print(a1)"
   ]
  },
  {
   "cell_type": "code",
   "execution_count": 15,
   "metadata": {
    "pycharm": {
     "name": "#%%\n"
    }
   },
   "outputs": [],
   "source": [
    "mape_pd = pd.Series(mape_list)"
   ]
  },
  {
   "cell_type": "code",
   "execution_count": 16,
   "metadata": {
    "pycharm": {
     "name": "#%%\n"
    }
   },
   "outputs": [
    {
     "data": {
      "text/plain": [
       "7     0.084441\n",
       "8     0.110220\n",
       "10    0.117097\n",
       "21    0.138149\n",
       "2     0.142309\n",
       "17    0.160055\n",
       "20    0.176963\n",
       "19    0.192866\n",
       "11    0.198707\n",
       "1     0.206158\n",
       "13    0.210454\n",
       "4     0.212188\n",
       "16    0.228068\n",
       "5     0.261305\n",
       "9     0.267698\n",
       "15    0.270447\n",
       "24    0.279223\n",
       "14    0.280211\n",
       "0     0.291419\n",
       "3     0.295272\n",
       "18    0.316654\n",
       "6     0.338722\n",
       "22    0.359730\n",
       "12    0.430253\n",
       "23    1.037469\n",
       "dtype: float64"
      ]
     },
     "execution_count": 16,
     "metadata": {},
     "output_type": "execute_result"
    }
   ],
   "source": [
    "mape_pd.sort_values()"
   ]
  },
  {
   "cell_type": "code",
   "execution_count": null,
   "metadata": {
    "pycharm": {
     "name": "#%%\n"
    }
   },
   "outputs": [],
   "source": []
  },
  {
   "cell_type": "code",
   "execution_count": null,
   "metadata": {
    "pycharm": {
     "name": "#%%\n"
    }
   },
   "outputs": [],
   "source": []
  }
 ],
 "metadata": {
  "interpreter": {
   "hash": "6b092d8890fbfc1935d95d43d0881a7b3742c06492f450993a24f5c2e6237594"
  },
  "kernelspec": {
   "display_name": "dan_traff",
   "language": "python",
   "name": "dan_traff"
  },
  "language_info": {
   "codemirror_mode": {
    "name": "ipython",
    "version": 3
   },
   "file_extension": ".py",
   "mimetype": "text/x-python",
   "name": "python",
   "nbconvert_exporter": "python",
   "pygments_lexer": "ipython3",
   "version": "3.9.7"
  },
  "metadata": {
   "interpreter": {
    "hash": "6b092d8890fbfc1935d95d43d0881a7b3742c06492f450993a24f5c2e6237594"
   }
  }
 },
 "nbformat": 4,
 "nbformat_minor": 4
}
