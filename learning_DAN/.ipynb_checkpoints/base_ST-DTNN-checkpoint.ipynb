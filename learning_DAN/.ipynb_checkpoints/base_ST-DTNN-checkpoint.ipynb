{
 "cells": [
  {
   "cell_type": "code",
   "execution_count": 2,
   "metadata": {},
   "outputs": [],
   "source": [
    "import time\n",
    "import numpy as np\n",
    "import pandas as pd"
   ]
  },
  {
   "cell_type": "code",
   "execution_count": null,
   "metadata": {},
   "outputs": [],
   "source": [
    "import keras\n",
    "from keras.engine.topology import Layer"
   ]
  },
  {
   "cell_type": "code",
   "execution_count": 3,
   "metadata": {},
   "outputs": [],
   "source": [
    "def mape_loss_func(preds, labels):\n",
    "    mask = labels > 5\n",
    "    return np.mean(np.fabs(labels[mask]-preds[mask])/labels[mask])\n",
    "\n",
    "def smape_loss_func(preds, labels):\n",
    "    mask= labels > 5\n",
    "    return np.mean(2*np.fabs(labels[mask]-preds[mask])/(np.fabs(labels[mask])+np.fabs(preds[mask])))\n",
    "\n",
    "def mae_loss_func(preds, labels):\n",
    "    mask= labels > 5\n",
    "    return np.fabs((labels[mask]-preds[mask])).mean()\n",
    "\n",
    "def eliminate_nan(b):\n",
    "    a = np.array(b)\n",
    "    c = a[~np.isnan(a)]\n",
    "    return c"
   ]
  },
  {
   "cell_type": "code",
   "execution_count": 4,
   "metadata": {},
   "outputs": [
    {
     "name": "stdout",
     "output_type": "stream",
     "text": [
      "There are 5 class(es)\n"
     ]
    },
    {
     "name": "stderr",
     "output_type": "stream",
     "text": [
      "C:\\ProgramData\\Anaconda3\\lib\\site-packages\\pandas\\core\\indexing.py:965: SettingWithCopyWarning: \n",
      "A value is trying to be set on a copy of a slice from a DataFrame.\n",
      "Try using .loc[row_indexer,col_indexer] = value instead\n",
      "\n",
      "See the caveats in the documentation: https://pandas.pydata.org/pandas-docs/stable/user_guide/indexing.html#returning-a-view-versus-a-copy\n",
      "  self.obj[item] = s\n"
     ]
    }
   ],
   "source": [
    "randseed = 25\n",
    "res = 11\n",
    "\n",
    "v = pd.read_csv('../data/v_20_aggragated.csv')\n",
    "v = v.rename(columns={'Unnamed: 0': 'id'})\n",
    "det_with_class = pd.read_csv('../res/%i_res%i_id_402_withclass.csv'%(randseed, res), index_col=0)\n",
    "\n",
    "v['class_i'] = ''\n",
    "for i in range(len(v)):\n",
    "    v.loc[i, 'class_i'] = det_with_class[det_with_class['id']==v.loc[i, 'id']].iloc[0, 5]  # 5 stands for 'class_i'\n",
    "\n",
    "num_class = det_with_class['class_i'].drop_duplicates().size\n",
    "\n",
    "v_class = []\n",
    "for i in range(num_class):\n",
    "    v_class.append(v[v['class_i']==i])\n",
    "\n",
    "print('There are %i class(es)'%num_class)\n",
    "\n",
    "dist_mat = pd.read_csv('../data/dist_mat.csv', index_col=0)\n",
    "id_info = pd.read_csv('../data/id2000.csv', index_col=0)\n",
    "dist_mat.index = id_info['id2']\n",
    "dist_mat.columns = id_info['id2']\n",
    "for i in range(len(dist_mat)):\n",
    "    for j in range(len(dist_mat)):\n",
    "        if i==j:\n",
    "            dist_mat.iloc[i, j] = 0\n",
    "\n",
    "near_id = pd.DataFrame(np.argsort(np.array(dist_mat)), index = id_info['id2'], columns = id_info['id2'])\n",
    "\n",
    "def get_node(det, seg):\n",
    "    # det is one single detector id\n",
    "    # node is one single node id\n",
    "    \n",
    "    # seg = pd.read_csv('./data/segement.csv', header=None)\n",
    "    try:\n",
    "        node_info = seg[seg[6]==det]\n",
    "        node = node_info.iloc[0, 0]\n",
    "    except:\n",
    "        node_info = seg[seg[7]==det]\n",
    "        node = node_info.iloc[0, 0]\n",
    "        \n",
    "    return node\n",
    "\n",
    "def get_class_with_node(seg, v_class):\n",
    "    det_list_class = np.array([])\n",
    "    try:\n",
    "        v_class.insert(1, 'id2', '')  # id2 mean node id\n",
    "    except:\n",
    "        v_class['id2'] = ''\n",
    "        \n",
    "    for i in range(len(v_class)):\n",
    "        det_list_class = np.append(det_list_class, v_class.iloc[i, 0])\n",
    "        v_class.iloc[i, 1] = get_node(v_class.iloc[i, 0], seg)\n",
    "    \n",
    "    return det_list_class, v_class\n",
    "\n",
    "def rds_mat(old_dist_mat, det_ids):\n",
    "    # get a matrix that contains n raods that have specified node id s\n",
    "    node_ids = np.array([])\n",
    "    for i in det_ids:\n",
    "        node_ids = np.append(node_ids, get_node(i, seg))\n",
    "        \n",
    "    new_dist_mat = old_dist_mat.loc[node_ids, node_ids]\n",
    "    old_dist_mat = np.array(old_dist_mat)\n",
    "    new_near_id_mat = np.argsort(new_dist_mat)\n",
    "    return new_near_id_mat\n",
    "\n",
    "seg = pd.read_csv('../data/segement.csv', header=None)\n",
    "num_dets = 25\n",
    "\n",
    "det_list_class = []\n",
    "for i in range(num_class):\n",
    "    det_list_class_temp, v_class_temp = get_class_with_node(seg, v_class[i])\n",
    "    det_list_class.append(det_list_class_temp)\n",
    "    v_class_temp = v_class_temp[v_class_temp['id'].isin(det_list_class_temp[:num_dets])]\n",
    "    v_class[i] = v_class_temp\n",
    "    \n",
    "near_road_set = []\n",
    "for i in range(num_class):\n",
    "    near_road_set.append(rds_mat(dist_mat, det_list_class[i][:num_dets]))"
   ]
  },
  {
   "cell_type": "code",
   "execution_count": 15,
   "metadata": {},
   "outputs": [],
   "source": [
    "def sliding_window(flow, near_road, from_day, to_day, prop):\n",
    "    flow = np.array(flow)\n",
    "    # 选数据\n",
    "    flow = flow[:, 144*(from_day-1):144*(to_day)]\n",
    "    print(flow.shape)\n",
    "\n",
    "    # 利用滑动窗口的方式，重构数据为(n，最近路段数，输入时间窗，总路段数)的形式\n",
    "\n",
    "    global k, t_p, t_input, t_pre, num_links\n",
    "    k = 5 # 参数k为需考虑的最近路段数\n",
    "    t_p = 10 # 参数t_p为总时间序列长度（天）\n",
    "    t_input = 12 #参数t_input为输入时间窗(10min颗粒度)\n",
    "    t_pre = 3 #参数t_pre为预测时间窗(10min颗粒度)\n",
    "    num_links = 25 #参数num_links为总路段数\n",
    "\n",
    "\n",
    "    image = []\n",
    "    for i in range(np.shape(near_road)[0]):\n",
    "        road_id = []\n",
    "        for j in range(k):\n",
    "            road_id.append(near_road[i][j])\n",
    "        image.append(flow[road_id, :])\n",
    "    image1 = np.reshape(image, [-1, k, len(flow[0,:])])\n",
    "    image2 = np.transpose(image1,(1,2,0))\n",
    "    image3 = []\n",
    "    label = []\n",
    "    day = []\n",
    "\n",
    "    for i in range(1, t_p):\n",
    "        for j in range(144-t_input-t_pre):\n",
    "            image3.append(image2[:, i*144+j:i*144+j+t_input, :][:])\n",
    "            label.append(flow[:, i*144+j+t_input:i*144+j+t_input+t_pre][:])\n",
    "            day.append(flow[:, (i-1)*144+j+t_input:(i-1)*144+j+t_input+t_pre][:])\n",
    "\n",
    "    image3 = np.asarray(image3)\n",
    "    label = np.asarray(label)\n",
    "    day =  np.asarray(day)\n",
    "\n",
    "    print(np.shape(image3))\n",
    "\n",
    "    #划分前90%数据为训练集，最后10%数据为测试集\n",
    "    image_train = image3[:int(np.shape(image3)[0]*prop)]\n",
    "    image_test = image3[int(np.shape(image3)[0]*prop):]\n",
    "    label_train = label[:int(np.shape(label)[0]*prop)]\n",
    "    label_test = label[int(np.shape(label)[0]*prop):]\n",
    "\n",
    "    day_train = day[:int(np.shape(day)[0]*prop)]\n",
    "    day_test = day[int(np.shape(day)[0]*prop):]\n",
    "\n",
    "    print(image_train.shape)\n",
    "    print(image_test.shape)\n",
    "    print(label_train.shape)\n",
    "    print(label_test.shape)\n",
    "    \n",
    "    return image_train, image_test, day_train, day_test, label_train, label_test"
   ]
  },
  {
   "cell_type": "code",
   "execution_count": 17,
   "metadata": {},
   "outputs": [
    {
     "name": "stdout",
     "output_type": "stream",
     "text": [
      "(25, 4464)\n",
      "(1161, 5, 12, 25)\n",
      "(898, 5, 12, 25)\n",
      "(263, 5, 12, 25)\n",
      "(898, 25, 3)\n",
      "(263, 25, 3)\n"
     ]
    }
   ],
   "source": [
    "# ind, class\n",
    "# 0  , blue\n",
    "# 1  , green\n",
    "# 2  , yellow  <--\n",
    "# 3  , black   <--\n",
    "# 4  , red     <--\n",
    "class_color_set = ['b', 'g', 'y', 'black', 'r']\n",
    "class_i = 3\n",
    "\n",
    "near_road = np.array(near_road_set[class_i])\n",
    "flow = v_class[class_i].iloc[:, 2:-1]\n",
    "\n",
    "prop = 24/31  # proportion of training data\n",
    "\n",
    "image_train, image_test, day_train, day_test, label_train, label_test\\\n",
    "= sliding_window(\n",
    "    flow, near_road, from_day=1, to_day=31, prop=prop\n",
    ")"
   ]
  },
  {
   "cell_type": "code",
   "execution_count": 7,
   "metadata": {
    "pycharm": {
     "name": "#%%\n"
    }
   },
   "outputs": [],
   "source": [
    "# define merge layer\n",
    "class Merge_Layer(Layer):\n",
    "    def __init__(self, **kwargs):\n",
    "        super(Merge_Layer, self).__init__(**kwargs)\n",
    "\n",
    "    def build(self, input_shape):\n",
    "        self.para1 = self.add_weight(shape=(input_shape[0][1], input_shape[0][2]),\n",
    "                                     initializer='uniform', trainable=True,\n",
    "                                     name='para1')\n",
    "        self.para2 = self.add_weight(shape=(input_shape[1][1], input_shape[1][2]),\n",
    "                                     initializer='uniform', trainable=True,\n",
    "                                     name='para2')\n",
    "        super(Merge_Layer, self).build(input_shape)\n",
    "\n",
    "    def call(self, inputs):\n",
    "        mat1 = inputs[0]\n",
    "        mat2 = inputs[1]\n",
    "        output = mat1 * self.para1 + mat2 * self.para2\n",
    "        # output = mat1 * 0.1 + mat2 * 0.9\n",
    "        return output\n",
    "\n",
    "    def compute_output_shape(self, input_shape):\n",
    "        return input_shape[0]"
   ]
  },
  {
   "cell_type": "code",
   "execution_count": 8,
   "metadata": {
    "tags": [
     "outputPrepend"
    ]
   },
   "outputs": [
    {
     "name": "stdout",
     "output_type": "stream",
     "text": [
      "WARNING:tensorflow:From C:\\ProgramData\\Anaconda3\\lib\\site-packages\\keras\\backend\\tensorflow_backend.py:517: The name tf.placeholder is deprecated. Please use tf.compat.v1.placeholder instead.\n",
      "\n",
      "WARNING:tensorflow:From C:\\ProgramData\\Anaconda3\\lib\\site-packages\\keras\\backend\\tensorflow_backend.py:74: The name tf.get_default_graph is deprecated. Please use tf.compat.v1.get_default_graph instead.\n",
      "\n",
      "WARNING:tensorflow:From C:\\ProgramData\\Anaconda3\\lib\\site-packages\\keras\\backend\\tensorflow_backend.py:174: The name tf.get_default_session is deprecated. Please use tf.compat.v1.get_default_session instead.\n",
      "\n",
      "WARNING:tensorflow:From C:\\ProgramData\\Anaconda3\\lib\\site-packages\\keras\\backend\\tensorflow_backend.py:181: The name tf.ConfigProto is deprecated. Please use tf.compat.v1.ConfigProto instead.\n",
      "\n",
      "WARNING:tensorflow:From C:\\ProgramData\\Anaconda3\\lib\\site-packages\\keras\\backend\\tensorflow_backend.py:186: The name tf.Session is deprecated. Please use tf.compat.v1.Session instead.\n",
      "\n",
      "WARNING:tensorflow:From C:\\ProgramData\\Anaconda3\\lib\\site-packages\\keras\\backend\\tensorflow_backend.py:1834: The name tf.nn.fused_batch_norm is deprecated. Please use tf.compat.v1.nn.fused_batch_norm instead.\n",
      "\n",
      "WARNING:tensorflow:From C:\\ProgramData\\Anaconda3\\lib\\site-packages\\keras\\backend\\tensorflow_backend.py:3980: The name tf.nn.avg_pool is deprecated. Please use tf.nn.avg_pool2d instead.\n",
      "\n",
      "WARNING:tensorflow:From C:\\ProgramData\\Anaconda3\\lib\\site-packages\\keras\\backend\\tensorflow_backend.py:3445: calling dropout (from tensorflow.python.ops.nn_ops) with keep_prob is deprecated and will be removed in a future version.\n",
      "Instructions for updating:\n",
      "Please use `rate` instead of `keep_prob`. Rate should be set to `rate = 1 - keep_prob`.\n",
      "__________________________________________________________________________________________________\n",
      "Layer (type)                    Output Shape         Param #     Connected to                     \n",
      "==================================================================================================\n",
      "input_data (InputLayer)         (None, 5, 12, 25)    0                                            \n",
      "__________________________________________________________________________________________________\n",
      "batch_normalization_1 (BatchNor (None, 5, 12, 25)    100         input_data[0][0]                 \n",
      "__________________________________________________________________________________________________\n",
      "conv2d_1 (Conv2D)               (None, 5, 12, 25)    5650        batch_normalization_1[0][0]      \n",
      "__________________________________________________________________________________________________\n",
      "average_pooling2d_1 (AveragePoo (None, 5, 12, 25)    0           conv2d_1[0][0]                   \n",
      "__________________________________________________________________________________________________\n",
      "batch_normalization_2 (BatchNor (None, 5, 12, 25)    100         average_pooling2d_1[0][0]        \n",
      "__________________________________________________________________________________________________\n",
      "conv2d_2 (Conv2D)               (None, 5, 12, 25)    5650        batch_normalization_2[0][0]      \n",
      "__________________________________________________________________________________________________\n",
      "average_pooling2d_2 (AveragePoo (None, 5, 12, 25)    0           conv2d_2[0][0]                   \n",
      "__________________________________________________________________________________________________\n",
      "flatten_1 (Flatten)             (None, 1500)         0           average_pooling2d_2[0][0]        \n",
      "__________________________________________________________________________________________________\n",
      "batch_normalization_3 (BatchNor (None, 1500)         6000        flatten_1[0][0]                  \n",
      "__________________________________________________________________________________________________\n",
      "dropout_1 (Dropout)             (None, 1500)         0           batch_normalization_3[0][0]      \n",
      "__________________________________________________________________________________________________\n",
      "dense_1 (Dense)                 (None, 150)          225150      dropout_1[0][0]                  \n",
      "__________________________________________________________________________________________________\n",
      "dense_2 (Dense)                 (None, 75)           11325       dense_1[0][0]                    \n",
      "__________________________________________________________________________________________________\n",
      "reshape_1 (Reshape)             (None, 25, 3)        0           dense_2[0][0]                    \n",
      "__________________________________________________________________________________________________\n",
      "input_HA (InputLayer)           (None, 25, 3)        0                                            \n",
      "__________________________________________________________________________________________________\n",
      "merge__layer_1 (Merge_Layer)    (None, 25, 3)        150         reshape_1[0][0]                  \n",
      "                                                                 input_HA[0][0]                   \n",
      "==================================================================================================\n",
      "Total params: 254,125\n",
      "Trainable params: 251,025\n",
      "Non-trainable params: 3,100\n",
      "__________________________________________________________________________________________________\n"
     ]
    }
   ],
   "source": [
    "input_data = keras.Input(shape=(k,t_input,num_links), name='input_data')\n",
    "input_HA = keras.Input(shape=(num_links, t_pre), name='input_HA')\n",
    "\n",
    "x = keras.layers.BatchNormalization(input_shape =(k,t_input,num_links))(input_data)\n",
    "\n",
    "x = keras.layers.Conv2D(\n",
    "                           filters = num_links,\n",
    "                           kernel_size = 3,\n",
    "                           strides = 1,\n",
    "                           padding=\"SAME\",\n",
    "                           activation='relu')(x)\n",
    "\n",
    "x = keras.layers.AveragePooling2D(pool_size = (2,2),\n",
    "                                strides = 1,\n",
    "                                padding = \"SAME\",\n",
    "                                )(x)\n",
    "\n",
    "x = keras.layers.BatchNormalization()(x)\n",
    "\n",
    "x = keras.layers.Conv2D(\n",
    "                       filters = num_links,\n",
    "                       kernel_size = 3,\n",
    "                       strides = 1,\n",
    "                       padding=\"SAME\",\n",
    "                       activation='relu')(x)\n",
    "\n",
    "x = keras.layers.AveragePooling2D(pool_size = (2,2),\n",
    "                                strides = 1,\n",
    "                                padding = \"SAME\",\n",
    "                                )(x)\n",
    "x = keras.layers.Flatten()(x)\n",
    "x = keras.layers.BatchNormalization()(x)\n",
    "x = keras.layers.Dropout(0.5)(x)\n",
    "\n",
    "x = keras.layers.Dense(num_links*2*t_pre, activation='relu', name='dense_1')(x)\n",
    "x = keras.layers.Dense(num_links*t_pre, activation='relu', name='dense_2')(x)\n",
    "\n",
    "output = keras.layers.Reshape((num_links,t_pre))(x)\n",
    "\n",
    "output_final = Merge_Layer()([output, input_HA])\n",
    "\n",
    "# construct model\n",
    "finish_model = keras.models.Model([input_data,input_HA], [output_final])\n",
    "\n",
    "finish_model.summary()"
   ]
  },
  {
   "cell_type": "code",
   "execution_count": 9,
   "metadata": {
    "pycharm": {
     "name": "#%%\n"
    }
   },
   "outputs": [
    {
     "name": "stdout",
     "output_type": "stream",
     "text": [
      "WARNING:tensorflow:From C:\\ProgramData\\Anaconda3\\lib\\site-packages\\keras\\optimizers.py:790: The name tf.train.Optimizer is deprecated. Please use tf.compat.v1.train.Optimizer instead.\n",
      "\n"
     ]
    }
   ],
   "source": [
    "finish_model.compile(optimizer='adam', loss='mean_squared_error')"
   ]
  },
  {
   "cell_type": "code",
   "execution_count": 10,
   "metadata": {},
   "outputs": [],
   "source": [
    "X_train = image_train\n",
    "X_HA_train = day_train\n",
    "label_train = label_train"
   ]
  },
  {
   "cell_type": "code",
   "execution_count": 11,
   "metadata": {
    "pycharm": {
     "name": "#%%\n"
    },
    "scrolled": true,
    "tags": []
   },
   "outputs": [
    {
     "name": "stdout",
     "output_type": "stream",
     "text": [
      "Train on 3036 samples, validate on 759 samples\n",
      "Epoch 1/100\n",
      "3036/3036 [==============================] - 1s 468us/step - loss: 3062.4659 - val_loss: 2774.3154\n",
      "Epoch 2/100\n",
      "3036/3036 [==============================] - 0s 73us/step - loss: 2394.8809 - val_loss: 1548.4035\n",
      "Epoch 3/100\n",
      "3036/3036 [==============================] - 0s 71us/step - loss: 1347.4538 - val_loss: 1142.6780\n",
      "Epoch 4/100\n",
      "3036/3036 [==============================] - 0s 70us/step - loss: 1075.4661 - val_loss: 1102.8211\n",
      "Epoch 5/100\n",
      "3036/3036 [==============================] - 0s 70us/step - loss: 967.7589 - val_loss: 960.6629\n",
      "Epoch 6/100\n",
      "3036/3036 [==============================] - 0s 70us/step - loss: 857.6794 - val_loss: 849.3074\n",
      "Epoch 7/100\n",
      "3036/3036 [==============================] - 0s 72us/step - loss: 772.7006 - val_loss: 778.2924\n",
      "Epoch 8/100\n",
      "3036/3036 [==============================] - 0s 71us/step - loss: 724.6132 - val_loss: 719.0306\n",
      "Epoch 9/100\n",
      "3036/3036 [==============================] - 0s 70us/step - loss: 685.5931 - val_loss: 666.8962\n",
      "Epoch 10/100\n",
      "3036/3036 [==============================] - 0s 72us/step - loss: 657.2572 - val_loss: 662.6047\n",
      "Epoch 11/100\n",
      "3036/3036 [==============================] - 0s 70us/step - loss: 626.1655 - val_loss: 632.7447\n",
      "Epoch 12/100\n",
      "3036/3036 [==============================] - 0s 71us/step - loss: 597.8134 - val_loss: 606.0452\n",
      "Epoch 13/100\n",
      "3036/3036 [==============================] - 0s 71us/step - loss: 575.5833 - val_loss: 572.4519\n",
      "Epoch 14/100\n",
      "3036/3036 [==============================] - 0s 69us/step - loss: 546.9562 - val_loss: 559.2479\n",
      "Epoch 15/100\n",
      "3036/3036 [==============================] - 0s 69us/step - loss: 520.7180 - val_loss: 531.2151\n",
      "Epoch 16/100\n",
      "3036/3036 [==============================] - 0s 70us/step - loss: 503.7713 - val_loss: 499.4534\n",
      "Epoch 17/100\n",
      "3036/3036 [==============================] - 0s 69us/step - loss: 479.6270 - val_loss: 487.6505\n",
      "Epoch 18/100\n",
      "3036/3036 [==============================] - 0s 69us/step - loss: 457.4048 - val_loss: 469.5147\n",
      "Epoch 19/100\n",
      "3036/3036 [==============================] - 0s 70us/step - loss: 440.6032 - val_loss: 451.0199\n",
      "Epoch 20/100\n",
      "3036/3036 [==============================] - 0s 70us/step - loss: 418.5529 - val_loss: 429.6117\n",
      "Epoch 21/100\n",
      "3036/3036 [==============================] - 0s 69us/step - loss: 403.5824 - val_loss: 411.2593\n",
      "Epoch 22/100\n",
      "3036/3036 [==============================] - 0s 72us/step - loss: 385.6602 - val_loss: 395.1302\n",
      "Epoch 23/100\n",
      "3036/3036 [==============================] - 0s 69us/step - loss: 369.6428 - val_loss: 381.5834\n",
      "Epoch 24/100\n",
      "3036/3036 [==============================] - 0s 71us/step - loss: 359.7162 - val_loss: 356.7725\n",
      "Epoch 25/100\n",
      "3036/3036 [==============================] - 0s 70us/step - loss: 339.9345 - val_loss: 345.9393\n",
      "Epoch 26/100\n",
      "3036/3036 [==============================] - 0s 70us/step - loss: 329.9925 - val_loss: 329.5283\n",
      "Epoch 27/100\n",
      "3036/3036 [==============================] - 0s 69us/step - loss: 318.7910 - val_loss: 320.8364\n",
      "Epoch 28/100\n",
      "3036/3036 [==============================] - 0s 71us/step - loss: 307.0853 - val_loss: 313.8417\n",
      "Epoch 29/100\n",
      "3036/3036 [==============================] - 0s 69us/step - loss: 295.7253 - val_loss: 307.0525\n",
      "Epoch 30/100\n",
      "3036/3036 [==============================] - 0s 69us/step - loss: 284.0468 - val_loss: 288.1854\n",
      "Epoch 31/100\n",
      "3036/3036 [==============================] - 0s 71us/step - loss: 272.0068 - val_loss: 278.1546\n",
      "Epoch 32/100\n",
      "3036/3036 [==============================] - 0s 70us/step - loss: 265.1068 - val_loss: 269.1362\n",
      "Epoch 33/100\n",
      "3036/3036 [==============================] - 0s 69us/step - loss: 259.8719 - val_loss: 269.3893\n",
      "Epoch 34/100\n",
      "3036/3036 [==============================] - 0s 68us/step - loss: 250.8334 - val_loss: 259.1882\n",
      "Epoch 35/100\n",
      "3036/3036 [==============================] - 0s 69us/step - loss: 245.1379 - val_loss: 252.5587\n",
      "Epoch 36/100\n",
      "3036/3036 [==============================] - 0s 69us/step - loss: 234.7746 - val_loss: 243.6533\n",
      "Epoch 37/100\n",
      "3036/3036 [==============================] - 0s 71us/step - loss: 229.9672 - val_loss: 238.3866\n",
      "Epoch 38/100\n",
      "3036/3036 [==============================] - 0s 72us/step - loss: 220.4926 - val_loss: 229.3420\n",
      "Epoch 39/100\n",
      "3036/3036 [==============================] - 0s 71us/step - loss: 214.7333 - val_loss: 220.6463\n",
      "Epoch 40/100\n",
      "3036/3036 [==============================] - 0s 70us/step - loss: 207.8076 - val_loss: 215.6331\n",
      "Epoch 41/100\n",
      "3036/3036 [==============================] - 0s 70us/step - loss: 204.2348 - val_loss: 214.4340\n",
      "Epoch 42/100\n",
      "3036/3036 [==============================] - 0s 71us/step - loss: 202.8759 - val_loss: 208.9769\n",
      "Epoch 43/100\n",
      "3036/3036 [==============================] - 0s 70us/step - loss: 194.5444 - val_loss: 203.4663\n",
      "Epoch 44/100\n",
      "3036/3036 [==============================] - 0s 70us/step - loss: 191.9897 - val_loss: 197.9188\n",
      "Epoch 45/100\n",
      "3036/3036 [==============================] - 0s 71us/step - loss: 186.4232 - val_loss: 193.6922\n",
      "Epoch 46/100\n",
      "3036/3036 [==============================] - 0s 71us/step - loss: 182.0275 - val_loss: 190.6251\n",
      "Epoch 47/100\n",
      "3036/3036 [==============================] - 0s 71us/step - loss: 177.7853 - val_loss: 187.3087\n",
      "Epoch 48/100\n",
      "3036/3036 [==============================] - 0s 72us/step - loss: 176.4940 - val_loss: 185.3498\n",
      "Epoch 49/100\n",
      "3036/3036 [==============================] - 0s 71us/step - loss: 174.6224 - val_loss: 182.3722\n",
      "Epoch 50/100\n",
      "3036/3036 [==============================] - 0s 72us/step - loss: 171.3888 - val_loss: 179.5725\n",
      "Epoch 51/100\n",
      "3036/3036 [==============================] - 0s 70us/step - loss: 169.1638 - val_loss: 178.0824\n",
      "Epoch 52/100\n",
      "3036/3036 [==============================] - 0s 71us/step - loss: 168.0253 - val_loss: 177.6652\n",
      "Epoch 53/100\n",
      "3036/3036 [==============================] - 0s 71us/step - loss: 165.4700 - val_loss: 176.2243\n",
      "Epoch 54/100\n",
      "3036/3036 [==============================] - 0s 70us/step - loss: 162.6964 - val_loss: 171.8877\n",
      "Epoch 55/100\n",
      "3036/3036 [==============================] - 0s 69us/step - loss: 160.5294 - val_loss: 169.7089\n",
      "Epoch 56/100\n",
      "3036/3036 [==============================] - 0s 70us/step - loss: 158.5568 - val_loss: 172.1195\n",
      "Epoch 57/100\n",
      "3036/3036 [==============================] - 0s 72us/step - loss: 159.2572 - val_loss: 168.9584\n",
      "Epoch 58/100\n",
      "3036/3036 [==============================] - 0s 71us/step - loss: 157.1396 - val_loss: 166.9326\n",
      "Epoch 59/100\n",
      "3036/3036 [==============================] - 0s 72us/step - loss: 154.1350 - val_loss: 166.6664\n",
      "Epoch 60/100\n",
      "3036/3036 [==============================] - 0s 71us/step - loss: 154.2815 - val_loss: 163.5205\n",
      "Epoch 61/100\n",
      "3036/3036 [==============================] - 0s 71us/step - loss: 153.5762 - val_loss: 163.4189\n",
      "Epoch 62/100\n",
      "3036/3036 [==============================] - 0s 71us/step - loss: 152.5151 - val_loss: 164.8011\n",
      "Epoch 63/100\n",
      "3036/3036 [==============================] - 0s 71us/step - loss: 150.2721 - val_loss: 161.5775\n",
      "Epoch 64/100\n",
      "3036/3036 [==============================] - 0s 73us/step - loss: 150.3673 - val_loss: 160.9514\n",
      "Epoch 65/100\n",
      "3036/3036 [==============================] - 0s 70us/step - loss: 148.8696 - val_loss: 163.2051\n",
      "Epoch 66/100\n",
      "3036/3036 [==============================] - 0s 70us/step - loss: 148.6279 - val_loss: 159.2610\n",
      "Epoch 67/100\n",
      "3036/3036 [==============================] - 0s 73us/step - loss: 147.4611 - val_loss: 159.6068\n",
      "Epoch 68/100\n",
      "3036/3036 [==============================] - 0s 71us/step - loss: 146.3321 - val_loss: 157.4681\n",
      "Epoch 69/100\n",
      "3036/3036 [==============================] - 0s 71us/step - loss: 147.8196 - val_loss: 158.4308\n",
      "Epoch 70/100\n",
      "3036/3036 [==============================] - 0s 72us/step - loss: 145.6970 - val_loss: 158.0900\n",
      "Epoch 71/100\n",
      "3036/3036 [==============================] - 0s 71us/step - loss: 145.8675 - val_loss: 157.1243\n",
      "Epoch 72/100\n",
      "3036/3036 [==============================] - 0s 71us/step - loss: 145.1007 - val_loss: 155.4610\n",
      "Epoch 73/100\n",
      "3036/3036 [==============================] - 0s 71us/step - loss: 144.9311 - val_loss: 158.8097\n",
      "Epoch 74/100\n",
      "3036/3036 [==============================] - 0s 73us/step - loss: 143.9742 - val_loss: 155.3809\n",
      "Epoch 75/100\n",
      "3036/3036 [==============================] - 0s 69us/step - loss: 142.7280 - val_loss: 154.9822\n",
      "Epoch 76/100\n",
      "3036/3036 [==============================] - 0s 70us/step - loss: 142.3298 - val_loss: 154.9773\n",
      "Epoch 77/100\n",
      "3036/3036 [==============================] - 0s 70us/step - loss: 142.8711 - val_loss: 156.1319\n",
      "Epoch 78/100\n",
      "3036/3036 [==============================] - 0s 69us/step - loss: 141.4759 - val_loss: 153.9735\n",
      "Epoch 79/100\n",
      "3036/3036 [==============================] - 0s 69us/step - loss: 142.1576 - val_loss: 154.7261\n",
      "Epoch 80/100\n",
      "3036/3036 [==============================] - 0s 70us/step - loss: 142.4837 - val_loss: 153.7525\n",
      "Epoch 81/100\n",
      "3036/3036 [==============================] - 0s 69us/step - loss: 142.0682 - val_loss: 154.4642\n",
      "Epoch 82/100\n",
      "3036/3036 [==============================] - 0s 69us/step - loss: 142.0341 - val_loss: 153.2438\n",
      "Epoch 83/100\n",
      "3036/3036 [==============================] - 0s 69us/step - loss: 143.9482 - val_loss: 159.1464\n",
      "Epoch 84/100\n",
      "3036/3036 [==============================] - 0s 69us/step - loss: 141.1898 - val_loss: 153.2194\n",
      "Epoch 85/100\n",
      "3036/3036 [==============================] - 0s 71us/step - loss: 140.9560 - val_loss: 152.9240\n",
      "Epoch 86/100\n",
      "3036/3036 [==============================] - 0s 69us/step - loss: 140.6512 - val_loss: 151.2388\n",
      "Epoch 87/100\n",
      "3036/3036 [==============================] - 0s 69us/step - loss: 140.3547 - val_loss: 152.2845\n",
      "Epoch 88/100\n",
      "3036/3036 [==============================] - 0s 71us/step - loss: 140.0828 - val_loss: 151.8328\n",
      "Epoch 89/100\n",
      "3036/3036 [==============================] - 0s 69us/step - loss: 139.9929 - val_loss: 151.1193\n",
      "Epoch 90/100\n",
      "3036/3036 [==============================] - 0s 69us/step - loss: 140.1894 - val_loss: 152.3444\n",
      "Epoch 91/100\n",
      "3036/3036 [==============================] - 0s 71us/step - loss: 139.5230 - val_loss: 151.1131\n",
      "Epoch 92/100\n",
      "3036/3036 [==============================] - 0s 71us/step - loss: 140.1762 - val_loss: 151.2979\n",
      "Epoch 93/100\n",
      "3036/3036 [==============================] - 0s 69us/step - loss: 138.3332 - val_loss: 151.1242\n",
      "Epoch 94/100\n",
      "3036/3036 [==============================] - 0s 70us/step - loss: 139.7913 - val_loss: 150.8990\n",
      "Epoch 95/100\n",
      "3036/3036 [==============================] - 0s 70us/step - loss: 138.5635 - val_loss: 151.1506\n",
      "Epoch 96/100\n",
      "3036/3036 [==============================] - 0s 70us/step - loss: 139.5145 - val_loss: 149.7368\n",
      "Epoch 97/100\n",
      "3036/3036 [==============================] - 0s 71us/step - loss: 138.6502 - val_loss: 150.6413\n",
      "Epoch 98/100\n",
      "3036/3036 [==============================] - 0s 70us/step - loss: 138.8292 - val_loss: 150.4645\n",
      "Epoch 99/100\n",
      "3036/3036 [==============================] - 0s 69us/step - loss: 138.0086 - val_loss: 151.1447\n",
      "Epoch 100/100\n",
      "3036/3036 [==============================] - 0s 70us/step - loss: 137.7548 - val_loss: 151.0429\n"
     ]
    },
    {
     "data": {
      "text/plain": [
       "<keras.callbacks.History at 0x23a46672b38>"
      ]
     },
     "execution_count": 11,
     "metadata": {},
     "output_type": "execute_result"
    }
   ],
   "source": [
    "#模型拟合与评估\n",
    "finish_model.fit([X_train,X_HA_train], label_train, epochs=100, batch_size=128,\n",
    "validation_data=([image_test,day_test], label_test))\n",
    "# finish_model.evaluate(image_test, label_test)"
   ]
  },
  {
   "cell_type": "code",
   "execution_count": 12,
   "metadata": {},
   "outputs": [],
   "source": [
    "#模型预测\n",
    "model_pre = finish_model.predict([image_test,day_test])"
   ]
  },
  {
   "cell_type": "code",
   "execution_count": 13,
   "metadata": {},
   "outputs": [
    {
     "name": "stdout",
     "output_type": "stream",
     "text": [
      "mape = 0.19255902809194445\n",
      "smape = 0.17982420924603545\n",
      "mae = 7.99012137206085\n"
     ]
    }
   ],
   "source": [
    "#计算各项误差指标\n",
    "\n",
    "mape_mean = mape_loss_func(model_pre, label_test)\n",
    "smape_mean = smape_loss_func(model_pre, label_test)\n",
    "mae_mean = mae_loss_func(model_pre, label_test)\n",
    "\n",
    "print('mape = ' + str(mape_mean) + '\\n' + 'smape = ' + str(smape_mean) + '\\n' + 'mae = ' + str(mae_mean))"
   ]
  },
  {
   "cell_type": "code",
   "execution_count": 14,
   "metadata": {},
   "outputs": [],
   "source": [
    "#模型保存\n",
    "finish_model.save_weights('../model/source_%s.h5'%class_color_set[class_i])\n"
   ]
  },
  {
   "cell_type": "code",
   "execution_count": 15,
   "metadata": {},
   "outputs": [
    {
     "name": "stdout",
     "output_type": "stream",
     "text": [
      "1th link\n",
      "0.3803374231985656\n",
      "2th link\n",
      "0.10031544158671953\n",
      "3th link\n",
      "0.3666891494720001\n",
      "4th link\n",
      "0.27478649207249\n",
      "5th link\n",
      "0.13115758780051445\n",
      "6th link\n",
      "0.10577684310974708\n",
      "7th link\n",
      "0.1045022081210769\n",
      "8th link\n",
      "0.0415748663702681\n",
      "9th link\n",
      "0.07633524578873466\n",
      "10th link\n",
      "0.21284664780844373\n",
      "11th link\n",
      "0.10487683154293476\n",
      "12th link\n",
      "0.055426724011526984\n",
      "13th link\n",
      "0.19685563577815732\n",
      "14th link\n",
      "0.2235381792823558\n",
      "15th link\n",
      "0.2694682410321505\n",
      "16th link\n",
      "0.14610910498128482\n",
      "17th link\n",
      "0.23945788781643035\n",
      "18th link\n",
      "0.1042396616028531\n",
      "19th link\n",
      "0.2367764419385638\n",
      "20th link\n",
      "0.09858467720925987\n",
      "21th link\n",
      "0.14709504930604989\n",
      "22th link\n",
      "0.11683389429699197\n",
      "23th link\n",
      "0.42546306184213323\n",
      "24th link\n",
      "0.46339200476051035\n",
      "25th link\n",
      "0.1926070140879496\n"
     ]
    }
   ],
   "source": [
    "#计算每条路段的误差\n",
    "mape_list = []\n",
    "for i in range(num_links):\n",
    "    a1 = mape_loss_func(model_pre[:,i,:], label_test[:,i,:])\n",
    "    mape_list.append(a1)\n",
    "    print(str(i+1)+'th link')\n",
    "    print(a1)"
   ]
  },
  {
   "cell_type": "code",
   "execution_count": 16,
   "metadata": {
    "pycharm": {
     "name": "#%%\n"
    }
   },
   "outputs": [],
   "source": [
    "mape_pd = pd.Series(mape_list)"
   ]
  },
  {
   "cell_type": "code",
   "execution_count": 17,
   "metadata": {
    "pycharm": {
     "name": "#%%\n"
    }
   },
   "outputs": [
    {
     "data": {
      "text/plain": [
       "7     0.041575\n",
       "11    0.055427\n",
       "8     0.076335\n",
       "19    0.098585\n",
       "1     0.100315\n",
       "17    0.104240\n",
       "6     0.104502\n",
       "10    0.104877\n",
       "5     0.105777\n",
       "21    0.116834\n",
       "4     0.131158\n",
       "15    0.146109\n",
       "20    0.147095\n",
       "24    0.192607\n",
       "12    0.196856\n",
       "9     0.212847\n",
       "13    0.223538\n",
       "18    0.236776\n",
       "16    0.239458\n",
       "14    0.269468\n",
       "3     0.274786\n",
       "2     0.366689\n",
       "0     0.380337\n",
       "22    0.425463\n",
       "23    0.463392\n",
       "dtype: float64"
      ]
     },
     "execution_count": 17,
     "metadata": {},
     "output_type": "execute_result"
    }
   ],
   "source": [
    "mape_pd.sort_values()"
   ]
  },
  {
   "cell_type": "code",
   "execution_count": null,
   "metadata": {
    "pycharm": {
     "name": "#%%\n"
    }
   },
   "outputs": [],
   "source": []
  },
  {
   "cell_type": "code",
   "execution_count": null,
   "metadata": {
    "pycharm": {
     "name": "#%%\n"
    }
   },
   "outputs": [],
   "source": []
  }
 ],
 "metadata": {
  "interpreter": {
   "hash": "6b092d8890fbfc1935d95d43d0881a7b3742c06492f450993a24f5c2e6237594"
  },
  "kernelspec": {
   "display_name": "Python 3",
   "language": "python",
   "name": "python3"
  },
  "language_info": {
   "codemirror_mode": {
    "name": "ipython",
    "version": 3
   },
   "file_extension": ".py",
   "mimetype": "text/x-python",
   "name": "python",
   "nbconvert_exporter": "python",
   "pygments_lexer": "ipython3",
   "version": "3.7.6"
  },
  "metadata": {
   "interpreter": {
    "hash": "6b092d8890fbfc1935d95d43d0881a7b3742c06492f450993a24f5c2e6237594"
   }
  }
 },
 "nbformat": 4,
 "nbformat_minor": 4
}
