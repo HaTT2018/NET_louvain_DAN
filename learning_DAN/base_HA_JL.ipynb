{
 "cells": [
  {
   "cell_type": "code",
   "execution_count": 1,
   "metadata": {},
   "outputs": [],
   "source": [
    "import numpy as np\n",
    "import pandas as pd\n",
    "import matplotlib.pyplot as plt"
   ]
  },
  {
   "cell_type": "code",
   "execution_count": 2,
   "metadata": {},
   "outputs": [],
   "source": [
    "def mape_loss_func(preds, labels):\n",
    "    mask = labels > 0\n",
    "    return np.mean(np.fabs(labels[mask]-preds[mask])/labels[mask])\n",
    "\n",
    "def smape_loss_func(preds, labels):\n",
    "    mask= labels > 0\n",
    "    return np.mean(np.fabs(labels[mask]-preds[mask])/(np.fabs(labels[mask])+np.fabs(preds[mask])))\n",
    "\n",
    "def mae_loss_func(preds, labels):\n",
    "    mask= labels > 0\n",
    "    return np.fabs((labels[mask]-preds[mask])).mean()\n",
    "\n",
    "def nrmse_func(preds, labels):\n",
    "    mask= labels > 0\n",
    "    return np.sqrt(np.sum((labels[mask]-preds[mask])**2)/np.sum(np.square(labels[mask])))"
   ]
  },
  {
   "cell_type": "code",
   "execution_count": 5,
   "metadata": {},
   "outputs": [],
   "source": [
    "v = pd.read_csv('../data/revised_data/flow_y_revised.csv', header=0)"
   ]
  },
  {
   "cell_type": "code",
   "execution_count": 6,
   "metadata": {},
   "outputs": [
    {
     "data": {
      "text/html": [
       "<div>\n",
       "<style scoped>\n",
       "    .dataframe tbody tr th:only-of-type {\n",
       "        vertical-align: middle;\n",
       "    }\n",
       "\n",
       "    .dataframe tbody tr th {\n",
       "        vertical-align: top;\n",
       "    }\n",
       "\n",
       "    .dataframe thead th {\n",
       "        text-align: right;\n",
       "    }\n",
       "</style>\n",
       "<table border=\"1\" class=\"dataframe\">\n",
       "  <thead>\n",
       "    <tr style=\"text-align: right;\">\n",
       "      <th></th>\n",
       "      <th>2015/7/1 0:10</th>\n",
       "      <th>2015/7/1 0:20</th>\n",
       "      <th>2015/7/1 0:30</th>\n",
       "      <th>2015/7/1 0:40</th>\n",
       "      <th>2015/7/1 0:50</th>\n",
       "      <th>2015/7/1 1:00</th>\n",
       "      <th>2015/7/1 1:10</th>\n",
       "      <th>2015/7/1 1:20</th>\n",
       "      <th>2015/7/1 1:30</th>\n",
       "      <th>2015/7/1 1:40</th>\n",
       "      <th>...</th>\n",
       "      <th>2015/7/31 22:30</th>\n",
       "      <th>2015/7/31 22:40</th>\n",
       "      <th>2015/7/31 22:50</th>\n",
       "      <th>2015/7/31 23:00</th>\n",
       "      <th>2015/7/31 23:10</th>\n",
       "      <th>2015/7/31 23:20</th>\n",
       "      <th>2015/7/31 23:30</th>\n",
       "      <th>2015/7/31 23:40</th>\n",
       "      <th>2015/7/31 23:50</th>\n",
       "      <th>2015/8/1 0:00</th>\n",
       "    </tr>\n",
       "  </thead>\n",
       "  <tbody>\n",
       "    <tr>\n",
       "      <th>0</th>\n",
       "      <td>357.000000</td>\n",
       "      <td>303.000000</td>\n",
       "      <td>281.000000</td>\n",
       "      <td>279.000000</td>\n",
       "      <td>289.785714</td>\n",
       "      <td>231.000000</td>\n",
       "      <td>212.000000</td>\n",
       "      <td>205.000000</td>\n",
       "      <td>218.0</td>\n",
       "      <td>254.000000</td>\n",
       "      <td>...</td>\n",
       "      <td>752.000000</td>\n",
       "      <td>759.000000</td>\n",
       "      <td>743.000000</td>\n",
       "      <td>722.000000</td>\n",
       "      <td>649.000000</td>\n",
       "      <td>640.000000</td>\n",
       "      <td>581.000000</td>\n",
       "      <td>592.000000</td>\n",
       "      <td>537.000000</td>\n",
       "      <td>435.0</td>\n",
       "    </tr>\n",
       "    <tr>\n",
       "      <th>1</th>\n",
       "      <td>337.222222</td>\n",
       "      <td>347.375000</td>\n",
       "      <td>292.311667</td>\n",
       "      <td>237.954545</td>\n",
       "      <td>224.310345</td>\n",
       "      <td>205.000000</td>\n",
       "      <td>176.000000</td>\n",
       "      <td>163.000000</td>\n",
       "      <td>162.0</td>\n",
       "      <td>158.821429</td>\n",
       "      <td>...</td>\n",
       "      <td>604.269231</td>\n",
       "      <td>622.423077</td>\n",
       "      <td>579.375000</td>\n",
       "      <td>606.000000</td>\n",
       "      <td>589.740741</td>\n",
       "      <td>603.041667</td>\n",
       "      <td>606.000000</td>\n",
       "      <td>569.583333</td>\n",
       "      <td>527.000000</td>\n",
       "      <td>500.0</td>\n",
       "    </tr>\n",
       "    <tr>\n",
       "      <th>2</th>\n",
       "      <td>125.000000</td>\n",
       "      <td>97.588148</td>\n",
       "      <td>101.444444</td>\n",
       "      <td>105.000000</td>\n",
       "      <td>96.170569</td>\n",
       "      <td>105.000000</td>\n",
       "      <td>69.291667</td>\n",
       "      <td>61.153846</td>\n",
       "      <td>65.0</td>\n",
       "      <td>61.653846</td>\n",
       "      <td>...</td>\n",
       "      <td>290.692308</td>\n",
       "      <td>285.000000</td>\n",
       "      <td>285.000000</td>\n",
       "      <td>289.692308</td>\n",
       "      <td>217.000000</td>\n",
       "      <td>200.000000</td>\n",
       "      <td>200.000000</td>\n",
       "      <td>191.223704</td>\n",
       "      <td>200.000000</td>\n",
       "      <td>200.0</td>\n",
       "    </tr>\n",
       "    <tr>\n",
       "      <th>3</th>\n",
       "      <td>121.000000</td>\n",
       "      <td>128.000000</td>\n",
       "      <td>132.000000</td>\n",
       "      <td>85.000000</td>\n",
       "      <td>74.000000</td>\n",
       "      <td>90.000000</td>\n",
       "      <td>71.000000</td>\n",
       "      <td>67.000000</td>\n",
       "      <td>55.0</td>\n",
       "      <td>78.744444</td>\n",
       "      <td>...</td>\n",
       "      <td>432.000000</td>\n",
       "      <td>410.000000</td>\n",
       "      <td>401.714286</td>\n",
       "      <td>370.000000</td>\n",
       "      <td>348.000000</td>\n",
       "      <td>333.000000</td>\n",
       "      <td>324.000000</td>\n",
       "      <td>338.000000</td>\n",
       "      <td>272.000000</td>\n",
       "      <td>270.0</td>\n",
       "    </tr>\n",
       "    <tr>\n",
       "      <th>4</th>\n",
       "      <td>184.960000</td>\n",
       "      <td>188.750000</td>\n",
       "      <td>200.730769</td>\n",
       "      <td>164.000000</td>\n",
       "      <td>172.925926</td>\n",
       "      <td>143.392857</td>\n",
       "      <td>142.000000</td>\n",
       "      <td>127.851852</td>\n",
       "      <td>106.0</td>\n",
       "      <td>116.275862</td>\n",
       "      <td>...</td>\n",
       "      <td>420.000000</td>\n",
       "      <td>424.000000</td>\n",
       "      <td>395.633333</td>\n",
       "      <td>405.038461</td>\n",
       "      <td>396.040000</td>\n",
       "      <td>351.000000</td>\n",
       "      <td>362.851852</td>\n",
       "      <td>376.040000</td>\n",
       "      <td>315.230769</td>\n",
       "      <td>249.0</td>\n",
       "    </tr>\n",
       "  </tbody>\n",
       "</table>\n",
       "<p>5 rows × 4464 columns</p>\n",
       "</div>"
      ],
      "text/plain": [
       "   2015/7/1 0:10  2015/7/1 0:20  2015/7/1 0:30  2015/7/1 0:40  2015/7/1 0:50  \\\n",
       "0     357.000000     303.000000     281.000000     279.000000     289.785714   \n",
       "1     337.222222     347.375000     292.311667     237.954545     224.310345   \n",
       "2     125.000000      97.588148     101.444444     105.000000      96.170569   \n",
       "3     121.000000     128.000000     132.000000      85.000000      74.000000   \n",
       "4     184.960000     188.750000     200.730769     164.000000     172.925926   \n",
       "\n",
       "   2015/7/1 1:00  2015/7/1 1:10  2015/7/1 1:20  2015/7/1 1:30  2015/7/1 1:40  \\\n",
       "0     231.000000     212.000000     205.000000          218.0     254.000000   \n",
       "1     205.000000     176.000000     163.000000          162.0     158.821429   \n",
       "2     105.000000      69.291667      61.153846           65.0      61.653846   \n",
       "3      90.000000      71.000000      67.000000           55.0      78.744444   \n",
       "4     143.392857     142.000000     127.851852          106.0     116.275862   \n",
       "\n",
       "   ...  2015/7/31 22:30  2015/7/31 22:40  2015/7/31 22:50  2015/7/31 23:00  \\\n",
       "0  ...       752.000000       759.000000       743.000000       722.000000   \n",
       "1  ...       604.269231       622.423077       579.375000       606.000000   \n",
       "2  ...       290.692308       285.000000       285.000000       289.692308   \n",
       "3  ...       432.000000       410.000000       401.714286       370.000000   \n",
       "4  ...       420.000000       424.000000       395.633333       405.038461   \n",
       "\n",
       "   2015/7/31 23:10  2015/7/31 23:20  2015/7/31 23:30  2015/7/31 23:40  \\\n",
       "0       649.000000       640.000000       581.000000       592.000000   \n",
       "1       589.740741       603.041667       606.000000       569.583333   \n",
       "2       217.000000       200.000000       200.000000       191.223704   \n",
       "3       348.000000       333.000000       324.000000       338.000000   \n",
       "4       396.040000       351.000000       362.851852       376.040000   \n",
       "\n",
       "   2015/7/31 23:50  2015/8/1 0:00  \n",
       "0       537.000000          435.0  \n",
       "1       527.000000          500.0  \n",
       "2       200.000000          200.0  \n",
       "3       272.000000          270.0  \n",
       "4       315.230769          249.0  \n",
       "\n",
       "[5 rows x 4464 columns]"
      ]
     },
     "execution_count": 6,
     "metadata": {},
     "output_type": "execute_result"
    }
   ],
   "source": [
    "v.head()"
   ]
  },
  {
   "cell_type": "code",
   "execution_count": 7,
   "metadata": {},
   "outputs": [],
   "source": [
    "v = v.iloc[:,-4464:]"
   ]
  },
  {
   "cell_type": "code",
   "execution_count": 8,
   "metadata": {},
   "outputs": [],
   "source": [
    "v_test = v.iloc[:,-1008:]\n"
   ]
  },
  {
   "cell_type": "code",
   "execution_count": 9,
   "metadata": {},
   "outputs": [],
   "source": [
    "vlist = []\n",
    "\n",
    "for i in range(1,24):\n",
    "    vlist.append(np.asarray(v.iloc[:,144*(i-1):144*i]))"
   ]
  },
  {
   "cell_type": "code",
   "execution_count": 10,
   "metadata": {},
   "outputs": [
    {
     "data": {
      "text/plain": [
       "(23, 40, 144)"
      ]
     },
     "execution_count": 10,
     "metadata": {},
     "output_type": "execute_result"
    }
   ],
   "source": [
    "vlist = np.array(vlist)\n",
    "vlist.shape"
   ]
  },
  {
   "cell_type": "code",
   "execution_count": 11,
   "metadata": {},
   "outputs": [
    {
     "data": {
      "text/plain": [
       "(40, 144)"
      ]
     },
     "execution_count": 11,
     "metadata": {},
     "output_type": "execute_result"
    }
   ],
   "source": [
    "vmean24 = vlist.mean(axis=0)\n",
    "vmean24.shape"
   ]
  },
  {
   "cell_type": "code",
   "execution_count": 12,
   "metadata": {},
   "outputs": [
    {
     "name": "stdout",
     "output_type": "stream",
     "text": [
      "(40, 1008)\n"
     ]
    }
   ],
   "source": [
    "\n",
    "v_ha = vmean24\n",
    "v_ha_7 = np.concatenate((v_ha,v_ha,v_ha,v_ha,v_ha,v_ha,v_ha), axis = 1)\n",
    "print(np.shape(v_ha_7))"
   ]
  },
  {
   "cell_type": "code",
   "execution_count": 13,
   "metadata": {},
   "outputs": [],
   "source": [
    "v_ha_7_df = pd.DataFrame(v_ha_7[:,-1008:])\n",
    "# v_ha_7_df = v_test.iloc[:,-144*7:-144]\n",
    "v_test1 = v_test.iloc[:,-144*7:]\n"
   ]
  },
  {
   "cell_type": "code",
   "execution_count": 14,
   "metadata": {},
   "outputs": [
    {
     "name": "stdout",
     "output_type": "stream",
     "text": [
      "mape = 0.16898316538561528\n",
      "smape = 0.0792055635463215\n",
      "mae = 51.39691238311415\n",
      "nrmse = 0.16938246445028923\n"
     ]
    }
   ],
   "source": [
    "mape_mean = mape_loss_func(np.asarray(v_ha_7_df), np.asarray(v_test1))\n",
    "smape_mean = smape_loss_func(np.asarray(v_ha_7_df), np.asarray(v_test1))\n",
    "mae_mean = mae_loss_func(np.asarray(v_ha_7_df), np.asarray(v_test1))\n",
    "nrmse_mean = nrmse_func(np.asarray(v_ha_7_df), np.asarray(v_test1))\n",
    "\n",
    "print('mape = ' + str(mape_mean) + '\\n' + 'smape = ' + str(smape_mean) + '\\n' + 'mae = ' \n",
    "+ str(mae_mean) + '\\n' + 'nrmse = ' + str(nrmse_mean))"
   ]
  },
  {
   "cell_type": "code",
   "execution_count": 16,
   "metadata": {},
   "outputs": [
    {
     "data": {
      "text/plain": [
       "(40, 1008)"
      ]
     },
     "execution_count": 16,
     "metadata": {},
     "output_type": "execute_result"
    }
   ],
   "source": [
    "np.asarray(v_test1).shape"
   ]
  },
  {
   "cell_type": "code",
   "execution_count": 18,
   "metadata": {},
   "outputs": [
    {
     "data": {
      "text/plain": [
       "[<matplotlib.lines.Line2D at 0x28304ac8bb0>]"
      ]
     },
     "execution_count": 18,
     "metadata": {},
     "output_type": "execute_result"
    },
    {
     "data": {
      "image/png": "[encoded data removed]",
      "text/plain": [
       "<Figure size 1152x288 with 1 Axes>"
      ]
     },
     "metadata": {
      "needs_background": "light"
     },
     "output_type": "display_data"
    }
   ],
   "source": [
    "plt.figure(figsize=[16,4])\n",
    "plt.plot(np.asarray(v_ha_7_df)[0, :])\n",
    "plt.plot(np.asarray(v_test1)[0, :])"
   ]
  },
  {
   "cell_type": "code",
   "execution_count": 28,
   "metadata": {},
   "outputs": [],
   "source": [
    "# np.savetxt('24ha.csv', v_ha_7)"
   ]
  },
  {
   "cell_type": "code",
   "execution_count": 21,
   "metadata": {},
   "outputs": [
    {
     "name": "stdout",
     "output_type": "stream",
     "text": [
      "0\n",
      "mape = 0.17441967236015823\n",
      "smape = 0.08236006038281223\n",
      "mae = 52.95567190176195\n",
      "nrmse = 0.17656211521831872\n",
      "1\n",
      "mape = 0.17441967236015823\n",
      "smape = 0.08236006038281223\n",
      "mae = 52.95567190176195\n",
      "nrmse = 0.17656211521831872\n",
      "2\n",
      "mape = 0.17441967236015823\n",
      "smape = 0.08236006038281223\n",
      "mae = 52.95567190176195\n",
      "nrmse = 0.17656211521831872\n",
      "3\n",
      "mape = 0.17441967236015823\n",
      "smape = 0.08236006038281223\n",
      "mae = 52.95567190176195\n",
      "nrmse = 0.17656211521831872\n",
      "4\n",
      "mape = 0.17441967236015823\n",
      "smape = 0.08236006038281223\n",
      "mae = 52.95567190176195\n",
      "nrmse = 0.17656211521831872\n",
      "5\n",
      "mape = 0.17441967236015823\n",
      "smape = 0.08236006038281223\n",
      "mae = 52.95567190176195\n",
      "nrmse = 0.17656211521831872\n"
     ]
    }
   ],
   "source": [
    "for i in range(6):    \n",
    "    mape_mean = mape_loss_func(np.asarray(v_ha_7_df), np.asarray(v_test))\n",
    "    smape_mean = smape_loss_func(np.asarray(v_ha_7_df), np.asarray(v_test))\n",
    "    mae_mean = mae_loss_func(np.asarray(v_ha_7_df), np.asarray(v_test))\n",
    "    nrmse_mean = nrmse_func(np.asarray(v_ha_7_df), np.asarray(v_test))\n",
    "\n",
    "    print(str(i) + '\\n' + 'mape = ' + str(mape_mean) + '\\n' + 'smape = ' + str(smape_mean) + '\\n' + 'mae = ' \n",
    "    + str(mae_mean) + '\\n' + 'nrmse = ' + str(nrmse_mean))"
   ]
  },
  {
   "cell_type": "code",
   "execution_count": null,
   "metadata": {},
   "outputs": [],
   "source": []
  }
 ],
 "metadata": {
  "interpreter": {
   "hash": "6b092d8890fbfc1935d95d43d0881a7b3742c06492f450993a24f5c2e6237594"
  },
  "kernelspec": {
   "display_name": "Python 3",
   "language": "python",
   "name": "python3"
  },
  "language_info": {
   "codemirror_mode": {
    "name": "ipython",
    "version": 3
   },
   "file_extension": ".py",
   "mimetype": "text/x-python",
   "name": "python",
   "nbconvert_exporter": "python",
   "pygments_lexer": "ipython3",
   "version": "3.8.8"
  }
 },
 "nbformat": 4,
 "nbformat_minor": 2
}
