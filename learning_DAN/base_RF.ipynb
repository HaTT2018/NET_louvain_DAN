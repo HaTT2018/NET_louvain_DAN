{
 "cells": [
  {
   "cell_type": "code",
   "execution_count": 12,
   "id": "fedb8cb3",
   "metadata": {},
   "outputs": [],
   "source": [
    "import scipy.io as sio  \n",
    "import numpy as np\n",
    "import pandas as pd\n",
    "from sklearn.ensemble import RandomForestRegressor\n",
    "import matplotlib.pyplot as plt\n",
    "\n",
    "import dan_utils"
   ]
  },
  {
   "cell_type": "markdown",
   "id": "9b9b466b",
   "metadata": {},
   "source": [
    "# Load Data"
   ]
  },
  {
   "cell_type": "code",
   "execution_count": 13,
   "id": "a1e7b741",
   "metadata": {
    "scrolled": true
   },
   "outputs": [
    {
     "name": "stdout",
     "output_type": "stream",
     "text": [
      "There are 5 class(es)\n"
     ]
    },
    {
     "name": "stderr",
     "output_type": "stream",
     "text": [
      "C:\\Users\\10169\\anaconda3\\envs\\dan_traff\\lib\\site-packages\\pandas\\core\\indexing.py:1817: SettingWithCopyWarning: \n",
      "A value is trying to be set on a copy of a slice from a DataFrame.\n",
      "Try using .loc[row_indexer,col_indexer] = value instead\n",
      "\n",
      "See the caveats in the documentation: https://pandas.pydata.org/pandas-docs/stable/user_guide/indexing.html#returning-a-view-versus-a-copy\n",
      "  self._setitem_single_column(loc, value, pi)\n"
     ]
    },
    {
     "name": "stdout",
     "output_type": "stream",
     "text": [
      "(2772, 5, 12, 40)\n",
      "(2772, 5, 12, 40)\n",
      "(0, 5, 12, 40)\n",
      "(2772, 40, 6)\n",
      "(0, 40, 6)\n",
      "(1008, 5, 12, 40)\n",
      "(302, 5, 12, 40)\n",
      "(706, 5, 12, 40)\n",
      "(302, 40, 6)\n",
      "(706, 40, 6)\n"
     ]
    }
   ],
   "source": [
    "class_set = [2, 3, 4]\n",
    "randseed = 25\n",
    "res = 11\n",
    "v, v_class, id_402, part1, part2, seg, det_list_class, near_road_set  \\\n",
    "        = dan_utils.load_data(class_set, res, randseed)\n",
    "class_color_set = ['b', 'g', 'y', 'black', 'r']\n",
    "\n",
    "# ind, class\n",
    "# 0  , blue\n",
    "# 1  , green\n",
    "# 2  , yellow  <--\n",
    "# 3  , black   <--\n",
    "# 4  , red     <--\n",
    "class_src = 3\n",
    "v_class1 = v_class[class_src]  # source\n",
    "near_road1 = np.array(near_road_set[class_src])\n",
    "\n",
    "class_tar = 2\n",
    "v_class2 = v_class[class_tar]  # target\n",
    "near_road2 = np.array(near_road_set[class_tar])\n",
    "\n",
    "num_links = v_class1.shape[0]\n",
    "\n",
    "near_road_src = near_road1\n",
    "flow_src = v_class1.iloc[:, 2:-1]\n",
    "prop = 1  # proportion of training data\n",
    "from_day = 1\n",
    "to_day = 24\n",
    "\n",
    "image_train_source, image_test_source, day_train_source, day_test_source, label_train_source, label_test_source\\\n",
    "= dan_utils.sliding_window(\n",
    "    flow_src, near_road_src, from_day, to_day, prop, num_links\n",
    ")\n",
    "\n",
    "near_road_tar = near_road2\n",
    "flow_tar = v_class2.iloc[:, 2:-1]\n",
    "prop = 3/10\n",
    "from_day = 22\n",
    "to_day = 31\n",
    "\n",
    "image_train_target, image_test_target, day_train_target, day_test_target, label_train_target, label_test_target\\\n",
    "= dan_utils.sliding_window(\n",
    "    flow_tar, near_road_tar, from_day, to_day, prop, num_links\n",
    ")\n",
    "\n",
    "dup_mul = image_train_source.shape[0]//image_train_target.shape[0]\n",
    "dup_r   = image_train_source.shape[0]%image_train_target.shape[0]\n",
    "\n",
    "image_train_target, day_train_target, label_train_target = \\\n",
    "np.concatenate((np.tile(image_train_target, [dup_mul, 1, 1, 1]), image_train_target[:dup_r, :, :, :]), axis=0),\\\n",
    "np.concatenate((np.tile(day_train_target, [dup_mul, 1, 1]), day_train_target[:dup_r, :, :]), axis=0),\\\n",
    "np.concatenate((np.tile(label_train_target, [dup_mul, 1, 1]), label_train_target[:dup_r, :, :]), axis=0),\n",
    "\n"
   ]
  },
  {
   "cell_type": "code",
   "execution_count": 14,
   "id": "98fc033a",
   "metadata": {},
   "outputs": [],
   "source": [
    "V2 = v_class2.iloc[:, 2:-1].T"
   ]
  },
  {
   "cell_type": "code",
   "execution_count": 15,
   "id": "affb2517",
   "metadata": {},
   "outputs": [],
   "source": [
    "sio.savemat('./RF/V.mat', {'V2': np.array(V2)})"
   ]
  },
  {
   "cell_type": "markdown",
   "id": "8d7cadd4",
   "metadata": {},
   "source": [
    "# Then, execute matlab code \"dataprocess.m\""
   ]
  },
  {
   "cell_type": "code",
   "execution_count": 16,
   "id": "5de6a142",
   "metadata": {},
   "outputs": [
    {
     "name": "stdout",
     "output_type": "stream",
     "text": [
      "input done\n",
      "parameter done\n"
     ]
    }
   ],
   "source": [
    "data = []\n",
    "data = sio.loadmat('./RF/RF_2.mat')\n",
    "x_train = data['x_train']\n",
    "y_train = data['y_train'].flatten()\n",
    "x_test = data['x_test']\n",
    "y_test = data['y_test'].flatten()\n",
    "print('input done')\n",
    "\n",
    "mdl = RandomForestRegressor(n_estimators=50, max_depth=2, max_features='sqrt')\n",
    "print('parameter done')\n",
    "\n",
    "mdl.fit(x_train,y_train)\n",
    "y_pre = mdl.predict(x_test)\n",
    "\n",
    "sio.savemat('./RF/result1.mat',{'pre': y_pre,'true': y_test})"
   ]
  },
  {
   "cell_type": "markdown",
   "id": "ef8b9f1b",
   "metadata": {},
   "source": [
    "# Then, execute matlab code \"cal_ecdf.m\""
   ]
  },
  {
   "cell_type": "code",
   "execution_count": 17,
   "id": "110fefe0",
   "metadata": {},
   "outputs": [
    {
     "data": {
      "text/plain": [
       "(25200, 1)"
      ]
     },
     "execution_count": 17,
     "metadata": {},
     "output_type": "execute_result"
    }
   ],
   "source": [
    "data['y_train'].shape"
   ]
  }
 ],
 "metadata": {
  "kernelspec": {
   "display_name": "dan_traff",
   "language": "python",
   "name": "dan_traff"
  },
  "language_info": {
   "codemirror_mode": {
    "name": "ipython",
    "version": 3
   },
   "file_extension": ".py",
   "mimetype": "text/x-python",
   "name": "python",
   "nbconvert_exporter": "python",
   "pygments_lexer": "ipython3",
   "version": "3.8.11"
  }
 },
 "nbformat": 4,
 "nbformat_minor": 5
}
