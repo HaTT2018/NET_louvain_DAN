{
 "cells": [
  {
   "cell_type": "code",
   "execution_count": 36,
   "id": "fedb8cb3",
   "metadata": {},
   "outputs": [],
   "source": [
    "import scipy.io as sio  \n",
    "import numpy as np\n",
    "import pandas as pd\n",
    "from sklearn.ensemble import RandomForestRegressor\n",
    "import matplotlib.pyplot as plt\n",
    "\n",
    "import dan_utils"
   ]
  },
  {
   "cell_type": "markdown",
   "id": "9b9b466b",
   "metadata": {},
   "source": [
    "# Load Data"
   ]
  },
  {
   "cell_type": "code",
   "execution_count": 37,
   "id": "a1e7b741",
   "metadata": {},
   "outputs": [
    {
     "name": "stdout",
     "output_type": "stream",
     "text": [
      "There are 5 class(es)\n"
     ]
    },
    {
     "name": "stderr",
     "output_type": "stream",
     "text": [
      "C:\\Users\\10169\\anaconda3\\envs\\dan_traff\\lib\\site-packages\\pandas\\core\\indexing.py:1817: SettingWithCopyWarning: \n",
      "A value is trying to be set on a copy of a slice from a DataFrame.\n",
      "Try using .loc[row_indexer,col_indexer] = value instead\n",
      "\n",
      "See the caveats in the documentation: https://pandas.pydata.org/pandas-docs/stable/user_guide/indexing.html#returning-a-view-versus-a-copy\n",
      "  self._setitem_single_column(loc, value, pi)\n"
     ]
    }
   ],
   "source": [
    "randseed = 25\n",
    "dan_utils.setup_seed(randseed)\n",
    "res = 11\n",
    "\n",
    "v = pd.read_csv('../data/v_20_aggragated.csv')\n",
    "v = v.rename(columns={'Unnamed: 0': 'id'})\n",
    "id_402 = pd.read_csv('../res/%i_res%i_id_402_withclass.csv'%(randseed, res), index_col=0)\n",
    "part1 = pd.read_csv('../res/%i_res%i_det_partition_results1.csv'%(randseed, res))\n",
    "part2 = pd.read_csv('../res/%i_res%i_det_partition_results2.csv'%(randseed, res))\n",
    "\n",
    "v['class_i'] = ''\n",
    "for i in range(len(v)):\n",
    "    v.loc[i, 'class_i'] = id_402[id_402['id']==v.loc[i, 'id']].iloc[0, 5]  # 5 stands for 'class_i'\n",
    "\n",
    "num_class = id_402['class_i'].drop_duplicates().size\n",
    "\n",
    "v_class = []\n",
    "for i in range(num_class):\n",
    "    v_class.append(v[v['class_i']==i])\n",
    "\n",
    "print('There are %i class(es)'%num_class)\n",
    "\n",
    "dist_mat = pd.read_csv('../data/dist_mat.csv', index_col=0)\n",
    "id_info = pd.read_csv('../data/id2000.csv', index_col=0)\n",
    "dist_mat.index = id_info['id2']\n",
    "dist_mat.columns = id_info['id2']\n",
    "for i in range(len(dist_mat)):\n",
    "    for j in range(len(dist_mat)):\n",
    "        if i==j:\n",
    "            dist_mat.iloc[i, j] = 0\n",
    "\n",
    "near_id = pd.DataFrame(np.argsort(np.array(dist_mat)), index = id_info['id2'], columns = id_info['id2'])\n",
    "\n",
    "seg = pd.read_csv('../data/segement.csv', header=None)\n",
    "num_dets = 30\n",
    "\n",
    "det_list_class = []\n",
    "for i in range(num_class):\n",
    "    det_list_class_temp, v_class_temp = dan_utils.get_class_with_node(seg, v_class[i])\n",
    "    det_list_class.append(det_list_class_temp[:])\n",
    "    v_class_temp = v_class_temp.loc[v_class_temp['id'].isin(det_list_class_temp[:])]\n",
    "    v_class[i] = v_class_temp\n",
    "\n",
    "\n",
    "\n",
    "selected_dets = pd.read_csv('../network_classification/selected_dets.csv', index_col=0)\n",
    "\n",
    "# filt, so that only selected dets remain\n",
    "class_set = [2, 3, 4]\n",
    "for i in range(len(class_set)):\n",
    "    cls_ = class_set[i]\n",
    "    det_set = selected_dets.loc[selected_dets['class']==cls_, 'det'].values\n",
    "    v_class[cls_] = v_class[cls_].loc[v_class[cls_]['id'].isin(det_set)]\n",
    "\n",
    "# make near_road matrix\n",
    "near_road_set = []\n",
    "for i in range(num_class):\n",
    "    det_set = v_class[i]['id'].values\n",
    "#     ipdb.set_trace()\n",
    "    near_road_set.append(dan_utils.rds_mat(dist_mat, det_set, seg))"
   ]
  },
  {
   "cell_type": "code",
   "execution_count": 38,
   "id": "1667df6c",
   "metadata": {},
   "outputs": [],
   "source": [
    "V2 = v_class[4].T"
   ]
  },
  {
   "cell_type": "code",
   "execution_count": 39,
   "id": "b7ab550a",
   "metadata": {},
   "outputs": [],
   "source": [
    "sio.savemat('./RF/V.mat', {'V2': V2})"
   ]
  },
  {
   "cell_type": "code",
   "execution_count": 41,
   "id": "e05c3d5c",
   "metadata": {},
   "outputs": [
    {
     "name": "stdout",
     "output_type": "stream",
     "text": [
      "input done\n",
      "parameter done\n"
     ]
    }
   ],
   "source": [
    "data = []\n",
    "data = sio.loadmat('./RF/RF_2.mat')\n",
    "x_train = data['x_train']\n",
    "y_train = data['y_train']\n",
    "x_test = data['x_test']\n",
    "y_test = data['y_test']\n",
    "y_train = np.reshape(y_train, [np.shape(y_train)[0]])\n",
    "y_test = np.reshape(y_test, [np.shape(y_test)[0]])\n",
    "print('input done')\n",
    "\n",
    "mdl = RandomForestRegressor(n_estimators=50, max_depth=2, max_features='sqrt')\n",
    "print('parameter done')\n",
    "\n",
    "mdl.fit(x_train,y_train)\n",
    "y_pre = mdl.predict(x_test)\n",
    "\n",
    "sio.savemat('result1.mat',{'pre': y_pre,'true': y_test})"
   ]
  },
  {
   "cell_type": "code",
   "execution_count": null,
   "id": "8b48a731",
   "metadata": {},
   "outputs": [],
   "source": []
  }
 ],
 "metadata": {
  "kernelspec": {
   "display_name": "dan_traff",
   "language": "python",
   "name": "dan_traff"
  },
  "language_info": {
   "codemirror_mode": {
    "name": "ipython",
    "version": 3
   },
   "file_extension": ".py",
   "mimetype": "text/x-python",
   "name": "python",
   "nbconvert_exporter": "python",
   "pygments_lexer": "ipython3",
   "version": "3.8.11"
  }
 },
 "nbformat": 4,
 "nbformat_minor": 5
}
