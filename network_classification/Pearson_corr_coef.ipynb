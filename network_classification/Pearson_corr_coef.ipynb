{
 "cells": [
  {
   "cell_type": "code",
   "execution_count": 13,
   "id": "092dcb2e",
   "metadata": {},
   "outputs": [],
   "source": [
    "import numpy as np\n",
    "import pandas as pd\n",
    "import scipy.stats"
   ]
  },
  {
   "cell_type": "code",
   "execution_count": 63,
   "id": "e6567643",
   "metadata": {
    "scrolled": false
   },
   "outputs": [],
   "source": [
    "blue = np.array(pd.read_csv('../data/network_new_for_pearson/flow_blue.csv'))\n",
    "green = np.array(pd.read_csv('../data/network_new_for_pearson/flow_green.csv'))\n",
    "purple = np.array(pd.read_csv('../data/network_new_for_pearson/flow_purple.csv'))\n",
    "red = np.array(pd.read_csv('../data/network_new_for_pearson/flow_red.csv'))\n",
    "yellow = np.array(pd.read_csv('../data/network_new_for_pearson/flow_yellow.csv'))"
   ]
  },
  {
   "cell_type": "code",
   "execution_count": 64,
   "id": "32724fd5",
   "metadata": {},
   "outputs": [],
   "source": [
    "def cal_pear(set1, set2):\n",
    "    pear_lst = []\n",
    "    for i in range(40):\n",
    "        for j in range(40):\n",
    "            pear = scipy.stats.pearsonr(set1[i, :], set2[j, :])[0]\n",
    "            pear_lst.append(pear)\n",
    "    mean_pearson = np.array(pear_lst).mean()\n",
    "    return mean_pearson"
   ]
  },
  {
   "cell_type": "code",
   "execution_count": 65,
   "id": "8dd23724",
   "metadata": {},
   "outputs": [],
   "source": [
    "data_lst = [blue, green, purple, red, yellow]\n",
    "\n",
    "pearson_mat = pd.DataFrame(np.zeros([5, 5]), columns=[['blue', 'green', 'purple', 'red', 'yellow']], index=[['blue', 'green', 'purple', 'red', 'yellow']])\n",
    "for i in range(5):\n",
    "    for j in range(5):\n",
    "        pear = cal_pear(data_lst[i], data_lst[j])\n",
    "        pearson_mat.iloc[i, j] = pear"
   ]
  },
  {
   "cell_type": "code",
   "execution_count": 66,
   "id": "b5fe0143",
   "metadata": {},
   "outputs": [
    {
     "data": {
      "text/html": [
       "<div>\n",
       "<style scoped>\n",
       "    .dataframe tbody tr th:only-of-type {\n",
       "        vertical-align: middle;\n",
       "    }\n",
       "\n",
       "    .dataframe tbody tr th {\n",
       "        vertical-align: top;\n",
       "    }\n",
       "\n",
       "    .dataframe thead tr th {\n",
       "        text-align: left;\n",
       "    }\n",
       "</style>\n",
       "<table border=\"1\" class=\"dataframe\">\n",
       "  <thead>\n",
       "    <tr>\n",
       "      <th></th>\n",
       "      <th>blue</th>\n",
       "      <th>green</th>\n",
       "      <th>purple</th>\n",
       "      <th>red</th>\n",
       "      <th>yellow</th>\n",
       "    </tr>\n",
       "  </thead>\n",
       "  <tbody>\n",
       "    <tr>\n",
       "      <th>blue</th>\n",
       "      <td>0.690636</td>\n",
       "      <td>0.748041</td>\n",
       "      <td>0.690181</td>\n",
       "      <td>0.680904</td>\n",
       "      <td>0.637848</td>\n",
       "    </tr>\n",
       "    <tr>\n",
       "      <th>green</th>\n",
       "      <td>0.748041</td>\n",
       "      <td>0.835574</td>\n",
       "      <td>0.764258</td>\n",
       "      <td>0.740808</td>\n",
       "      <td>0.694500</td>\n",
       "    </tr>\n",
       "    <tr>\n",
       "      <th>purple</th>\n",
       "      <td>0.690181</td>\n",
       "      <td>0.764258</td>\n",
       "      <td>0.710781</td>\n",
       "      <td>0.685288</td>\n",
       "      <td>0.638846</td>\n",
       "    </tr>\n",
       "    <tr>\n",
       "      <th>red</th>\n",
       "      <td>0.680904</td>\n",
       "      <td>0.740808</td>\n",
       "      <td>0.685288</td>\n",
       "      <td>0.695753</td>\n",
       "      <td>0.607886</td>\n",
       "    </tr>\n",
       "    <tr>\n",
       "      <th>yellow</th>\n",
       "      <td>0.637848</td>\n",
       "      <td>0.694500</td>\n",
       "      <td>0.638846</td>\n",
       "      <td>0.607886</td>\n",
       "      <td>0.677379</td>\n",
       "    </tr>\n",
       "  </tbody>\n",
       "</table>\n",
       "</div>"
      ],
      "text/plain": [
       "            blue     green    purple       red    yellow\n",
       "blue    0.690636  0.748041  0.690181  0.680904  0.637848\n",
       "green   0.748041  0.835574  0.764258  0.740808  0.694500\n",
       "purple  0.690181  0.764258  0.710781  0.685288  0.638846\n",
       "red     0.680904  0.740808  0.685288  0.695753  0.607886\n",
       "yellow  0.637848  0.694500  0.638846  0.607886  0.677379"
      ]
     },
     "execution_count": 66,
     "metadata": {},
     "output_type": "execute_result"
    }
   ],
   "source": [
    "pearson_mat"
   ]
  },
  {
   "cell_type": "code",
   "execution_count": null,
   "id": "1c3d3b8c",
   "metadata": {},
   "outputs": [],
   "source": []
  }
 ],
 "metadata": {
  "kernelspec": {
   "display_name": "dan_traff",
   "language": "python",
   "name": "dan_traff"
  },
  "language_info": {
   "codemirror_mode": {
    "name": "ipython",
    "version": 3
   },
   "file_extension": ".py",
   "mimetype": "text/x-python",
   "name": "python",
   "nbconvert_exporter": "python",
   "pygments_lexer": "ipython3",
   "version": "3.8.11"
  }
 },
 "nbformat": 4,
 "nbformat_minor": 5
}
